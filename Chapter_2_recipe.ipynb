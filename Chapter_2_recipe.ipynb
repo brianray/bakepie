{
 "cells": [
  {
   "cell_type": "markdown",
   "metadata": {},
   "source": [
    "# 1A) Everything starts with a recipe\n",
    "\n",
    "<img src=\"misc/2_a recipe on table.png\" width=\"80%\" />\n",
    "\n",
    "            \n"
   ]
  },
  {
   "cell_type": "code",
   "execution_count": 1,
   "metadata": {
    "collapsed": false
   },
   "outputs": [
    {
     "name": "stdout",
     "output_type": "stream",
     "text": [
      "Gammy's Apple Pie \n",
      "\n",
      "CRUST:\n",
      "\n",
      "2 cups flour\n",
      "1 tsp salt\n",
      "3/4 cup solid shortening (like Crisco)\n",
      "1/4 to 1/2 cup ice water\n",
      "\n",
      "Mix together the flour and the salt.  Cut in the shortening until the pieces\n",
      "are pea-sized.  Add 1/4 to 1/2 cup of the water and stir with a fork until the\n",
      "dough is moist enough to stick together but is not soggy.\n",
      "\n",
      "Sprinkle your pastry cloth (or whatever you use) with flour.  Divide the pie\n",
      "crust dough in slightly uneven halves.  Form the larger of the two halves\n",
      "into a ball and place on the pastry cloth.  Pat into a circle about five\n",
      "inches in diameter.  Begin to roll out from the center outward with light\n",
      "strokes.  Be sure your rolling pin is floured also.\n",
      "\n",
      "Once the circle is about 7 inches in diameter, pick up the piece of dough,\n",
      "reflour underneath it and flip it over.  This will ensure that there is enough\n",
      "flour to keep the dough from sticking.  (Note:  if the dough is sticking too\n",
      "much, that means you put too much water in it.  Add more flour.  If the dough\n",
      "is crumbly and won't stick together at all, that means it needs more water.)\n",
      "\n",
      "Resume rolling it out until you reach the size of your pie pan (usually 9 or\n",
      "10 inches).  At this point, you can roll out the edges, too.  The idea is just\n",
      "to not have too much dough in the middle.\n",
      "\n",
      "Once the dough is the proper size (Don't worry; it won't be even.), pick it up\n",
      "by rolling it around the rolling pin.  Carefully transfer it to the pie pan\n",
      "doing your best to center it over the pan.  Once you release it from the\n",
      "rolling pin, gently pat it in place in the pan, making sure there aren't any\n",
      "gaps between the dough and the inside edge of the plate.  Trim the dough with\n",
      "a knife so that it is even with the edge of the pie pan.  Throw the extra\n",
      "dough in the bowl with the remaining half.\n",
      "\n",
      "At this point, you would add your fruit filling and then proceed with the top\n",
      "crust.  The top crust is made virtually the same way; however, you would want\n",
      "it rolled out a little bigger than the bottom so that you have enough crust to\n",
      "flute.  I flute by pinching the crust between my two index fingers and thumbs\n",
      "as though I was opening a change purse.  Be sure to cut slits in the top crust\n",
      "for the steam to escape.\n",
      "\n",
      "FILLING:\n",
      "\n",
      "3-4 Granny Smith apples, depending on size, peeled and sliced\n",
      "1/2 cup brown sugar\n",
      "1/2 cup granulated sugar\n",
      "1/4 cup flour\n",
      "1 tsp apple pie spice (or 1 tsp cinnamon and 1/2 tsp nutmeg)\n",
      "\n",
      "Line pie plate with unbaked pastry.  Mix together the sugars, flour\n",
      "and spices.  Pour 1/2 of this mixture into the pie plate, smoothing\n",
      "evenly across the bottom.  Lay the apples in the crust, enough so that\n",
      "they reach the top of the plate but aren't mounded over it.  Sprinkle\n",
      "the remaining flour mixture over the top of the apples.  Sprinkle 1\n",
      "tablespoon of lemon juice over the top, then dot with 1 tablespoon of\n",
      "butter.  Add the top crust and cut slits for steam.\n",
      "\n",
      "Bake 15 minutes at 425 degrees, then reduce heat to 350 and bake\n",
      "another hour.  The trick with apple pie is to be sure and bake it long\n",
      "enough for the apples to be soft.  I usually stick a fork inside one\n",
      "of the slits to make sure, but an hour should be plenty.  If the edge\n",
      "of the crust starts to brown too much, cover it loosely with foil.\n",
      "\n",
      "It's a good idea to set the pie on a cookie sheet in case the apples\n",
      "are particularly juicy and spill over into the oven.\n",
      "\n"
     ]
    }
   ],
   "source": [
    "recipe = open(\"misc/ApplePie.txt\").read()\n",
    "print(recipe)"
   ]
  },
  {
   "cell_type": "code",
   "execution_count": 2,
   "metadata": {
    "collapsed": false
   },
   "outputs": [
    {
     "name": "stdout",
     "output_type": "stream",
     "text": [
      "the type of 'recipe' is:\n",
      "<class 'str'>\n",
      "it has characters length of:\n",
      "3314\n"
     ]
    }
   ],
   "source": [
    "print(\"the type of 'recipe' is:\")\n",
    "print(type(recipe))\n",
    "print(\"it has characters length of:\")\n",
    "print(len(recipe))"
   ]
  },
  {
   "cell_type": "markdown",
   "metadata": {},
   "source": [
    "## 1B) break up text into parts\n",
    "\n",
    "We need to break this down a little bit. Let's break this into:\n",
    "\n",
    " * title\n",
    " * crust\n",
    " * filling\n",
    " \n",
    "We will create variables to hold each. Let's start out and just assign them to an empty string ''."
   ]
  },
  {
   "cell_type": "code",
   "execution_count": 3,
   "metadata": {
    "collapsed": true
   },
   "outputs": [],
   "source": [
    "title = ''\n",
    "crust = ''\n",
    "filling = ''"
   ]
  },
  {
   "cell_type": "code",
   "execution_count": 4,
   "metadata": {
    "collapsed": false
   },
   "outputs": [
    {
     "name": "stdout",
     "output_type": "stream",
     "text": [
      "they have no length:\n",
      "0\n"
     ]
    }
   ],
   "source": [
    "print(\"they have no length:\")\n",
    "print(len(title))"
   ]
  },
  {
   "cell_type": "markdown",
   "metadata": {},
   "source": [
    "> There are many ways to break the recipe into parts. One good way is to use 'split' function. "
   ]
  },
  {
   "cell_type": "code",
   "execution_count": 5,
   "metadata": {
    "collapsed": false
   },
   "outputs": [
    {
     "name": "stdout",
     "output_type": "stream",
     "text": [
      "[\"Gammy's Apple Pie \\n\\n\", \":\\n\\n2 cups flour\\n1 tsp salt\\n3/4 cup solid shortening (like Crisco)\\n1/4 to 1/2 cup ice water\\n\\nMix together the flour and the salt.  Cut in the shortening until the pieces\\nare pea-sized.  Add 1/4 to 1/2 cup of the water and stir with a fork until the\\ndough is moist enough to stick together but is not soggy.\\n\\nSprinkle your pastry cloth (or whatever you use) with flour.  Divide the pie\\ncrust dough in slightly uneven halves.  Form the larger of the two halves\\ninto a ball and place on the pastry cloth.  Pat into a circle about five\\ninches in diameter.  Begin to roll out from the center outward with light\\nstrokes.  Be sure your rolling pin is floured also.\\n\\nOnce the circle is about 7 inches in diameter, pick up the piece of dough,\\nreflour underneath it and flip it over.  This will ensure that there is enough\\nflour to keep the dough from sticking.  (Note:  if the dough is sticking too\\nmuch, that means you put too much water in it.  Add more flour.  If the dough\\nis crumbly and won't stick together at all, that means it needs more water.)\\n\\nResume rolling it out until you reach the size of your pie pan (usually 9 or\\n10 inches).  At this point, you can roll out the edges, too.  The idea is just\\nto not have too much dough in the middle.\\n\\nOnce the dough is the proper size (Don't worry; it won't be even.), pick it up\\nby rolling it around the rolling pin.  Carefully transfer it to the pie pan\\ndoing your best to center it over the pan.  Once you release it from the\\nrolling pin, gently pat it in place in the pan, making sure there aren't any\\ngaps between the dough and the inside edge of the plate.  Trim the dough with\\na knife so that it is even with the edge of the pie pan.  Throw the extra\\ndough in the bowl with the remaining half.\\n\\nAt this point, you would add your fruit filling and then proceed with the top\\ncrust.  The top crust is made virtually the same way; however, you would want\\nit rolled out a little bigger than the bottom so that you have enough crust to\\nflute.  I flute by pinching the crust between my two index fingers and thumbs\\nas though I was opening a change purse.  Be sure to cut slits in the top crust\\nfor the steam to escape.\\n\\nFILLING:\\n\\n3-4 Granny Smith apples, depending on size, peeled and sliced\\n1/2 cup brown sugar\\n1/2 cup granulated sugar\\n1/4 cup flour\\n1 tsp apple pie spice (or 1 tsp cinnamon and 1/2 tsp nutmeg)\\n\\nLine pie plate with unbaked pastry.  Mix together the sugars, flour\\nand spices.  Pour 1/2 of this mixture into the pie plate, smoothing\\nevenly across the bottom.  Lay the apples in the crust, enough so that\\nthey reach the top of the plate but aren't mounded over it.  Sprinkle\\nthe remaining flour mixture over the top of the apples.  Sprinkle 1\\ntablespoon of lemon juice over the top, then dot with 1 tablespoon of\\nbutter.  Add the top crust and cut slits for steam.\\n\\nBake 15 minutes at 425 degrees, then reduce heat to 350 and bake\\nanother hour.  The trick with apple pie is to be sure and bake it long\\nenough for the apples to be soft.  I usually stick a fork inside one\\nof the slits to make sure, but an hour should be plenty.  If the edge\\nof the crust starts to brown too much, cover it loosely with foil.\\n\\nIt's a good idea to set the pie on a cookie sheet in case the apples\\nare particularly juicy and spill over into the oven.\\n\"]\n"
     ]
    }
   ],
   "source": [
    "parts = recipe.split(\"CRUST\")\n",
    "print(parts)"
   ]
  },
  {
   "cell_type": "markdown",
   "metadata": {},
   "source": [
    "> This gives us a list (a mutable series we will go over in next Chapter). The first item is everything before \"CRUST\", the second item is everything after. \n",
    "\n",
    "> If we want to just look at a single item in a list we can use square brackets \"[\" + \"]\", with the index of the item we want:"
   ]
  },
  {
   "cell_type": "code",
   "execution_count": 6,
   "metadata": {
    "collapsed": false
   },
   "outputs": [
    {
     "name": "stdout",
     "output_type": "stream",
     "text": [
      "Gammy's Apple Pie \n",
      "\n",
      "\n"
     ]
    }
   ],
   "source": [
    "title = parts[0]\n",
    "print(title)"
   ]
  },
  {
   "cell_type": "markdown",
   "metadata": {},
   "source": [
    "> If you noticed there is extra space under the title. Likewise, we saw above a bunch of \"\\n\". A \"\\\" is how you escape a character or specify a special character. "
   ]
  },
  {
   "cell_type": "code",
   "execution_count": 7,
   "metadata": {
    "collapsed": false
   },
   "outputs": [
    {
     "name": "stdout",
     "output_type": "stream",
     "text": [
      "before \n",
      " after\n"
     ]
    }
   ],
   "source": [
    "print(\"before \\n after\")"
   ]
  },
  {
   "cell_type": "markdown",
   "metadata": {},
   "source": [
    "> now we can add a \"r\" before the string to make it raw:"
   ]
  },
  {
   "cell_type": "code",
   "execution_count": 8,
   "metadata": {
    "collapsed": false
   },
   "outputs": [
    {
     "name": "stdout",
     "output_type": "stream",
     "text": [
      "before \\n after\n"
     ]
    }
   ],
   "source": [
    "print(r\"before \\n after\")"
   ]
  },
  {
   "cell_type": "code",
   "execution_count": 9,
   "metadata": {
    "collapsed": false
   },
   "outputs": [
    {
     "name": "stdout",
     "output_type": "stream",
     "text": [
      "🍩\n"
     ]
    }
   ],
   "source": [
    "print(\"\\U0001F369\") # I'm hungry"
   ]
  },
  {
   "cell_type": "markdown",
   "metadata": {},
   "source": [
    "> use \"#\" to make code comments, they are for internal reference and don't run\n",
    " "
   ]
  },
  {
   "cell_type": "code",
   "execution_count": 10,
   "metadata": {
    "collapsed": false
   },
   "outputs": [
    {
     "name": "stdout",
     "output_type": "stream",
     "text": [
      "Help on built-in function strip:\n",
      "\n",
      "strip(...) method of builtins.str instance\n",
      "    S.strip([chars]) -> str\n",
      "    \n",
      "    Return a copy of the string S with leading and trailing\n",
      "    whitespace removed.\n",
      "    If chars is given and not None, remove characters in chars instead.\n",
      "\n"
     ]
    }
   ],
   "source": [
    "help(title.strip)"
   ]
  },
  {
   "cell_type": "code",
   "execution_count": 11,
   "metadata": {
    "collapsed": true
   },
   "outputs": [],
   "source": [
    "title_new = title.strip()"
   ]
  },
  {
   "cell_type": "code",
   "execution_count": 12,
   "metadata": {
    "collapsed": false
   },
   "outputs": [
    {
     "name": "stdout",
     "output_type": "stream",
     "text": [
      "Gammy's Apple Pie\n"
     ]
    }
   ],
   "source": [
    "print(title_new)"
   ]
  },
  {
   "cell_type": "markdown",
   "metadata": {},
   "source": [
    "In Python, use the operator \"==\" to see if two strings are the equal. "
   ]
  },
  {
   "cell_type": "code",
   "execution_count": 13,
   "metadata": {
    "collapsed": false
   },
   "outputs": [
    {
     "data": {
      "text/plain": [
       "False"
      ]
     },
     "execution_count": 13,
     "metadata": {},
     "output_type": "execute_result"
    }
   ],
   "source": [
    "title == title_new"
   ]
  },
  {
   "cell_type": "code",
   "execution_count": 14,
   "metadata": {
    "collapsed": true
   },
   "outputs": [],
   "source": [
    "title = title_new"
   ]
  },
  {
   "cell_type": "code",
   "execution_count": 15,
   "metadata": {
    "collapsed": false
   },
   "outputs": [
    {
     "data": {
      "text/plain": [
       "True"
      ]
     },
     "execution_count": 15,
     "metadata": {},
     "output_type": "execute_result"
    }
   ],
   "source": [
    "title == title_new"
   ]
  },
  {
   "cell_type": "markdown",
   "metadata": {},
   "source": [
    "> Now for to break up the 'crust' and the 'filling'"
   ]
  },
  {
   "cell_type": "code",
   "execution_count": 16,
   "metadata": {
    "collapsed": false
   },
   "outputs": [
    {
     "data": {
      "text/plain": [
       "\":\\n\\n2 cups flour\\n1 tsp salt\\n3/4 cup solid shortening (like Crisco)\\n1/4 to 1/2 cup ice water\\n\\nMix together the flour and the salt.  Cut in the shortening until the pieces\\nare pea-sized.  Add 1/4 to 1/2 cup of the water and stir with a fork until the\\ndough is moist enough to stick together but is not soggy.\\n\\nSprinkle your pastry cloth (or whatever you use) with flour.  Divide the pie\\ncrust dough in slightly uneven halves.  Form the larger of the two halves\\ninto a ball and place on the pastry cloth.  Pat into a circle about five\\ninches in diameter.  Begin to roll out from the center outward with light\\nstrokes.  Be sure your rolling pin is floured also.\\n\\nOnce the circle is about 7 inches in diameter, pick up the piece of dough,\\nreflour underneath it and flip it over.  This will ensure that there is enough\\nflour to keep the dough from sticking.  (Note:  if the dough is sticking too\\nmuch, that means you put too much water in it.  Add more flour.  If the dough\\nis crumbly and won't stick together at all, that means it needs more water.)\\n\\nResume rolling it out until you reach the size of your pie pan (usually 9 or\\n10 inches).  At this point, you can roll out the edges, too.  The idea is just\\nto not have too much dough in the middle.\\n\\nOnce the dough is the proper size (Don't worry; it won't be even.), pick it up\\nby rolling it around the rolling pin.  Carefully transfer it to the pie pan\\ndoing your best to center it over the pan.  Once you release it from the\\nrolling pin, gently pat it in place in the pan, making sure there aren't any\\ngaps between the dough and the inside edge of the plate.  Trim the dough with\\na knife so that it is even with the edge of the pie pan.  Throw the extra\\ndough in the bowl with the remaining half.\\n\\nAt this point, you would add your fruit filling and then proceed with the top\\ncrust.  The top crust is made virtually the same way; however, you would want\\nit rolled out a little bigger than the bottom so that you have enough crust to\\nflute.  I flute by pinching the crust between my two index fingers and thumbs\\nas though I was opening a change purse.  Be sure to cut slits in the top crust\\nfor the steam to escape.\\n\\nFILLING:\\n\\n3-4 Granny Smith apples, depending on size, peeled and sliced\\n1/2 cup brown sugar\\n1/2 cup granulated sugar\\n1/4 cup flour\\n1 tsp apple pie spice (or 1 tsp cinnamon and 1/2 tsp nutmeg)\\n\\nLine pie plate with unbaked pastry.  Mix together the sugars, flour\\nand spices.  Pour 1/2 of this mixture into the pie plate, smoothing\\nevenly across the bottom.  Lay the apples in the crust, enough so that\\nthey reach the top of the plate but aren't mounded over it.  Sprinkle\\nthe remaining flour mixture over the top of the apples.  Sprinkle 1\\ntablespoon of lemon juice over the top, then dot with 1 tablespoon of\\nbutter.  Add the top crust and cut slits for steam.\\n\\nBake 15 minutes at 425 degrees, then reduce heat to 350 and bake\\nanother hour.  The trick with apple pie is to be sure and bake it long\\nenough for the apples to be soft.  I usually stick a fork inside one\\nof the slits to make sure, but an hour should be plenty.  If the edge\\nof the crust starts to brown too much, cover it loosely with foil.\\n\\nIt's a good idea to set the pie on a cookie sheet in case the apples\\nare particularly juicy and spill over into the oven.\\n\""
      ]
     },
     "execution_count": 16,
     "metadata": {},
     "output_type": "execute_result"
    }
   ],
   "source": [
    "parts[1]"
   ]
  },
  {
   "cell_type": "markdown",
   "metadata": {},
   "source": [
    "> We can re-use the 'parts' variable here, because, why not?"
   ]
  },
  {
   "cell_type": "code",
   "execution_count": 17,
   "metadata": {
    "collapsed": false
   },
   "outputs": [],
   "source": [
    "parts = parts[1].split(\"FILLING\")"
   ]
  },
  {
   "cell_type": "code",
   "execution_count": 18,
   "metadata": {
    "collapsed": false
   },
   "outputs": [
    {
     "name": "stdout",
     "output_type": "stream",
     "text": [
      "now we have 2 parts, crust and filling:\n",
      "2\n"
     ]
    }
   ],
   "source": [
    "print(\"now we have 2 parts, crust and filling:\")\n",
    "print(len(parts))"
   ]
  },
  {
   "cell_type": "code",
   "execution_count": 19,
   "metadata": {
    "collapsed": true
   },
   "outputs": [],
   "source": [
    "crust = parts[0]\n",
    "filling = parts[1]"
   ]
  },
  {
   "cell_type": "code",
   "execution_count": 20,
   "metadata": {
    "collapsed": false
   },
   "outputs": [
    {
     "name": "stdout",
     "output_type": "stream",
     "text": [
      ":\n",
      "\n",
      "2 cups flour\n",
      "1 tsp salt\n",
      "3/4 cup solid shortening (like Crisco)\n",
      "1/4 to 1/2 cup ice water\n",
      "\n",
      "Mix together the flour and the salt.  Cut in the shortening until the pieces\n",
      "are pea-sized.  Add 1/4 to 1/2 cup of the water and stir with a fork until the\n",
      "dough is moist enough to stick together but is not soggy.\n",
      "\n",
      "Sprinkle your pastry cloth (or whatever you use) with flour.  Divide the pie\n",
      "crust dough in slightly uneven halves.  Form the larger of the two halves\n",
      "into a ball and place on the pastry cloth.  Pat into a circle about five\n",
      "inches in diameter.  Begin to roll out from the center outward with light\n",
      "strokes.  Be sure your rolling pin is floured also.\n",
      "\n",
      "Once the circle is about 7 inches in diameter, pick up the piece of dough,\n",
      "reflour underneath it and flip it over.  This will ensure that there is enough\n",
      "flour to keep the dough from sticking.  (Note:  if the dough is sticking too\n",
      "much, that means you put too much water in it.  Add more flour.  If the dough\n",
      "is crumbly and won't stick together at all, that means it needs more water.)\n",
      "\n",
      "Resume rolling it out until you reach the size of your pie pan (usually 9 or\n",
      "10 inches).  At this point, you can roll out the edges, too.  The idea is just\n",
      "to not have too much dough in the middle.\n",
      "\n",
      "Once the dough is the proper size (Don't worry; it won't be even.), pick it up\n",
      "by rolling it around the rolling pin.  Carefully transfer it to the pie pan\n",
      "doing your best to center it over the pan.  Once you release it from the\n",
      "rolling pin, gently pat it in place in the pan, making sure there aren't any\n",
      "gaps between the dough and the inside edge of the plate.  Trim the dough with\n",
      "a knife so that it is even with the edge of the pie pan.  Throw the extra\n",
      "dough in the bowl with the remaining half.\n",
      "\n",
      "At this point, you would add your fruit filling and then proceed with the top\n",
      "crust.  The top crust is made virtually the same way; however, you would want\n",
      "it rolled out a little bigger than the bottom so that you have enough crust to\n",
      "flute.  I flute by pinching the crust between my two index fingers and thumbs\n",
      "as though I was opening a change purse.  Be sure to cut slits in the top crust\n",
      "for the steam to escape.\n",
      "\n",
      "\n"
     ]
    }
   ],
   "source": [
    "print(crust)"
   ]
  },
  {
   "cell_type": "markdown",
   "metadata": {},
   "source": [
    "> Now I notice we have that annoying \":\" we need to shave off the recipe. \n",
    "\n",
    "> We can do that the same way we got an index on the list, it works with strings too!"
   ]
  },
  {
   "cell_type": "code",
   "execution_count": 21,
   "metadata": {
    "collapsed": false
   },
   "outputs": [
    {
     "name": "stdout",
     "output_type": "stream",
     "text": [
      ":\n"
     ]
    }
   ],
   "source": [
    "print(crust[0])"
   ]
  },
  {
   "cell_type": "markdown",
   "metadata": {},
   "source": [
    "> That just says give me the first item in the string.\n",
    "> if I want a range I add a \":\" after the 0 in the []"
   ]
  },
  {
   "cell_type": "code",
   "execution_count": 22,
   "metadata": {
    "collapsed": false
   },
   "outputs": [
    {
     "name": "stdout",
     "output_type": "stream",
     "text": [
      ":\n",
      "\n",
      "2 cups \n"
     ]
    }
   ],
   "source": [
    "print(crust[0:10])"
   ]
  },
  {
   "cell_type": "markdown",
   "metadata": {},
   "source": [
    "> That says give me everything from 0 to 10\n",
    "\n",
    "> I can also say, give me everything else by putting in a \":\" and leaving what goes after empty.\n"
   ]
  },
  {
   "cell_type": "code",
   "execution_count": 23,
   "metadata": {
    "collapsed": false
   },
   "outputs": [
    {
     "data": {
      "text/plain": [
       "\"\\n\\n2 cups flour\\n1 tsp salt\\n3/4 cup solid shortening (like Crisco)\\n1/4 to 1/2 cup ice water\\n\\nMix together the flour and the salt.  Cut in the shortening until the pieces\\nare pea-sized.  Add 1/4 to 1/2 cup of the water and stir with a fork until the\\ndough is moist enough to stick together but is not soggy.\\n\\nSprinkle your pastry cloth (or whatever you use) with flour.  Divide the pie\\ncrust dough in slightly uneven halves.  Form the larger of the two halves\\ninto a ball and place on the pastry cloth.  Pat into a circle about five\\ninches in diameter.  Begin to roll out from the center outward with light\\nstrokes.  Be sure your rolling pin is floured also.\\n\\nOnce the circle is about 7 inches in diameter, pick up the piece of dough,\\nreflour underneath it and flip it over.  This will ensure that there is enough\\nflour to keep the dough from sticking.  (Note:  if the dough is sticking too\\nmuch, that means you put too much water in it.  Add more flour.  If the dough\\nis crumbly and won't stick together at all, that means it needs more water.)\\n\\nResume rolling it out until you reach the size of your pie pan (usually 9 or\\n10 inches).  At this point, you can roll out the edges, too.  The idea is just\\nto not have too much dough in the middle.\\n\\nOnce the dough is the proper size (Don't worry; it won't be even.), pick it up\\nby rolling it around the rolling pin.  Carefully transfer it to the pie pan\\ndoing your best to center it over the pan.  Once you release it from the\\nrolling pin, gently pat it in place in the pan, making sure there aren't any\\ngaps between the dough and the inside edge of the plate.  Trim the dough with\\na knife so that it is even with the edge of the pie pan.  Throw the extra\\ndough in the bowl with the remaining half.\\n\\nAt this point, you would add your fruit filling and then proceed with the top\\ncrust.  The top crust is made virtually the same way; however, you would want\\nit rolled out a little bigger than the bottom so that you have enough crust to\\nflute.  I flute by pinching the crust between my two index fingers and thumbs\\nas though I was opening a change purse.  Be sure to cut slits in the top crust\\nfor the steam to escape.\\n\\n\""
      ]
     },
     "execution_count": 23,
     "metadata": {},
     "output_type": "execute_result"
    }
   ],
   "source": [
    "crust[1:]"
   ]
  },
  {
   "cell_type": "code",
   "execution_count": 24,
   "metadata": {
    "collapsed": false
   },
   "outputs": [
    {
     "name": "stdout",
     "output_type": "stream",
     "text": [
      "2 cups flour\n",
      "1 tsp salt\n",
      "3/4 cup solid shortening (like Crisco)\n",
      "1/4 to 1/2 cup ice water\n",
      "\n",
      "Mix together the flour and the salt.  Cut in the shortening until the pieces\n",
      "are pea-sized.  Add 1/4 to 1/2 cup of the water and stir with a fork until the\n",
      "dough is moist enough to stick together but is not soggy.\n",
      "\n",
      "Sprinkle your pastry cloth (or whatever you use) with flour.  Divide the pie\n",
      "crust dough in slightly uneven halves.  Form the larger of the two halves\n",
      "into a ball and place on the pastry cloth.  Pat into a circle about five\n",
      "inches in diameter.  Begin to roll out from the center outward with light\n",
      "strokes.  Be sure your rolling pin is floured also.\n",
      "\n",
      "Once the circle is about 7 inches in diameter, pick up the piece of dough,\n",
      "reflour underneath it and flip it over.  This will ensure that there is enough\n",
      "flour to keep the dough from sticking.  (Note:  if the dough is sticking too\n",
      "much, that means you put too much water in it.  Add more flour.  If the dough\n",
      "is crumbly and won't stick together at all, that means it needs more water.)\n",
      "\n",
      "Resume rolling it out until you reach the size of your pie pan (usually 9 or\n",
      "10 inches).  At this point, you can roll out the edges, too.  The idea is just\n",
      "to not have too much dough in the middle.\n",
      "\n",
      "Once the dough is the proper size (Don't worry; it won't be even.), pick it up\n",
      "by rolling it around the rolling pin.  Carefully transfer it to the pie pan\n",
      "doing your best to center it over the pan.  Once you release it from the\n",
      "rolling pin, gently pat it in place in the pan, making sure there aren't any\n",
      "gaps between the dough and the inside edge of the plate.  Trim the dough with\n",
      "a knife so that it is even with the edge of the pie pan.  Throw the extra\n",
      "dough in the bowl with the remaining half.\n",
      "\n",
      "At this point, you would add your fruit filling and then proceed with the top\n",
      "crust.  The top crust is made virtually the same way; however, you would want\n",
      "it rolled out a little bigger than the bottom so that you have enough crust to\n",
      "flute.  I flute by pinching the crust between my two index fingers and thumbs\n",
      "as though I was opening a change purse.  Be sure to cut slits in the top crust\n",
      "for the steam to escape.\n"
     ]
    }
   ],
   "source": [
    "crust = crust[1:].strip()\n",
    "print(crust)"
   ]
  },
  {
   "cell_type": "markdown",
   "metadata": {},
   "source": [
    "> We do the exact same thing for the filling:"
   ]
  },
  {
   "cell_type": "code",
   "execution_count": 25,
   "metadata": {
    "collapsed": false
   },
   "outputs": [
    {
     "name": "stdout",
     "output_type": "stream",
     "text": [
      "3-4 Granny Smith apples, depending on size, peeled and sliced\n",
      "1/2 cup brown sugar\n",
      "1/2 cup granulated sugar\n",
      "1/4 cup flour\n",
      "1 tsp apple pie spice (or 1 tsp cinnamon and 1/2 tsp nutmeg)\n",
      "\n",
      "Line pie plate with unbaked pastry.  Mix together the sugars, flour\n",
      "and spices.  Pour 1/2 of this mixture into the pie plate, smoothing\n",
      "evenly across the bottom.  Lay the apples in the crust, enough so that\n",
      "they reach the top of the plate but aren't mounded over it.  Sprinkle\n",
      "the remaining flour mixture over the top of the apples.  Sprinkle 1\n",
      "tablespoon of lemon juice over the top, then dot with 1 tablespoon of\n",
      "butter.  Add the top crust and cut slits for steam.\n",
      "\n",
      "Bake 15 minutes at 425 degrees, then reduce heat to 350 and bake\n",
      "another hour.  The trick with apple pie is to be sure and bake it long\n",
      "enough for the apples to be soft.  I usually stick a fork inside one\n",
      "of the slits to make sure, but an hour should be plenty.  If the edge\n",
      "of the crust starts to brown too much, cover it loosely with foil.\n",
      "\n",
      "It's a good idea to set the pie on a cookie sheet in case the apples\n",
      "are particularly juicy and spill over into the oven.\n"
     ]
    }
   ],
   "source": [
    "filling = filling[1:].strip()\n",
    "print(filling)"
   ]
  },
  {
   "cell_type": "markdown",
   "metadata": {},
   "source": [
    "## 1C) \"DRY\" stands for Don't Repeat Yourself.\n",
    "\n",
    "We did that '[1:].strip()' twice, if we were to do that a bunch of times we would want to generalize that into what we call a function in Python. Here is an example:\n",
    "\n",
    "```python\n",
    "\n",
    "def remove_first_character(subject_string):\n",
    "    return subject_string[1:].strip()\n",
    "    \n",
    "```\n",
    "\n",
    "Now let's test it with a couple examples:\n",
    "\n",
    "    \": <- is it gone\"\n",
    "    \"! remove me too\"\n",
    "    \"<:)\"\n",
    "    \n",
    "    '''@extra space \n",
    "    \n",
    "    '''"
   ]
  },
  {
   "cell_type": "code",
   "execution_count": 26,
   "metadata": {
    "collapsed": false
   },
   "outputs": [
    {
     "name": "stdout",
     "output_type": "stream",
     "text": [
      "<- is it gone\n",
      "remove me too\n",
      ":)\n",
      "extra space\n"
     ]
    }
   ],
   "source": [
    "def remove_first_character(subject_string):\n",
    "    return subject_string[1:].strip()\n",
    "    \n",
    "print(remove_first_character(\": <- is it gone\"))\n",
    "print(remove_first_character(\"! remove me too\"))\n",
    "print(remove_first_character(\"<:)\"))\n",
    "print(remove_first_character('''@extra space \n",
    "    \n",
    "    '''))"
   ]
  },
  {
   "cell_type": "markdown",
   "metadata": {},
   "source": [
    "> python is self documenting recall when we used help() before?\n",
    "> That works if we put a string after the \"def\" line like so:"
   ]
  },
  {
   "cell_type": "code",
   "execution_count": 27,
   "metadata": {
    "collapsed": true
   },
   "outputs": [],
   "source": [
    "def remove_first_character(subject_string):\n",
    "    \"removes the first character of a string, and also strips white space.\"\n",
    "    return subject_string[1:].strip()"
   ]
  },
  {
   "cell_type": "code",
   "execution_count": 28,
   "metadata": {
    "collapsed": false
   },
   "outputs": [
    {
     "name": "stdout",
     "output_type": "stream",
     "text": [
      "Help on function remove_first_character in module __main__:\n",
      "\n",
      "remove_first_character(subject_string)\n",
      "    removes the first character of a string, and also strips white space.\n",
      "\n"
     ]
    }
   ],
   "source": [
    "help(remove_first_character)"
   ]
  },
  {
   "cell_type": "markdown",
   "metadata": {},
   "source": [
    "## 2D) Now, let's break up the recipie some more\n",
    "\n",
    "I want to see:\n",
    " * list of ingredients \n",
    " * instructions broken up into sections\n",
    "\n",
    "Then I want to create functions for each of these so I can reuse them.\n",
    "\n",
    "First, let's look at the list of ingredients. If I look at the recipe part, I notice that everything above the blank line is ingredients. Let's split on that first:\n"
   ]
  },
  {
   "cell_type": "code",
   "execution_count": 29,
   "metadata": {
    "collapsed": false
   },
   "outputs": [
    {
     "name": "stdout",
     "output_type": "stream",
     "text": [
      "3-4 Granny Smith apples, depending on size, peeled and sliced\n",
      "1/2 cup brown sugar\n",
      "1/2 cup granulated sugar\n",
      "1/4 cup flour\n",
      "1 tsp apple pie spice (or 1 tsp cinnamon and 1/2 tsp nutmeg)\n"
     ]
    }
   ],
   "source": [
    "ingredients = filling.split(\"\\n\\n\")[0]  # \\n\\n is a blank line, [0] is the first item\n",
    "print(ingredients)"
   ]
  },
  {
   "cell_type": "code",
   "execution_count": 30,
   "metadata": {
    "collapsed": false
   },
   "outputs": [
    {
     "name": "stdout",
     "output_type": "stream",
     "text": [
      "please note that ingredients is a string:\n",
      "<class 'str'>\n"
     ]
    }
   ],
   "source": [
    "print(\"please note that ingredients is a string:\")\n",
    "print(type(ingredients))"
   ]
  },
  {
   "cell_type": "markdown",
   "metadata": {},
   "source": [
    "Then, if I want to put each ingredient into a list, just split the list again."
   ]
  },
  {
   "cell_type": "code",
   "execution_count": 31,
   "metadata": {
    "collapsed": true
   },
   "outputs": [],
   "source": [
    "ingredients = ingredients.split(\"\\n\")"
   ]
  },
  {
   "cell_type": "code",
   "execution_count": 32,
   "metadata": {
    "collapsed": false
   },
   "outputs": [
    {
     "name": "stdout",
     "output_type": "stream",
     "text": [
      "the number of ingredients are:\n",
      "5\n"
     ]
    }
   ],
   "source": [
    "print(\"the number of ingredients are:\")\n",
    "print(len(ingredients))"
   ]
  },
  {
   "cell_type": "markdown",
   "metadata": {},
   "source": [
    "> Just like ingredients, we split out the steps"
   ]
  },
  {
   "cell_type": "code",
   "execution_count": 33,
   "metadata": {
    "collapsed": false
   },
   "outputs": [
    {
     "name": "stdout",
     "output_type": "stream",
     "text": [
      "[\"Line pie plate with unbaked pastry.  Mix together the sugars, flour\\nand spices.  Pour 1/2 of this mixture into the pie plate, smoothing\\nevenly across the bottom.  Lay the apples in the crust, enough so that\\nthey reach the top of the plate but aren't mounded over it.  Sprinkle\\nthe remaining flour mixture over the top of the apples.  Sprinkle 1\\ntablespoon of lemon juice over the top, then dot with 1 tablespoon of\\nbutter.  Add the top crust and cut slits for steam.\", 'Bake 15 minutes at 425 degrees, then reduce heat to 350 and bake\\nanother hour.  The trick with apple pie is to be sure and bake it long\\nenough for the apples to be soft.  I usually stick a fork inside one\\nof the slits to make sure, but an hour should be plenty.  If the edge\\nof the crust starts to brown too much, cover it loosely with foil.', \"It's a good idea to set the pie on a cookie sheet in case the apples\\nare particularly juicy and spill over into the oven.\"]\n"
     ]
    }
   ],
   "source": [
    "steps = filling.split(\"\\n\\n\")[1:]  # \\n\\n is a blank line, [1:] is all after first item\n",
    "print(steps)"
   ]
  },
  {
   "cell_type": "code",
   "execution_count": 34,
   "metadata": {
    "collapsed": false
   },
   "outputs": [
    {
     "name": "stdout",
     "output_type": "stream",
     "text": [
      "the number of steps are:\n",
      "3\n"
     ]
    }
   ],
   "source": [
    "print(\"the number of steps are:\")\n",
    "print(len(steps))"
   ]
  },
  {
   "cell_type": "markdown",
   "metadata": {},
   "source": [
    "> So far, we have been parsing and printing out strings. \n",
    "\n",
    "> It could help us display strings if we format them. For example, it would be helpful to print:\n",
    "\n",
    "    There are 3 steps.\n",
    "    \n",
    "> To do so we will format a string using .format() method and {}\n",
    "\n",
    "```python\n",
    "\"There are {0} steps.\".format(len(steps))\n",
    "```"
   ]
  },
  {
   "cell_type": "code",
   "execution_count": 35,
   "metadata": {
    "collapsed": false
   },
   "outputs": [
    {
     "name": "stdout",
     "output_type": "stream",
     "text": [
      "There are 3 steps.\n"
     ]
    }
   ],
   "source": [
    "print(\"There are {0} steps.\".format(len(steps)))"
   ]
  },
  {
   "cell_type": "markdown",
   "metadata": {},
   "source": [
    "## 2E) Putting it all together into functions\n",
    "\n",
    "The functions we need:\n",
    "\n",
    " 1. read the file\n",
    " 1. get the title\n",
    " 1. split the crust and filling\n",
    " 1. get the ingredients as list\n",
    " 1. get the steps as list\n",
    " 1. print out the results\n",
    " \n",
    " Let's start:\n"
   ]
  },
  {
   "cell_type": "code",
   "execution_count": 36,
   "metadata": {
    "collapsed": true
   },
   "outputs": [],
   "source": [
    "def read_recipe(path):\n",
    "    \"1. reads the file given in path\"\n",
    "    out = open(\"misc/ApplePie.txt\").read()\n",
    "    print(\"read {} characters.\".format(len(out)))\n",
    "    return out"
   ]
  },
  {
   "cell_type": "code",
   "execution_count": 37,
   "metadata": {
    "collapsed": false
   },
   "outputs": [
    {
     "name": "stdout",
     "output_type": "stream",
     "text": [
      "read 3314 characters.\n"
     ]
    }
   ],
   "source": [
    "recipe = read_recipe(\"misc/ApplePie.txt\")"
   ]
  },
  {
   "cell_type": "code",
   "execution_count": 38,
   "metadata": {
    "collapsed": true
   },
   "outputs": [],
   "source": [
    "def get_title(recipe, split_on=\"CRUST\"):\n",
    "    \"2. finds the title above what is split_on\"\n",
    "    title = recipe.split(split_on)[0].strip()\n",
    "    print(\"title: {}\".format(title))\n",
    "    return title"
   ]
  },
  {
   "cell_type": "code",
   "execution_count": 39,
   "metadata": {
    "collapsed": false
   },
   "outputs": [
    {
     "name": "stdout",
     "output_type": "stream",
     "text": [
      "title: Gammy's Apple Pie\n"
     ]
    }
   ],
   "source": [
    "title = get_title(recipe)"
   ]
  },
  {
   "cell_type": "code",
   "execution_count": 40,
   "metadata": {
    "collapsed": false
   },
   "outputs": [],
   "source": [
    "def get_crust_filling(recipe, split_on=\"CRUST\", and_on=\"FILLING\"):\n",
    "    \"3. parses out the crust, filling from recipe\"\n",
    "    crust_and_filling = recipe.split(split_on)[1].strip()\n",
    "    crust, filling = crust_and_filling.split(and_on)\n",
    "    print(\"crust has {} characters, filling has {} characters\".format(len(crust), len(filling)))\n",
    "    return remove_first_character(crust), remove_first_character(filling)"
   ]
  },
  {
   "cell_type": "code",
   "execution_count": 41,
   "metadata": {
    "collapsed": false
   },
   "outputs": [
    {
     "name": "stdout",
     "output_type": "stream",
     "text": [
      "crust has 2163 characters, filling has 1118 characters\n"
     ]
    }
   ],
   "source": [
    "crust, filling = get_crust_filling(recipe) # note get_crust_filling() returns two things"
   ]
  },
  {
   "cell_type": "code",
   "execution_count": 42,
   "metadata": {
    "collapsed": false
   },
   "outputs": [],
   "source": [
    "def get_ingredients_as_list(recipe):\n",
    "    \"4. returns a list of ingredients\"\n",
    "    ingredients = recipe.split(\"\\n\\n\")[0]  # \\n\\n is a blank line, [0] is the first item\n",
    "    ingredients = ingredients.split(\"\\n\")\n",
    "    print(\"there are {} ingredients\".format(len(ingredients)))\n",
    "    return ingredients"
   ]
  },
  {
   "cell_type": "code",
   "execution_count": 43,
   "metadata": {
    "collapsed": false
   },
   "outputs": [
    {
     "name": "stdout",
     "output_type": "stream",
     "text": [
      "there are 5 ingredients\n"
     ]
    }
   ],
   "source": [
    "filling_ingredients = get_ingredients_as_list(filling)"
   ]
  },
  {
   "cell_type": "markdown",
   "metadata": {},
   "source": [
    "> it also works with the crust"
   ]
  },
  {
   "cell_type": "code",
   "execution_count": 44,
   "metadata": {
    "collapsed": false
   },
   "outputs": [
    {
     "name": "stdout",
     "output_type": "stream",
     "text": [
      "there are 4 ingredients\n"
     ]
    }
   ],
   "source": [
    "crust_ingredients = get_ingredients_as_list(crust)"
   ]
  },
  {
   "cell_type": "markdown",
   "metadata": {},
   "source": [
    "> now for the get the steps out part"
   ]
  },
  {
   "cell_type": "code",
   "execution_count": 45,
   "metadata": {
    "collapsed": true
   },
   "outputs": [],
   "source": [
    "def get_the_steps_as_list(recipe):\n",
    "    \"5. returns the steps as a list\"\n",
    "    steps = recipe.split(\"\\n\\n\")[1:]  # \\n\\n is a blank line, [1:] is all after first item\n",
    "    print(\"there are {} steps\".format(len(steps)))\n",
    "    return steps"
   ]
  },
  {
   "cell_type": "code",
   "execution_count": 46,
   "metadata": {
    "collapsed": false
   },
   "outputs": [
    {
     "name": "stdout",
     "output_type": "stream",
     "text": [
      "there are 3 steps\n"
     ]
    }
   ],
   "source": [
    "filling_steps = get_the_steps_as_list(filling)"
   ]
  },
  {
   "cell_type": "code",
   "execution_count": 47,
   "metadata": {
    "collapsed": false
   },
   "outputs": [
    {
     "name": "stdout",
     "output_type": "stream",
     "text": [
      "there are 6 steps\n"
     ]
    }
   ],
   "source": [
    "crust_steps = get_the_steps_as_list(crust)"
   ]
  },
  {
   "cell_type": "markdown",
   "metadata": {},
   "source": [
    "> finally, print out the results"
   ]
  },
  {
   "cell_type": "code",
   "execution_count": 48,
   "metadata": {
    "collapsed": true
   },
   "outputs": [],
   "source": [
    "def print_out_results(title, part, ingredients, steps):\n",
    "    \"6. prints out the results\"\n",
    "    print(\"In recipe '{}' there are {} ingredients and {} steps in the {}\".format(title,\n",
    "                                                                        len(ingredients),\n",
    "                                                                        len(steps),\n",
    "                                                                        part))\n"
   ]
  },
  {
   "cell_type": "code",
   "execution_count": 49,
   "metadata": {
    "collapsed": false
   },
   "outputs": [
    {
     "name": "stdout",
     "output_type": "stream",
     "text": [
      "In recipe 'Gammy's Apple Pie' there are 5 ingredients and 3 steps in the filling\n"
     ]
    }
   ],
   "source": [
    "print_out_results(title, \"filling\", filling_ingredients, filling_steps)"
   ]
  },
  {
   "cell_type": "markdown",
   "metadata": {},
   "source": [
    "## 2F) now one function to do it all\n",
    "\n",
    "we also introduce the dict() built in type. Dictionaries will be covered in the next session. In short they are key value pairs. For example:\n",
    "```python\n",
    "    {\"odd\": [1, 3, 5, 7], \"even\": [2, 4, 6]}\n",
    "```\n",
    "\n",
    "There are two keys (labels), \"odd\" and \"even\". \"odd\" contains a list of 4 odd numbers, \"even\" three even numbers. note a couple things:\n",
    "\n",
    " * use of curly braces \"{\" and \"}\"\n",
    " * \":\" seperates key from values\n",
    " * \",\" seperates key/values pairs from more pairs\n",
    "\n",
    "In our case we want a dictonary that contains a structure that looks like this:\n",
    "\n",
    "```python\n",
    "{\"Title\": \"Some Desert Recipe\",\n",
    " \"Parts\": [\n",
    "     {\"sub-title\": \"whipping cream\",\n",
    "      \"ingredients\": [\n",
    "             \"2 tablespoons sugar\",\n",
    "             \"1 cup heavy whipping cream\"],\n",
    "      \"steps\": ['''Place a metal mixing bowl and metal whisk into the freezer\n",
    "                   for 10 to 15 minutes.''',\n",
    "                '''Place the sugar into the mixing bowl and add the whipping\n",
    "                   cream. Whisk just until the cream reaches stiff peaks.\n",
    "                   Store any unused portion in an airtight container for up\n",
    "                   to 10 hours. When ready to use, rewhisk for 10 to 15\n",
    "                   seconds.''',\n",
    "                '''Recipe courtesy of Alton Brown, 2009''']}]}\n",
    "```\n",
    "\n"
   ]
  },
  {
   "cell_type": "code",
   "execution_count": 50,
   "metadata": {
    "collapsed": false
   },
   "outputs": [],
   "source": [
    "def runall(path):\n",
    "    recipe = read_recipe(path)\n",
    "    title = get_title(recipe)\n",
    "    crust, filling = get_crust_filling(recipe) \n",
    "\n",
    "    # for filling\n",
    "    filling_ingredients = get_ingredients_as_list(filling)\n",
    "    filling_steps = get_the_steps_as_list(filling)\n",
    "    print_out_results(title, \"filling\", filling_ingredients, filling_steps)\n",
    "\n",
    "    # for crust\n",
    "    crust_ingredients = get_ingredients_as_list(crust)\n",
    "    crust_steps = get_the_steps_as_list(crust)\n",
    "    print_out_results(title, \"crust\", crust_ingredients, crust_steps)\n",
    "    \n",
    "    # now format and return the dict\n",
    "    return  {\"Title\": \"Some Desert Recipe\",\n",
    "             \"Parts\": [\n",
    "                 {\"sub-title\": \"filling\",\n",
    "                  \"ingredients\": filling_ingredients,\n",
    "                  \"steps\": filling_steps},\n",
    "                 {\"sub-title\": \"crust\",\n",
    "                  \"ingredients\": crust_ingredients,\n",
    "                  \"steps\": crust_steps}]}"
   ]
  },
  {
   "cell_type": "code",
   "execution_count": 51,
   "metadata": {
    "collapsed": false
   },
   "outputs": [
    {
     "name": "stdout",
     "output_type": "stream",
     "text": [
      "read 3314 characters.\n",
      "title: Gammy's Apple Pie\n",
      "crust has 2163 characters, filling has 1118 characters\n",
      "there are 5 ingredients\n",
      "there are 3 steps\n",
      "In recipe 'Gammy's Apple Pie' there are 5 ingredients and 3 steps in the filling\n",
      "there are 4 ingredients\n",
      "there are 6 steps\n",
      "In recipe 'Gammy's Apple Pie' there are 4 ingredients and 6 steps in the crust\n"
     ]
    }
   ],
   "source": [
    "recipe_as_dict = runall(\"misc/ApplePie.txt\")"
   ]
  },
  {
   "cell_type": "code",
   "execution_count": 52,
   "metadata": {
    "collapsed": false
   },
   "outputs": [
    {
     "data": {
      "text/plain": [
       "{'Parts': [{'ingredients': ['3-4 Granny Smith apples, depending on size, peeled and sliced',\n",
       "    '1/2 cup brown sugar',\n",
       "    '1/2 cup granulated sugar',\n",
       "    '1/4 cup flour',\n",
       "    '1 tsp apple pie spice (or 1 tsp cinnamon and 1/2 tsp nutmeg)'],\n",
       "   'steps': [\"Line pie plate with unbaked pastry.  Mix together the sugars, flour\\nand spices.  Pour 1/2 of this mixture into the pie plate, smoothing\\nevenly across the bottom.  Lay the apples in the crust, enough so that\\nthey reach the top of the plate but aren't mounded over it.  Sprinkle\\nthe remaining flour mixture over the top of the apples.  Sprinkle 1\\ntablespoon of lemon juice over the top, then dot with 1 tablespoon of\\nbutter.  Add the top crust and cut slits for steam.\",\n",
       "    'Bake 15 minutes at 425 degrees, then reduce heat to 350 and bake\\nanother hour.  The trick with apple pie is to be sure and bake it long\\nenough for the apples to be soft.  I usually stick a fork inside one\\nof the slits to make sure, but an hour should be plenty.  If the edge\\nof the crust starts to brown too much, cover it loosely with foil.',\n",
       "    \"It's a good idea to set the pie on a cookie sheet in case the apples\\nare particularly juicy and spill over into the oven.\"],\n",
       "   'sub-title': 'filling'},\n",
       "  {'ingredients': ['2 cups flour',\n",
       "    '1 tsp salt',\n",
       "    '3/4 cup solid shortening (like Crisco)',\n",
       "    '1/4 to 1/2 cup ice water'],\n",
       "   'steps': ['Mix together the flour and the salt.  Cut in the shortening until the pieces\\nare pea-sized.  Add 1/4 to 1/2 cup of the water and stir with a fork until the\\ndough is moist enough to stick together but is not soggy.',\n",
       "    'Sprinkle your pastry cloth (or whatever you use) with flour.  Divide the pie\\ncrust dough in slightly uneven halves.  Form the larger of the two halves\\ninto a ball and place on the pastry cloth.  Pat into a circle about five\\ninches in diameter.  Begin to roll out from the center outward with light\\nstrokes.  Be sure your rolling pin is floured also.',\n",
       "    \"Once the circle is about 7 inches in diameter, pick up the piece of dough,\\nreflour underneath it and flip it over.  This will ensure that there is enough\\nflour to keep the dough from sticking.  (Note:  if the dough is sticking too\\nmuch, that means you put too much water in it.  Add more flour.  If the dough\\nis crumbly and won't stick together at all, that means it needs more water.)\",\n",
       "    'Resume rolling it out until you reach the size of your pie pan (usually 9 or\\n10 inches).  At this point, you can roll out the edges, too.  The idea is just\\nto not have too much dough in the middle.',\n",
       "    \"Once the dough is the proper size (Don't worry; it won't be even.), pick it up\\nby rolling it around the rolling pin.  Carefully transfer it to the pie pan\\ndoing your best to center it over the pan.  Once you release it from the\\nrolling pin, gently pat it in place in the pan, making sure there aren't any\\ngaps between the dough and the inside edge of the plate.  Trim the dough with\\na knife so that it is even with the edge of the pie pan.  Throw the extra\\ndough in the bowl with the remaining half.\",\n",
       "    'At this point, you would add your fruit filling and then proceed with the top\\ncrust.  The top crust is made virtually the same way; however, you would want\\nit rolled out a little bigger than the bottom so that you have enough crust to\\nflute.  I flute by pinching the crust between my two index fingers and thumbs\\nas though I was opening a change purse.  Be sure to cut slits in the top crust\\nfor the steam to escape.'],\n",
       "   'sub-title': 'crust'}],\n",
       " 'Title': 'Some Desert Recipe'}"
      ]
     },
     "execution_count": 52,
     "metadata": {},
     "output_type": "execute_result"
    }
   ],
   "source": [
    "recipe_as_dict"
   ]
  },
  {
   "cell_type": "markdown",
   "metadata": {},
   "source": [
    "> \"Pickle\" allows us to store the data for the next chapter:"
   ]
  },
  {
   "cell_type": "code",
   "execution_count": 53,
   "metadata": {
    "collapsed": false
   },
   "outputs": [],
   "source": [
    "import pickle\n",
    "pickle.dump(recipe_as_dict, open(\"data.pickle\", \"wb\"))"
   ]
  }
 ],
 "metadata": {
  "anaconda-cloud": {},
  "kernelspec": {
   "display_name": "Python [py3k]",
   "language": "python",
   "name": "Python [py3k]"
  },
  "language_info": {
   "codemirror_mode": {
    "name": "ipython",
    "version": 3
   },
   "file_extension": ".py",
   "mimetype": "text/x-python",
   "name": "python",
   "nbconvert_exporter": "python",
   "pygments_lexer": "ipython3",
   "version": "3.5.2"
  }
 },
 "nbformat": 4,
 "nbformat_minor": 0
}
