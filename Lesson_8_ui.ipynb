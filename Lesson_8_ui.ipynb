{
 "cells": [
  {
   "cell_type": "markdown",
   "metadata": {},
   "source": [
    "\n",
    "# *Python from Scratch LiveLessons*\n",
    "## Lesson 8.1: Connecting a User Inteface\n",
    "<img src=\"misc/pie_cover_variation_.png\" width=\"60%\"  />\n",
    "\n",
    "Finally, we have all the bits and pieces of functionality ready to be assembled into a final product. We are going to hop up the functionality so our factory can run in our web browser (this notebook). We want to run our factory in the browser, so we aleady have some elements (images) and a prebuilt [Flask App](http://flask.pocoo.org/) (a Python microframework) that will help us serve the web pages. Our complete technology stack will look like this:\n",
    "\n",
    "<img src=\"misc/highlevel.png\" width=\"50%\"  />\n",
    "\n",
    "As a reminder from Lesson 7, from a functional perspective, the workflow callbacks will look like this:\n",
    "\n",
    "<img src=\"misc/workflow_2.png\" width=\"50%\"  />\n",
    "\n"
   ]
  },
  {
   "cell_type": "code",
   "execution_count": null,
   "metadata": {
    "collapsed": true
   },
   "outputs": [],
   "source": []
  },
  {
   "cell_type": "code",
   "execution_count": null,
   "metadata": {
    "collapsed": true
   },
   "outputs": [],
   "source": []
  },
  {
   "cell_type": "code",
   "execution_count": null,
   "metadata": {
    "collapsed": true
   },
   "outputs": [],
   "source": []
  },
  {
   "cell_type": "code",
   "execution_count": null,
   "metadata": {
    "collapsed": true
   },
   "outputs": [],
   "source": []
  },
  {
   "cell_type": "code",
   "execution_count": null,
   "metadata": {
    "collapsed": true
   },
   "outputs": [],
   "source": []
  },
  {
   "cell_type": "code",
   "execution_count": null,
   "metadata": {
    "collapsed": true
   },
   "outputs": [],
   "source": []
  },
  {
   "cell_type": "code",
   "execution_count": null,
   "metadata": {
    "collapsed": true
   },
   "outputs": [],
   "source": []
  },
  {
   "cell_type": "code",
   "execution_count": null,
   "metadata": {
    "collapsed": true
   },
   "outputs": [],
   "source": []
  },
  {
   "cell_type": "markdown",
   "metadata": {},
   "source": [
    "\n",
    "\n",
    "### 8.2 Create the client code\n",
    "\n",
    "Now we have to write a little JavaScript (our browser doesn't speak Python) to add actions to the buttons and animate the pie factory. We break our JavaScript file into four parts:\n",
    "\n",
    "1. `preload`&#8212;We add the individual images of pies and likes.\n",
    "2. `create`&#8212;We set up our initial view.\n",
    "3. `socket.emit`&#8212;We create code that listens to button clicks and sends data to our server.\n",
    "4. `socket.on`&#8212;We create handlers that listen to socket data comming back from the server.\n",
    "\n",
    "We can edit the HTML file (that holds the JavaScript) [here](/edit/jupy/static/index_TEMPLATE.html).\n"
   ]
  },
  {
   "cell_type": "markdown",
   "metadata": {},
   "source": [
    "install instructions not in video:\n",
    "\n",
    "> If you are confident with your changes to index_TEMPLATE.html, uncomment the function call and execute the following command to move the TEMPLATE into place while keeping a backup of the original:"
   ]
  },
  {
   "cell_type": "code",
   "execution_count": 10,
   "metadata": {
    "collapsed": false
   },
   "outputs": [],
   "source": [
    "import os\n",
    "\n",
    "def move_template_into_place():\n",
    "    path = os.path.join(\"jupy\", \"static\") + os.sep\n",
    "    if os.path.exists(path + \"index_TEMPLATE.html\"):\n",
    "        os.rename(path + \"index.html\", path + \"index_backup.html\")\n",
    "        os.rename(path + \"index_TEMPLATE.html\", path + \"index.html\")\n",
    "        print(\"overwrote index.html with your changes\")\n",
    "    else:\n",
    "        print(\"changes already made, try editing jupy/static/index.html directly\")\n",
    "        \n",
    "# move_template_into_place()"
   ]
  },
  {
   "cell_type": "code",
   "execution_count": null,
   "metadata": {
    "collapsed": true
   },
   "outputs": [],
   "source": []
  },
  {
   "cell_type": "code",
   "execution_count": null,
   "metadata": {
    "collapsed": true
   },
   "outputs": [],
   "source": []
  },
  {
   "cell_type": "code",
   "execution_count": null,
   "metadata": {
    "collapsed": true
   },
   "outputs": [],
   "source": []
  },
  {
   "cell_type": "code",
   "execution_count": null,
   "metadata": {
    "collapsed": true
   },
   "outputs": [],
   "source": []
  },
  {
   "cell_type": "code",
   "execution_count": null,
   "metadata": {
    "collapsed": true
   },
   "outputs": [],
   "source": []
  },
  {
   "cell_type": "code",
   "execution_count": null,
   "metadata": {
    "collapsed": true
   },
   "outputs": [],
   "source": []
  },
  {
   "cell_type": "code",
   "execution_count": null,
   "metadata": {
    "collapsed": true
   },
   "outputs": [],
   "source": []
  },
  {
   "cell_type": "code",
   "execution_count": null,
   "metadata": {
    "collapsed": true
   },
   "outputs": [],
   "source": []
  },
  {
   "cell_type": "code",
   "execution_count": null,
   "metadata": {
    "collapsed": true
   },
   "outputs": [],
   "source": []
  },
  {
   "cell_type": "markdown",
   "metadata": {},
   "source": [
    "### 8.3 Creating a simple server\n",
    "\n",
    "Now we have the static files we need to serve up. In comes Flask. We write a quick app to test our setup.\n"
   ]
  },
  {
   "cell_type": "code",
   "execution_count": null,
   "metadata": {
    "collapsed": false
   },
   "outputs": [],
   "source": []
  },
  {
   "cell_type": "code",
   "execution_count": null,
   "metadata": {
    "collapsed": true
   },
   "outputs": [],
   "source": []
  },
  {
   "cell_type": "code",
   "execution_count": null,
   "metadata": {
    "collapsed": true
   },
   "outputs": [],
   "source": []
  },
  {
   "cell_type": "code",
   "execution_count": null,
   "metadata": {
    "collapsed": true
   },
   "outputs": [],
   "source": []
  },
  {
   "cell_type": "code",
   "execution_count": null,
   "metadata": {
    "collapsed": true
   },
   "outputs": [],
   "source": []
  },
  {
   "cell_type": "code",
   "execution_count": null,
   "metadata": {
    "collapsed": true
   },
   "outputs": [],
   "source": []
  },
  {
   "cell_type": "code",
   "execution_count": null,
   "metadata": {
    "collapsed": true
   },
   "outputs": [],
   "source": []
  },
  {
   "cell_type": "code",
   "execution_count": null,
   "metadata": {
    "collapsed": true
   },
   "outputs": [],
   "source": []
  },
  {
   "cell_type": "code",
   "execution_count": null,
   "metadata": {
    "collapsed": true
   },
   "outputs": [],
   "source": []
  },
  {
   "cell_type": "code",
   "execution_count": null,
   "metadata": {
    "collapsed": true
   },
   "outputs": [],
   "source": []
  },
  {
   "cell_type": "code",
   "execution_count": null,
   "metadata": {
    "collapsed": true
   },
   "outputs": [],
   "source": []
  },
  {
   "cell_type": "code",
   "execution_count": null,
   "metadata": {
    "collapsed": true
   },
   "outputs": [],
   "source": []
  },
  {
   "cell_type": "code",
   "execution_count": null,
   "metadata": {
    "collapsed": true
   },
   "outputs": [],
   "source": []
  },
  {
   "cell_type": "code",
   "execution_count": null,
   "metadata": {
    "collapsed": true
   },
   "outputs": [],
   "source": []
  },
  {
   "cell_type": "code",
   "execution_count": null,
   "metadata": {
    "collapsed": true
   },
   "outputs": [],
   "source": []
  },
  {
   "cell_type": "code",
   "execution_count": null,
   "metadata": {
    "collapsed": true
   },
   "outputs": [],
   "source": []
  },
  {
   "cell_type": "markdown",
   "metadata": {},
   "source": [
    "### 8.4 Assembling the complete Pie Factory\n",
    "\n",
    "For reading in template:\n",
    "\n",
    "```\n",
    "%load complete_pie_TEMPLATE.py\n",
    "```\n",
    "for writing:\n",
    "```\n",
    "%%writefile complete_pie.py\n",
    "```\n",
    "If something goes wrong there is a \"complete_pie_backup.py\" you can c"
   ]
  },
  {
   "cell_type": "code",
   "execution_count": null,
   "metadata": {
    "collapsed": false
   },
   "outputs": [],
   "source": [
    "# %load complete_pie_TEMPLATE.py\n",
    "\n",
    "import uuid\n",
    "import copy\n",
    "import sys\n",
    "import os\n",
    "import random\n",
    "from collections import defaultdict\n",
    "\n",
    "import prettytable\n",
    "\n",
    "from output import (LargeItem,\n",
    "                    IngredientBase,\n",
    "                    Liquid,\n",
    "                    return_instance,\n",
    "                    is_ingredient_in_list)\n",
    "from pie_logger import get_logger\n",
    "log = get_logger()\n",
    "\n",
    "\n",
    "class Recipe:\n",
    "\n",
    "    def __init__(self, pie_instance, path):\n",
    "        self.ingredients = {}\n",
    "        self.steps = {}\n",
    "        self.pie_class_name = type(pie_instance).__name__\n",
    "        self.path = path\n",
    "\n",
    "        # read_recipe\n",
    "        self.read_recipe()\n",
    "        # get title\n",
    "        self.get_title()\n",
    "        # get crust and filling\n",
    "        self.get_crust_filling()\n",
    "\n",
    "        self.get_ingredients_as_list(\"filling\")\n",
    "        self.get_the_steps_as_list(\"filling\")\n",
    "        self.get_ingredients_as_list(\"crust\")\n",
    "        self.get_the_steps_as_list(\"crust\")\n",
    "\n",
    "    def get_ingredients_as_list(self, which):\n",
    "        recipe_part = getattr(self, which)\n",
    "        ingredients = recipe_part.split(\"\\n\\n\")[0]\n",
    "        self.ingredients[which] = ingredients.split(\"\\n\")\n",
    "\n",
    "    def get_the_steps_as_list(self, which):\n",
    "        recipe_part = getattr(self, which)\n",
    "        self.steps[which] = recipe_part.split(\"\\n\\n\")[1:]\n",
    "\n",
    "    def read_recipe(self):\n",
    "        self.recipe_text = open(self.path).read()\n",
    "\n",
    "    def get_title(self, split_on=\"CRUST\"):\n",
    "        recipe = self.recipe_text\n",
    "        self.title = recipe.split(split_on)[0].strip()\n",
    "\n",
    "    def get_crust_filling(self, split_on=\"CRUST\", and_on=\"FILLING\"):\n",
    "        crust_and_filling = self.recipe_text.split(split_on)[1].strip()\n",
    "        crust, filling = crust_and_filling.split(and_on)\n",
    "        self.crust = self.remmove_first_character(crust)\n",
    "        self.filling = self.remmove_first_character(filling)\n",
    "\n",
    "    def remmove_first_character(self, subject_string):\n",
    "        return subject_string[1:].strip()\n",
    "\n",
    "    def make_shopping_list(self):\n",
    "        shopping_list = []\n",
    "        for part in self.as_dict()['Parts']:\n",
    "            for ingredient in part['ingredients']:\n",
    "                instance = return_instance(ingredient)\n",
    "                shopping_list.append(instance)\n",
    "        return shopping_list\n",
    "\n",
    "    def as_dict(self):\n",
    "        return {\"Title\": self.title,\n",
    "                \"Parts\": [\n",
    "                    {\"sub-title\": \"filling\",\n",
    "                     \"ingredients\": self.ingredients.get(\"filling\"),\n",
    "                     \"steps\": self.steps.get(\"filling\")},\n",
    "                    {\"sub-title\": \"crust\",\n",
    "                        \"ingredients\": self.ingredients.get(\"crust\"),\n",
    "                        \"steps\": self.steps.get(\"crust\")}]}\n",
    "\n",
    "\n",
    "class Pie:\n",
    "\n",
    "    has_top_crust = True\n",
    "    has_fried = False\n",
    "    bake_time = 4000  # ms\n",
    "\n",
    "    def __init__(self, name, recipe_path=\"\"):\n",
    "        \"\"\"construct the Pie class \"\"\"\n",
    "        self.name = name\n",
    "        self.crust = None\n",
    "        self.filling = None\n",
    "        self.recipe_path = recipe_path\n",
    "        self.recipe = None\n",
    "        self.shopping_list = []\n",
    "        self.unique_pie_id = str(uuid.uuid4())\n",
    "\n",
    "    def process_recipe(self):\n",
    "        \"process_recipe() method to make shopping list/steps for the pie\"\n",
    "        self.recipe = Recipe(self, self.recipe_path)\n",
    "        self.shopping_list = self.recipe.make_shopping_list()\n",
    "\n",
    "    def get_filling(self):\n",
    "        return self.filling\n",
    "\n",
    "\n",
    "class ApplePie(Pie):\n",
    "    has_fruit = True\n",
    "    image_key = \"A\"\n",
    "\n",
    "\n",
    "class CherryPie(Pie):\n",
    "    has_fruit = True\n",
    "    image_key = \"B\"\n",
    "\n",
    "\n",
    "class RaseberryPie(Pie):\n",
    "    has_fruit = True\n",
    "    image_key = \"C\"\n",
    "\n",
    "\n",
    "class FactoryConveyorBelt:\n",
    "    \"Handles holding state for pies and adding callbacks to handle operations\"\n",
    "    def __init__(self):\n",
    "        self.pies = {}\n",
    "        self.oven_heat_time = 10000\n",
    "        self.inventory = []\n",
    "        self.pie_orders_qty = {}\n",
    "        self.callbacks = defaultdict(list)\n",
    "        self.known_callback_methods = ('bake', 'reload', 'oven', 'restock')\n",
    "\n",
    "    def fill_pantry(self, pies, times=5):\n",
    "        \" Given a list of 'pies', duplicate items times 'times', adds to self.inventory\"\n",
    "        log.debug(\"restock\")\n",
    "\n",
    "        if type(pies) != list:\n",
    "            pies = [pies, ]\n",
    "        key_item_for_inventory = self.key_item_for_inventory()\n",
    "        for pie in pies:\n",
    "            inventory = copy.copy(pie.shopping_list)\n",
    "            for item in inventory:\n",
    "                try:\n",
    "                    key_item_for_inventory[item.item].qty *= times\n",
    "                except KeyError:\n",
    "                    item.qty *= times\n",
    "                    self.inventory.append(item)\n",
    "\n",
    "    def get_totals(self):\n",
    "        \"shows totals a s pretty ascii-format table\"\n",
    "        out = {}\n",
    "        for x in self.inventory:\n",
    "            if x.item in out:\n",
    "                out[x.item].qty += x.qty\n",
    "            else:\n",
    "                out[x.item] = copy.copy(x)\n",
    "        return self.pretty_display_ingredients(out.values())\n",
    "\n",
    "    @staticmethod\n",
    "    def truncate(input, length=25):\n",
    "        \"just add '...' after truncating a string at 'length'\"\n",
    "        if len(input) > length:\n",
    "            return input[:length] + \"...\"\n",
    "        return input\n",
    "\n",
    "    @staticmethod\n",
    "    def humanize(frac):\n",
    "        \"conert a fraction to wholes and fractions when approriate\"\n",
    "        whole = \" \"\n",
    "        part = \"{}/{}\".format(frac.numerator, frac.denominator)\n",
    "        if frac.numerator > frac.denominator:\n",
    "            whole = int(frac.numerator / frac.denominator)\n",
    "            frac -= whole\n",
    "            part = \"\"\n",
    "            if frac.numerator != 0:\n",
    "                part = \"{}/{}\".format(frac.numerator, frac.denominator)\n",
    "        return \"{} {}\".format(whole, part)\n",
    "\n",
    "    @staticmethod\n",
    "    def pretty_display_ingredients(ingredients):\n",
    "        \"given 'ingredients' display as pretty table\"\n",
    "        out = defaultdict(list)\n",
    "        for ingr in ingredients:\n",
    "            as_str = \"{} {} of {}\".format(FactoryConveyorBelt.humanize(ingr.qty),\n",
    "                                          ingr.unit,\n",
    "                                          ingr.item)\n",
    "            out[ingr.name].append(FactoryConveyorBelt.truncate(as_str))\n",
    "        row_size = max(map(len, out.values()))\n",
    "        for row in out.values():\n",
    "            row += [\"\"] * (row_size - len(row))\n",
    "        table = prettytable.PrettyTable()\n",
    "        for header, listings in out.items():\n",
    "            table.add_column(header, listings)\n",
    "        return table.get_string()\n",
    "\n",
    "    def key_item_for_inventory(self):\n",
    "        \"give current inventory as `dict`\"\n",
    "        out = {}\n",
    "        for ingr in self.inventory:\n",
    "            out[ingr.item] = ingr\n",
    "        return out\n",
    "\n",
    "    def add_pie(self, pie):\n",
    "        \"add a single pie to the FactoryConveyorBelt\"\n",
    "        self.pies[pie.unique_pie_id] = pie\n",
    "\n",
    "        # calculate ingredients\n",
    "        inventory_by_key = self.key_item_for_inventory()\n",
    "        for ingrd in pie.shopping_list:\n",
    "            if (inventory_by_key[ingrd.item].qty - ingrd.qty) < 0:\n",
    "                raise Exception(\"out of {}\".format(ingrd.item))\n",
    "            inventory_by_key[ingrd.item].qty -= ingrd.qty\n",
    "\n",
    "    def add_pie_order(self, pie, qty):\n",
    "        \"add a bunch of pies to FactoryConveyorBelt\"\n",
    "        pie.process_recipe()\n",
    "        self.pie_orders_qty[pie.unique_pie_id] = qty\n",
    "        self.add_pie(pie)\n",
    "\n",
    "    def add_callback(self, method, func):\n",
    "        \"add a callback function for given 'method'\"\n",
    "        if method not in self.known_callback_methods:\n",
    "            raise Exception(\"unkown callback method: {}\".format(method))\n",
    "        self.callbacks[method].append(func)\n",
    "\n",
    "    def run_belt(self):\n",
    "        \"run the FactoryConveyorBelt in production\"\n",
    "        import jupy\n",
    "        return jupy.run_flask_socket_app(belt=self)\n",
    "\n",
    "    def run_belt_test(self):\n",
    "        \"simulate running the FactoryConveyorBelt\"\n",
    "        import mock_browser\n",
    "        mock_browser.simulate(self, count=4)\n",
    "\n",
    "\n",
    "def run_belt(test=False):\n",
    " \n",
    "\n",
    "\n",
    "\n",
    "\n",
    "\n",
    "\n",
    "\n",
    "\n",
    "\n",
    "\n",
    "\n",
    "\n",
    "\n",
    "    return belt.run_belt()\n",
    "\n",
    "\n",
    "def run_detached():\n",
    "    import subprocess\n",
    "    return subprocess.Popen([sys.executable, os.path.realpath(__file__)],\n",
    "                            stdout=subprocess.PIPE,\n",
    "                            stderr=subprocess.STDOUT,\n",
    "                            shell=True)\n",
    "\n",
    "\n",
    "\n",
    "\n",
    "    \n",
    "    \n",
    "    \n",
    "base_class = object\n",
    "\n",
    "try:\n",
    "    import IPython\n",
    "    import IPython.core.display\n",
    "    base_class = IPython.core.display.HTML\n",
    "except:\n",
    "    print(\"Unexpected error:\", sys.exc_info()[0])\n",
    "\n",
    "\n",
    "def give_me_iframe(src, width=\"100%\", height=525):\n",
    "    frame_html = \"\"\"<iframe id=\"jupy\" scrolling=\"no\" style=\"border:none;\"\n",
    "                    seamless=\"seamless\"\n",
    "                    src=\"{src}\"\n",
    "                    height=\"{height}\" width=\"{width}\">\n",
    "                    </iframe>\"\"\".format(**locals())\n",
    "    return frame_html\n",
    "\n",
    "\n",
    "class JupyDisplay(base_class):\n",
    "    \"\"\"\n",
    "\n",
    "    \"\"\"\n",
    "\n",
    "    def __init__(self, url, width=\"100%\", height=525):\n",
    "        self.resource = url\n",
    "        self.embed_code = give_me_iframe(url, width=width, height=height)\n",
    "        super(JupyDisplay, self).__init__(data=self.embed_code)\n",
    "\n",
    "    def _repr_html_(self):\n",
    "        return self.embed_code\n",
    "\n",
    "    \n",
    "jupyter = False    \n",
    "try:\n",
    "    __IPYTHON__\n",
    "    jupyter = True\n",
    "except NameError:\n",
    "    pass\n",
    "\n",
    "\n",
    "if __name__ == \"__main__\" and not jupyter:\n",
    "    import argparse\n",
    "\n",
    "    parser = argparse.ArgumentParser(description='Complete pie belt')\n",
    "    parser.add_argument(\n",
    "        '--test', action=\"store_true\", help='test the belt code',)\n",
    "    args = parser.parse_args()\n",
    "    test = False\n",
    "    if args.test:\n",
    "        log.info(\"running in test mode\")\n",
    "        test = True\n",
    "    else:\n",
    "        log.info(\"running in single server mode\")\n",
    "    run_belt(test=test)"
   ]
  },
  {
   "cell_type": "code",
   "execution_count": null,
   "metadata": {
    "collapsed": false
   },
   "outputs": [],
   "source": [
    "import complete_pie"
   ]
  },
  {
   "cell_type": "code",
   "execution_count": null,
   "metadata": {
    "collapsed": true
   },
   "outputs": [],
   "source": [
    "process = complete_pie.run_detached()"
   ]
  },
  {
   "cell_type": "code",
   "execution_count": null,
   "metadata": {
    "collapsed": false
   },
   "outputs": [],
   "source": [
    "complete_pie.JupyDisplay(url=\"http://127.0.0.1:5000\")"
   ]
  },
  {
   "cell_type": "code",
   "execution_count": null,
   "metadata": {
    "collapsed": true
   },
   "outputs": [],
   "source": []
  },
  {
   "cell_type": "code",
   "execution_count": null,
   "metadata": {
    "collapsed": true
   },
   "outputs": [],
   "source": []
  },
  {
   "cell_type": "code",
   "execution_count": null,
   "metadata": {
    "collapsed": true
   },
   "outputs": [],
   "source": []
  },
  {
   "cell_type": "code",
   "execution_count": null,
   "metadata": {
    "collapsed": false
   },
   "outputs": [],
   "source": []
  },
  {
   "cell_type": "code",
   "execution_count": null,
   "metadata": {
    "collapsed": false
   },
   "outputs": [],
   "source": []
  },
  {
   "cell_type": "code",
   "execution_count": null,
   "metadata": {
    "collapsed": true
   },
   "outputs": [],
   "source": []
  },
  {
   "cell_type": "code",
   "execution_count": null,
   "metadata": {
    "collapsed": true
   },
   "outputs": [],
   "source": []
  },
  {
   "cell_type": "code",
   "execution_count": null,
   "metadata": {
    "collapsed": true
   },
   "outputs": [],
   "source": []
  },
  {
   "cell_type": "code",
   "execution_count": null,
   "metadata": {
    "collapsed": true
   },
   "outputs": [],
   "source": []
  },
  {
   "cell_type": "code",
   "execution_count": null,
   "metadata": {
    "collapsed": true
   },
   "outputs": [],
   "source": []
  },
  {
   "cell_type": "code",
   "execution_count": null,
   "metadata": {
    "collapsed": true
   },
   "outputs": [],
   "source": []
  },
  {
   "cell_type": "code",
   "execution_count": null,
   "metadata": {
    "collapsed": true
   },
   "outputs": [],
   "source": []
  }
 ],
 "metadata": {
  "anaconda-cloud": {},
  "kernelspec": {
   "display_name": "Python [py3k]",
   "language": "python",
   "name": "Python [py3k]"
  },
  "language_info": {
   "codemirror_mode": {
    "name": "ipython",
    "version": 3
   },
   "file_extension": ".py",
   "mimetype": "text/x-python",
   "name": "python",
   "nbconvert_exporter": "python",
   "pygments_lexer": "ipython3",
   "version": "3.5.2"
  }
 },
 "nbformat": 4,
 "nbformat_minor": 1
}
