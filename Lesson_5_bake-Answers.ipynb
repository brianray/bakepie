{
 "cells": [
  {
   "cell_type": "markdown",
   "metadata": {},
   "source": [
    "# Bake It—Python Functions\n",
    "\n",
    "<img src=\"misc/5_pie in oven.png\" width=\"100%\" />\n",
    "\n",
    "We need to define what it means to *bake*. In the kitchen, you have to find the oven, give it some settings like temperature, turn it on, etc... Here we will write code in the form of *functions* that accept those configurations so we can bake our pies.\n"
   ]
  },
  {
   "cell_type": "markdown",
   "metadata": {},
   "source": [
    "## 5.1 Functions\n",
    "\n",
    "We have been writing Python functions along the way in the past chapters. We will take a closer look at what a Python function is. Some interesting features of functions include the following:\n",
    "\n",
    " * They are defined with `def` keyword\n",
    " * They get a name, see `foo` below\n",
    " * They always have parentheses `(` + `)` after the name \n",
    " * There may be one (or many separated with `,`) arguments. We will call ours *first_arg* and *second_arg*\n",
    " * The first line is used for documentation as a string (aka doc string)\n",
    " * The function uses the keyword `return` to tell what it returns.\n",
    "\n",
    "\n",
    "```python\n",
    "def foo(first_arg, second_arg=1):\n",
    "    \"some foo function\"\n",
    "    out = first_arg + second_arg\n",
    "    return out\n",
    "```\n",
    "\n",
    "Before we make functions of our own, let's play a bit with the `foo` function we just defined.\n",
    "\n"
   ]
  },
  {
   "cell_type": "code",
   "execution_count": 1,
   "metadata": {
    "collapsed": true
   },
   "outputs": [],
   "source": [
    "def foo(first_arg, second_arg=1):\n",
    "    \"some foo function\"\n",
    "    out = first_arg + second_arg\n",
    "    return out"
   ]
  },
  {
   "cell_type": "markdown",
   "metadata": {},
   "source": [
    "Now let's look at what we just created."
   ]
  },
  {
   "cell_type": "code",
   "execution_count": 2,
   "metadata": {
    "collapsed": false
   },
   "outputs": [
    {
     "data": {
      "text/plain": [
       "<function __main__.foo>"
      ]
     },
     "execution_count": 2,
     "metadata": {},
     "output_type": "execute_result"
    }
   ],
   "source": [
    "foo"
   ]
  },
  {
   "cell_type": "code",
   "execution_count": 3,
   "metadata": {
    "collapsed": false
   },
   "outputs": [
    {
     "name": "stdout",
     "output_type": "stream",
     "text": [
      "Help on function foo in module __main__:\n",
      "\n",
      "foo(first_arg, second_arg=1)\n",
      "    some foo function\n",
      "\n"
     ]
    }
   ],
   "source": [
    "help(foo)"
   ]
  },
  {
   "cell_type": "markdown",
   "metadata": {},
   "source": [
    "Now we create a function. Calling the function also uses  parenthesis `(` + `)` after the function name:"
   ]
  },
  {
   "cell_type": "code",
   "execution_count": 4,
   "metadata": {
    "collapsed": false
   },
   "outputs": [
    {
     "data": {
      "text/plain": [
       "2"
      ]
     },
     "execution_count": 4,
     "metadata": {},
     "output_type": "execute_result"
    }
   ],
   "source": [
    "foo(1)"
   ]
  },
  {
   "cell_type": "markdown",
   "metadata": {},
   "source": [
    "Notice the `second_arg` defaulted to 1, as we told it too. We can overwrite that now:"
   ]
  },
  {
   "cell_type": "code",
   "execution_count": 5,
   "metadata": {
    "collapsed": false
   },
   "outputs": [
    {
     "data": {
      "text/plain": [
       "3"
      ]
     },
     "execution_count": 5,
     "metadata": {},
     "output_type": "execute_result"
    }
   ],
   "source": [
    "foo(1, 2)"
   ]
  },
  {
   "cell_type": "code",
   "execution_count": 6,
   "metadata": {
    "collapsed": false
   },
   "outputs": [],
   "source": [
    "from pie_logger import get_logger\n",
    "log = get_logger()"
   ]
  },
  {
   "cell_type": "markdown",
   "metadata": {},
   "source": [
    "Some notes on the way functions work. They behave just like any other variable or type. They can be passed around, re-assigned, and executed dynamically. "
   ]
  },
  {
   "cell_type": "code",
   "execution_count": 7,
   "metadata": {
    "collapsed": false
   },
   "outputs": [
    {
     "name": "stderr",
     "output_type": "stream",
     "text": [
      "INFO: 0\n",
      "INFO: 2\n",
      "INFO: 6\n",
      "INFO: 12\n",
      "INFO: 20\n"
     ]
    }
   ],
   "source": [
    "new_foo = foo\n",
    "\n",
    "for x in range(5):\n",
    "    retuned_val = new_foo(x, x**2)\n",
    "    log.info(retuned_val)\n",
    "    "
   ]
  },
  {
   "cell_type": "markdown",
   "metadata": {},
   "source": [
    "## 5.2 Bake it function"
   ]
  },
  {
   "cell_type": "code",
   "execution_count": 8,
   "metadata": {
    "collapsed": true
   },
   "outputs": [],
   "source": [
    "def bake_it(pie, temperature=350, time=30):\n",
    "    \"bake_it function takes a pie, temperature, and time\"\n",
    "    return pie\n",
    "    \n"
   ]
  },
  {
   "cell_type": "code",
   "execution_count": 9,
   "metadata": {
    "collapsed": true
   },
   "outputs": [],
   "source": [
    "pie = \"pie\"  # we will create the real pie class in next chapter"
   ]
  },
  {
   "cell_type": "code",
   "execution_count": 10,
   "metadata": {
    "collapsed": false
   },
   "outputs": [
    {
     "data": {
      "text/plain": [
       "'pie'"
      ]
     },
     "execution_count": 10,
     "metadata": {},
     "output_type": "execute_result"
    }
   ],
   "source": [
    "bake_it(pie)"
   ]
  },
  {
   "cell_type": "markdown",
   "metadata": {},
   "source": [
    "The bake_it function does nothing. One thing that would be helpful would be that it ensures the oven is heated. Then it will be nice to bake many pies simultaneously. In the next lesson we will build some Pie objects that are smart. For now, we will pass in state and check whether  it is heated (`is_heated`)."
   ]
  },
  {
   "cell_type": "code",
   "execution_count": 11,
   "metadata": {
    "collapsed": true
   },
   "outputs": [],
   "source": [
    "from time import sleep\n",
    "import random\n",
    "import runners"
   ]
  },
  {
   "cell_type": "code",
   "execution_count": 12,
   "metadata": {
    "collapsed": false,
    "scrolled": true
   },
   "outputs": [],
   "source": [
    "\n",
    "\n",
    "def bake_it(oven_q, pie, n):\n",
    "    \"bake_it function takes a pie, tempature, and time\"\n",
    "    if oven_q.get():\n",
    "        oven_q.put(True)\n",
    "    stime = random.uniform(2.0, 3.0)\n",
    "    sleep(stime)\n",
    "    log.debug(\"now I got pie #{} in {:.4f}sec\".format(n+1, stime))\n",
    "    return pie    \n"
   ]
  },
  {
   "cell_type": "code",
   "execution_count": 13,
   "metadata": {
    "collapsed": false
   },
   "outputs": [
    {
     "name": "stderr",
     "output_type": "stream",
     "text": [
      "DEBUG: wait 10 seconds while we heat the oven...\n",
      "DEBUG: oven heated for 10 seconds\n",
      "DEBUG: now I got pie #3 in 2.1560sec\n",
      "DEBUG: now I got pie #2 in 2.2668sec\n",
      "DEBUG: now I got pie #1 in 2.6391sec\n",
      "INFO: done!\n"
     ]
    }
   ],
   "source": [
    "runners.complex_runner(bake_it, \"pie\")"
   ]
  },
  {
   "cell_type": "markdown",
   "metadata": {},
   "source": [
    "## 5.3 A brief introduction to parameters and arguments\n",
    "\n",
    "\n",
    "A *parameter* is what a function will accept. Briefly, it's everything between the parenthesis. In other words\n",
    "\n",
    "```python\n",
    "def some_fuction(parameter_1, parameter_2):\n",
    "    return None\n",
    "```    \n",
    "Think of these as shelves in a kitchen. Empty shelves. We can rename them:\n",
    "\n",
    "```python\n",
    "def put_in_cabinate(bread_drawer, flour_container):\n",
    "    return None\n",
    "```    \n",
    "\n",
    "In practice, it may work something like this:\n"
   ]
  },
  {
   "cell_type": "code",
   "execution_count": 14,
   "metadata": {
    "collapsed": true
   },
   "outputs": [],
   "source": [
    "def put_in_cabinet(bread_drawer, flour_container):\n",
    "    print(\"{} and {} cups of flour\".format(bread_drawer, flour_container))"
   ]
  },
  {
   "cell_type": "code",
   "execution_count": 15,
   "metadata": {
    "collapsed": false
   },
   "outputs": [
    {
     "name": "stdout",
     "output_type": "stream",
     "text": [
      "['1 slice white', '3 slices wheat'] and 4 cups of flour\n"
     ]
    }
   ],
   "source": [
    "put_in_cabinet(['1 slice white', '3 slices wheat'], 4)"
   ]
  },
  {
   "cell_type": "markdown",
   "metadata": {},
   "source": [
    "The first argument is a list, the second is an integer.\n",
    "You can first assign the arguments to a variable:"
   ]
  },
  {
   "cell_type": "code",
   "execution_count": 16,
   "metadata": {
    "collapsed": false
   },
   "outputs": [
    {
     "name": "stdout",
     "output_type": "stream",
     "text": [
      "['1 slice white', '3 slices wheat'] and 4 cups of flour\n"
     ]
    }
   ],
   "source": [
    "things_for_bread_drawer = ['1 slice white', '3 slices wheat']\n",
    "number_of_cups = 4\n",
    "\n",
    "put_in_cabinet(things_for_bread_drawer, number_of_cups)"
   ]
  },
  {
   "cell_type": "markdown",
   "metadata": {},
   "source": [
    "Say you always want to send four cups by default. Notice below: ```flour_container=4```"
   ]
  },
  {
   "cell_type": "code",
   "execution_count": 17,
   "metadata": {
    "collapsed": true
   },
   "outputs": [],
   "source": [
    "def put_in_cabinet2(bread_drawer, flour_container=4):\n",
    "    print(\"{} and {} cups of flour\".format(bread_drawer, flour_container))"
   ]
  },
  {
   "cell_type": "markdown",
   "metadata": {},
   "source": [
    "Then we can say"
   ]
  },
  {
   "cell_type": "code",
   "execution_count": 18,
   "metadata": {
    "collapsed": false
   },
   "outputs": [
    {
     "name": "stdout",
     "output_type": "stream",
     "text": [
      "['1 loaf', '1 slice'] and 4 cups of flour\n"
     ]
    }
   ],
   "source": [
    "put_in_cabinet2(['1 loaf', '1 slice'])"
   ]
  },
  {
   "cell_type": "markdown",
   "metadata": {},
   "source": [
    "if you want to overwrite it:"
   ]
  },
  {
   "cell_type": "code",
   "execution_count": 19,
   "metadata": {
    "collapsed": false
   },
   "outputs": [
    {
     "name": "stdout",
     "output_type": "stream",
     "text": [
      "['1 loaf', '1 slice'] and 5 cups of flour\n"
     ]
    }
   ],
   "source": [
    "put_in_cabinet2(['1 loaf', '1 slice'], flour_container=5)"
   ]
  },
  {
   "cell_type": "markdown",
   "metadata": {},
   "source": [
    "That `flour_container=4` is called *keyword argument*. For more advanced operations with these try some of this magic:"
   ]
  },
  {
   "cell_type": "code",
   "execution_count": 20,
   "metadata": {
    "collapsed": false
   },
   "outputs": [
    {
     "name": "stderr",
     "output_type": "stream",
     "text": [
      "INFO: using default key words\n",
      "INFO: using a list and dictionary\n"
     ]
    },
    {
     "name": "stdout",
     "output_type": "stream",
     "text": [
      "{'pm1': 1, 'pm3': 3, 'kw1': 1, 'kw2': 2, 'pm2': 2}\n",
      "{'pm1': 4, 'pm3': 6, 'kw1': 7, 'kw2': 8, 'pm2': 5}\n"
     ]
    }
   ],
   "source": [
    "def cool_function(pm1, pm2, pm3, kw1=1, kw2=2):\n",
    "    print(\"{}\".format(locals()))\n",
    "\n",
    "log.info(\"using default key words\")\n",
    "cool_function(1, 2, 3)\n",
    "\n",
    "log.info(\"using a list and dictionary\")\n",
    "list_args = [4, 5, 6]\n",
    "key_word_args = {\"kw1\": 7, \"kw2\": 8}\n",
    "cool_function(*list_args, **key_word_args)\n"
   ]
  },
  {
   "cell_type": "markdown",
   "metadata": {},
   "source": [
    "## 5.4 Arguments in the kitchen\n",
    "\n",
    "Now let's send some arguments to our `bake_it()` function"
   ]
  },
  {
   "cell_type": "code",
   "execution_count": 21,
   "metadata": {
    "collapsed": true
   },
   "outputs": [],
   "source": [
    "def bake_it(oven_q, pie, temperature=350, time=30, variance=2, n=1):\n",
    "    \"bake_it function takes a pie, temperature, and time\"\n",
    "    if oven_q and oven_q.get():\n",
    "        oven_q.put(True)\n",
    "    \n",
    "    cook_time = random.uniform(time-variance, time+variance)\n",
    "    sleep(cook_time)\n",
    "    log.info(\"now I got pie #{} in {}sec\".format(n+1, cook_time))\n",
    "    return pie    "
   ]
  },
  {
   "cell_type": "code",
   "execution_count": 22,
   "metadata": {
    "collapsed": false
   },
   "outputs": [
    {
     "name": "stdout",
     "output_type": "stream",
     "text": [
      "Help on function complex_runner in module runners:\n",
      "\n",
      "complex_runner(func, pies, pie_count=3, **kwargs)\n",
      "    Run pie (object or list) pie_count times.\n",
      "\n"
     ]
    }
   ],
   "source": [
    "help(runners.complex_runner)"
   ]
  },
  {
   "cell_type": "code",
   "execution_count": 23,
   "metadata": {
    "collapsed": false
   },
   "outputs": [
    {
     "name": "stderr",
     "output_type": "stream",
     "text": [
      "DEBUG: wait 10 seconds while we heat the oven...\n",
      "DEBUG: oven heated for 10 seconds\n",
      "INFO: now I got pie #5 in 1.3028066257220203sec\n",
      "INFO: now I got pie #4 in 2.783797113396862sec\n",
      "INFO: now I got pie #2 in 2.888631236793265sec\n",
      "INFO: now I got pie #1 in 4.842799268693987sec\n",
      "INFO: now I got pie #3 in 4.8589829923257sec\n",
      "INFO: done!\n"
     ]
    }
   ],
   "source": [
    "runners.complex_runner(bake_it, \"pie\", pie_count=5, time=3)"
   ]
  },
  {
   "cell_type": "code",
   "execution_count": null,
   "metadata": {
    "collapsed": true
   },
   "outputs": [],
   "source": []
  }
 ],
 "metadata": {
  "anaconda-cloud": {},
  "kernelspec": {
   "display_name": "Python [py3k]",
   "language": "python",
   "name": "Python [py3k]"
  },
  "language_info": {
   "codemirror_mode": {
    "name": "ipython",
    "version": 3
   },
   "file_extension": ".py",
   "mimetype": "text/x-python",
   "name": "python",
   "nbconvert_exporter": "python",
   "pygments_lexer": "ipython3",
   "version": "3.5.2"
  }
 },
 "nbformat": 4,
 "nbformat_minor": 0
}
