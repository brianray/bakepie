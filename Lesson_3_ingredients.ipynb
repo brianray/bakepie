{
 "cells": [
  {
   "cell_type": "markdown",
   "metadata": {},
   "source": [
    "# Ingredients: Python Base Types\n",
    "\n",
    "<img src=\"misc/3_ingredients on table.png\" width=\"100%\" />\n",
    "\n",
    "\n",
    "## 3.1 What is an ingredient? What is a type?\n",
    "In cooking, there are generally three sources of \"ingredients:\"\n",
    "\n",
    " * Things you buy from the store (imported types)\n",
    " * Things you already have in your kitchen (built-in types)\n",
    " * And things you combine to make yourself (user-defined types)\n",
    "\n",
    "In Python, it's the same.\n",
    "\n",
    " * Things you import from other internal or third party libraries/modules (imported types)\n",
    " * Things built in (built-in types)\n",
    " * And user defined classes (user-defined types)\n",
    "\n",
    "A quick example of each:"
   ]
  },
  {
   "cell_type": "code",
   "execution_count": null,
   "metadata": {
    "collapsed": false
   },
   "outputs": [],
   "source": []
  },
  {
   "cell_type": "markdown",
   "metadata": {},
   "source": [
    "### Built-in Types\n",
    "\n",
    "* numerics: int, float\n",
    "* sequences: list, tuple\n",
    "* text sequence: str\n",
    "* mapping types: dict"
   ]
  },
  {
   "cell_type": "code",
   "execution_count": null,
   "metadata": {
    "collapsed": false
   },
   "outputs": [],
   "source": []
  },
  {
   "cell_type": "markdown",
   "metadata": {},
   "source": [
    "\n",
    "## 3.2 User-defined types\n",
    "\n",
    "Just like when we combine ingredients to make a new ingredient, we will make a user defined type also known as a \"class.\"\n",
    "\n",
    "Let's talk about what is meant when someone says \"type\" and \"instance\" in Python.\n",
    "\n",
    "Let's take the example \"2 cups flour.” Think of it this way:\n",
    " * A \"cup of flour\" is a [type or class]. Think of this as an empty measuring cup that only holds flour.\n",
    " * \"2 cups flour\" is an [instance or object]. Think of this as a full measuring cup of flour. We call this \"instantiated\" \n",
    " \n",
    "Now in Python code:\n"
   ]
  },
  {
   "cell_type": "code",
   "execution_count": null,
   "metadata": {
    "collapsed": false
   },
   "outputs": [],
   "source": [
    "class CupOfFlour:\n",
    "    \"User defined type\"\n",
    "    def __init__(self, initial_size=1):\n",
    "        self.size = initial_size"
   ]
  },
  {
   "cell_type": "markdown",
   "metadata": {},
   "source": [
    "> First let's look at the class (type) `CupOfFlour`"
   ]
  },
  {
   "cell_type": "code",
   "execution_count": null,
   "metadata": {
    "collapsed": false
   },
   "outputs": [],
   "source": [
    "print(\"type of CupOfFlour is type: {}\".format(type(CupOfFlour)))"
   ]
  },
  {
   "cell_type": "markdown",
   "metadata": {},
   "source": [
    "That is because the base of user-defined type is [type]. Similar to the built-in types, list, dict, ... also base type is [type].\n",
    "\n",
    "> Now let's \"instantiate\" the `CupOfFlour`. For this we use `(` + `)`. Same way you call a function.\n"
   ]
  },
  {
   "cell_type": "code",
   "execution_count": null,
   "metadata": {
    "collapsed": false
   },
   "outputs": [],
   "source": []
  },
  {
   "cell_type": "code",
   "execution_count": null,
   "metadata": {
    "collapsed": false
   },
   "outputs": [],
   "source": [
    "print(two_cups_of_flour)\n",
    "print(\"type of two_cups_of_flour: {}\".format(type(two_cups_of_flour)))"
   ]
  },
  {
   "cell_type": "code",
   "execution_count": null,
   "metadata": {
    "collapsed": false
   },
   "outputs": [],
   "source": []
  },
  {
   "cell_type": "markdown",
   "metadata": {},
   "source": [
    "## 3.3 Storing quantities of ingredients\n",
    "\n",
    "\n",
    "When baking a pie, we do care about quantities. We need to get those out of the strings from Chapter 2 so we can use them.\n",
    "\n",
    "Using the code from below (%run is not a python command, but for this notebook), Let's run the code from the previous chapter.\n",
    "\n",
    "Think about the following:\n",
    "\n",
    " * how much: quantities\n",
    " * what: type\n",
    " * how many: collections\n",
    " \n",
    "When you bake a pie you may use a measuring cup and re-use that for several ingredients you will mix together. It could indicate that we can treat those as variations the same type.\n",
    "\n",
    "> We load the data from the previous chapter:"
   ]
  },
  {
   "cell_type": "code",
   "execution_count": null,
   "metadata": {
    "collapsed": false,
    "scrolled": true
   },
   "outputs": [],
   "source": [
    "import pickle\n",
    "recipe_as_dict = pickle.load(open(\"data.pickle\", \"rb\"))"
   ]
  },
  {
   "cell_type": "markdown",
   "metadata": {},
   "source": [
    "First, how much\n",
    "\n",
    "> we use the value of the keys to reference items in a dictionary. "
   ]
  },
  {
   "cell_type": "code",
   "execution_count": null,
   "metadata": {
    "collapsed": false,
    "scrolled": false
   },
   "outputs": [],
   "source": []
  },
  {
   "cell_type": "markdown",
   "metadata": {},
   "source": [
    "> When you \"import\" something in Python, you are making a type available to use:"
   ]
  },
  {
   "cell_type": "code",
   "execution_count": null,
   "metadata": {
    "collapsed": true
   },
   "outputs": [],
   "source": [
    "from fractions import Fraction"
   ]
  },
  {
   "cell_type": "code",
   "execution_count": null,
   "metadata": {
    "collapsed": false
   },
   "outputs": [],
   "source": []
  },
  {
   "cell_type": "code",
   "execution_count": null,
   "metadata": {
    "collapsed": false
   },
   "outputs": [],
   "source": []
  },
  {
   "cell_type": "code",
   "execution_count": null,
   "metadata": {
    "collapsed": false
   },
   "outputs": [],
   "source": []
  },
  {
   "cell_type": "markdown",
   "metadata": {},
   "source": [
    "## 3.4 What type\n",
    "\n",
    "Generally, in our recipe there are three types: Large items, Dry solids, and liquids. If we generalize those, we can consolidate some operations. We design three classes to hold our ingredients:"
   ]
  },
  {
   "cell_type": "code",
   "execution_count": null,
   "metadata": {
    "collapsed": true
   },
   "outputs": [],
   "source": [
    "class DrySolid:\n",
    "    \"class for dry solids, like sugar or flour\"\n",
    "    name = \"solid\"\n",
    "    \n",
    "class Liquid:\n",
    "    \"class for liquids, like milk or beer\"\n",
    "    name = \"liquid\"\n",
    "    \n",
    "class LargeItem:\n",
    "    \"class for items, like an egg or apple\"\n",
    "    name = \"large item\"\n"
   ]
  },
  {
   "cell_type": "markdown",
   "metadata": {},
   "source": [
    "Now we can start to read the ingredients one-by-one. For this, we will create a shopping \"list\" to store these."
   ]
  },
  {
   "cell_type": "code",
   "execution_count": null,
   "metadata": {
    "collapsed": true
   },
   "outputs": [],
   "source": [
    "shopping_list = []"
   ]
  },
  {
   "cell_type": "markdown",
   "metadata": {},
   "source": [
    "We look at each item one-by-one using **iteration**.  Iteration comes easy with Python with commands like `for` and `in`.\n",
    "\n",
    "Let's look at those ingredients one-by-one. First here is where we start (also a stored list):"
   ]
  },
  {
   "cell_type": "code",
   "execution_count": null,
   "metadata": {
    "collapsed": false
   },
   "outputs": [],
   "source": []
  },
  {
   "cell_type": "markdown",
   "metadata": {},
   "source": [
    "Write a simple loop to process the items one at a time:"
   ]
  },
  {
   "cell_type": "code",
   "execution_count": null,
   "metadata": {
    "collapsed": false
   },
   "outputs": [],
   "source": []
  },
  {
   "cell_type": "markdown",
   "metadata": {},
   "source": [
    "\n",
    "Recall we have lists with `[` and `]` square brackets. Lists are like liquid; they can be changed; they are mutable. Tuples have parentheses `(` and `)`. Tuples are \"T\"-ough. They can't change; they are immutable.\n",
    "\n",
    "We need a list that doesn't change that identifies things we can use to identify the type of an ingredients--a list of items that are solids, liquids, and large items:\n"
   ]
  },
  {
   "cell_type": "code",
   "execution_count": null,
   "metadata": {
    "collapsed": true
   },
   "outputs": [],
   "source": [
    "solids = (\"flour\", \"sugar\")\n",
    "liquids = (\"water\", \"spice\")\n",
    "large_items = (\"apples\", \"eggs\")"
   ]
  },
  {
   "cell_type": "markdown",
   "metadata": {},
   "source": [
    "We need a function to tell whether any of the keywords exist in the ingredient description:"
   ]
  },
  {
   "cell_type": "code",
   "execution_count": null,
   "metadata": {
    "collapsed": false
   },
   "outputs": [],
   "source": [
    "# check if word is found in list\n",
    "test_string = \"1/2 cup granulated sugar\"\n",
    "for x in solids:\n",
    "    if x in test_string:\n",
    "        print(\"found\")\n",
    "        break"
   ]
  },
  {
   "cell_type": "markdown",
   "metadata": {},
   "source": [
    "We convert this to a function to take the ingredient and return the answer:"
   ]
  },
  {
   "cell_type": "code",
   "execution_count": null,
   "metadata": {
    "collapsed": true
   },
   "outputs": [],
   "source": []
  },
  {
   "cell_type": "markdown",
   "metadata": {},
   "source": [
    "> Side note: Python has a nice feature called \"list comprehension\". It a shortcut for iterating over a list. For example:\n",
    "\n",
    "\n",
    "```python \n",
    "any([x for x in solids if x in test_string])\n",
    "```\n"
   ]
  },
  {
   "cell_type": "code",
   "execution_count": null,
   "metadata": {
    "collapsed": false
   },
   "outputs": [],
   "source": []
  },
  {
   "cell_type": "markdown",
   "metadata": {},
   "source": [
    "Control structures that help with logic are easy:\n",
    "\n",
    " * `if` tests whether condition is True\n",
    " * `elif` is else only if previous was if was False\n",
    " * `else` is the catch all\n",
    " * BONUS: \"raise\" tells the caller something went wrong\n",
    "\n",
    "Now we iterate over all the ingredients (like before) and add some logic to sort the items:"
   ]
  },
  {
   "cell_type": "code",
   "execution_count": null,
   "metadata": {
    "collapsed": false
   },
   "outputs": [],
   "source": [
    "for ingredient in recipe_as_dict['Parts'][0]['ingredients']:\n",
    "    if is_ingredient_in_list(solids, ingredient):\n",
    "        print(\"{} is a solid because contains {}\".format(ingredient, x))\n",
    "    elif is_ingredient_in_list(liquids, ingredient):\n",
    "        print(\"{} is a liquid because contains {}\".format(ingredient, x))\n",
    "    elif is_ingredient_in_list(large_items, ingredient):\n",
    "        print(\"{} is a large items because contains {}\".format(ingredient, x))\n",
    "    else:\n",
    "        raise Exception(\"don't know what is {}\".format(ingredient))"
   ]
  },
  {
   "cell_type": "markdown",
   "metadata": {},
   "source": [
    "> Again, we convert this to a function to make our lives easier, and also return an instance of the class:"
   ]
  },
  {
   "cell_type": "code",
   "execution_count": null,
   "metadata": {
    "collapsed": true
   },
   "outputs": [],
   "source": [
    "\n"
   ]
  },
  {
   "cell_type": "markdown",
   "metadata": {},
   "source": [
    "Test it:"
   ]
  },
  {
   "cell_type": "code",
   "execution_count": null,
   "metadata": {
    "collapsed": false
   },
   "outputs": [],
   "source": []
  },
  {
   "cell_type": "markdown",
   "metadata": {},
   "source": [
    "> Recall the `Exception`, this it what it looks like if we call something never called before:"
   ]
  },
  {
   "cell_type": "code",
   "execution_count": null,
   "metadata": {
    "collapsed": false
   },
   "outputs": [],
   "source": [
    "# return_instance(\"1 magic dragon\")"
   ]
  },
  {
   "cell_type": "markdown",
   "metadata": {},
   "source": [
    "Let's put the function in the iteration:"
   ]
  },
  {
   "cell_type": "code",
   "execution_count": null,
   "metadata": {
    "collapsed": false
   },
   "outputs": [],
   "source": [
    "shopping_list = []\n",
    "for ingredient in recipe_as_dict['Parts'][0]['ingredients']:\n",
    "    instance = return_instance(ingredient)\n",
    "    print(\"'{}' is '{}'\".format(ingredient, instance.name))\n",
    "    shopping_list.append(instance)"
   ]
  },
  {
   "cell_type": "markdown",
   "metadata": {},
   "source": [
    "> We have our shopping list. Let's take a look:"
   ]
  },
  {
   "cell_type": "code",
   "execution_count": null,
   "metadata": {
    "collapsed": false
   },
   "outputs": [],
   "source": [
    "shopping_list"
   ]
  },
  {
   "cell_type": "markdown",
   "metadata": {},
   "source": [
    "Looks funny? Yes, those classes aren't useful yet.\n",
    "\n",
    "We need to add some functionality like the following:\n",
    "\n",
    " * Parse the ingredient in parts (we will do this by creating a super class `IngredientBase`)\n",
    " * Put those quantities in the class\n",
    " * Add some useful methods for baking\n",
    "\n",
    "Let's enhance these classes:"
   ]
  },
  {
   "cell_type": "code",
   "execution_count": null,
   "metadata": {
    "collapsed": true
   },
   "outputs": [],
   "source": [
    "class IngredientBase:\n",
    "    \" Base class for common functionality \"\n",
    "    def parse_parts(self, ingredient_str):\n",
    "        parts = ingredient_str.split()\n",
    "        self.qty = parts[0]\n",
    "        self.unit = parts[1]\n",
    "        self.item = \" \".join(parts[2:])\n",
    "\n",
    "class DrySolid(IngredientBase):\n",
    "    \"class for dry solids, like sugar or flour\"\n",
    "    name = \"solid\"\n",
    "    \n",
    "class Liquid(IngredientBase):\n",
    "    \"class for liquids, like milk or beer\"\n",
    "    name = \"liquid\"\n",
    "    \n",
    "class LargeItem(IngredientBase):\n",
    "    \"class for items, like an egg or apple\"\n",
    "    name = \"large item\"\n"
   ]
  },
  {
   "cell_type": "code",
   "execution_count": null,
   "metadata": {
    "collapsed": true
   },
   "outputs": [],
   "source": [
    "def return_instance(ingredient):\n",
    "    \"given an ingredient string, return the intance\"\n",
    "    instance = None\n",
    "    if is_ingredient_in_list(solids, ingredient):\n",
    "        instance = DrySolid()\n",
    "    elif is_ingredient_in_list(liquids, ingredient):\n",
    "        instance = Liquid()\n",
    "    elif is_ingredient_in_list(large_items, ingredient):\n",
    "        instance = LargeItem()\n",
    "    else:\n",
    "        raise Exception(\"don't know what is '{}'\".format(ingredient))\n",
    "    instance.parse_parts(ingredient)  #<-- we add this here\n",
    "    return instance \n"
   ]
  },
  {
   "cell_type": "markdown",
   "metadata": {},
   "source": [
    "Let's test it:"
   ]
  },
  {
   "cell_type": "code",
   "execution_count": null,
   "metadata": {
    "collapsed": false
   },
   "outputs": [],
   "source": []
  },
  {
   "cell_type": "code",
   "execution_count": null,
   "metadata": {
    "collapsed": false
   },
   "outputs": [],
   "source": []
  },
  {
   "cell_type": "markdown",
   "metadata": {},
   "source": [
    "Some *special* method names that start with double underscore `_` and end with double underscore `_` in Python are useful:\n",
    "\n",
    " * `__init__`: it is called whenever a class instance is created (constructed)\n",
    " * `__repr__`: how to string represent the object\n",
    " * `__dict__`: a dictionary support the namespace within the class\n",
    "\n",
    "Now let's improve our classes by using these."
   ]
  },
  {
   "cell_type": "code",
   "execution_count": null,
   "metadata": {
    "collapsed": false
   },
   "outputs": [],
   "source": [
    "class IngredientBase:\n",
    "    \" Base class for common functionality \"\n",
    "        \n",
    "    def __init__(self, ingredient_str):\n",
    "        self.original_ingredient_str = ingredient_str\n",
    "        self.parse_parts(ingredient_str)\n",
    "\n",
    "    def __repr__(self):\n",
    "        return \"<Ingredient ({}): {}>\".format(self.name,\n",
    "                                              self.original_ingredient_str)\n",
    "\n",
    "    def parse_parts(self, ingredient_str):\n",
    "        parts = ingredient_str.split()\n",
    "        self.qty = parts[0]\n",
    "        self.unit = parts[1]\n",
    "        self.item = \" \".join(parts[2:])\n",
    "\n",
    "class DrySolid(IngredientBase):\n",
    "    \"class for dry solids, like sugar or flour\"\n",
    "    name = \"solid\"\n",
    "    \n",
    "class Liquid(IngredientBase):\n",
    "    \"class for liquids, like milk or beer\"\n",
    "    name = \"liquid\"\n",
    "    \n",
    "class LargeItem(IngredientBase):\n",
    "    \"class for items, like an egg or apple\"\n",
    "    name = \"large item\""
   ]
  },
  {
   "cell_type": "code",
   "execution_count": null,
   "metadata": {
    "collapsed": true
   },
   "outputs": [],
   "source": [
    "def return_instance(ingredient):\n",
    "    \"given an ingredient string, return the intance\"\n",
    "    instance = None\n",
    "    if is_ingredient_in_list(solids, ingredient):\n",
    "        instance = DrySolid(ingredient) #<-- now put it here\n",
    "    elif is_ingredient_in_list(liquids, ingredient):\n",
    "        instance = Liquid(ingredient) #<-- and here\n",
    "    elif is_ingredient_in_list(large_items, ingredient):\n",
    "        instance = LargeItem(ingredient) #<-- and here\n",
    "    else:\n",
    "        raise Exception(\"don't know what is '{}'\".format(ingredient))\n",
    "    # removed the parse call\n",
    "    return instance \n"
   ]
  },
  {
   "cell_type": "code",
   "execution_count": null,
   "metadata": {
    "collapsed": false
   },
   "outputs": [],
   "source": []
  },
  {
   "cell_type": "markdown",
   "metadata": {},
   "source": [
    "## 3.5 Putting it all together"
   ]
  },
  {
   "cell_type": "code",
   "execution_count": null,
   "metadata": {
    "collapsed": true
   },
   "outputs": [],
   "source": [
    "import fractions\n",
    "import copy\n",
    "\n",
    "solids = (\"flour\", \"sugar\", \"salt\", \"shortening\")\n",
    "liquids = (\"water\", \"spice\")\n",
    "large_items = (\"apples\", \"eggs\")\n",
    "\n",
    "\n",
    "class IngredientBase:\n",
    "    \" Base class for common functionality \"\n",
    "    \n",
    "    target = ()\n",
    "        \n",
    "    def __init__(self, ingredient_str):\n",
    "        self.original_ingredient_str = ingredient_str\n",
    "        self.parse_parts(ingredient_str)\n",
    "        self.normalize_qty()\n",
    "        \n",
    "    def __repr__(self):\n",
    "        return \"<Ingredient ({}): {} - {} {}>\".format(self.name,\n",
    "                                                     self.item,\n",
    "                                                     self.qty,\n",
    "                                                     self.unit)\n",
    "        \n",
    "    def parse_parts(self, ingredient_str):\n",
    "        parts = ingredient_str.split()\n",
    "        self.qty = parts[0]\n",
    "        self.qty_max = 0\n",
    "        self.unit = parts[1]\n",
    "        self.item = \" \".join(parts[2:])\n",
    "        if self.unit == \"to\" or \"-\" in self.qty: # means a range was enetered\n",
    "            if \"-\" in self.qty:\n",
    "                minsize, maxsize = self.qty.split(\"-\")\n",
    "                self.qty = minsize\n",
    "                self.qty_max = maxsize\n",
    "            else:  # to\n",
    "                self.qty = parts[0]\n",
    "                self.qty_max = parts[2]\n",
    "                self.unit = parts[3]\n",
    "                self.item = \" \".join(parts[4:])\n",
    "    \n",
    "    def does_match_target(self, subject_str):\n",
    "        \"\"\" Checks if any of the strings in self.target exitst in subject_str\n",
    "            returns: True or False\n",
    "        \"\"\"\n",
    "        for item in self.target:\n",
    "            if item.lower() in subject_str.lower():\n",
    "                return True\n",
    "        return False\n",
    "\n",
    "    def normalize_qty(self):\n",
    "        self.qty = fractions.Fraction(self.qty)\n",
    "    \n",
    "    def copy(self):\n",
    "        return copy.copy(self)\n",
    "    \n",
    "    def empty(self):\n",
    "        to_empty = self.copy()\n",
    "        to_empty.qty = fractions.Fraction(0)\n",
    "        return to_empty\n",
    "\n",
    "class DrySolid(IngredientBase):\n",
    "    \"class for dry solids, like sugar or flour\"\n",
    "    name = \"solid\"\n",
    "    target = solids\n",
    "    \n",
    "class Liquid(IngredientBase):\n",
    "    \"class for liquids, like milk or beer\"\n",
    "    name = \"liquid\"\n",
    "    target = liquids\n",
    "    \n",
    "class LargeItem(IngredientBase):\n",
    "    \"class for items, like an egg or apple\"\n",
    "    name = \"large item\"\n",
    "    target = large_items\n",
    "\n",
    "    def parse_parts(self, ingredient_str):\n",
    "        parts = ingredient_str.split()\n",
    "        self.qty = parts[0]\n",
    "        self.qty_max = 0\n",
    "        self.unit = \"item\"\n",
    "        self.item = \" \".join(parts[1:])\n",
    "        if self.unit == \"to\" or \"-\" in self.qty: # means a range was enetered\n",
    "            if \"-\" in self.qty:\n",
    "                minsize, maxsize = self.qty.split(\"-\")\n",
    "                self.qty = minsize\n",
    "                self.qty_max = maxsize\n",
    "            else:  # to\n",
    "                self.qty = parts[0]\n",
    "                self.qty_max = parts[2]\n",
    "                self.unit = \"item\"\n",
    "                self.item = \" \".join(parts[3:])                \n",
    "\n",
    "    \n",
    "def return_instance(ingredient):\n",
    "    \"given an ingredient string, return the intance\"\n",
    "    instance = None\n",
    "    if is_ingredient_in_list(solids, ingredient):\n",
    "        instance = DrySolid(ingredient) #<-- now put it here\n",
    "    elif is_ingredient_in_list(liquids, ingredient):\n",
    "        instance = Liquid(ingredient) #<-- and here\n",
    "    elif is_ingredient_in_list(large_items, ingredient):\n",
    "        instance = LargeItem(ingredient) #<-- and here\n",
    "    else:\n",
    "        raise Exception(\"don't know what is '{}'\".format(ingredient))\n",
    "    # removed the parse call\n",
    "    return instance \n",
    "\n",
    "def is_ingredient_in_list(the_list, ingredient_string):\n",
    "    \"if any item \"\n",
    "    for list_item in the_list:\n",
    "        if list_item in ingredient_string:\n",
    "            return True\n",
    "    return False"
   ]
  },
  {
   "cell_type": "code",
   "execution_count": null,
   "metadata": {
    "collapsed": false
   },
   "outputs": [],
   "source": [
    "%save -f output _i"
   ]
  },
  {
   "cell_type": "code",
   "execution_count": null,
   "metadata": {
    "collapsed": false
   },
   "outputs": [],
   "source": [
    "# Build a complete shopping list\n",
    "shopping_list = []\n",
    "for part in recipe_as_dict['Parts']:\n",
    "    for ingredient in part['ingredients']:\n",
    "        instance = return_instance(ingredient)\n",
    "        shopping_list.append(instance)\n",
    "        "
   ]
  },
  {
   "cell_type": "code",
   "execution_count": null,
   "metadata": {
    "collapsed": false
   },
   "outputs": [],
   "source": [
    "from pprint import pprint\n",
    "\n",
    "for item in shopping_list:\n",
    "    print(item)\n",
    "    pprint(item.__dict__)"
   ]
  },
  {
   "cell_type": "code",
   "execution_count": null,
   "metadata": {
    "collapsed": true
   },
   "outputs": [],
   "source": [
    "import pickle\n",
    "pickle.dump(shopping_list, open(\"shopping_list.pickle\", \"wb\"))"
   ]
  }
 ],
 "metadata": {
  "anaconda-cloud": {},
  "kernelspec": {
   "display_name": "Python [py3k]",
   "language": "python",
   "name": "Python [py3k]"
  },
  "language_info": {
   "codemirror_mode": {
    "name": "ipython",
    "version": 3
   },
   "file_extension": ".py",
   "mimetype": "text/x-python",
   "name": "python",
   "nbconvert_exporter": "python",
   "pygments_lexer": "ipython3",
   "version": "3.5.2"
  }
 },
 "nbformat": 4,
 "nbformat_minor": 0
}
