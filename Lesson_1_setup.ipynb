{
 "cells": [
  {
   "cell_type": "markdown",
   "metadata": {},
   "source": [
    "# *Python from Scratch LiveLessons*\n",
    "\n",
    "## Lesson 1: Setup\n",
    "\n",
    "### Welcome to the \"Python as Easy as Pie\" *cooking* class video series.\n",
    "\n",
    "<img src=\"misc/pie_cover.png\" width=\"80%\" />\n",
    "\n"
   ]
  },
  {
   "cell_type": "markdown",
   "metadata": {},
   "source": [
    "## 1.1 Installation\n",
    "\n",
    "Steps to install:\n",
    "\n",
    "1. Download and install Python 3 -> http://bit.ly/PyScratchInstall.\n",
    "2. Download the notebooks and move them to Home, Documents, or Desktop -> http://bit.ly/PyScratch.\n",
    "3. Unzip the file and rename the directory `bakepie`.\n",
    "3. (Mac OS) Click spotlight, and type **`terminal`** to open a terminal window.\n",
    "   (Windows) Start, Run, **`cmd`**.\n",
    "4. Enter the directory `cd /some/path/to/pakepie`.\n",
    "5. Type **`jupyter notebook`**. \n",
    "\n",
    "Type **`jupyter notebook`** to launch the Jupyter Notebook app (it will appear in a new browser window or tab)."
   ]
  },
  {
   "cell_type": "markdown",
   "metadata": {},
   "source": [
    "## 1.2 This is a Jupyter notebook\n",
    "\n",
    "Notebooks are a collection of horizontally alligned *cells*. They can be notes like this one. They can be Python code. Or between each of them can be output from the Python command.\n",
    "\n",
    "The cells with `IN [ ]:` enable Python commands. The previous commands *remember* each other. In other words, if we declare a variable (a named placeholder for data) in one cell, it carries over to the next. I will show you a carryover example below. \n",
    "\n",
    "The cells with  `OUT[ ]:` show the result of the previous command, a printout of the last item. If the `print()` command is used, it will print below that cell at any point."
   ]
  },
  {
   "cell_type": "code",
   "execution_count": 1,
   "metadata": {
    "collapsed": false
   },
   "outputs": [
    {
     "data": {
      "text/plain": [
       "2"
      ]
     },
     "execution_count": 1,
     "metadata": {},
     "output_type": "execute_result"
    }
   ],
   "source": [
    "1 + 1"
   ]
  },
  {
   "cell_type": "code",
   "execution_count": 2,
   "metadata": {
    "collapsed": false
   },
   "outputs": [
    {
     "name": "stdout",
     "output_type": "stream",
     "text": [
      "3\n"
     ]
    }
   ],
   "source": [
    "print(3)"
   ]
  },
  {
   "cell_type": "markdown",
   "metadata": {},
   "source": [
    "Example of a variable carring over to next cell:"
   ]
  },
  {
   "cell_type": "code",
   "execution_count": 3,
   "metadata": {
    "collapsed": true
   },
   "outputs": [],
   "source": [
    "variable_example = 1"
   ]
  },
  {
   "cell_type": "code",
   "execution_count": 4,
   "metadata": {
    "collapsed": false
   },
   "outputs": [
    {
     "data": {
      "text/plain": [
       "1"
      ]
     },
     "execution_count": 4,
     "metadata": {},
     "output_type": "execute_result"
    }
   ],
   "source": [
    "variable_example"
   ]
  },
  {
   "cell_type": "markdown",
   "metadata": {},
   "source": [
    "## 1.3 Complete Pie Factory\n",
    "\n",
    "In the following lessons we will be creating all the code required to build this interactive Pie Factory:"
   ]
  },
  {
   "cell_type": "code",
   "execution_count": 8,
   "metadata": {
    "collapsed": true
   },
   "outputs": [],
   "source": [
    "import complete_pie"
   ]
  },
  {
   "cell_type": "code",
   "execution_count": 9,
   "metadata": {
    "collapsed": false
   },
   "outputs": [],
   "source": [
    "process = complete_pie.run_detached()"
   ]
  },
  {
   "cell_type": "code",
   "execution_count": 10,
   "metadata": {
    "collapsed": false
   },
   "outputs": [
    {
     "data": {
      "text/html": [
       "<iframe id=\"jupy\" scrolling=\"no\" style=\"border:none;\"\n",
       "                    seamless=\"seamless\"\n",
       "                    src=\"http://127.0.0.1:5000/\"\n",
       "                    height=\"525\" width=\"100%\">\n",
       "                    </iframe>"
      ],
      "text/plain": [
       "<complete_pie.JupyDisplay object>"
      ]
     },
     "execution_count": 10,
     "metadata": {},
     "output_type": "execute_result"
    }
   ],
   "source": [
    "complete_pie.JupyDisplay(url=\"http://127.0.0.1:5000/\")"
   ]
  },
  {
   "cell_type": "code",
   "execution_count": 8,
   "metadata": {
    "collapsed": true
   },
   "outputs": [],
   "source": [
    "import datetime"
   ]
  },
  {
   "cell_type": "code",
   "execution_count": 9,
   "metadata": {
    "collapsed": false
   },
   "outputs": [
    {
     "data": {
      "text/plain": [
       "datetime.datetime(2017, 2, 7, 15, 57, 51, 650201)"
      ]
     },
     "execution_count": 9,
     "metadata": {},
     "output_type": "execute_result"
    }
   ],
   "source": [
    "datetime.datetime.now()\n"
   ]
  },
  {
   "cell_type": "code",
   "execution_count": null,
   "metadata": {
    "collapsed": true
   },
   "outputs": [],
   "source": []
  }
 ],
 "metadata": {
  "anaconda-cloud": {},
  "kernelspec": {
   "display_name": "Python [conda env:py3k]",
   "language": "python",
   "name": "conda-env-py3k-py"
  },
  "language_info": {
   "codemirror_mode": {
    "name": "ipython",
    "version": 3
   },
   "file_extension": ".py",
   "mimetype": "text/x-python",
   "name": "python",
   "nbconvert_exporter": "python",
   "pygments_lexer": "ipython3",
   "version": "3.5.2"
  }
 },
 "nbformat": 4,
 "nbformat_minor": 0
}
