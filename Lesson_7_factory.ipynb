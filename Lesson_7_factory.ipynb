{
 "cells": [
  {
   "cell_type": "markdown",
   "metadata": {},
   "source": [
    "# *Python from Scratch LiveLessons*\n",  
    "## Lesson 7: Pie Factory&#8212;Object-Oriented Python\n",
    "<img src=\"misc/pie_cover_variation_.png\" width=\"60%\"  />\n",
    "\n",
    "API is short for Application Programming Intersface. This is how we make it so one program talks to another. We will conduct the following steps:\n",
    "\n",
    "1. Read the API documentation for our *Factory Conveyor Belt* we will use (already exists).\n",
    "1. Create callbacks.\n",
    "1. Create a Mock Browser (simulation) to handle running our Factory. \n",
    "1. Run our Mock Browser.\n",
    "\n",
    "In Lesson, 8 we will finalize our whole program by hooking up our code to the the actual web browser. By using this Mock Server we will write ???, and by breaking this up into smaller parts we simplify the approach.  "
   ]
  },
  {
   "cell_type": "code",
   "execution_count": 1,
   "metadata": {
    "collapsed": false
   },
   "outputs": [],
   "source": [
    "import jupy"
   ]
  },
  {
   "cell_type": "code",
   "execution_count": 2,
   "metadata": {
    "collapsed": true
   },
   "outputs": [],
   "source": [
    "import complete_pie"
   ]
  },
  {
   "cell_type": "markdown",
   "metadata": {},
   "source": [
    "### Read the API documentation for our Factory Conveyor Belt we will use (already exists)."
   ]
  },
  {
   "cell_type": "code",
   "execution_count": 3,
   "metadata": {
    "collapsed": false
   },
   "outputs": [
    {
     "name": "stdout",
     "output_type": "stream",
     "text": [
      "Help on class FactoryConveyorBelt in module complete_pie:\n",
      "\n",
      "class FactoryConveyorBelt(builtins.object)\n",
      " |  Handles holding state for pies and adding callbacks to handle operations\n",
      " |  \n",
      " |  Methods defined here:\n",
      " |  \n",
      " |  __init__(self)\n",
      " |      Initialize self.  See help(type(self)) for accurate signature.\n",
      " |  \n",
      " |  add_callback(self, method, func)\n",
      " |      add a callback function for given 'method'\n",
      " |  \n",
      " |  add_pie(self, pie)\n",
      " |      add a single pie to the FactoryConveyorBelt\n",
      " |  \n",
      " |  add_pie_order(self, pie, qty)\n",
      " |      add a bunch of pies to FactoryConveyorBelt\n",
      " |  \n",
      " |  fill_pantry(self, pies, times=5)\n",
      " |      Given a list of 'pies', duplicate items times 'times', adds to self.inventory\n",
      " |  \n",
      " |  get_totals(self)\n",
      " |      shows totals a s pretty ascii-format table\n",
      " |  \n",
      " |  key_item_for_inventory(self)\n",
      " |      give current inventory as `dict`\n",
      " |  \n",
      " |  run_belt(self)\n",
      " |      run the FactoryConveyorBelt in production\n",
      " |  \n",
      " |  run_belt_test(self)\n",
      " |      simulate running the FactoryConveyorBelt\n",
      " |  \n",
      " |  ----------------------------------------------------------------------\n",
      " |  Static methods defined here:\n",
      " |  \n",
      " |  humanize(frac)\n",
      " |      conert a fraction to wholes and fractions when approriate\n",
      " |  \n",
      " |  pretty_display_ingredients(ingredients)\n",
      " |      given 'ingredients' display as pretty table\n",
      " |  \n",
      " |  truncate(input, length=25)\n",
      " |      just add '...' after truncating a string at 'length'\n",
      " |  \n",
      " |  ----------------------------------------------------------------------\n",
      " |  Data descriptors defined here:\n",
      " |  \n",
      " |  __dict__\n",
      " |      dictionary for instance variables (if defined)\n",
      " |  \n",
      " |  __weakref__\n",
      " |      list of weak references to the object (if defined)\n",
      "\n"
     ]
    }
   ],
   "source": [
    "help(complete_pie.FactoryConveyorBelt)"
   ]
  },
  {
   "cell_type": "markdown",
   "metadata": {},
   "source": [
    "Below is our design of basic flow:\n",
    "\n",
    "<img src=\"misc/workflow_2.png\" width=\"60%\"  />\n",
    "\n",
    "\n",
    "The callbacks are functions that carry out the task at hand for each operation. The FactoryConveyorBelt holds the data. So we create an instance of FactoryConveryorBelt first:\n",
    "\n"
   ]
  },
  {
   "cell_type": "code",
   "execution_count": 4,
   "metadata": {
    "collapsed": true
   },
   "outputs": [],
   "source": [
    "from complete_pie import FactoryConveyorBelt, ApplePie\n",
    "belt = FactoryConveyorBelt()"
   ]
  },
  {
   "cell_type": "markdown",
   "metadata": {},
   "source": [
    "Next we create a Pie and add it to the belt:"
   ]
  },
  {
   "cell_type": "code",
   "execution_count": 5,
   "metadata": {
    "collapsed": false
   },
   "outputs": [
    {
     "name": "stderr",
     "output_type": "stream",
     "text": [
      "DEBUG: restock\n"
     ]
    },
    {
     "name": "stdout",
     "output_type": "stream",
     "text": [
      "+------------------------------+------------------------------+------------------------------+\n",
      "|            solid             |          large item          |            liquid            |\n",
      "+------------------------------+------------------------------+------------------------------+\n",
      "|     22 1/2 cup of flour      | 30  item of Granny Smith ... | 10  tsp of apple pie spic... |\n",
      "|    5  cup of brown sugar     |                              |    2 1/2 cup of ice water    |\n",
      "|       10  tsp of salt        |                              |                              |\n",
      "| 5  cup of granulated suga... |                              |                              |\n",
      "| 7 1/2 cup of solid shorte... |                              |                              |\n",
      "+------------------------------+------------------------------+------------------------------+\n"
     ]
    }
   ],
   "source": [
    "pie = ApplePie(name=\"Example Apple Pie\", recipe_path=\"misc/ApplePie.txt\")\n",
    "pie.process_recipe()\n",
    "belt.fill_pantry(pie, times=10)\n",
    "print(belt.get_totals())"
   ]
  },
  {
   "cell_type": "code",
   "execution_count": 6,
   "metadata": {
    "collapsed": false
   },
   "outputs": [],
   "source": [
    "belt.add_pie_order(pie, 3)"
   ]
  },
  {
   "cell_type": "code",
   "execution_count": 7,
   "metadata": {
    "collapsed": false
   },
   "outputs": [
    {
     "name": "stdout",
     "output_type": "stream",
     "text": [
      "+------------------------------+------------------------------+------------------------------+\n",
      "|            solid             |          large item          |            liquid            |\n",
      "+------------------------------+------------------------------+------------------------------+\n",
      "|     20 1/4 cup of flour      | 27  item of Granny Smith ... | 9  tsp of apple pie spice... |\n",
      "|   4 1/2 cup of brown sugar   |                              |    2 1/4 cup of ice water    |\n",
      "|        9  tsp of salt        |                              |                              |\n",
      "| 4 1/2 cup of granulated s... |                              |                              |\n",
      "| 6 3/4 cup of solid shorte... |                              |                              |\n",
      "+------------------------------+------------------------------+------------------------------+\n"
     ]
    }
   ],
   "source": [
    "print(belt.get_totals())"
   ]
  },
  {
   "cell_type": "markdown",
   "metadata": {},
   "source": [
    "The belt knows about certain methods:"
   ]
  },
  {
   "cell_type": "code",
   "execution_count": 8,
   "metadata": {
    "collapsed": false
   },
   "outputs": [
    {
     "data": {
      "text/plain": [
       "('bake', 'reload', 'oven', 'restock')"
      ]
     },
     "execution_count": 8,
     "metadata": {},
     "output_type": "execute_result"
    }
   ],
   "source": [
    "belt.known_callback_methods"
   ]
  },
  {
   "cell_type": "markdown",
   "metadata": {},
   "source": [
    "We can add a simple callback `echo()` to all of theses. Please note that all callbacks take the `callback_app` and `message` as arguments:"
   ]
  },
  {
   "cell_type": "code",
   "execution_count": 9,
   "metadata": {
    "collapsed": true
   },
   "outputs": [],
   "source": [
    "def echo_callback(callback_app, message):\n",
    "    callback_app.logger.info(\"echo {}\".format(message))\n",
    "\n",
    "for method in belt.known_callback_methods:\n",
    "    belt.add_callback(method, echo_callback)"
   ]
  },
  {
   "cell_type": "markdown",
   "metadata": {},
   "source": [
    "Already created for you is the Mock Browser:"
   ]
  },
  {
   "cell_type": "code",
   "execution_count": 10,
   "metadata": {
    "collapsed": true
   },
   "outputs": [],
   "source": [
    "# %load mock_browser.py\n",
    "\n",
    "from datetime import datetime\n",
    "import random\n",
    "from pie_logger import get_logger\n",
    "log = get_logger()\n",
    "\n",
    "\n",
    "#  socket.emit('callback', {action: 'oven', unique_pie_id: pie.unique_pie_id, heat_time: game.time.now})\n",
    "#  socket.emit('callback', {action: 'bake', baketype: 'apple'});\n",
    "#  socket.emit('callback', {action: 'bake', baketype: 'cherry'});\n",
    "#  socket.emit('callback', {action: 'bake', baketype: 'raseberry'});\n",
    "#  socket.emit('callback', {action: 'restock'});\n",
    "\n",
    "\n",
    "class MockApp:\n",
    "    def __init__(self, belt):\n",
    "        self.logger = log\n",
    "        self.belt = belt\n",
    "\n",
    "\n",
    "def get_random_pie():\n",
    "    return random.choice([\"apple\", \"cherry\", \"raseberry\"])\n",
    "\n",
    "\n",
    "def simulate(belt, count, delay=5):\n",
    "\n",
    "    callback_app = MockApp(belt)\n",
    "\n",
    "    for callback in belt.callbacks.get(\"restock\", []):\n",
    "        callback(callback_app, {})\n",
    "\n",
    "    for n in range(count):\n",
    "        log.debug(\"testing bake callback\")\n",
    "        for callback in belt.callbacks.get('bake', []):\n",
    "            bake_out = callback(callback_app, dict(baketype=get_random_pie()))\n",
    "            if bake_out:\n",
    "                for callback in belt.callbacks.get('oven', []):\n",
    "                    callback(callback_app, dict(\n",
    "                        unique_pie_id=bake_out.get('unique_pie_id'),\n",
    "                        heat_time=4))\n",
    "    log.debug(\"\\n\"+belt.get_totals())\n"
   ]
  },
  {
   "cell_type": "code",
   "execution_count": 11,
   "metadata": {
    "collapsed": false
   },
   "outputs": [
    {
     "name": "stderr",
     "output_type": "stream",
     "text": [
      "INFO: echo {}\n",
      "DEBUG: testing bake callback\n",
      "INFO: echo {'baketype': 'raseberry'}\n",
      "DEBUG: testing bake callback\n",
      "INFO: echo {'baketype': 'apple'}\n",
      "DEBUG: testing bake callback\n",
      "INFO: echo {'baketype': 'apple'}\n",
      "DEBUG: testing bake callback\n",
      "INFO: echo {'baketype': 'raseberry'}\n",
      "DEBUG: testing bake callback\n",
      "INFO: echo {'baketype': 'apple'}\n",
      "DEBUG: \n",
      "+------------------------------+------------------------------+------------------------------+\n",
      "|            solid             |          large item          |            liquid            |\n",
      "+------------------------------+------------------------------+------------------------------+\n",
      "|     20 1/4 cup of flour      | 27  item of Granny Smith ... | 9  tsp of apple pie spice... |\n",
      "|   4 1/2 cup of brown sugar   |                              |    2 1/4 cup of ice water    |\n",
      "|        9  tsp of salt        |                              |                              |\n",
      "| 4 1/2 cup of granulated s... |                              |                              |\n",
      "| 6 3/4 cup of solid shorte... |                              |                              |\n",
      "+------------------------------+------------------------------+------------------------------+\n"
     ]
    }
   ],
   "source": [
    "simulate(belt, 5)"
   ]
  },
  {
   "cell_type": "markdown",
   "metadata": {},
   "source": [
    "Now we add the callbacks `bake_callback()` and `oven_callback()`:"
   ]
  },
  {
   "cell_type": "code",
   "execution_count": 12,
   "metadata": {
    "collapsed": true
   },
   "outputs": [],
   "source": [
    "from complete_pie import RaseberryPie, CherryPie\n",
    "\n",
    "names = [\"Bob\", \"Sue\", \"Pap\", \"Karen\", \"Brian\", \"Greg\"]\n",
    "\n",
    "def bake_callback(callback_app, message):\n",
    "    callback_app.logger.info(\"bake callback\")\n",
    "    baketype = message['baketype']\n",
    "    if baketype == 'apple':\n",
    "        pie_type = ApplePie\n",
    "    elif baketype == 'cherry':\n",
    "        pie_type = CherryPie\n",
    "    elif baketype == 'raseberry':\n",
    "        pie_type = RaseberryPie\n",
    "    else:\n",
    "        raise Exception(\"unknown bake type {}\".format(message['baketype']))\n",
    "    pie = pie_type(name=\"{}'s {} Pie\".format(random.choice(names), baketype.title()),\n",
    "                   recipe_path=\"misc/ApplePie.txt\")\n",
    "    pie.process_recipe()\n",
    "    try:\n",
    "        callback_app.belt.add_pie(pie)\n",
    "    except Exception as e:\n",
    "        return dict(error=str(e))\n",
    "\n",
    "    totals = callback_app.belt.get_totals()\n",
    "    return dict(image_key=pie.image_key,\n",
    "                totals=totals,\n",
    "                name=pie.name,\n",
    "                unique_pie_id=pie.unique_pie_id)\n",
    "\n",
    "belt.add_callback(\"bake\", bake_callback)\n",
    "\n",
    "def oven_callback(callback_app, message):\n",
    "    callback_app.logger.info(\"message {}\".format(message))\n",
    "    pie = callback_app.belt.pies[message['unique_pie_id']]\n",
    "    total_time = message['heat_time'] + callback_app.belt.oven_heat_time\n",
    "    totals = callback_app.belt.get_totals()\n",
    "    return dict(image_key=pie.image_key,\n",
    "                totals=totals,\n",
    "                oven_msg=\"Oven Heating\",\n",
    "                name=pie.name,\n",
    "                bake_time=pie.bake_time,\n",
    "                total_time=total_time,\n",
    "                unique_pie_id=pie.unique_pie_id)\n",
    "\n",
    "belt.add_callback(\"oven\", oven_callback)"
   ]
  },
  {
   "cell_type": "code",
   "execution_count": 13,
   "metadata": {
    "collapsed": false
   },
   "outputs": [
    {
     "name": "stderr",
     "output_type": "stream",
     "text": [
      "INFO: echo {}\n",
      "DEBUG: testing bake callback\n",
      "INFO: echo {'baketype': 'cherry'}\n",
      "INFO: bake callback\n",
      "INFO: echo {'heat_time': 4, 'unique_pie_id': 'db84e8c0-9e5a-4810-9382-9da7c0b1a86e'}\n",
      "INFO: message {'heat_time': 4, 'unique_pie_id': 'db84e8c0-9e5a-4810-9382-9da7c0b1a86e'}\n",
      "DEBUG: testing bake callback\n",
      "INFO: echo {'baketype': 'cherry'}\n",
      "INFO: bake callback\n",
      "INFO: echo {'heat_time': 4, 'unique_pie_id': 'b1c49330-5427-444c-b7b1-e801b6bf33b6'}\n",
      "INFO: message {'heat_time': 4, 'unique_pie_id': 'b1c49330-5427-444c-b7b1-e801b6bf33b6'}\n",
      "DEBUG: testing bake callback\n",
      "INFO: echo {'baketype': 'raseberry'}\n",
      "INFO: bake callback\n",
      "INFO: echo {'heat_time': 4, 'unique_pie_id': '89dd8b77-493b-4e18-9f30-ded81f5b046a'}\n",
      "INFO: message {'heat_time': 4, 'unique_pie_id': '89dd8b77-493b-4e18-9f30-ded81f5b046a'}\n",
      "DEBUG: testing bake callback\n",
      "INFO: echo {'baketype': 'cherry'}\n",
      "INFO: bake callback\n",
      "INFO: echo {'heat_time': 4, 'unique_pie_id': '7bfde371-e240-4cbf-9d08-e887cca2f143'}\n",
      "INFO: message {'heat_time': 4, 'unique_pie_id': '7bfde371-e240-4cbf-9d08-e887cca2f143'}\n",
      "DEBUG: testing bake callback\n",
      "INFO: echo {'baketype': 'apple'}\n",
      "INFO: bake callback\n",
      "INFO: echo {'heat_time': 4, 'unique_pie_id': 'd12f5ff0-d5ca-4603-9005-3da0c4df56f2'}\n",
      "INFO: message {'heat_time': 4, 'unique_pie_id': 'd12f5ff0-d5ca-4603-9005-3da0c4df56f2'}\n",
      "DEBUG: \n",
      "+------------------------------+------------------------------+------------------------------+\n",
      "|            solid             |          large item          |            liquid            |\n",
      "+------------------------------+------------------------------+------------------------------+\n",
      "|       9  cup of flour        | 12  item of Granny Smith ... | 4  tsp of apple pie spice... |\n",
      "|    2  cup of brown sugar     |                              |      1/1 cup of ice water    |\n",
      "|        4  tsp of salt        |                              |                              |\n",
      "| 2  cup of granulated suga... |                              |                              |\n",
      "| 3  cup of solid shortenin... |                              |                              |\n",
      "+------------------------------+------------------------------+------------------------------+\n"
     ]
    }
   ],
   "source": [
    "simulate(belt, 5)"
   ]
  },
  {
   "cell_type": "code",
   "execution_count": null,
   "metadata": {
    "collapsed": true
   },
   "outputs": [],
   "source": []
  }
 ],
 "metadata": {
  "anaconda-cloud": {},
  "kernelspec": {
   "display_name": "Python [conda env:py3k]",
   "language": "python",
   "name": "conda-env-py3k-py"
  },
  "language_info": {
   "codemirror_mode": {
    "name": "ipython",
    "version": 3
   },
   "file_extension": ".py",
   "mimetype": "text/x-python",
   "name": "python",
   "nbconvert_exporter": "python",
   "pygments_lexer": "ipython3",
   "version": "3.5.2"
  }
 },
 "nbformat": 4,
 "nbformat_minor": 0
}
