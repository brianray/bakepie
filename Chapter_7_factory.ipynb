{
 "cells": [
  {
   "cell_type": "markdown",
   "metadata": {},
   "source": [
    "\n",
    "<img src=\"misc/7_a cut-away view.png\" width=\"60%\"  />\n",
    "\n",
    "\n"
   ]
  },
  {
   "cell_type": "code",
   "execution_count": 1,
   "metadata": {
    "collapsed": false
   },
   "outputs": [],
   "source": [
    "import jupy"
   ]
  },
  {
   "cell_type": "code",
   "execution_count": 2,
   "metadata": {
    "collapsed": false
   },
   "outputs": [
    {
     "data": {
      "text/html": [
       "<iframe id=\"jupy\" scrolling=\"no\" style=\"border:none;\"\n",
       "                    seamless=\"seamless\"\n",
       "                    src=\"http://127.0.0.1:5000\"\n",
       "                    height=\"525\" width=\"100%\">\n",
       "                    </iframe>"
      ],
      "text/plain": [
       "<jupy.embed.JupyDisplay object>"
      ]
     },
     "execution_count": 2,
     "metadata": {},
     "output_type": "execute_result"
    }
   ],
   "source": [
    "jupy.JupyDisplay(url=\"http://127.0.0.1:5000\")"
   ]
  },
  {
   "cell_type": "code",
   "execution_count": null,
   "metadata": {
    "collapsed": false
   },
   "outputs": [
    {
     "name": "stderr",
     "output_type": "stream",
     "text": [
      "root dir: /Users/brray/bakepie/jupy/static\n",
      "/Users/brray/anaconda2/anaconda/envs/py3k/lib/python3.5/site-packages/gevent/monkey.py:395: RuntimeWarning: Monkey-patching not on the main thread; threading.main_thread().join() will hang from a greenlet\n",
      "  _warnings)\n",
      " * Restarting with stat\n",
      "--- Logging error ---\n"
     ]
    },
    {
     "name": "stdout",
     "output_type": "stream",
     "text": [
      "starting app\n"
     ]
    },
    {
     "name": "stderr",
     "output_type": "stream",
     "text": [
      "Traceback (most recent call last):\n",
      "  File \"/Users/brray/anaconda2/anaconda/envs/py3k/lib/python3.5/logging/__init__.py\", line 984, in emit\n",
      "    self.flush()\n",
      "  File \"/Users/brray/anaconda2/anaconda/envs/py3k/lib/python3.5/logging/__init__.py\", line 964, in flush\n",
      "    self.stream.flush()\n",
      "  File \"/Users/brray/anaconda2/anaconda/envs/py3k/lib/python3.5/site-packages/ipykernel/iostream.py\", line 269, in flush\n",
      "    evt.wait()\n",
      "  File \"/Users/brray/anaconda2/anaconda/envs/py3k/lib/python3.5/threading.py\", line 549, in wait\n",
      "    signaled = self._cond.wait(timeout)\n",
      "  File \"/Users/brray/anaconda2/anaconda/envs/py3k/lib/python3.5/threading.py\", line 293, in wait\n",
      "    waiter.acquire()\n",
      "  File \"/Users/brray/anaconda2/anaconda/envs/py3k/lib/python3.5/site-packages/gevent/thread.py\", line 74, in acquire\n",
      "    return BoundedSemaphore.acquire(self, blocking, timeout)\n",
      "  File \"gevent/_semaphore.py\", line 198, in gevent._semaphore.Semaphore.acquire (gevent/gevent._semaphore.c:4117)\n",
      "  File \"gevent/_semaphore.py\", line 226, in gevent._semaphore.Semaphore.acquire (gevent/gevent._semaphore.c:3944)\n",
      "  File \"gevent/_semaphore.py\", line 166, in gevent._semaphore.Semaphore._do_wait (gevent/gevent._semaphore.c:3178)\n",
      "  File \"/Users/brray/anaconda2/anaconda/envs/py3k/lib/python3.5/site-packages/gevent/hub.py\", line 609, in switch\n",
      "    return greenlet.switch(self)\n",
      "gevent.hub.LoopExit: ('This operation would block forever', <Hub at 0x10758e800 select default pending=0 ref=0>)\n",
      "Call stack:\n",
      "  File \"/Users/brray/anaconda2/anaconda/envs/py3k/lib/python3.5/runpy.py\", line 184, in _run_module_as_main\n",
      "    \"__main__\", mod_spec)\n",
      "  File \"/Users/brray/anaconda2/anaconda/envs/py3k/lib/python3.5/runpy.py\", line 85, in _run_code\n",
      "    exec(code, run_globals)\n",
      "  File \"/Users/brray/anaconda2/anaconda/envs/py3k/lib/python3.5/site-packages/ipykernel/__main__.py\", line 3, in <module>\n",
      "    app.launch_new_instance()\n",
      "  File \"/Users/brray/anaconda2/anaconda/envs/py3k/lib/python3.5/site-packages/traitlets/config/application.py\", line 653, in launch_instance\n",
      "    app.start()\n",
      "  File \"/Users/brray/anaconda2/anaconda/envs/py3k/lib/python3.5/site-packages/ipykernel/kernelapp.py\", line 474, in start\n",
      "    ioloop.IOLoop.instance().start()\n",
      "  File \"/Users/brray/anaconda2/anaconda/envs/py3k/lib/python3.5/site-packages/zmq/eventloop/ioloop.py\", line 162, in start\n",
      "    super(ZMQIOLoop, self).start()\n",
      "  File \"/Users/brray/anaconda2/anaconda/envs/py3k/lib/python3.5/site-packages/tornado/ioloop.py\", line 887, in start\n",
      "    handler_func(fd_obj, events)\n",
      "  File \"/Users/brray/anaconda2/anaconda/envs/py3k/lib/python3.5/site-packages/tornado/stack_context.py\", line 275, in null_wrapper\n",
      "    return fn(*args, **kwargs)\n",
      "  File \"/Users/brray/anaconda2/anaconda/envs/py3k/lib/python3.5/site-packages/zmq/eventloop/zmqstream.py\", line 440, in _handle_events\n",
      "    self._handle_recv()\n",
      "  File \"/Users/brray/anaconda2/anaconda/envs/py3k/lib/python3.5/site-packages/zmq/eventloop/zmqstream.py\", line 472, in _handle_recv\n",
      "    self._run_callback(callback, msg)\n",
      "  File \"/Users/brray/anaconda2/anaconda/envs/py3k/lib/python3.5/site-packages/zmq/eventloop/zmqstream.py\", line 414, in _run_callback\n",
      "    callback(*args, **kwargs)\n",
      "  File \"/Users/brray/anaconda2/anaconda/envs/py3k/lib/python3.5/site-packages/tornado/stack_context.py\", line 275, in null_wrapper\n",
      "    return fn(*args, **kwargs)\n",
      "  File \"/Users/brray/anaconda2/anaconda/envs/py3k/lib/python3.5/site-packages/ipykernel/kernelbase.py\", line 276, in dispatcher\n",
      "    return self.dispatch_shell(stream, msg)\n",
      "  File \"/Users/brray/anaconda2/anaconda/envs/py3k/lib/python3.5/site-packages/ipykernel/kernelbase.py\", line 228, in dispatch_shell\n",
      "    handler(stream, idents, msg)\n",
      "  File \"/Users/brray/anaconda2/anaconda/envs/py3k/lib/python3.5/site-packages/ipykernel/kernelbase.py\", line 390, in execute_request\n",
      "    user_expressions, allow_stdin)\n",
      "  File \"/Users/brray/anaconda2/anaconda/envs/py3k/lib/python3.5/site-packages/ipykernel/ipkernel.py\", line 196, in do_execute\n",
      "    res = shell.run_cell(code, store_history=store_history, silent=silent)\n",
      "  File \"/Users/brray/anaconda2/anaconda/envs/py3k/lib/python3.5/site-packages/ipykernel/zmqshell.py\", line 501, in run_cell\n",
      "    return super(ZMQInteractiveShell, self).run_cell(*args, **kwargs)\n",
      "  File \"/Users/brray/anaconda2/anaconda/envs/py3k/lib/python3.5/site-packages/IPython/core/interactiveshell.py\", line 2717, in run_cell\n",
      "    interactivity=interactivity, compiler=compiler, result=result)\n",
      "  File \"/Users/brray/anaconda2/anaconda/envs/py3k/lib/python3.5/site-packages/IPython/core/interactiveshell.py\", line 2827, in run_ast_nodes\n",
      "    if self.run_code(code, result):\n",
      "  File \"/Users/brray/anaconda2/anaconda/envs/py3k/lib/python3.5/site-packages/IPython/core/interactiveshell.py\", line 2881, in run_code\n",
      "    exec(code_obj, self.user_global_ns, self.user_ns)\n",
      "  File \"<ipython-input-3-c52efee59189>\", line 15, in <module>\n",
      "    jupy.run_flask_socket_app(callbacks=dict(bake=[bake_func, ]))\n",
      "  File \"/Users/brray/bakepie/jupy/flask_server.py\", line 71, in run_flask_socket_app\n",
      "    socketio.run(app, debug=DEBUG)\n",
      "  File \"/Users/brray/anaconda2/anaconda/envs/py3k/lib/python3.5/site-packages/flask_socketio/__init__.py\", line 521, in run\n",
      "    run_with_reloader(run_server, extra_files=extra_files)\n",
      "  File \"/Users/brray/anaconda2/anaconda/envs/py3k/lib/python3.5/site-packages/werkzeug/serving.py\", line 701, in run_with_reloader\n",
      "    return run_with_reloader(*args, **kwargs)\n",
      "  File \"/Users/brray/anaconda2/anaconda/envs/py3k/lib/python3.5/site-packages/werkzeug/_reloader.py\", line 250, in run_with_reloader\n",
      "    sys.exit(reloader.restart_with_reloader())\n",
      "  File \"/Users/brray/anaconda2/anaconda/envs/py3k/lib/python3.5/site-packages/werkzeug/_reloader.py\", line 95, in restart_with_reloader\n",
      "    _log('info', ' * Restarting with %s' % self.name)\n",
      "  File \"/Users/brray/anaconda2/anaconda/envs/py3k/lib/python3.5/site-packages/werkzeug/_internal.py\", line 87, in _log\n",
      "    getattr(_logger, type)(message.rstrip(), *args, **kwargs)\n",
      "Message: ' * Restarting with stat'\n",
      "Arguments: ()\n"
     ]
    }
   ],
   "source": [
    "\n",
    "\n",
    "\n",
    "\n",
    "\n",
    "def bake_func(app, message):\n",
    "    \n",
    "    \n",
    "    return dict(pie='A')\n",
    "\n",
    "\n",
    "\n",
    "\n",
    "\n",
    "jupy.run_flask_socket_app(callbacks=dict(bake=[bake_func, ]))"
   ]
  },
  {
   "cell_type": "code",
   "execution_count": null,
   "metadata": {
    "collapsed": true
   },
   "outputs": [],
   "source": []
  }
 ],
 "metadata": {
  "anaconda-cloud": {},
  "kernelspec": {
   "display_name": "Python [conda env:py3k]",
   "language": "python",
   "name": "conda-env-py3k-py"
  },
  "language_info": {
   "codemirror_mode": {
    "name": "ipython",
    "version": 3
   },
   "file_extension": ".py",
   "mimetype": "text/x-python",
   "name": "python",
   "nbconvert_exporter": "python",
   "pygments_lexer": "ipython3",
   "version": "3.5.2"
  }
 },
 "nbformat": 4,
 "nbformat_minor": 0
}
