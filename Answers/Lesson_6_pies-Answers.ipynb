{
 "cells": [
  {
   "cell_type": "markdown",
   "metadata": {},
   "source": [
    "# Many Types of Pie—Python Classes\n",
    "<img src=\"misc/6_different types of pie.png\" width=\"60%\"  />\n",
    "\n",
    "\n",
    "## 6.1 Making the pie class\n",
    "\n",
    "Recall in Lesson 3 when we talked about user defined \"types\" with the analogy that types are ingredients. Things you make yourself are \"classes,\" also know as user defined times.  \n",
    "\n",
    "Now we make a `Pie` *class*. Classes are ways of organizing functionality and holding data. Often one thinks of an instance of a class to be an object. This is where the term object-oriented programming comes from.\n"
   ]
  },
  {
   "cell_type": "code",
   "execution_count": 1,
   "metadata": {
    "collapsed": true
   },
   "outputs": [],
   "source": [
    "class Pie:\n",
    "    \n",
    "    has_top_crust = True\n",
    "    has_fried = False\n",
    "    \n",
    "    def __init__(self):\n",
    "        \"\"\" construct the Pie class with some \"\"\"\n",
    "        self.crust = None\n",
    "        self.filling = None\n",
    "        self.recipe = None\n",
    "        self.shopping_list = []\n",
    "        \n",
    "    def make_shopping_list(self):\n",
    "        \"make_shopping_list() method to create shopping list for the pie\"\n",
    "        pass\n",
    "    \n",
    "    def get_filling(self):\n",
    "        return self.filling\n",
    "    \n",
    "    "
   ]
  },
  {
   "cell_type": "markdown",
   "metadata": {},
   "source": [
    "The previous code is a very basic class definition. Take the follow observations:\n",
    "\n",
    "* The keyword `class` followed by the name, `Pie` and a `:` define the class. All else is customized.\n",
    "* `__init__` is a keyword in itself. It is always called when we make an object from a class. We do this below.\n",
    "* `def` goes before all methods but are indented out.\n",
    "* The methods act a lot like functions, but they are indented and pass `self` as the first parameter.\n",
    "* The crust, filling, and recipe all belong to the class instance so they have \"self.\"\n",
    "\n",
    "Now let's look at the class:\n"
   ]
  },
  {
   "cell_type": "code",
   "execution_count": 2,
   "metadata": {
    "collapsed": false
   },
   "outputs": [
    {
     "data": {
      "text/plain": [
       "__main__.Pie"
      ]
     },
     "execution_count": 2,
     "metadata": {},
     "output_type": "execute_result"
    }
   ],
   "source": [
    "Pie"
   ]
  },
  {
   "cell_type": "code",
   "execution_count": 3,
   "metadata": {
    "collapsed": false
   },
   "outputs": [
    {
     "name": "stdout",
     "output_type": "stream",
     "text": [
      "Help on class Pie in module __main__:\n",
      "\n",
      "class Pie(builtins.object)\n",
      " |  Methods defined here:\n",
      " |  \n",
      " |  __init__(self)\n",
      " |      construct the Pie class with some\n",
      " |  \n",
      " |  get_filling(self)\n",
      " |  \n",
      " |  make_shopping_list(self)\n",
      " |      make_shopping_list() method to create shopping list for the pie\n",
      " |  \n",
      " |  ----------------------------------------------------------------------\n",
      " |  Data descriptors defined here:\n",
      " |  \n",
      " |  __dict__\n",
      " |      dictionary for instance variables (if defined)\n",
      " |  \n",
      " |  __weakref__\n",
      " |      list of weak references to the object (if defined)\n",
      " |  \n",
      " |  ----------------------------------------------------------------------\n",
      " |  Data and other attributes defined here:\n",
      " |  \n",
      " |  has_fried = False\n",
      " |  \n",
      " |  has_top_crust = True\n",
      "\n"
     ]
    }
   ],
   "source": [
    "help(Pie)"
   ]
  },
  {
   "cell_type": "code",
   "execution_count": 4,
   "metadata": {
    "collapsed": false
   },
   "outputs": [
    {
     "data": {
      "text/plain": [
       "type"
      ]
     },
     "execution_count": 4,
     "metadata": {},
     "output_type": "execute_result"
    }
   ],
   "source": [
    "type(Pie)"
   ]
  },
  {
   "cell_type": "markdown",
   "metadata": {},
   "source": [
    "*Pie* is still a class, a type. Now to actually create a an object, again the \"(\" + \")\" is used"
   ]
  },
  {
   "cell_type": "code",
   "execution_count": 5,
   "metadata": {
    "collapsed": true
   },
   "outputs": [],
   "source": [
    "a_pie = Pie()"
   ]
  },
  {
   "cell_type": "code",
   "execution_count": 6,
   "metadata": {
    "collapsed": false
   },
   "outputs": [
    {
     "data": {
      "text/plain": [
       "True"
      ]
     },
     "execution_count": 6,
     "metadata": {},
     "output_type": "execute_result"
    }
   ],
   "source": [
    "isinstance(a_pie, Pie)"
   ]
  },
  {
   "cell_type": "markdown",
   "metadata": {},
   "source": [
    "Now as an instance, all the methods and attributes are accessible. They aren't very interesting yet, but they exists."
   ]
  },
  {
   "cell_type": "code",
   "execution_count": 7,
   "metadata": {
    "collapsed": false
   },
   "outputs": [
    {
     "name": "stdout",
     "output_type": "stream",
     "text": [
      "None\n",
      "None\n",
      "None\n"
     ]
    }
   ],
   "source": [
    "print(a_pie.crust)\n",
    "print(a_pie.filling)\n",
    "print(a_pie.recipe)"
   ]
  },
  {
   "cell_type": "code",
   "execution_count": 8,
   "metadata": {
    "collapsed": true
   },
   "outputs": [],
   "source": [
    "a_pie.filling = \"some filling\""
   ]
  },
  {
   "cell_type": "code",
   "execution_count": 9,
   "metadata": {
    "collapsed": false
   },
   "outputs": [
    {
     "data": {
      "text/plain": [
       "'some filling'"
      ]
     },
     "execution_count": 9,
     "metadata": {},
     "output_type": "execute_result"
    }
   ],
   "source": [
    "a_pie.get_filling()"
   ]
  },
  {
   "cell_type": "markdown",
   "metadata": {},
   "source": [
    "## 6.2 Different types of pie\n",
    "\n",
    "If we want different types of pie that are variations of the basic `Pie`, we can use *inheritance* to do this.\n"
   ]
  },
  {
   "cell_type": "code",
   "execution_count": 10,
   "metadata": {
    "collapsed": true
   },
   "outputs": [],
   "source": [
    "class LemonMeringuePie(Pie):\n",
    "    \n",
    "    has_top_crust = False\n",
    "    has_fruit = True\n",
    "    \n",
    "class ApplePie(Pie):\n",
    "    \n",
    "    has_fruit = True"
   ]
  },
  {
   "cell_type": "code",
   "execution_count": 11,
   "metadata": {
    "collapsed": true
   },
   "outputs": [],
   "source": [
    "a_lemon_meringue_pie = LemonMeringuePie()"
   ]
  },
  {
   "cell_type": "code",
   "execution_count": 12,
   "metadata": {
    "collapsed": false
   },
   "outputs": [
    {
     "data": {
      "text/plain": [
       "False"
      ]
     },
     "execution_count": 12,
     "metadata": {},
     "output_type": "execute_result"
    }
   ],
   "source": [
    "type(a_pie) == type(a_lemon_meringue_pie)"
   ]
  },
  {
   "cell_type": "code",
   "execution_count": 13,
   "metadata": {
    "collapsed": false
   },
   "outputs": [
    {
     "data": {
      "text/plain": [
       "True"
      ]
     },
     "execution_count": 13,
     "metadata": {},
     "output_type": "execute_result"
    }
   ],
   "source": [
    "issubclass(LemonMeringuePie, Pie)"
   ]
  },
  {
   "cell_type": "code",
   "execution_count": 14,
   "metadata": {
    "collapsed": false
   },
   "outputs": [
    {
     "data": {
      "text/plain": [
       "True"
      ]
     },
     "execution_count": 14,
     "metadata": {},
     "output_type": "execute_result"
    }
   ],
   "source": [
    "a_pie.has_top_crust"
   ]
  },
  {
   "cell_type": "code",
   "execution_count": 15,
   "metadata": {
    "collapsed": false
   },
   "outputs": [
    {
     "data": {
      "text/plain": [
       "False"
      ]
     },
     "execution_count": 15,
     "metadata": {},
     "output_type": "execute_result"
    }
   ],
   "source": [
    "a_lemon_meringue_pie.has_top_crust"
   ]
  },
  {
   "cell_type": "code",
   "execution_count": 16,
   "metadata": {
    "collapsed": true
   },
   "outputs": [],
   "source": [
    "class Pie:\n",
    "    \n",
    "    has_top_crust = True\n",
    "    has_fried = False\n",
    "    \n",
    "    def __init__(self, name, recipe):  # <- add params\n",
    "        \"\"\" construct the Pie class with some \"\"\"\n",
    "        self.name = name\n",
    "        self.crust = None\n",
    "        self.filling = None\n",
    "        self.recipe = recipe\n",
    "\n",
    "    def process_recipe(self):\n",
    "        \"process_recipe() method to make shopping list/steps for the pie\"\n",
    "        pass\n",
    "    \n",
    "    def get_filling(self):\n",
    "        return self.filling\n",
    "    \n",
    "class LemonMeringuePie(Pie):\n",
    "    \n",
    "    has_top_crust = False\n",
    "    has_fruit = True\n",
    "    \n",
    "class ApplePie(Pie):\n",
    "    \n",
    "    has_fruit = True    "
   ]
  },
  {
   "cell_type": "code",
   "execution_count": 17,
   "metadata": {
    "collapsed": false
   },
   "outputs": [],
   "source": [
    "a_lemon_meringue_pie = LemonMeringuePie(\"mom's pie\", \"recipe...\")\n",
    "a_different_lemon_meringue_pie = LemonMeringuePie(\"Dad's pie\", \"recipe...\")"
   ]
  },
  {
   "cell_type": "code",
   "execution_count": 18,
   "metadata": {
    "collapsed": false
   },
   "outputs": [
    {
     "data": {
      "text/plain": [
       "True"
      ]
     },
     "execution_count": 18,
     "metadata": {},
     "output_type": "execute_result"
    }
   ],
   "source": [
    "a_lemon_meringue_pie.has_top_crust == a_different_lemon_meringue_pie.has_top_crust"
   ]
  },
  {
   "cell_type": "code",
   "execution_count": 19,
   "metadata": {
    "collapsed": false
   },
   "outputs": [
    {
     "data": {
      "text/plain": [
       "False"
      ]
     },
     "execution_count": 19,
     "metadata": {},
     "output_type": "execute_result"
    }
   ],
   "source": [
    "a_lemon_meringue_pie.name == a_different_lemon_meringue_pie.name"
   ]
  },
  {
   "cell_type": "code",
   "execution_count": 20,
   "metadata": {
    "collapsed": false
   },
   "outputs": [
    {
     "data": {
      "text/plain": [
       "{'crust': None, 'filling': None, 'name': \"mom's pie\", 'recipe': 'recipe...'}"
      ]
     },
     "execution_count": 20,
     "metadata": {},
     "output_type": "execute_result"
    }
   ],
   "source": [
    "a_lemon_meringue_pie.__dict__"
   ]
  },
  {
   "cell_type": "code",
   "execution_count": 21,
   "metadata": {
    "collapsed": false
   },
   "outputs": [
    {
     "data": {
      "text/plain": [
       "\"mom's pie\""
      ]
     },
     "execution_count": 21,
     "metadata": {},
     "output_type": "execute_result"
    }
   ],
   "source": [
    "a_lemon_meringue_pie.name"
   ]
  },
  {
   "cell_type": "code",
   "execution_count": 22,
   "metadata": {
    "collapsed": false
   },
   "outputs": [
    {
     "data": {
      "text/plain": [
       "\"Dad's pie\""
      ]
     },
     "execution_count": 22,
     "metadata": {},
     "output_type": "execute_result"
    }
   ],
   "source": [
    "a_different_lemon_meringue_pie.name"
   ]
  },
  {
   "cell_type": "markdown",
   "metadata": {},
   "source": [
    "## 6.3 Combining functionality to make pies\n",
    "\n",
    "Now let's use all previous chapters to do the following:\n",
    "\n",
    " 1. Use the recipe to read in ingredients/steps. \n",
    " 2. Build the cake class with the ingredients based on the steps.\n",
    " 3. Bake the cake.\n",
    " \n",
    "As a chef would revise a recipe, a programer would refactor code:\n"
   ]
  },
  {
   "cell_type": "code",
   "execution_count": 23,
   "metadata": {
    "collapsed": false
   },
   "outputs": [],
   "source": [
    "from output import LargeItem, IngredientBase, DrySolid, Liquid, return_instance, is_ingredient_in_list"
   ]
  },
  {
   "cell_type": "code",
   "execution_count": 24,
   "metadata": {
    "collapsed": false
   },
   "outputs": [],
   "source": [
    "\n",
    "class Recipe:\n",
    "    \n",
    "    def __init__(self, pie_instance, path):\n",
    "\n",
    "        self.ingredients = {}\n",
    "        self.steps = {}\n",
    "        self.pie_class_name = type(pie_instance).__name__\n",
    "        self.path = path\n",
    "        self.read_recipe()\n",
    "        self.get_title()\n",
    "        self.get_crust_filling() \n",
    "\n",
    "        if self.pie_class_name == \"ApplePie\":\n",
    "            # for filling\n",
    "\n",
    "            self.get_ingredients_as_list(\"filling\")\n",
    "            self.get_the_steps_as_list(\"filling\")\n",
    "\n",
    "            # for crust\n",
    "            self.get_ingredients_as_list(\"crust\")\n",
    "            self.get_the_steps_as_list(\"crust\")\n",
    "        else:\n",
    "            raise Exception(\"unknown pie: {}\".format(self.pie_class_name))\n",
    "            \n",
    "   \n",
    "    def make_shopping_list(self):\n",
    "        shopping_list = []\n",
    "        for part in self.as_dict()['Parts']:\n",
    "            for ingredient in part['ingredients']:\n",
    "                instance = return_instance(ingredient)\n",
    "                shopping_list.append(instance)\n",
    "        return shopping_list\n",
    "\n",
    "    def as_dict(self):\n",
    "        return {\"Title\": self.title,\n",
    "                \"Parts\": [\n",
    "                    {\"sub-title\": \"filling\",\n",
    "                     \"ingredients\": self.ingredients.get(\"filling\"),\n",
    "                     \"steps\": self.steps.get(\"filling\")},\n",
    "                    {\"sub-title\": \"crust\",\n",
    "                     \"ingredients\": self.ingredients.get(\"crust\"),\n",
    "                     \"steps\": self.steps.get(\"crust\")}]}\n",
    "\n",
    "    def remove_first_character(self, subject_string):\n",
    "        \"removes the first character of a string, and also strips white space.\"\n",
    "        return subject_string[1:].strip()\n",
    "\n",
    "    def read_recipe(self):\n",
    "        \"1. reads the file given in path\"\n",
    "        self.recipe_text = open(self.path).read()\n",
    "\n",
    "    def get_title(self, split_on=\"CRUST\"):\n",
    "        \"2. finds the title above what is split_on\"\n",
    "        recipe = self.recipe_text \n",
    "        self.title = recipe.split(split_on)[0].strip()\n",
    "\n",
    "    def get_crust_filling(self, split_on=\"CRUST\", and_on=\"FILLING\"):\n",
    "        \"3. parses out the crust, filling from recipe\"\n",
    "        crust_and_filling = self.recipe_text.split(split_on)[1].strip()\n",
    "        crust, filling = crust_and_filling.split(and_on)\n",
    "        self.crust = self.remove_first_character(crust)\n",
    "        self.filling = self.remove_first_character(filling)\n",
    "\n",
    "    def get_ingredients_as_list(self, on=\"filling\"):\n",
    "        \"4. returns a list of ingredients\"\n",
    "        recipe_part = getattr(self, on)\n",
    "        ingredients = recipe_part.split(\"\\n\\n\")[0] \n",
    "        self.ingredients[on] = ingredients.split(\"\\n\")\n",
    "\n",
    "    def get_the_steps_as_list(self, on=\"filling\"):\n",
    "        \"5. returns the steps as a list\"\n",
    "        recipe_part = getattr(self, on)\n",
    "        self.steps[on] = recipe_part.split(\"\\n\\n\")[1:]\n",
    "\n",
    "\n",
    "\n",
    "class Pie:\n",
    "    \n",
    "    has_top_crust = True\n",
    "    has_fried = False\n",
    "    \n",
    "    def __init__(self, name, recipe_path=\"\"):  # <- add params\n",
    "        \"\"\" construct the Pie class with some \"\"\"\n",
    "        self.name = name\n",
    "        self.crust = None\n",
    "        self.filling = None\n",
    "        self.recipe_path = recipe_path\n",
    "        self.recipe = None\n",
    "        self.shopping_list = []\n",
    "\n",
    "    def process_recipe(self):\n",
    "        \"process_recipe() method to make shopping list/seps for the pie\"\n",
    "        self.recipe = Recipe(self, self.recipe_path)\n",
    "        self.shopping_list = self.recipe.make_shopping_list()\n",
    "    \n",
    "    def get_filling(self):\n",
    "        return self.filling\n",
    "    \n",
    "\n",
    "class ApplePie(Pie):\n",
    "    \n",
    "    has_fruit = True\n",
    "\n"
   ]
  },
  {
   "cell_type": "code",
   "execution_count": 26,
   "metadata": {
    "collapsed": false
   },
   "outputs": [],
   "source": [
    "pie = ApplePie(\"Mom's Apple Pie\", recipe_path=\"misc/ApplePie.txt\")\n",
    "pie.process_recipe()\n"
   ]
  },
  {
   "cell_type": "code",
   "execution_count": 34,
   "metadata": {
    "collapsed": false
   },
   "outputs": [
    {
     "data": {
      "text/plain": [
       "str"
      ]
     },
     "execution_count": 34,
     "metadata": {},
     "output_type": "execute_result"
    }
   ],
   "source": [
    "type(pie.recipe.ingredients['crust'][0])\n"
   ]
  },
  {
   "cell_type": "code",
   "execution_count": 41,
   "metadata": {
    "collapsed": false
   },
   "outputs": [
    {
     "data": {
      "text/plain": [
       "[<Ingredient (large item): Granny Smith apples, depending on size, peeled and sliced - 60 item>,\n",
       " <Ingredient (solid): brown sugar - 5/2 cup>,\n",
       " <Ingredient (solid): granulated sugar - 5/2 cup>,\n",
       " <Ingredient (solid): flour - 5/4 cup>,\n",
       " <Ingredient (liquid): apple pie spice (or 1 tsp cinnamon and 1/2 tsp nutmeg) - 5 tsp>,\n",
       " <Ingredient (solid): flour - 10 cups>,\n",
       " <Ingredient (solid): salt - 5 tsp>,\n",
       " <Ingredient (solid): solid shortening (like Crisco) - 15/4 cup>,\n",
       " <Ingredient (liquid): ice water - 5/4 cup>]"
      ]
     },
     "execution_count": 41,
     "metadata": {},
     "output_type": "execute_result"
    }
   ],
   "source": [
    "import copy\n",
    "\n",
    "inventory = copy.copy(pie.shopping_list)\n",
    "for item in inventory:\n",
    "    item.qty *= 5\n",
    "inventory"
   ]
  },
  {
   "cell_type": "code",
   "execution_count": null,
   "metadata": {
    "collapsed": false
   },
   "outputs": [],
   "source": [
    "import random\n",
    "from time import sleep\n",
    "from pie_logger import get_logger\n",
    "log = get_logger()\n",
    "\n",
    "def bake_it(oven_q, pie, tempature=350, time=30, variance=2, n=1):\n",
    "    \"bake_it function takes a pie, tempature, and time\"\n",
    "    if oven_q and oven_q.get():\n",
    "        oven_q.put(True)\n",
    "    \n",
    "    cook_time = random.uniform(time-variance, time+variance)\n",
    "    sleep(cook_time)\n",
    "    log.info(\"now I got '{}'  #{} in {:.3f}sec\".format(pie.name, n+1, cook_time))\n",
    "    return pie    "
   ]
  },
  {
   "cell_type": "markdown",
   "metadata": {},
   "source": [
    "This time instead of "
   ]
  },
  {
   "cell_type": "code",
   "execution_count": null,
   "metadata": {
    "collapsed": false
   },
   "outputs": [
    {
     "name": "stderr",
     "output_type": "stream",
     "text": [
      "DEBUG: wait 10 seconds while we heat the oven...\n"
     ]
    }
   ],
   "source": [
    "import runners\n",
    "\n",
    "runners.complex_runner(bake_it, pie, pie_count=5, time=3)"
   ]
  },
  {
   "cell_type": "code",
   "execution_count": null,
   "metadata": {
    "collapsed": true
   },
   "outputs": [],
   "source": []
  },
  {
   "cell_type": "markdown",
   "metadata": {},
   "source": [
    "## 6.4 Mixing many pies"
   ]
  },
  {
   "cell_type": "code",
   "execution_count": null,
   "metadata": {
    "collapsed": false
   },
   "outputs": [],
   "source": [
    "import copy\n",
    "\n",
    "class CherryPie(Pie):\n",
    "    \n",
    "    has_fruit = True\n",
    "    \n",
    "    def base_from(self, pie):\n",
    "        \"copy stuff that matters and change where needed\"\n",
    "        self.shopping_list = copy.copy(pie.shopping_list)\n",
    "        self.recipe = pie.recipe\n",
    "        self.recipe.steps = copy.copy(pie.recipe.steps)\n",
    "        \n",
    "        # build up a new list \n",
    "        new_shopping_list = []\n",
    "        for list_item in self.shopping_list:\n",
    "            if \"Granny Smith apples\" in list_item.item:\n",
    "                list_item = LargeItem(\"4 cups fresh or frozen tart cherries\")\n",
    "            if \"apple pie spice\" in list_item.item:\n",
    "                list_item = Liquid(\"1/8 tablespoon almond extract\")\n",
    "            new_shopping_list.append(list_item)\n",
    "    \n",
    "        # now we assign it back\n",
    "        self.shopping_list = new_shopping_list\n"
   ]
  },
  {
   "cell_type": "code",
   "execution_count": null,
   "metadata": {
    "collapsed": false
   },
   "outputs": [],
   "source": [
    "cherry_pie = CherryPie(\"Cherry Pie based on Apple Pie\")\n",
    "cherry_pie.base_from(pie)\n"
   ]
  },
  {
   "cell_type": "code",
   "execution_count": null,
   "metadata": {
    "collapsed": false
   },
   "outputs": [],
   "source": [
    "cherry_pie.shopping_list"
   ]
  },
  {
   "cell_type": "code",
   "execution_count": null,
   "metadata": {
    "collapsed": false
   },
   "outputs": [],
   "source": [
    "runners.complex_runner(bake_it, [pie, cherry_pie], pie_count=15, time=3)\n"
   ]
  },
  {
   "cell_type": "code",
   "execution_count": null,
   "metadata": {
    "collapsed": true
   },
   "outputs": [],
   "source": []
  }
 ],
 "metadata": {
  "anaconda-cloud": {},
  "kernelspec": {
   "display_name": "Python [conda env:py3k]",
   "language": "python",
   "name": "conda-env-py3k-py"
  },
  "language_info": {
   "codemirror_mode": {
    "name": "ipython",
    "version": 3
   },
   "file_extension": ".py",
   "mimetype": "text/x-python",
   "name": "python",
   "nbconvert_exporter": "python",
   "pygments_lexer": "ipython3",
   "version": "3.5.2"
  }
 },
 "nbformat": 4,
 "nbformat_minor": 0
}
