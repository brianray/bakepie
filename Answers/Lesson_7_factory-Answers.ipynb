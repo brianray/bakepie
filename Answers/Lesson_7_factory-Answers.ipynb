{
 "cells": [
  {
   "cell_type": "markdown",
   "metadata": {},
   "source": [
    "# *Python from Scratch LiveLessons*\n",
    "## Lesson 7: Pie Factory&#8212;Object-Oriented Python\n",
    "<img src=\"misc/pie_cover_variation_.png\" width=\"60%\"  />\n",
    "\n",
    "API is short for Application Program Intersface. This is how we make it so one program talks to another. We will conduct the following steps:\n",
    "\n",
    "1. Read the API documentation for our *Factory Conveyor Belt* we will use (already exists).\n",
    "1. Create callbacks.\n",
    "1. Use a Mock Browser (simulation) to handle running our Factory. \n",
    "1. Run our Mock Browser.\n",
    "\n",
    "In Lesson, 8 we will finalize our whole program by hooking up our code to the the actual web browser. By using this Mock Server we will write the callback functions.  By breaking this up into smaller parts we simplify the approach.  "
   ]
  },
  {
   "cell_type": "markdown",
   "metadata": {},
   "source": [
    "### 7.1 Read the API documentation for our Factory Conveyor Belt we will use (already exists)."
   ]
  },
  {
   "cell_type": "code",
   "execution_count": null,
   "metadata": {
    "collapsed": false
   },
   "outputs": [],
   "source": [
    "import complete_pie"
   ]
  },
  {
   "cell_type": "code",
   "execution_count": null,
   "metadata": {
    "collapsed": false
   },
   "outputs": [],
   "source": [
    "help(complete_pie.FactoryConveyorBelt)"
   ]
  },
  {
   "cell_type": "markdown",
   "metadata": {},
   "source": [
    "Below is our design of basic flow:\n",
    "\n",
    "<img src=\"misc/workflow_2.png\" width=\"60%\"  />\n",
    "\n",
    "\n",
    "The callbacks are functions that carry out the task at hand for each operation. The FactoryConveyorBelt holds the data. So we create an instance of FactoryConveryorBelt first:\n",
    "\n"
   ]
  },
  {
   "cell_type": "code",
   "execution_count": null,
   "metadata": {
    "collapsed": true
   },
   "outputs": [],
   "source": [
    " belt = complete_pie.FactoryConveyorBelt()"
   ]
  },
  {
   "cell_type": "markdown",
   "metadata": {},
   "source": [
    "Next we create a Pie and add it to the belt:"
   ]
  },
  {
   "cell_type": "code",
   "execution_count": null,
   "metadata": {
    "collapsed": false
   },
   "outputs": [],
   "source": [
    "from complete_pie import ApplePie \n",
    "pie = ApplePie(name=\"Example Apple Pie\", recipe_path=\"misc/ApplePie.txt\")\n",
    "pie.process_recipe()\n",
    "\n",
    "    \n",
    "    "
   ]
  },
  {
   "cell_type": "code",
   "execution_count": null,
   "metadata": {
    "collapsed": false
   },
   "outputs": [],
   "source": [
    " pie"
   ]
  },
  {
   "cell_type": "code",
   "execution_count": null,
   "metadata": {
    "collapsed": false
   },
   "outputs": [],
   "source": [
    "belt.fill_pantry(pie, times=10)"
   ]
  },
  {
   "cell_type": "code",
   "execution_count": null,
   "metadata": {
    "collapsed": false
   },
   "outputs": [],
   "source": [
    "print(belt.get_totals())"
   ]
  },
  {
   "cell_type": "code",
   "execution_count": null,
   "metadata": {
    "collapsed": true
   },
   "outputs": [],
   "source": [
    "belt.add_pie_order(pie, 3)"
   ]
  },
  {
   "cell_type": "code",
   "execution_count": null,
   "metadata": {
    "collapsed": false
   },
   "outputs": [],
   "source": [
    "print(belt.get_totals())"
   ]
  },
  {
   "cell_type": "code",
   "execution_count": null,
   "metadata": {
    "collapsed": true
   },
   "outputs": [],
   "source": []
  },
  {
   "cell_type": "code",
   "execution_count": null,
   "metadata": {
    "collapsed": true
   },
   "outputs": [],
   "source": []
  },
  {
   "cell_type": "code",
   "execution_count": null,
   "metadata": {
    "collapsed": true
   },
   "outputs": [],
   "source": []
  },
  {
   "cell_type": "code",
   "execution_count": null,
   "metadata": {
    "collapsed": true
   },
   "outputs": [],
   "source": []
  },
  {
   "cell_type": "code",
   "execution_count": null,
   "metadata": {
    "collapsed": true
   },
   "outputs": [],
   "source": []
  },
  {
   "cell_type": "markdown",
   "metadata": {},
   "source": [
    "### 7.2 Creating callbacks\n",
    "\n",
    "The belt knows about certain methods:"
   ]
  },
  {
   "cell_type": "code",
   "execution_count": null,
   "metadata": {
    "collapsed": false
   },
   "outputs": [],
   "source": [
    " belt.known_callback_methods"
   ]
  },
  {
   "cell_type": "markdown",
   "metadata": {},
   "source": [
    "We can add a simple callback `echo()` to all of theses. Please note that all callbacks take the `callback_app` and `message` as arguments:"
   ]
  },
  {
   "cell_type": "code",
   "execution_count": null,
   "metadata": {
    "collapsed": true
   },
   "outputs": [],
   "source": [
    "def echo_callback(callback_app, message):\n",
    "    callback_app.logger.info(\"echo {}\".format(message))"
   ]
  },
  {
   "cell_type": "code",
   "execution_count": null,
   "metadata": {
    "collapsed": true
   },
   "outputs": [],
   "source": [
    "for method in belt.known_callback_methods:\n",
    "    belt.add_callback(method, echo_callback)"
   ]
  },
  {
   "cell_type": "code",
   "execution_count": null,
   "metadata": {
    "collapsed": true
   },
   "outputs": [],
   "source": []
  },
  {
   "cell_type": "code",
   "execution_count": null,
   "metadata": {
    "collapsed": true
   },
   "outputs": [],
   "source": []
  },
  {
   "cell_type": "code",
   "execution_count": null,
   "metadata": {
    "collapsed": true
   },
   "outputs": [],
   "source": []
  },
  {
   "cell_type": "code",
   "execution_count": null,
   "metadata": {
    "collapsed": true
   },
   "outputs": [],
   "source": []
  },
  {
   "cell_type": "code",
   "execution_count": null,
   "metadata": {
    "collapsed": true
   },
   "outputs": [],
   "source": []
  },
  {
   "cell_type": "code",
   "execution_count": null,
   "metadata": {
    "collapsed": true
   },
   "outputs": [],
   "source": []
  },
  {
   "cell_type": "markdown",
   "metadata": {},
   "source": [
    "### 7.3 Using the mock browser\n",
    "\n",
    "\n",
    "<img src=\"misc/workflow_2.png\" width=\"60%\"  />\n",
    "\n",
    "Already created for you is the Mock Browser:"
   ]
  },
  {
   "cell_type": "code",
   "execution_count": null,
   "metadata": {
    "collapsed": true
   },
   "outputs": [],
   "source": [
    "import random\n",
    "from pie_logger import get_logger\n",
    "\n",
    "log = get_logger()\n",
    "\n",
    "\n",
    "# bake: baketype: 'apple', 'cherry'\n",
    "# oven:  unique_pie_id: pie.unique_pie_id, heat_time: now()\n",
    "# restock: ...\n",
    "\n",
    "\n",
    "\n",
    "class MockApp:\n",
    "    def __init__(self, belt):\n",
    "        self.logger = log\n",
    "        self.belt = belt\n",
    "\n",
    "def get_random_pie():\n",
    "    return random.choice([\"apple\", \"cherry\", \"raseberry\"])\n",
    "\n",
    "\n",
    "def simluate(belt, count):\n",
    "    \n",
    "    callback_app = MockApp(belt)\n",
    "    \n",
    "    for callback in belt.callbacks.get(\"restock\", []):\n",
    "        callback(callback_app, {})\n",
    "        \n",
    "    for n in range(count):\n",
    "        callback_app.logger.debug(\"testing bake callback\")\n",
    "        for callback in belt.callbacks.get(\"bake\", []):\n",
    "            bake_out = callback(callback_app, {\"baketype\": get_random_pie()})\n",
    "            if bake_out:\n",
    "                for callback in belt.callbacks.get(\"oven\", []):\n",
    "                    callback_data = {\"unique_pie_id\": bake_out.get(\"unique_pie_id\"),\n",
    "                                     \"heat_time\": 5}\n",
    "                    callback(callback_app, callback_data)\n",
    "    callback_app.logger.debug(\"\\n\"+belt.get_totals())\n",
    "    \n"
   ]
  },
  {
   "cell_type": "code",
   "execution_count": null,
   "metadata": {
    "collapsed": false
   },
   "outputs": [],
   "source": [
    "help(belt.callbacks['restock'][0])"
   ]
  },
  {
   "cell_type": "code",
   "execution_count": null,
   "metadata": {
    "collapsed": false
   },
   "outputs": [],
   "source": [
    "help(callable)"
   ]
  },
  {
   "cell_type": "code",
   "execution_count": null,
   "metadata": {
    "collapsed": true
   },
   "outputs": [],
   "source": []
  },
  {
   "cell_type": "code",
   "execution_count": null,
   "metadata": {
    "collapsed": true
   },
   "outputs": [],
   "source": []
  },
  {
   "cell_type": "code",
   "execution_count": null,
   "metadata": {
    "collapsed": true
   },
   "outputs": [],
   "source": []
  },
  {
   "cell_type": "code",
   "execution_count": null,
   "metadata": {
    "collapsed": true
   },
   "outputs": [],
   "source": []
  },
  {
   "cell_type": "code",
   "execution_count": null,
   "metadata": {
    "collapsed": true
   },
   "outputs": [],
   "source": []
  },
  {
   "cell_type": "code",
   "execution_count": null,
   "metadata": {
    "collapsed": true
   },
   "outputs": [],
   "source": []
  },
  {
   "cell_type": "code",
   "execution_count": null,
   "metadata": {
    "collapsed": true
   },
   "outputs": [],
   "source": []
  },
  {
   "cell_type": "code",
   "execution_count": null,
   "metadata": {
    "collapsed": true
   },
   "outputs": [],
   "source": []
  },
  {
   "cell_type": "code",
   "execution_count": null,
   "metadata": {
    "collapsed": true
   },
   "outputs": [],
   "source": []
  },
  {
   "cell_type": "code",
   "execution_count": null,
   "metadata": {
    "collapsed": true
   },
   "outputs": [],
   "source": []
  },
  {
   "cell_type": "code",
   "execution_count": null,
   "metadata": {
    "collapsed": true
   },
   "outputs": [],
   "source": []
  },
  {
   "cell_type": "markdown",
   "metadata": {},
   "source": [
    "### 7.4 Running\n"
   ]
  },
  {
   "cell_type": "code",
   "execution_count": null,
   "metadata": {
    "collapsed": false
   },
   "outputs": [],
   "source": [
    "simluate(belt, 4)"
   ]
  },
  {
   "cell_type": "code",
   "execution_count": null,
   "metadata": {
    "collapsed": false
   },
   "outputs": [],
   "source": [
    "simluate(belt, 2)"
   ]
  },
  {
   "cell_type": "code",
   "execution_count": null,
   "metadata": {
    "collapsed": true
   },
   "outputs": [],
   "source": []
  },
  {
   "cell_type": "code",
   "execution_count": null,
   "metadata": {
    "collapsed": true
   },
   "outputs": [],
   "source": []
  },
  {
   "cell_type": "code",
   "execution_count": null,
   "metadata": {
    "collapsed": true
   },
   "outputs": [],
   "source": []
  },
  {
   "cell_type": "code",
   "execution_count": null,
   "metadata": {
    "collapsed": true
   },
   "outputs": [],
   "source": []
  },
  {
   "cell_type": "code",
   "execution_count": null,
   "metadata": {
    "collapsed": true
   },
   "outputs": [],
   "source": []
  },
  {
   "cell_type": "code",
   "execution_count": null,
   "metadata": {
    "collapsed": true
   },
   "outputs": [],
   "source": []
  },
  {
   "cell_type": "code",
   "execution_count": null,
   "metadata": {
    "collapsed": true
   },
   "outputs": [],
   "source": []
  },
  {
   "cell_type": "code",
   "execution_count": null,
   "metadata": {
    "collapsed": true
   },
   "outputs": [],
   "source": []
  },
  {
   "cell_type": "code",
   "execution_count": null,
   "metadata": {
    "collapsed": true
   },
   "outputs": [],
   "source": []
  },
  {
   "cell_type": "code",
   "execution_count": null,
   "metadata": {
    "collapsed": true
   },
   "outputs": [],
   "source": []
  },
  {
   "cell_type": "code",
   "execution_count": null,
   "metadata": {
    "collapsed": true
   },
   "outputs": [],
   "source": []
  },
  {
   "cell_type": "code",
   "execution_count": null,
   "metadata": {
    "collapsed": true
   },
   "outputs": [],
   "source": []
  },
  {
   "cell_type": "code",
   "execution_count": null,
   "metadata": {
    "collapsed": true
   },
   "outputs": [],
   "source": []
  },
  {
   "cell_type": "code",
   "execution_count": null,
   "metadata": {
    "collapsed": true
   },
   "outputs": [],
   "source": []
  },
  {
   "cell_type": "markdown",
   "metadata": {},
   "source": [
    "\n",
    "### 7.5 Creating more callbacks and Putting it all together\n",
    "\n",
    "Now we add the callbacks `bake_callback()` and `oven_callback()`:"
   ]
  },
  {
   "cell_type": "code",
   "execution_count": null,
   "metadata": {
    "collapsed": false
   },
   "outputs": [],
   "source": [
    "from collections import defaultdict\n",
    "belt.callbacks = defaultdict(list)"
   ]
  },
  {
   "cell_type": "code",
   "execution_count": null,
   "metadata": {
    "collapsed": true
   },
   "outputs": [],
   "source": [
    "from complete_pie import CherryPie, RaseberryPie, ApplePie\n",
    "\n",
    "\n",
    "names = ['David', \"Sue\", \"Pap\", \"Karen\", \"Julie\", \"Greg\"]\n",
    "\n",
    "def bake_callback(callback_app, message):\n",
    "    \n",
    "    callback_app.logger.info(\"bake callback\")\n",
    "    baketype = message[\"baketype\"]\n",
    "    pie_type = None\n",
    "    if baketype == \"apple\":\n",
    "        pie_type = ApplePie\n",
    "    elif baketype == \"cherry\":\n",
    "        pie_type = CherryPie\n",
    "    elif baketype == \"raseberry\":\n",
    "        pie_type = RaseberryPie\n",
    "    else:\n",
    "        raise Exception(\"unknown pie type {}\".format(message['baketype']))\n",
    "    \n",
    "    # make a pie\n",
    "    name = \"{}'s {} Pie\".format(random.choice(names), \"Apple\")\n",
    "    pie = pie_type(name, recipe_path=\"misc/ApplePie.txt\")\n",
    "    pie.process_recipe()\n",
    "    log.debug(\"pie data {}\".format(pie.__dict__))\n",
    "    \n",
    "    # add_pie to the belt\n",
    "    try:\n",
    "        callback_app.belt.add_pie(pie)\n",
    "    except Exception as e:\n",
    "        return dict(error=str(e))\n",
    "    \n",
    "    # get totals\n",
    "    totals = callback_app.belt.get_totals()\n",
    "    return {\"image_key\":pie.image_key,\n",
    "            \"totals\":totals,\n",
    "            \"name\":pie.name,\n",
    "            \"unique_pie_id\": pie.unique_pie_id}\n",
    "\n",
    "belt.add_callback(\"bake\", bake_callback)\n",
    "\n",
    "\n",
    "def oven_callback(callback_app, message):\n",
    "    callback_app.logger.info(\"message {}\".format(message))\n",
    "    # get pie\n",
    "    pie = callback_app.belt.pies[message['unique_pie_id']]\n",
    "    # total time\n",
    "    total_time = message['heat_time'] + callback_app.belt.oven_heat_time\n",
    "    # totals\n",
    "    totals = callback_app.belt.get_totals()\n",
    "    return {\"image_key\": pie.image_key,\n",
    "            \"totals\": totals,\n",
    "            \"oven_msg\": \"Oven Heating\",\n",
    "            \"name\": pie.name,\n",
    "            \"bake_time\": pie.bake_time,\n",
    "            \"total_time\": total_time,\n",
    "            \"unique_pie_id\": pie.unique_pie_id}\n",
    "\n",
    "\n",
    "belt.add_callback(\"oven\", oven_callback)\n"
   ]
  },
  {
   "cell_type": "code",
   "execution_count": null,
   "metadata": {
    "collapsed": false
   },
   "outputs": [],
   "source": [
    "help(ApplePie)"
   ]
  },
  {
   "cell_type": "code",
   "execution_count": null,
   "metadata": {
    "collapsed": false
   },
   "outputs": [],
   "source": [
    "names = ['David', \"Sue\", \"Pap\", \"Karen\", \"Julie\", \"Greg\"]\n",
    "random.choice(names)"
   ]
  },
  {
   "cell_type": "code",
   "execution_count": null,
   "metadata": {
    "collapsed": false
   },
   "outputs": [],
   "source": [
    "belt.pies['a9f57164-8ce6-4b6d-acb1-e65f9b5df10e'].__dict__"
   ]
  },
  {
   "cell_type": "code",
   "execution_count": null,
   "metadata": {
    "collapsed": false
   },
   "outputs": [],
   "source": [
    "simluate(belt, 3)"
   ]
  },
  {
   "cell_type": "code",
   "execution_count": null,
   "metadata": {
    "collapsed": false
   },
   "outputs": [],
   "source": [
    "simluate(belt, 1)"
   ]
  },
  {
   "cell_type": "code",
   "execution_count": null,
   "metadata": {
    "collapsed": true
   },
   "outputs": [],
   "source": []
  },
  {
   "cell_type": "code",
   "execution_count": null,
   "metadata": {
    "collapsed": true
   },
   "outputs": [],
   "source": []
  },
  {
   "cell_type": "code",
   "execution_count": null,
   "metadata": {
    "collapsed": true
   },
   "outputs": [],
   "source": []
  },
  {
   "cell_type": "code",
   "execution_count": null,
   "metadata": {
    "collapsed": true
   },
   "outputs": [],
   "source": []
  },
  {
   "cell_type": "code",
   "execution_count": null,
   "metadata": {
    "collapsed": true
   },
   "outputs": [],
   "source": []
  },
  {
   "cell_type": "code",
   "execution_count": null,
   "metadata": {
    "collapsed": true
   },
   "outputs": [],
   "source": []
  },
  {
   "cell_type": "code",
   "execution_count": null,
   "metadata": {
    "collapsed": true
   },
   "outputs": [],
   "source": []
  },
  {
   "cell_type": "code",
   "execution_count": null,
   "metadata": {
    "collapsed": true
   },
   "outputs": [],
   "source": []
  },
  {
   "cell_type": "code",
   "execution_count": null,
   "metadata": {
    "collapsed": true
   },
   "outputs": [],
   "source": []
  },
  {
   "cell_type": "code",
   "execution_count": null,
   "metadata": {
    "collapsed": false
   },
   "outputs": [],
   "source": []
  },
  {
   "cell_type": "code",
   "execution_count": null,
   "metadata": {
    "collapsed": true
   },
   "outputs": [],
   "source": []
  }
 ],
 "metadata": {
  "anaconda-cloud": {},
  "kernelspec": {
   "display_name": "Python [conda env:py3k]",
   "language": "python",
   "name": "conda-env-py3k-py"
  },
  "language_info": {
   "codemirror_mode": {
    "name": "ipython",
    "version": 3
   },
   "file_extension": ".py",
   "mimetype": "text/x-python",
   "name": "python",
   "nbconvert_exporter": "python",
   "pygments_lexer": "ipython3",
   "version": "3.5.2"
  }
 },
 "nbformat": 4,
 "nbformat_minor": 0
}
