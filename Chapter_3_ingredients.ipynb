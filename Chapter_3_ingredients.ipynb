{
 "cells": [
  {
   "cell_type": "markdown",
   "metadata": {},
   "source": [
    "# Ingredients\n",
    "\n",
    "## what is an ingredient? what is a type?\n",
    "\n",
    "In cooking, there are generally three sources of 'ingredients':\n",
    "\n",
    " 1. Things you buy from the store (imported types)\n",
    " 2. Things you already have in your kitchen (built-in types)\n",
    " 3. And things you combine to make yourself (user-defined types)\n",
    " \n",
    "In Python, it's the same. \n",
    "\n",
    " 1. Things you import from other internal or third party libraries/modules (imported types)\n",
    " 2. Things built in (built-in types)\n",
    " 3. And user defined Classes (user-defined types)\n",
    "\n",
    "A quick example of each:"
   ]
  },
  {
   "cell_type": "code",
   "execution_count": 73,
   "metadata": {
    "collapsed": false
   },
   "outputs": [
    {
     "name": "stdout",
     "output_type": "stream",
     "text": [
      "<class 'module'>\n",
      "Hi\n",
      "<class 'int'>\n",
      "1\n",
      "<class '__main__.Mine'>\n",
      "<__main__.Mine object at 0x106f54710>\n"
     ]
    }
   ],
   "source": [
    "# 1. import third party module\n",
    "import hello\n",
    "print(type(hello))\n",
    "print(hello.say_hello())\n",
    "\n",
    "# 2. built in\n",
    "\n",
    "a = 1\n",
    "print(type(a))\n",
    "print(a)\n",
    "\n",
    "# 3. class\n",
    "class Mine: pass\n",
    "\n",
    "a = Mine()\n",
    "\n",
    "print(type(a))\n",
    "print(a)"
   ]
  },
  {
   "cell_type": "markdown",
   "metadata": {},
   "source": [
    "### Built in Types\n",
    "\n",
    "* numerics: int, float\n",
    "* sequences: list, tuple\n",
    "* text sequence: str\n",
    "* mapping types: dict"
   ]
  },
  {
   "cell_type": "code",
   "execution_count": 72,
   "metadata": {
    "collapsed": false
   },
   "outputs": [
    {
     "name": "stdout",
     "output_type": "stream",
     "text": [
      "<class 'list'>\n",
      "[1, 2, 3]\n",
      "<class 'tuple'>\n",
      "(1, 2, 3)\n",
      "<class 'str'>\n",
      "I love pie\n",
      "<class 'dict'>\n",
      "{1: 'milk', 2: 'honey', 3: 'eggs'}\n"
     ]
    }
   ],
   "source": [
    "# int\n",
    "v = 1\n",
    "# float\n",
    "v = 1.0\n",
    "\n",
    "#   list [1, 2, 3] - square brackets\n",
    "my_list = [1, 2, 3]\n",
    "print(type(my_list))\n",
    "print(my_list)\n",
    "\n",
    "#   tuple (1, 2, 3) - paranthesis\n",
    "my_tuple = (1, 2, 3)\n",
    "print(type(my_tuple))\n",
    "print(my_tuple)\n",
    "\n",
    "# str \"hello world\" - quotes, single, double, triple\n",
    "my_str = \"I love pie\"\n",
    "print(type(my_str))\n",
    "print(my_str)\n",
    "\n",
    "#   dict  {1: 1, 2: 2, 3: 3} - curly\n",
    "my_dict= {1: \"milk\", 2: \"honey\", 3: \"eggs\"}\n",
    "print(type(my_dict))\n",
    "print(my_dict)\n"
   ]
  },
  {
   "cell_type": "markdown",
   "metadata": {},
   "source": [
    "\n",
    "### User Defined Types\n",
    "\n",
    "Just like when we combine ingredients to make a new ingredient, we will make a user defined type also known as a \"class\".\n",
    "\n",
    "Let's talk about what is meant when someone says \"type\", and \"instance\" in Python?\n",
    "\n",
    "Let's take the example \"2 cups flour\". Think of it this way:\n",
    "\n",
    " * a \"cup of flour\" is a [type or class]. Think of this as an empty measuring cup that only holds flour.\n",
    " * \"2 cups flour\" is an [instance or object]. Think of this as a full measuring cup of flour. We call this \"instatiated\"\n",
    "\n",
    "Now in Python code:\n"
   ]
  },
  {
   "cell_type": "code",
   "execution_count": 55,
   "metadata": {
    "collapsed": false
   },
   "outputs": [],
   "source": [
    "class CupOfFlour:\n",
    "    \"User defined type\"\n",
    "    def __init__(self, initial_size=1):\n",
    "        self.size = initial_size"
   ]
  },
  {
   "cell_type": "markdown",
   "metadata": {},
   "source": [
    "> First let's look at the class (type) CupOfFlour"
   ]
  },
  {
   "cell_type": "code",
   "execution_count": 38,
   "metadata": {
    "collapsed": false
   },
   "outputs": [
    {
     "name": "stdout",
     "output_type": "stream",
     "text": [
      "type of CupOfFlour is type: <class 'type'>\n"
     ]
    }
   ],
   "source": [
    "print(\"type of CupOfFlour is type: {}\".format(type(CupOfFlour)))"
   ]
  },
  {
   "cell_type": "markdown",
   "metadata": {},
   "source": [
    "That is because the base of user defined type is [type]. Simlar to how the built in types, list, dict, ... also base type is [type].\n",
    "\n",
    "> Now let's \"instantiate\" the CupOfFlour, for this we use \"(\" + \")\". Same way you call a function."
   ]
  },
  {
   "cell_type": "code",
   "execution_count": 40,
   "metadata": {
    "collapsed": false
   },
   "outputs": [],
   "source": [
    "two_cups_of_flour = CupOfFlour(initial_size=2)"
   ]
  },
  {
   "cell_type": "code",
   "execution_count": 41,
   "metadata": {
    "collapsed": false
   },
   "outputs": [
    {
     "name": "stdout",
     "output_type": "stream",
     "text": [
      "<__main__.CupOfFlour object at 0x106e8acf8>\n",
      "type of two_cups_of_flour: <class '__main__.CupOfFlour'>\n"
     ]
    }
   ],
   "source": [
    "print(two_cups_of_flour)\n",
    "print(\"type of two_cups_of_flour: {}\".format(type(two_cups_of_flour)))"
   ]
  },
  {
   "cell_type": "code",
   "execution_count": 34,
   "metadata": {
    "collapsed": false
   },
   "outputs": [
    {
     "data": {
      "text/plain": [
       "2"
      ]
     },
     "execution_count": 34,
     "metadata": {},
     "output_type": "execute_result"
    }
   ],
   "source": [
    "two_cups_of_flour.size"
   ]
  },
  {
   "cell_type": "markdown",
   "metadata": {},
   "source": [
    "# Storing quantites of ingredients\n",
    "\n",
    "When baking a pie, we do care about quantities. We need to get those out of the strings from Chapter 2 so we can use them.\n",
    "\n",
    "Using the code from below (%run is not a python command, but for this notebook), let's run the code from the previous chapter. \n",
    "\n",
    "Think about:\n",
    "\n",
    " * how much: quantities\n",
    " * what: type\n",
    " * or how many: collections\n",
    "\n",
    "When you bake a pie you may use a measuring cup and re-use that for several ingredients you will mix together. It could indicate that the we can treat those as variations of same type.\n"
   ]
  },
  {
   "cell_type": "code",
   "execution_count": 42,
   "metadata": {
    "collapsed": false,
    "scrolled": true
   },
   "outputs": [
    {
     "name": "stdout",
     "output_type": "stream",
     "text": [
      "Gammy's Apple Pie \n",
      "\n",
      "CRUST:\n",
      "\n",
      "2 cups flour\n",
      "1 tsp salt\n",
      "3/4 cup solid shortening (like Crisco)\n",
      "1/4 to 1/2 cup ice water\n",
      "\n",
      "Mix together the flour and the salt.  Cut in the shortening until the pieces\n",
      "are pea-sized.  Add 1/4 to 1/2 cup of the water and stir with a fork until the\n",
      "dough is moist enough to stick together but is not soggy.\n",
      "\n",
      "Sprinkle your pastry cloth (or whatever you use) with flour.  Divide the pie\n",
      "crust dough in slightly uneven halves.  Form the larger of the two halves\n",
      "into a ball and place on the pastry cloth.  Pat into a circle about five\n",
      "inches in diameter.  Begin to roll out from the center outward with light\n",
      "strokes.  Be sure your rolling pin is floured also.\n",
      "\n",
      "Once the circle is about 7 inches in diameter, pick up the piece of dough,\n",
      "reflour underneath it and flip it over.  This will ensure that there is enough\n",
      "flour to keep the dough from sticking.  (Note:  if the dough is sticking too\n",
      "much, that means you put too much water in it.  Add more flour.  If the dough\n",
      "is crumbly and won't stick together at all, that means it needs more water.)\n",
      "\n",
      "Resume rolling it out until you reach the size of your pie pan (usually 9 or\n",
      "10 inches).  At this point, you can roll out the edges, too.  The idea is just\n",
      "to not have too much dough in the middle.\n",
      "\n",
      "Once the dough is the proper size (Don't worry; it won't be even.), pick it up\n",
      "by rolling it around the rolling pin.  Carefully transfer it to the pie pan\n",
      "doing your best to center it over the pan.  Once you release it from the\n",
      "rolling pin, gently pat it in place in the pan, making sure there aren't any\n",
      "gaps between the dough and the inside edge of the plate.  Trim the dough with\n",
      "a knife so that it is even with the edge of the pie pan.  Throw the extra\n",
      "dough in the bowl with the remaining half.\n",
      "\n",
      "At this point, you would add your fruit filling and then proceed with the top\n",
      "crust.  The top crust is made virtually the same way; however, you would want\n",
      "it rolled out a little bigger than the bottom so that you have enough crust to\n",
      "flute.  I flute by pinching the crust between my two index fingers and thumbs\n",
      "as though I was opening a change purse.  Be sure to cut slits in the top crust\n",
      "for the steam to escape.\n",
      "\n",
      "FILLING:\n",
      "\n",
      "3-4 Granny Smith apples, depending on size, peeled and sliced\n",
      "1/2 cup brown sugar\n",
      "1/2 cup granulated sugar\n",
      "1/4 cup flour\n",
      "1 tsp apple pie spice (or 1 tsp cinnamon and 1/2 tsp nutmeg)\n",
      "\n",
      "Line pie plate with unbaked pastry.  Mix together the sugars, flour\n",
      "and spices.  Pour 1/2 of this mixture into the pie plate, smoothing\n",
      "evenly across the bottom.  Lay the apples in the crust, enough so that\n",
      "they reach the top of the plate but aren't mounded over it.  Sprinkle\n",
      "the remaining flour mixture over the top of the apples.  Sprinkle 1\n",
      "tablespoon of lemon juice over the top, then dot with 1 tablespoon of\n",
      "butter.  Add the top crust and cut slits for steam.\n",
      "\n",
      "Bake 15 minutes at 425 degrees, then reduce heat to 350 and bake\n",
      "another hour.  The trick with apple pie is to be sure and bake it long\n",
      "enough for the apples to be soft.  I usually stick a fork inside one\n",
      "of the slits to make sure, but an hour should be plenty.  If the edge\n",
      "of the crust starts to brown too much, cover it loosely with foil.\n",
      "\n",
      "It's a good idea to set the pie on a cookie sheet in case the apples\n",
      "are particularly juicy and spill over into the oven.\n",
      "\n",
      "the type of 'recipe' is:\n",
      "<class 'str'>\n",
      "it has characters length of:\n",
      "3314\n",
      "they have no length:\n",
      "0\n",
      "[\"Gammy's Apple Pie \\n\\n\", \":\\n\\n2 cups flour\\n1 tsp salt\\n3/4 cup solid shortening (like Crisco)\\n1/4 to 1/2 cup ice water\\n\\nMix together the flour and the salt.  Cut in the shortening until the pieces\\nare pea-sized.  Add 1/4 to 1/2 cup of the water and stir with a fork until the\\ndough is moist enough to stick together but is not soggy.\\n\\nSprinkle your pastry cloth (or whatever you use) with flour.  Divide the pie\\ncrust dough in slightly uneven halves.  Form the larger of the two halves\\ninto a ball and place on the pastry cloth.  Pat into a circle about five\\ninches in diameter.  Begin to roll out from the center outward with light\\nstrokes.  Be sure your rolling pin is floured also.\\n\\nOnce the circle is about 7 inches in diameter, pick up the piece of dough,\\nreflour underneath it and flip it over.  This will ensure that there is enough\\nflour to keep the dough from sticking.  (Note:  if the dough is sticking too\\nmuch, that means you put too much water in it.  Add more flour.  If the dough\\nis crumbly and won't stick together at all, that means it needs more water.)\\n\\nResume rolling it out until you reach the size of your pie pan (usually 9 or\\n10 inches).  At this point, you can roll out the edges, too.  The idea is just\\nto not have too much dough in the middle.\\n\\nOnce the dough is the proper size (Don't worry; it won't be even.), pick it up\\nby rolling it around the rolling pin.  Carefully transfer it to the pie pan\\ndoing your best to center it over the pan.  Once you release it from the\\nrolling pin, gently pat it in place in the pan, making sure there aren't any\\ngaps between the dough and the inside edge of the plate.  Trim the dough with\\na knife so that it is even with the edge of the pie pan.  Throw the extra\\ndough in the bowl with the remaining half.\\n\\nAt this point, you would add your fruit filling and then proceed with the top\\ncrust.  The top crust is made virtually the same way; however, you would want\\nit rolled out a little bigger than the bottom so that you have enough crust to\\nflute.  I flute by pinching the crust between my two index fingers and thumbs\\nas though I was opening a change purse.  Be sure to cut slits in the top crust\\nfor the steam to escape.\\n\\nFILLING:\\n\\n3-4 Granny Smith apples, depending on size, peeled and sliced\\n1/2 cup brown sugar\\n1/2 cup granulated sugar\\n1/4 cup flour\\n1 tsp apple pie spice (or 1 tsp cinnamon and 1/2 tsp nutmeg)\\n\\nLine pie plate with unbaked pastry.  Mix together the sugars, flour\\nand spices.  Pour 1/2 of this mixture into the pie plate, smoothing\\nevenly across the bottom.  Lay the apples in the crust, enough so that\\nthey reach the top of the plate but aren't mounded over it.  Sprinkle\\nthe remaining flour mixture over the top of the apples.  Sprinkle 1\\ntablespoon of lemon juice over the top, then dot with 1 tablespoon of\\nbutter.  Add the top crust and cut slits for steam.\\n\\nBake 15 minutes at 425 degrees, then reduce heat to 350 and bake\\nanother hour.  The trick with apple pie is to be sure and bake it long\\nenough for the apples to be soft.  I usually stick a fork inside one\\nof the slits to make sure, but an hour should be plenty.  If the edge\\nof the crust starts to brown too much, cover it loosely with foil.\\n\\nIt's a good idea to set the pie on a cookie sheet in case the apples\\nare particularly juicy and spill over into the oven.\\n\"]\n",
      "Gammy's Apple Pie \n",
      "\n",
      "\n",
      "before \n",
      " after\n",
      "before \\n after\n",
      "🍩\n",
      "Help on built-in function strip:\n",
      "\n",
      "strip(...) method of builtins.str instance\n",
      "    S.strip([chars]) -> str\n",
      "    \n",
      "    Return a copy of the string S with leading and trailing\n",
      "    whitespace removed.\n",
      "    If chars is given and not None, remove characters in chars instead.\n",
      "\n",
      "Gammy's Apple Pie\n",
      "now we have 2 parts, crust and filling:\n",
      "2\n",
      ":\n",
      "\n",
      "2 cups flour\n",
      "1 tsp salt\n",
      "3/4 cup solid shortening (like Crisco)\n",
      "1/4 to 1/2 cup ice water\n",
      "\n",
      "Mix together the flour and the salt.  Cut in the shortening until the pieces\n",
      "are pea-sized.  Add 1/4 to 1/2 cup of the water and stir with a fork until the\n",
      "dough is moist enough to stick together but is not soggy.\n",
      "\n",
      "Sprinkle your pastry cloth (or whatever you use) with flour.  Divide the pie\n",
      "crust dough in slightly uneven halves.  Form the larger of the two halves\n",
      "into a ball and place on the pastry cloth.  Pat into a circle about five\n",
      "inches in diameter.  Begin to roll out from the center outward with light\n",
      "strokes.  Be sure your rolling pin is floured also.\n",
      "\n",
      "Once the circle is about 7 inches in diameter, pick up the piece of dough,\n",
      "reflour underneath it and flip it over.  This will ensure that there is enough\n",
      "flour to keep the dough from sticking.  (Note:  if the dough is sticking too\n",
      "much, that means you put too much water in it.  Add more flour.  If the dough\n",
      "is crumbly and won't stick together at all, that means it needs more water.)\n",
      "\n",
      "Resume rolling it out until you reach the size of your pie pan (usually 9 or\n",
      "10 inches).  At this point, you can roll out the edges, too.  The idea is just\n",
      "to not have too much dough in the middle.\n",
      "\n",
      "Once the dough is the proper size (Don't worry; it won't be even.), pick it up\n",
      "by rolling it around the rolling pin.  Carefully transfer it to the pie pan\n",
      "doing your best to center it over the pan.  Once you release it from the\n",
      "rolling pin, gently pat it in place in the pan, making sure there aren't any\n",
      "gaps between the dough and the inside edge of the plate.  Trim the dough with\n",
      "a knife so that it is even with the edge of the pie pan.  Throw the extra\n",
      "dough in the bowl with the remaining half.\n",
      "\n",
      "At this point, you would add your fruit filling and then proceed with the top\n",
      "crust.  The top crust is made virtually the same way; however, you would want\n",
      "it rolled out a little bigger than the bottom so that you have enough crust to\n",
      "flute.  I flute by pinching the crust between my two index fingers and thumbs\n",
      "as though I was opening a change purse.  Be sure to cut slits in the top crust\n",
      "for the steam to escape.\n",
      "\n",
      "\n",
      ":\n",
      ":\n",
      "\n",
      "2 cups \n",
      "2 cups flour\n",
      "1 tsp salt\n",
      "3/4 cup solid shortening (like Crisco)\n",
      "1/4 to 1/2 cup ice water\n",
      "\n",
      "Mix together the flour and the salt.  Cut in the shortening until the pieces\n",
      "are pea-sized.  Add 1/4 to 1/2 cup of the water and stir with a fork until the\n",
      "dough is moist enough to stick together but is not soggy.\n",
      "\n",
      "Sprinkle your pastry cloth (or whatever you use) with flour.  Divide the pie\n",
      "crust dough in slightly uneven halves.  Form the larger of the two halves\n",
      "into a ball and place on the pastry cloth.  Pat into a circle about five\n",
      "inches in diameter.  Begin to roll out from the center outward with light\n",
      "strokes.  Be sure your rolling pin is floured also.\n",
      "\n",
      "Once the circle is about 7 inches in diameter, pick up the piece of dough,\n",
      "reflour underneath it and flip it over.  This will ensure that there is enough\n",
      "flour to keep the dough from sticking.  (Note:  if the dough is sticking too\n",
      "much, that means you put too much water in it.  Add more flour.  If the dough\n",
      "is crumbly and won't stick together at all, that means it needs more water.)\n",
      "\n",
      "Resume rolling it out until you reach the size of your pie pan (usually 9 or\n",
      "10 inches).  At this point, you can roll out the edges, too.  The idea is just\n",
      "to not have too much dough in the middle.\n",
      "\n",
      "Once the dough is the proper size (Don't worry; it won't be even.), pick it up\n",
      "by rolling it around the rolling pin.  Carefully transfer it to the pie pan\n",
      "doing your best to center it over the pan.  Once you release it from the\n",
      "rolling pin, gently pat it in place in the pan, making sure there aren't any\n",
      "gaps between the dough and the inside edge of the plate.  Trim the dough with\n",
      "a knife so that it is even with the edge of the pie pan.  Throw the extra\n",
      "dough in the bowl with the remaining half.\n",
      "\n",
      "At this point, you would add your fruit filling and then proceed with the top\n",
      "crust.  The top crust is made virtually the same way; however, you would want\n",
      "it rolled out a little bigger than the bottom so that you have enough crust to\n",
      "flute.  I flute by pinching the crust between my two index fingers and thumbs\n",
      "as though I was opening a change purse.  Be sure to cut slits in the top crust\n",
      "for the steam to escape.\n",
      "3-4 Granny Smith apples, depending on size, peeled and sliced\n",
      "1/2 cup brown sugar\n",
      "1/2 cup granulated sugar\n",
      "1/4 cup flour\n",
      "1 tsp apple pie spice (or 1 tsp cinnamon and 1/2 tsp nutmeg)\n",
      "\n",
      "Line pie plate with unbaked pastry.  Mix together the sugars, flour\n",
      "and spices.  Pour 1/2 of this mixture into the pie plate, smoothing\n",
      "evenly across the bottom.  Lay the apples in the crust, enough so that\n",
      "they reach the top of the plate but aren't mounded over it.  Sprinkle\n",
      "the remaining flour mixture over the top of the apples.  Sprinkle 1\n",
      "tablespoon of lemon juice over the top, then dot with 1 tablespoon of\n",
      "butter.  Add the top crust and cut slits for steam.\n",
      "\n",
      "Bake 15 minutes at 425 degrees, then reduce heat to 350 and bake\n",
      "another hour.  The trick with apple pie is to be sure and bake it long\n",
      "enough for the apples to be soft.  I usually stick a fork inside one\n",
      "of the slits to make sure, but an hour should be plenty.  If the edge\n",
      "of the crust starts to brown too much, cover it loosely with foil.\n",
      "\n",
      "It's a good idea to set the pie on a cookie sheet in case the apples\n",
      "are particularly juicy and spill over into the oven.\n",
      "<- is it gone\n",
      "remove me too\n",
      ":)\n",
      "extra space\n",
      "Help on function remove_first_character in module __main__:\n",
      "\n",
      "remove_first_character(subject_string)\n",
      "    removes the first character of a string, and also strips white space.\n",
      "\n",
      "3-4 Granny Smith apples, depending on size, peeled and sliced\n",
      "1/2 cup brown sugar\n",
      "1/2 cup granulated sugar\n",
      "1/4 cup flour\n",
      "1 tsp apple pie spice (or 1 tsp cinnamon and 1/2 tsp nutmeg)\n",
      "please note that ingredients is a string:\n",
      "<class 'str'>\n",
      "the number of ingredients are:\n",
      "5\n",
      "[\"Line pie plate with unbaked pastry.  Mix together the sugars, flour\\nand spices.  Pour 1/2 of this mixture into the pie plate, smoothing\\nevenly across the bottom.  Lay the apples in the crust, enough so that\\nthey reach the top of the plate but aren't mounded over it.  Sprinkle\\nthe remaining flour mixture over the top of the apples.  Sprinkle 1\\ntablespoon of lemon juice over the top, then dot with 1 tablespoon of\\nbutter.  Add the top crust and cut slits for steam.\", 'Bake 15 minutes at 425 degrees, then reduce heat to 350 and bake\\nanother hour.  The trick with apple pie is to be sure and bake it long\\nenough for the apples to be soft.  I usually stick a fork inside one\\nof the slits to make sure, but an hour should be plenty.  If the edge\\nof the crust starts to brown too much, cover it loosely with foil.', \"It's a good idea to set the pie on a cookie sheet in case the apples\\nare particularly juicy and spill over into the oven.\"]\n",
      "the number of steps are:\n",
      "3\n",
      "There are 3 steps.\n",
      "read 3314 characters.\n",
      "title: Gammy's Apple Pie\n",
      "crust has 2163 characters, filling has 1118 characters\n",
      "there are 5 ingredients\n",
      "there are 4 ingredients\n",
      "there are 3 steps\n",
      "there are 6 steps\n",
      "In recipe 'Gammy's Apple Pie' there are 5 ingredients and 3 steps in the filling\n",
      "read 3314 characters.\n",
      "title: Gammy's Apple Pie\n",
      "crust has 2163 characters, filling has 1118 characters\n",
      "there are 5 ingredients\n",
      "there are 3 steps\n",
      "In recipe 'Gammy's Apple Pie' there are 5 ingredients and 3 steps in the filling\n",
      "there are 4 ingredients\n",
      "there are 6 steps\n",
      "In recipe 'Gammy's Apple Pie' there are 4 ingredients and 6 steps in the crust\n",
      "[NbConvertApp] Converting notebook Chapter_2_recipe.ipynb to script\n",
      "[NbConvertApp] Writing 10603 bytes to Chapter_2_recipe.py\n"
     ]
    }
   ],
   "source": [
    "%run Chapter_2_recipe.py"
   ]
  },
  {
   "cell_type": "markdown",
   "metadata": {},
   "source": [
    "### first, how much\n",
    "\n",
    "> we use the value of the keys to reference items in a dictonary. "
   ]
  },
  {
   "cell_type": "code",
   "execution_count": 74,
   "metadata": {
    "collapsed": false,
    "scrolled": false
   },
   "outputs": [
    {
     "name": "stdout",
     "output_type": "stream",
     "text": [
      "1/4 cup flour\n"
     ]
    }
   ],
   "source": [
    "ingredient = recipe_as_dict['Parts'][0]['ingredients'][3]\n",
    "print(ingredient)"
   ]
  },
  {
   "cell_type": "markdown",
   "metadata": {},
   "source": [
    "> When you \"import\" something in Python, you are making a type available to use"
   ]
  },
  {
   "cell_type": "code",
   "execution_count": 47,
   "metadata": {
    "collapsed": true
   },
   "outputs": [],
   "source": [
    "from fractions import Fraction"
   ]
  },
  {
   "cell_type": "code",
   "execution_count": 49,
   "metadata": {
    "collapsed": true
   },
   "outputs": [
    {
     "name": "stdout",
     "output_type": "stream",
     "text": [
      "Help on class Fraction in module fractions:\n",
      "\n",
      "class Fraction(numbers.Rational)\n",
      " |  This class implements rational numbers.\n",
      " |  \n",
      " |  In the two-argument form of the constructor, Fraction(8, 6) will\n",
      " |  produce a rational number equivalent to 4/3. Both arguments must\n",
      " |  be Rational. The numerator defaults to 0 and the denominator\n",
      " |  defaults to 1 so that Fraction(3) == 3 and Fraction() == 0.\n",
      " |  \n",
      " |  Fractions can also be constructed from:\n",
      " |  \n",
      " |    - numeric strings similar to those accepted by the\n",
      " |      float constructor (for example, '-2.3' or '1e10')\n",
      " |  \n",
      " |    - strings of the form '123/456'\n",
      " |  \n",
      " |    - float and Decimal instances\n",
      " |  \n",
      " |    - other Rational instances (including integers)\n",
      " |  \n",
      " |  Method resolution order:\n",
      " |      Fraction\n",
      " |      numbers.Rational\n",
      " |      numbers.Real\n",
      " |      numbers.Complex\n",
      " |      numbers.Number\n",
      " |      builtins.object\n",
      " |  \n",
      " |  Methods defined here:\n",
      " |  \n",
      " |  __abs__(a)\n",
      " |      abs(a)\n",
      " |  \n",
      " |  __add__(a, b)\n",
      " |      a + b\n",
      " |  \n",
      " |  __bool__(a)\n",
      " |      a != 0\n",
      " |  \n",
      " |  __ceil__(a)\n",
      " |      Will be math.ceil(a) in 3.0.\n",
      " |  \n",
      " |  __copy__(self)\n",
      " |  \n",
      " |  __deepcopy__(self, memo)\n",
      " |  \n",
      " |  __eq__(a, b)\n",
      " |      a == b\n",
      " |  \n",
      " |  __floor__(a)\n",
      " |      Will be math.floor(a) in 3.0.\n",
      " |  \n",
      " |  __floordiv__(a, b)\n",
      " |      a // b\n",
      " |  \n",
      " |  __ge__(a, b)\n",
      " |      a >= b\n",
      " |  \n",
      " |  __gt__(a, b)\n",
      " |      a > b\n",
      " |  \n",
      " |  __hash__(self)\n",
      " |      hash(self)\n",
      " |  \n",
      " |  __le__(a, b)\n",
      " |      a <= b\n",
      " |  \n",
      " |  __lt__(a, b)\n",
      " |      a < b\n",
      " |  \n",
      " |  __mod__(a, b)\n",
      " |      a % b\n",
      " |  \n",
      " |  __mul__(a, b)\n",
      " |      a * b\n",
      " |  \n",
      " |  __neg__(a)\n",
      " |      -a\n",
      " |  \n",
      " |  __pos__(a)\n",
      " |      +a: Coerces a subclass instance to Fraction\n",
      " |  \n",
      " |  __pow__(a, b)\n",
      " |      a ** b\n",
      " |      \n",
      " |      If b is not an integer, the result will be a float or complex\n",
      " |      since roots are generally irrational. If b is an integer, the\n",
      " |      result will be rational.\n",
      " |  \n",
      " |  __radd__(b, a)\n",
      " |      a + b\n",
      " |  \n",
      " |  __reduce__(self)\n",
      " |      helper for pickle\n",
      " |  \n",
      " |  __repr__(self)\n",
      " |      repr(self)\n",
      " |  \n",
      " |  __rfloordiv__(b, a)\n",
      " |      a // b\n",
      " |  \n",
      " |  __rmod__(b, a)\n",
      " |      a % b\n",
      " |  \n",
      " |  __rmul__(b, a)\n",
      " |      a * b\n",
      " |  \n",
      " |  __round__(self, ndigits=None)\n",
      " |      Will be round(self, ndigits) in 3.0.\n",
      " |      \n",
      " |      Rounds half toward even.\n",
      " |  \n",
      " |  __rpow__(b, a)\n",
      " |      a ** b\n",
      " |  \n",
      " |  __rsub__(b, a)\n",
      " |      a - b\n",
      " |  \n",
      " |  __rtruediv__(b, a)\n",
      " |      a / b\n",
      " |  \n",
      " |  __str__(self)\n",
      " |      str(self)\n",
      " |  \n",
      " |  __sub__(a, b)\n",
      " |      a - b\n",
      " |  \n",
      " |  __truediv__(a, b)\n",
      " |      a / b\n",
      " |  \n",
      " |  __trunc__(a)\n",
      " |      trunc(a)\n",
      " |  \n",
      " |  limit_denominator(self, max_denominator=1000000)\n",
      " |      Closest Fraction to self with denominator at most max_denominator.\n",
      " |      \n",
      " |      >>> Fraction('3.141592653589793').limit_denominator(10)\n",
      " |      Fraction(22, 7)\n",
      " |      >>> Fraction('3.141592653589793').limit_denominator(100)\n",
      " |      Fraction(311, 99)\n",
      " |      >>> Fraction(4321, 8765).limit_denominator(10000)\n",
      " |      Fraction(4321, 8765)\n",
      " |  \n",
      " |  ----------------------------------------------------------------------\n",
      " |  Class methods defined here:\n",
      " |  \n",
      " |  from_decimal(dec) from abc.ABCMeta\n",
      " |      Converts a finite Decimal instance to a rational number, exactly.\n",
      " |  \n",
      " |  from_float(f) from abc.ABCMeta\n",
      " |      Converts a finite float to a rational number, exactly.\n",
      " |      \n",
      " |      Beware that Fraction.from_float(0.3) != Fraction(3, 10).\n",
      " |  \n",
      " |  ----------------------------------------------------------------------\n",
      " |  Static methods defined here:\n",
      " |  \n",
      " |  __new__(cls, numerator=0, denominator=None, _normalize=True)\n",
      " |      Constructs a Rational.\n",
      " |      \n",
      " |      Takes a string like '3/2' or '1.5', another Rational instance, a\n",
      " |      numerator/denominator pair, or a float.\n",
      " |      \n",
      " |      Examples\n",
      " |      --------\n",
      " |      \n",
      " |      >>> Fraction(10, -8)\n",
      " |      Fraction(-5, 4)\n",
      " |      >>> Fraction(Fraction(1, 7), 5)\n",
      " |      Fraction(1, 35)\n",
      " |      >>> Fraction(Fraction(1, 7), Fraction(2, 3))\n",
      " |      Fraction(3, 14)\n",
      " |      >>> Fraction('314')\n",
      " |      Fraction(314, 1)\n",
      " |      >>> Fraction('-35/4')\n",
      " |      Fraction(-35, 4)\n",
      " |      >>> Fraction('3.1415') # conversion from numeric string\n",
      " |      Fraction(6283, 2000)\n",
      " |      >>> Fraction('-47e-2') # string may include a decimal exponent\n",
      " |      Fraction(-47, 100)\n",
      " |      >>> Fraction(1.47)  # direct construction from float (exact conversion)\n",
      " |      Fraction(6620291452234629, 4503599627370496)\n",
      " |      >>> Fraction(2.25)\n",
      " |      Fraction(9, 4)\n",
      " |      >>> Fraction(Decimal('1.47'))\n",
      " |      Fraction(147, 100)\n",
      " |  \n",
      " |  ----------------------------------------------------------------------\n",
      " |  Data descriptors defined here:\n",
      " |  \n",
      " |  denominator\n",
      " |  \n",
      " |  numerator\n",
      " |  \n",
      " |  ----------------------------------------------------------------------\n",
      " |  Data and other attributes defined here:\n",
      " |  \n",
      " |  __abstractmethods__ = frozenset()\n",
      " |  \n",
      " |  ----------------------------------------------------------------------\n",
      " |  Methods inherited from numbers.Rational:\n",
      " |  \n",
      " |  __float__(self)\n",
      " |      float(self) = self.numerator / self.denominator\n",
      " |      \n",
      " |      It's important that this conversion use the integer's \"true\"\n",
      " |      division rather than casting one side to float before dividing\n",
      " |      so that ratios of huge integers convert without overflowing.\n",
      " |  \n",
      " |  ----------------------------------------------------------------------\n",
      " |  Methods inherited from numbers.Real:\n",
      " |  \n",
      " |  __complex__(self)\n",
      " |      complex(self) == complex(float(self), 0)\n",
      " |  \n",
      " |  __divmod__(self, other)\n",
      " |      divmod(self, other): The pair (self // other, self % other).\n",
      " |      \n",
      " |      Sometimes this can be computed faster than the pair of\n",
      " |      operations.\n",
      " |  \n",
      " |  __rdivmod__(self, other)\n",
      " |      divmod(other, self): The pair (self // other, self % other).\n",
      " |      \n",
      " |      Sometimes this can be computed faster than the pair of\n",
      " |      operations.\n",
      " |  \n",
      " |  conjugate(self)\n",
      " |      Conjugate is a no-op for Reals.\n",
      " |  \n",
      " |  ----------------------------------------------------------------------\n",
      " |  Data descriptors inherited from numbers.Real:\n",
      " |  \n",
      " |  imag\n",
      " |      Real numbers have no imaginary component.\n",
      " |  \n",
      " |  real\n",
      " |      Real numbers are their real component.\n",
      "\n"
     ]
    }
   ],
   "source": [
    "help(Fraction)"
   ]
  },
  {
   "cell_type": "code",
   "execution_count": 52,
   "metadata": {
    "collapsed": false
   },
   "outputs": [
    {
     "name": "stdout",
     "output_type": "stream",
     "text": [
      "1/4\n"
     ]
    }
   ],
   "source": [
    "cups = ingredient.split()[0]\n",
    "print(cups)"
   ]
  },
  {
   "cell_type": "code",
   "execution_count": 53,
   "metadata": {
    "collapsed": false
   },
   "outputs": [
    {
     "data": {
      "text/plain": [
       "Fraction(1, 4)"
      ]
     },
     "execution_count": 53,
     "metadata": {},
     "output_type": "execute_result"
    }
   ],
   "source": [
    "Fraction(cups)"
   ]
  },
  {
   "cell_type": "markdown",
   "metadata": {},
   "source": [
    "### next what type\n",
    "\n",
    "Generally, in our recipe there are three types: Large items, Dry solids, and liquids. If we generalize those, we can consolidate some operations.  We design three classes to hold our ingredients:"
   ]
  },
  {
   "cell_type": "code",
   "execution_count": 109,
   "metadata": {
    "collapsed": true
   },
   "outputs": [],
   "source": [
    "class DrySolid:\n",
    "    \"class for dry solids, like sugar or flour\"\n",
    "    name = \"solid\"\n",
    "    \n",
    "class Liquid:\n",
    "    \"class for liquids, like milk or beer\"\n",
    "    name = \"liquid\"\n",
    "    \n",
    "class LargeItem:\n",
    "    \"class for items, like an egg or apple\"\n",
    "    name = \"large item\"\n"
   ]
  },
  {
   "cell_type": "markdown",
   "metadata": {},
   "source": [
    "Now we can start to read the ingredients one-by-one. For this, we will create a shopping \"list\" to store these."
   ]
  },
  {
   "cell_type": "code",
   "execution_count": 77,
   "metadata": {
    "collapsed": true
   },
   "outputs": [],
   "source": [
    "shopping_list = []"
   ]
  },
  {
   "cell_type": "markdown",
   "metadata": {},
   "source": [
    "We look at each item one-by-one using \"interation\" iteration comes easy with Python with commands like \"for\" and \"in\".\n",
    "\n",
    "Let's look at those ingredients one-by-one. First here is where we start (also a stored list):"
   ]
  },
  {
   "cell_type": "code",
   "execution_count": 78,
   "metadata": {
    "collapsed": false
   },
   "outputs": [
    {
     "data": {
      "text/plain": [
       "['3-4 Granny Smith apples, depending on size, peeled and sliced',\n",
       " '1/2 cup brown sugar',\n",
       " '1/2 cup granulated sugar',\n",
       " '1/4 cup flour',\n",
       " '1 tsp apple pie spice (or 1 tsp cinnamon and 1/2 tsp nutmeg)']"
      ]
     },
     "execution_count": 78,
     "metadata": {},
     "output_type": "execute_result"
    }
   ],
   "source": [
    "recipe_as_dict['Parts'][0]['ingredients']"
   ]
  },
  {
   "cell_type": "markdown",
   "metadata": {},
   "source": [
    "Write a simple loop to process the items one at a time:"
   ]
  },
  {
   "cell_type": "code",
   "execution_count": 81,
   "metadata": {
    "collapsed": false
   },
   "outputs": [
    {
     "name": "stdout",
     "output_type": "stream",
     "text": [
      "====\n",
      "3-4 Granny Smith apples, depending on size, peeled and sliced\n",
      "====\n",
      "1/2 cup brown sugar\n",
      "====\n",
      "1/2 cup granulated sugar\n",
      "====\n",
      "1/4 cup flour\n",
      "====\n",
      "1 tsp apple pie spice (or 1 tsp cinnamon and 1/2 tsp nutmeg)\n"
     ]
    }
   ],
   "source": [
    "for ingredient in recipe_as_dict['Parts'][0]['ingredients']:\n",
    "    print(\"====\")\n",
    "    print(ingredient)"
   ]
  },
  {
   "cell_type": "markdown",
   "metadata": {},
   "source": [
    "Recall we have lists with \"[\" and \"]\" square brackets. Lists are like liquid, they can be changed, they are muttable. Tuples have parnthesis \"(\" and \")\". Tuples are \"T\"-ough. They can't change, they are immutable.\n",
    "\n",
    "We need a list that doesn't change that identifies things we can use to identify the type of an ingredients. A list of items that are solids, liquids, and large items:"
   ]
  },
  {
   "cell_type": "code",
   "execution_count": 82,
   "metadata": {
    "collapsed": true
   },
   "outputs": [],
   "source": [
    "solids = (\"flour\", \"sugar\")\n",
    "liquids = (\"water\", \"spice\")\n",
    "large_items = (\"apples\", \"eggs\")"
   ]
  },
  {
   "cell_type": "markdown",
   "metadata": {},
   "source": [
    "We need a function to tell if any of the keywords exist in the ingredient description"
   ]
  },
  {
   "cell_type": "code",
   "execution_count": 98,
   "metadata": {
    "collapsed": false
   },
   "outputs": [
    {
     "name": "stdout",
     "output_type": "stream",
     "text": [
      "found\n"
     ]
    }
   ],
   "source": [
    "# check if word is found in list\n",
    "test_string = \"1/2 cup granulated sugar\"\n",
    "for x in solids:\n",
    "    if x in test_string:\n",
    "        print(\"found\")\n",
    "        break"
   ]
  },
  {
   "cell_type": "markdown",
   "metadata": {},
   "source": [
    "We convert this to a function to take the ingredient and return the answer:"
   ]
  },
  {
   "cell_type": "code",
   "execution_count": 128,
   "metadata": {
    "collapsed": true
   },
   "outputs": [],
   "source": [
    "def is_ingredient_in_list(the_list, ingredient_string):\n",
    "    \"if any item \"\n",
    "    for list_item in the_list:\n",
    "        if list_item in ingredient_string:\n",
    "            print(\" - found {} -\".format(list_item))\n",
    "            return True\n",
    "    return False"
   ]
  },
  {
   "cell_type": "markdown",
   "metadata": {},
   "source": [
    "> Side note: Python has a nice feature called \"list comprehension\". It a short cut for iterating over a list. For example:\n",
    "\n",
    "```python \n",
    "any([x for x in solids if x in test_string])\n",
    "```\n"
   ]
  },
  {
   "cell_type": "code",
   "execution_count": 117,
   "metadata": {
    "collapsed": false
   },
   "outputs": [
    {
     "data": {
      "text/plain": [
       "True"
      ]
     },
     "execution_count": 117,
     "metadata": {},
     "output_type": "execute_result"
    }
   ],
   "source": [
    "any([x for x in solids if x in test_string])"
   ]
  },
  {
   "cell_type": "markdown",
   "metadata": {},
   "source": [
    "Control structures that help with logic are easy:\n",
    "\n",
    " * \"if\" tests a condition to be True\n",
    " * \"elif\" is else only if previous was if was False\n",
    " * \"else\" is the catch all\n",
    " * BONUS: \"raise\" tells the caller something went wrong\n",
    "\n",
    "now we iteratate over all the ingredients (like before) and add some logic to sort the items:"
   ]
  },
  {
   "cell_type": "code",
   "execution_count": 118,
   "metadata": {
    "collapsed": false
   },
   "outputs": [
    {
     "name": "stdout",
     "output_type": "stream",
     "text": [
      " - found apples\n",
      "3-4 Granny Smith apples, depending on size, peeled and sliced is a large items because contains sugar\n",
      " - found sugar\n",
      "1/2 cup brown sugar is a solid because contains sugar\n",
      " - found sugar\n",
      "1/2 cup granulated sugar is a solid because contains sugar\n",
      " - found flour\n",
      "1/4 cup flour is a solid because contains sugar\n",
      " - found spice\n",
      "1 tsp apple pie spice (or 1 tsp cinnamon and 1/2 tsp nutmeg) is a liquid because contains sugar\n"
     ]
    }
   ],
   "source": [
    "for ingredient in recipe_as_dict['Parts'][0]['ingredients']:\n",
    "    if is_ingredient_in_list(solids, ingredient):\n",
    "        print(\"{} is a solid because contains {}\".format(ingredient, x))\n",
    "    elif is_ingredient_in_list(liquids, ingredient):\n",
    "        print(\"{} is a liquid because contains {}\".format(ingredient, x))\n",
    "    elif is_ingredient_in_list(large_items, ingredient):\n",
    "        print(\"{} is a large items because contains {}\".format(ingredient, x))\n",
    "    else:\n",
    "        raise Exception(\"don't know what is {}\".format(ingredient))"
   ]
  },
  {
   "cell_type": "markdown",
   "metadata": {},
   "source": [
    "> Again, we concert this to a function to make our lives easier, also return an instance of the class:"
   ]
  },
  {
   "cell_type": "code",
   "execution_count": 125,
   "metadata": {
    "collapsed": true
   },
   "outputs": [],
   "source": [
    "def return_instance(ingredient):\n",
    "    \"given an ingredient string, return the intance\"\n",
    "    instance = None\n",
    "    if is_ingredient_in_list(solids, ingredient):\n",
    "        instance = DrySolid()\n",
    "    elif is_ingredient_in_list(liquids, ingredient):\n",
    "        instance = Liquid()\n",
    "    elif is_ingredient_in_list(large_items, ingredient):\n",
    "        instance = LargeItem()\n",
    "    else:\n",
    "        raise Exception(\"don't know what is '{}'\".format(ingredient))\n",
    "        \n",
    "    return instance\n"
   ]
  },
  {
   "cell_type": "markdown",
   "metadata": {},
   "source": [
    "Test it:"
   ]
  },
  {
   "cell_type": "code",
   "execution_count": 126,
   "metadata": {
    "collapsed": false
   },
   "outputs": [
    {
     "name": "stdout",
     "output_type": "stream",
     "text": [
      " - found sugar\n"
     ]
    },
    {
     "data": {
      "text/plain": [
       "<__main__.DrySolid at 0x106f5bfd0>"
      ]
     },
     "execution_count": 126,
     "metadata": {},
     "output_type": "execute_result"
    }
   ],
   "source": [
    "return_instance(\"3/4 cup of organic pure sugar\")"
   ]
  },
  {
   "cell_type": "markdown",
   "metadata": {},
   "source": [
    "> recall the \"Exception\", this it what it looks like if we call something never called before:"
   ]
  },
  {
   "cell_type": "code",
   "execution_count": 122,
   "metadata": {
    "collapsed": false
   },
   "outputs": [
    {
     "ename": "Exception",
     "evalue": "don't know what is '1 magic dragon'",
     "output_type": "error",
     "traceback": [
      "\u001b[0;31m---------------------------------------------------------------------------\u001b[0m",
      "\u001b[0;31mException\u001b[0m                                 Traceback (most recent call last)",
      "\u001b[0;32m<ipython-input-122-e85f2245a877>\u001b[0m in \u001b[0;36m<module>\u001b[0;34m()\u001b[0m\n\u001b[0;32m----> 1\u001b[0;31m \u001b[0mreturn_instance\u001b[0m\u001b[0;34m(\u001b[0m\u001b[0;34m\"1 magic dragon\"\u001b[0m\u001b[0;34m)\u001b[0m\u001b[0;34m\u001b[0m\u001b[0m\n\u001b[0m",
      "\u001b[0;32m<ipython-input-120-c6555de3baa2>\u001b[0m in \u001b[0;36mreturn_instance\u001b[0;34m(ingredient)\u001b[0m\n\u001b[1;32m      9\u001b[0m         \u001b[0minstance\u001b[0m \u001b[0;34m=\u001b[0m \u001b[0mLargeItem\u001b[0m\u001b[0;34m(\u001b[0m\u001b[0;34m)\u001b[0m\u001b[0;34m\u001b[0m\u001b[0m\n\u001b[1;32m     10\u001b[0m     \u001b[0;32melse\u001b[0m\u001b[0;34m:\u001b[0m\u001b[0;34m\u001b[0m\u001b[0m\n\u001b[0;32m---> 11\u001b[0;31m         \u001b[0;32mraise\u001b[0m \u001b[0mException\u001b[0m\u001b[0;34m(\u001b[0m\u001b[0;34m\"don't know what is '{}'\"\u001b[0m\u001b[0;34m.\u001b[0m\u001b[0mformat\u001b[0m\u001b[0;34m(\u001b[0m\u001b[0mingredient\u001b[0m\u001b[0;34m)\u001b[0m\u001b[0;34m)\u001b[0m\u001b[0;34m\u001b[0m\u001b[0m\n\u001b[0m\u001b[1;32m     12\u001b[0m \u001b[0;34m\u001b[0m\u001b[0m\n\u001b[1;32m     13\u001b[0m     \u001b[0mprint\u001b[0m\u001b[0;34m(\u001b[0m\u001b[0;34m\"'{}' is a {}\"\u001b[0m\u001b[0;34m.\u001b[0m\u001b[0mformat\u001b[0m\u001b[0;34m(\u001b[0m\u001b[0mingredient\u001b[0m\u001b[0;34m,\u001b[0m \u001b[0minstance\u001b[0m\u001b[0;34m.\u001b[0m\u001b[0mname\u001b[0m\u001b[0;34m)\u001b[0m\u001b[0;34m)\u001b[0m\u001b[0;34m\u001b[0m\u001b[0m\n",
      "\u001b[0;31mException\u001b[0m: don't know what is '1 magic dragon'"
     ]
    }
   ],
   "source": [
    "return_instance(\"1 magic dragon\")"
   ]
  },
  {
   "cell_type": "markdown",
   "metadata": {},
   "source": [
    "Let's put the function in the interation:"
   ]
  },
  {
   "cell_type": "code",
   "execution_count": 130,
   "metadata": {
    "collapsed": false
   },
   "outputs": [
    {
     "name": "stdout",
     "output_type": "stream",
     "text": [
      " - found apples -\n",
      "'3-4 Granny Smith apples, depending on size, peeled and sliced' is 'large item'\n",
      " - found sugar -\n",
      "'1/2 cup brown sugar' is 'solid'\n",
      " - found sugar -\n",
      "'1/2 cup granulated sugar' is 'solid'\n",
      " - found flour -\n",
      "'1/4 cup flour' is 'solid'\n",
      " - found spice -\n",
      "'1 tsp apple pie spice (or 1 tsp cinnamon and 1/2 tsp nutmeg)' is 'liquid'\n"
     ]
    }
   ],
   "source": [
    "shopping_list = []\n",
    "for ingredient in recipe_as_dict['Parts'][0]['ingredients']:\n",
    "    instance = return_instance(ingredient)\n",
    "    print(\"'{}' is '{}'\".format(ingredient, instance.name))\n",
    "    shopping_list.append(instance)"
   ]
  },
  {
   "cell_type": "markdown",
   "metadata": {},
   "source": [
    "> We have our shopping list. Let's take a look:"
   ]
  },
  {
   "cell_type": "code",
   "execution_count": 131,
   "metadata": {
    "collapsed": false
   },
   "outputs": [
    {
     "data": {
      "text/plain": [
       "[<__main__.LargeItem at 0x106f56eb8>,\n",
       " <__main__.DrySolid at 0x106f524a8>,\n",
       " <__main__.DrySolid at 0x106f56ef0>,\n",
       " <__main__.DrySolid at 0x106f56e48>,\n",
       " <__main__.Liquid at 0x106f56a58>]"
      ]
     },
     "execution_count": 131,
     "metadata": {},
     "output_type": "execute_result"
    }
   ],
   "source": [
    "shopping_list"
   ]
  },
  {
   "cell_type": "markdown",
   "metadata": {},
   "source": [
    "looks funny? Yes, those classes aren't useful yet. \n",
    "\n",
    "We need to add some functionality like:\n",
    "\n",
    " * parse the ingredient in parts (*we will do this by creating a super class IngredientBase*)\n",
    " * put those quanitites in the class\n",
    " * add some useful methods for baking\n",
    "\n",
    "Let's enhance these classes:\n"
   ]
  },
  {
   "cell_type": "code",
   "execution_count": 149,
   "metadata": {
    "collapsed": true
   },
   "outputs": [],
   "source": [
    "class IngredientBase:\n",
    "    \" Base class for common functionality \"\n",
    "    def parse_parts(self, ingredient_str):\n",
    "        parts = ingredient_str.split()\n",
    "        self.qty = parts[0]\n",
    "        self.unit = parts[1]\n",
    "        self.item = \" \".join(parts[2:])\n",
    "\n",
    "class DrySolid(IngredientBase):\n",
    "    \"class for dry solids, like sugar or flour\"\n",
    "    name = \"solid\"\n",
    "    \n",
    "class Liquid(IngredientBase):\n",
    "    \"class for liquids, like milk or beer\"\n",
    "    name = \"liquid\"\n",
    "    \n",
    "class LargeItem(IngredientBase):\n",
    "    \"class for items, like an egg or apple\"\n",
    "    name = \"large item\"\n"
   ]
  },
  {
   "cell_type": "code",
   "execution_count": 150,
   "metadata": {
    "collapsed": true
   },
   "outputs": [],
   "source": [
    "def return_instance(ingredient):\n",
    "    \"given an ingredient string, return the intance\"\n",
    "    instance = None\n",
    "    if is_ingredient_in_list(solids, ingredient):\n",
    "        instance = DrySolid()\n",
    "    elif is_ingredient_in_list(liquids, ingredient):\n",
    "        instance = Liquid()\n",
    "    elif is_ingredient_in_list(large_items, ingredient):\n",
    "        instance = LargeItem()\n",
    "    else:\n",
    "        raise Exception(\"don't know what is '{}'\".format(ingredient))\n",
    "    instance.parse_parts(ingredient)  #<-- we add this here\n",
    "    return instance \n"
   ]
  },
  {
   "cell_type": "markdown",
   "metadata": {},
   "source": [
    "Let's test it:"
   ]
  },
  {
   "cell_type": "code",
   "execution_count": 151,
   "metadata": {
    "collapsed": false
   },
   "outputs": [
    {
     "name": "stdout",
     "output_type": "stream",
     "text": [
      " - found sugar -\n"
     ]
    },
    {
     "data": {
      "text/plain": [
       "{'item': 'granulated sugar', 'qty': '1/2', 'unit': 'cup'}"
      ]
     },
     "execution_count": 151,
     "metadata": {},
     "output_type": "execute_result"
    }
   ],
   "source": [
    "ingredient_instance = return_instance(\"1/2 cup granulated sugar\")"
   ]
  },
  {
   "cell_type": "code",
   "execution_count": 153,
   "metadata": {
    "collapsed": false
   },
   "outputs": [
    {
     "name": "stdout",
     "output_type": "stream",
     "text": [
      "solid\n",
      "granulated sugar\n",
      "1/2\n",
      "cup\n"
     ]
    }
   ],
   "source": [
    "print(ingredient_instance.name)\n",
    "print(ingredient_instance.item)\n",
    "print(ingredient_instance.qty)\n",
    "print(ingredient_instance.unit)"
   ]
  },
  {
   "cell_type": "markdown",
   "metadata": {},
   "source": [
    "Some *special* method names that start with double \"_\" and end with double \"_\" in Python are useful:\n",
    "\n",
    " * \\__init__: it is called whenever a class instance is created (constructed)\n",
    " * \\__repr__: how to string represent the object\n",
    " * \\__dict__: a dictionary support the namespace within the class\n",
    "\n",
    "Now let's improve our classes by using these."
   ]
  },
  {
   "cell_type": "code",
   "execution_count": 186,
   "metadata": {
    "collapsed": false
   },
   "outputs": [],
   "source": [
    "class IngredientBase:\n",
    "    \" Base class for common functionality \"\n",
    "        \n",
    "    def __init__(self, ingredient_str):\n",
    "        self.original_ingredient_str = ingredient_str\n",
    "        self.parse_parts(ingredient_str)\n",
    "\n",
    "    def __repr__(self):\n",
    "        return \"<Ingredient ({}): {}>\".format(self.name,\n",
    "                                              self.original_ingredient_str)\n",
    "\n",
    "    def parse_parts(self, ingredient_str):\n",
    "        parts = ingredient_str.split()\n",
    "        self.qty = parts[0]\n",
    "        self.unit = parts[1]\n",
    "        self.item = \" \".join(parts[2:])\n",
    "\n",
    "class DrySolid(IngredientBase):\n",
    "    \"class for dry solids, like sugar or flour\"\n",
    "    name = \"solid\"\n",
    "    \n",
    "class Liquid(IngredientBase):\n",
    "    \"class for liquids, like milk or beer\"\n",
    "    name = \"liquid\"\n",
    "    \n",
    "class LargeItem(IngredientBase):\n",
    "    \"class for items, like an egg or apple\"\n",
    "    name = \"large item\""
   ]
  },
  {
   "cell_type": "code",
   "execution_count": 181,
   "metadata": {
    "collapsed": true
   },
   "outputs": [],
   "source": [
    "def return_instance(ingredient):\n",
    "    \"given an ingredient string, return the intance\"\n",
    "    instance = None\n",
    "    if is_ingredient_in_list(solids, ingredient):\n",
    "        instance = DrySolid(ingredient) #<-- now put it here\n",
    "    elif is_ingredient_in_list(liquids, ingredient):\n",
    "        instance = Liquid(ingredient) #<-- and here\n",
    "    elif is_ingredient_in_list(large_items, ingredient):\n",
    "        instance = LargeItem(ingredient) #<-- and here\n",
    "    else:\n",
    "        raise Exception(\"don't know what is '{}'\".format(ingredient))\n",
    "    # removed the parse call\n",
    "    return instance \n"
   ]
  },
  {
   "cell_type": "code",
   "execution_count": 189,
   "metadata": {
    "collapsed": false
   },
   "outputs": [
    {
     "name": "stdout",
     "output_type": "stream",
     "text": [
      " - found spice -\n",
      "['1', 'tsp', 'apple', 'pie', 'spice']\n",
      "<Ingredient (liquid): 1 tsp apple pie spice>\n",
      "{'item': 'apple pie spice', 'qty': '1', 'original_ingredient_str': '1 tsp apple pie spice', 'unit': 'tsp'}\n"
     ]
    }
   ],
   "source": [
    "ingredient_instance = return_instance(\"1 tsp apple pie spice\")\n",
    "print(ingredient_instance)\n",
    "print(ingredient_instance.__dict__)"
   ]
  },
  {
   "cell_type": "markdown",
   "metadata": {},
   "source": [
    "### putting it all together"
   ]
  },
  {
   "cell_type": "code",
   "execution_count": 203,
   "metadata": {
    "collapsed": true
   },
   "outputs": [],
   "source": [
    "solids = (\"flour\", \"sugar\", \"salt\", \"shortening\")\n",
    "liquids = (\"water\", \"spice\")\n",
    "large_items = (\"apples\", \"eggs\")\n",
    "\n",
    "\n",
    "class IngredientBase:\n",
    "    \" Base class for common functionality \"\n",
    "        \n",
    "    def __init__(self, ingredient_str):\n",
    "        self.original_ingredient_str = ingredient_str\n",
    "        self.parse_parts(ingredient_str)\n",
    "        \n",
    "    def __repr__(self):\n",
    "        return \"<Ingredient ({}): {}>\".format(self.name,\n",
    "                                              self.original_ingredient_str)\n",
    "        \n",
    "    def parse_parts(self, ingredient_str):\n",
    "        parts = ingredient_str.split()\n",
    "        self.qty = parts[0]\n",
    "        self.qty_max = 0\n",
    "        self.unit = parts[1]\n",
    "        self.item = \" \".join(parts[2:])\n",
    "        if self.unit == \"to\" or \"-\" in self.qty: # means a range was enetered\n",
    "            if \"-\" in self.qty:\n",
    "                minsize, maxsize = self.qty.split(\"-\")\n",
    "                self.qty = minsize\n",
    "                self.qty_max = maxsize\n",
    "            else:  # to\n",
    "                self.qty = parts[0]\n",
    "                self.qty_max = parts[2]\n",
    "                self.unit = parts[3]\n",
    "                self.item = \" \".join(parts[4:])                \n",
    "\n",
    "class DrySolid(IngredientBase):\n",
    "    \"class for dry solids, like sugar or flour\"\n",
    "    name = \"solid\"\n",
    "    \n",
    "class Liquid(IngredientBase):\n",
    "    \"class for liquids, like milk or beer\"\n",
    "    name = \"liquid\"\n",
    "    \n",
    "class LargeItem(IngredientBase):\n",
    "    \"class for items, like an egg or apple\"\n",
    "    name = \"large item\"\n",
    "\n",
    "    def parse_parts(self, ingredient_str):\n",
    "        parts = ingredient_str.split()\n",
    "        self.qty = parts[0]\n",
    "        self.qty_max = 0\n",
    "        self.unit = \"item\"\n",
    "        self.item = \" \".join(parts[1:])\n",
    "        if self.unit == \"to\" or \"-\" in self.qty: # means a range was enetered\n",
    "            if \"-\" in self.qty:\n",
    "                minsize, maxsize = self.qty.split(\"-\")\n",
    "                self.qty = minsize\n",
    "                self.qty_max = maxsize\n",
    "            else:  # to\n",
    "                self.qty = parts[0]\n",
    "                self.qty_max = parts[2]\n",
    "                self.unit = \"item\"\n",
    "                self.item = \" \".join(parts[3:])                \n",
    "\n",
    "    \n",
    "def return_instance(ingredient):\n",
    "    \"given an ingredient string, return the intance\"\n",
    "    instance = None\n",
    "    if is_ingredient_in_list(solids, ingredient):\n",
    "        instance = DrySolid(ingredient) #<-- now put it here\n",
    "    elif is_ingredient_in_list(liquids, ingredient):\n",
    "        instance = Liquid(ingredient) #<-- and here\n",
    "    elif is_ingredient_in_list(large_items, ingredient):\n",
    "        instance = LargeItem(ingredient) #<-- and here\n",
    "    else:\n",
    "        raise Exception(\"don't know what is '{}'\".format(ingredient))\n",
    "    # removed the parse call\n",
    "    return instance \n"
   ]
  },
  {
   "cell_type": "code",
   "execution_count": 204,
   "metadata": {
    "collapsed": false
   },
   "outputs": [
    {
     "name": "stdout",
     "output_type": "stream",
     "text": [
      " - found apples -\n",
      " - found sugar -\n",
      " - found sugar -\n",
      " - found flour -\n",
      " - found spice -\n",
      " - found flour -\n",
      " - found salt -\n",
      " - found shortening -\n",
      " - found water -\n"
     ]
    }
   ],
   "source": [
    "# Build a complete shopping list\n",
    "shopping_list = []\n",
    "for part in recipe_as_dict['Parts']:\n",
    "    for ingredient in part['ingredients']:\n",
    "        instance = return_instance(ingredient)\n",
    "        shopping_list.append(instance)\n",
    "        "
   ]
  },
  {
   "cell_type": "code",
   "execution_count": 205,
   "metadata": {
    "collapsed": false
   },
   "outputs": [
    {
     "name": "stdout",
     "output_type": "stream",
     "text": [
      "<Ingredient (large item): 3-4 Granny Smith apples, depending on size, peeled and sliced>\n",
      "{'item': 'Granny Smith apples, depending on size, peeled and sliced',\n",
      " 'original_ingredient_str': '3-4 Granny Smith apples, depending on size, '\n",
      "                            'peeled and sliced',\n",
      " 'qty': '3',\n",
      " 'qty_max': '4',\n",
      " 'unit': 'item'}\n",
      "<Ingredient (solid): 1/2 cup brown sugar>\n",
      "{'item': 'brown sugar',\n",
      " 'original_ingredient_str': '1/2 cup brown sugar',\n",
      " 'qty': '1/2',\n",
      " 'qty_max': 0,\n",
      " 'unit': 'cup'}\n",
      "<Ingredient (solid): 1/2 cup granulated sugar>\n",
      "{'item': 'granulated sugar',\n",
      " 'original_ingredient_str': '1/2 cup granulated sugar',\n",
      " 'qty': '1/2',\n",
      " 'qty_max': 0,\n",
      " 'unit': 'cup'}\n",
      "<Ingredient (solid): 1/4 cup flour>\n",
      "{'item': 'flour',\n",
      " 'original_ingredient_str': '1/4 cup flour',\n",
      " 'qty': '1/4',\n",
      " 'qty_max': 0,\n",
      " 'unit': 'cup'}\n",
      "<Ingredient (liquid): 1 tsp apple pie spice (or 1 tsp cinnamon and 1/2 tsp nutmeg)>\n",
      "{'item': 'apple pie spice (or 1 tsp cinnamon and 1/2 tsp nutmeg)',\n",
      " 'original_ingredient_str': '1 tsp apple pie spice (or 1 tsp cinnamon and 1/2 '\n",
      "                            'tsp nutmeg)',\n",
      " 'qty': '1',\n",
      " 'qty_max': 0,\n",
      " 'unit': 'tsp'}\n",
      "<Ingredient (solid): 2 cups flour>\n",
      "{'item': 'flour',\n",
      " 'original_ingredient_str': '2 cups flour',\n",
      " 'qty': '2',\n",
      " 'qty_max': 0,\n",
      " 'unit': 'cups'}\n",
      "<Ingredient (solid): 1 tsp salt>\n",
      "{'item': 'salt',\n",
      " 'original_ingredient_str': '1 tsp salt',\n",
      " 'qty': '1',\n",
      " 'qty_max': 0,\n",
      " 'unit': 'tsp'}\n",
      "<Ingredient (solid): 3/4 cup solid shortening (like Crisco)>\n",
      "{'item': 'solid shortening (like Crisco)',\n",
      " 'original_ingredient_str': '3/4 cup solid shortening (like Crisco)',\n",
      " 'qty': '3/4',\n",
      " 'qty_max': 0,\n",
      " 'unit': 'cup'}\n",
      "<Ingredient (liquid): 1/4 to 1/2 cup ice water>\n",
      "{'item': 'ice water',\n",
      " 'original_ingredient_str': '1/4 to 1/2 cup ice water',\n",
      " 'qty': '1/4',\n",
      " 'qty_max': '1/2',\n",
      " 'unit': 'cup'}\n"
     ]
    }
   ],
   "source": [
    "from pprint import pprint\n",
    "\n",
    "for item in shopping_list:\n",
    "    print(item)\n",
    "    pprint(item.__dict__)"
   ]
  }
 ],
 "metadata": {
  "anaconda-cloud": {},
  "kernelspec": {
   "display_name": "Python [py3k]",
   "language": "python",
   "name": "Python [py3k]"
  },
  "language_info": {
   "codemirror_mode": {
    "name": "ipython",
    "version": 3
   },
   "file_extension": ".py",
   "mimetype": "text/x-python",
   "name": "python",
   "nbconvert_exporter": "python",
   "pygments_lexer": "ipython3",
   "version": "3.5.2"
  }
 },
 "nbformat": 4,
 "nbformat_minor": 0
}
