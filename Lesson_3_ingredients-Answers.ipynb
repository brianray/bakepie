{
 "cells": [
  {
   "cell_type": "markdown",
   "metadata": {},
   "source": [
    "# Ingredients: Python Base Types\n",
    "\n",
    "<img src=\"misc/3_ingredients on table.png\" width=\"100%\" />\n",
    "\n",
    "\n",
    "## 3.1 What is an ingredient? What is a type?\n",
    "In cooking, there are generally three sources of \"ingredients:\"\n",
    "\n",
    " * Things you buy from the store (imported types)\n",
    " * Things you already have in your kitchen (built-in types)\n",
    " * And things you combine to make yourself (user-defined types)\n",
    "\n",
    "In Python, it's the same.\n",
    "\n",
    " * Things you import from other internal or third party libraries/modules (imported types)\n",
    " * Things built in (built-in types)\n",
    " * And user defined classes (user-defined types)\n",
    "\n",
    "A quick example of each:"
   ]
  },
  {
   "cell_type": "code",
   "execution_count": 1,
   "metadata": {
    "collapsed": false
   },
   "outputs": [
    {
     "name": "stdout",
     "output_type": "stream",
     "text": [
      "<class 'module'>\n",
      "Hi\n",
      "<class 'int'>\n",
      "1\n",
      "<class '__main__.Mine'>\n",
      "<__main__.Mine object at 0x104946be0>\n"
     ]
    }
   ],
   "source": [
    "# 1. import third party module\n",
    "import hello\n",
    "print(type(hello))\n",
    "print(hello.say_hello())\n",
    "\n",
    "# 2. built-in\n",
    "\n",
    "a = 1\n",
    "print(type(a))\n",
    "print(a)\n",
    "\n",
    "# 3. class\n",
    "class Mine: pass\n",
    "\n",
    "a = Mine()\n",
    "\n",
    "print(type(a))\n",
    "print(a)"
   ]
  },
  {
   "cell_type": "markdown",
   "metadata": {},
   "source": [
    "### Built-in Types\n",
    "\n",
    "* numerics: int, float\n",
    "* sequences: list, tuple\n",
    "* text sequence: str\n",
    "* mapping types: dict"
   ]
  },
  {
   "cell_type": "code",
   "execution_count": 2,
   "metadata": {
    "collapsed": false
   },
   "outputs": [
    {
     "name": "stdout",
     "output_type": "stream",
     "text": [
      "<class 'list'>\n",
      "[1, 2, 3]\n",
      "<class 'tuple'>\n",
      "(1, 2, 3)\n",
      "<class 'str'>\n",
      "I love pie\n",
      "<class 'dict'>\n",
      "{1: 'milk', 2: 'honey', 3: 'eggs'}\n"
     ]
    }
   ],
   "source": [
    "# int\n",
    "v = 1\n",
    "# float\n",
    "v = 1.0\n",
    "\n",
    "#   list [1, 2, 3] - square brackets\n",
    "my_list = [1, 2, 3]\n",
    "print(type(my_list))\n",
    "print(my_list)\n",
    "\n",
    "#   tuple (1, 2, 3) - parenthesis\n",
    "my_tuple = (1, 2, 3)\n",
    "print(type(my_tuple))\n",
    "print(my_tuple)\n",
    "\n",
    "# str \"hello world\" - quotes, single, double, triple\n",
    "my_str = \"I love pie\"\n",
    "print(type(my_str))\n",
    "print(my_str)\n",
    "\n",
    "#   dict  {1: 1, 2: 2, 3: 3} - curly\n",
    "my_dict= {1: \"milk\", 2: \"honey\", 3: \"eggs\"}\n",
    "print(type(my_dict))\n",
    "print(my_dict)\n"
   ]
  },
  {
   "cell_type": "markdown",
   "metadata": {},
   "source": [
    "\n",
    "## 3.2 User-defined types\n",
    "\n",
    "Just like when we combine ingredients to make a new ingredient, we will make a user defined type also known as a \"class.\"\n",
    "\n",
    "Let's talk about what is meant when someone says \"type\" and \"instance\" in Python.\n",
    "\n",
    "Let's take the example \"2 cups flour.” Think of it this way:\n",
    " * A \"cup of flour\" is a [type or class]. Think of this as an empty measuring cup that only holds flour.\n",
    " * \"2 cups flour\" is an [instance or object]. Think of this as a full measuring cup of flour. We call this \"instantiated\" \n",
    " \n",
    "Now in Python code:\n"
   ]
  },
  {
   "cell_type": "code",
   "execution_count": 3,
   "metadata": {
    "collapsed": false
   },
   "outputs": [],
   "source": [
    "class CupOfFlour:\n",
    "    \"User defined type\"\n",
    "    def __init__(self, initial_size=1):\n",
    "        self.size = initial_size"
   ]
  },
  {
   "cell_type": "markdown",
   "metadata": {},
   "source": [
    "> First let's look at the class (type) `CupOfFlour`"
   ]
  },
  {
   "cell_type": "code",
   "execution_count": 4,
   "metadata": {
    "collapsed": false
   },
   "outputs": [
    {
     "name": "stdout",
     "output_type": "stream",
     "text": [
      "type of CupOfFlour is type: <class 'type'>\n"
     ]
    }
   ],
   "source": [
    "print(\"type of CupOfFlour is type: {}\".format(type(CupOfFlour)))"
   ]
  },
  {
   "cell_type": "markdown",
   "metadata": {},
   "source": [
    "That is because the base of user-defined type is [type]. Similar to the built-in types, list, dict, ... also base type is [type].\n",
    "\n",
    "> Now let's \"instantiate\" the `CupOfFlour`. For this we use `(` + `)`. Same way you call a function.\n"
   ]
  },
  {
   "cell_type": "code",
   "execution_count": 5,
   "metadata": {
    "collapsed": false
   },
   "outputs": [],
   "source": [
    "two_cups_of_flour = CupOfFlour(initial_size=2)"
   ]
  },
  {
   "cell_type": "code",
   "execution_count": 6,
   "metadata": {
    "collapsed": false
   },
   "outputs": [
    {
     "name": "stdout",
     "output_type": "stream",
     "text": [
      "<__main__.CupOfFlour object at 0x104946d68>\n",
      "type of two_cups_of_flour: <class '__main__.CupOfFlour'>\n"
     ]
    }
   ],
   "source": [
    "print(two_cups_of_flour)\n",
    "print(\"type of two_cups_of_flour: {}\".format(type(two_cups_of_flour)))"
   ]
  },
  {
   "cell_type": "code",
   "execution_count": 7,
   "metadata": {
    "collapsed": false
   },
   "outputs": [
    {
     "data": {
      "text/plain": [
       "2"
      ]
     },
     "execution_count": 7,
     "metadata": {},
     "output_type": "execute_result"
    }
   ],
   "source": [
    "two_cups_of_flour.size"
   ]
  },
  {
   "cell_type": "markdown",
   "metadata": {},
   "source": [
    "## 3.3 Storing quantities of ingredients\n",
    "\n",
    "\n",
    "When baking a pie, we do care about quantities. We need to get those out of the strings from Chapter 2 so we can use them.\n",
    "\n",
    "Using the code from below (%run is not a python command, but for this notebook), Let's run the code from the previous chapter.\n",
    "\n",
    "Think about the following:\n",
    "\n",
    " * how much: quantities\n",
    " * what: type\n",
    " * how many: collections\n",
    " \n",
    "When you bake a pie you may use a measuring cup and re-use that for several ingredients you will mix together. It could indicate that we can treat those as variations the same type.\n",
    "\n",
    "> We load the data from the previous chapter:"
   ]
  },
  {
   "cell_type": "code",
   "execution_count": 8,
   "metadata": {
    "collapsed": false,
    "scrolled": true
   },
   "outputs": [],
   "source": [
    "import pickle\n",
    "recipe_as_dict = pickle.load(open(\"data.pickle\", \"rb\"))"
   ]
  },
  {
   "cell_type": "markdown",
   "metadata": {},
   "source": [
    "First, how much\n",
    "\n",
    "> we use the value of the keys to reference items in a dictionary. "
   ]
  },
  {
   "cell_type": "code",
   "execution_count": 9,
   "metadata": {
    "collapsed": false,
    "scrolled": false
   },
   "outputs": [
    {
     "name": "stdout",
     "output_type": "stream",
     "text": [
      "1/4 cup flour\n"
     ]
    }
   ],
   "source": [
    "ingredient = recipe_as_dict['Parts'][0]['ingredients'][3]\n",
    "print(ingredient)"
   ]
  },
  {
   "cell_type": "markdown",
   "metadata": {},
   "source": [
    "> When you \"import\" something in Python, you are making a type available to use:"
   ]
  },
  {
   "cell_type": "code",
   "execution_count": 10,
   "metadata": {
    "collapsed": true
   },
   "outputs": [],
   "source": [
    "from fractions import Fraction"
   ]
  },
  {
   "cell_type": "code",
   "execution_count": 11,
   "metadata": {
    "collapsed": false
   },
   "outputs": [
    {
     "name": "stdout",
     "output_type": "stream",
     "text": [
      "Help on class Fraction in module fractions:\n",
      "\n",
      "class Fraction(numbers.Rational)\n",
      " |  This class implements rational numbers.\n",
      " |  \n",
      " |  In the two-argument form of the constructor, Fraction(8, 6) will\n",
      " |  produce a rational number equivalent to 4/3. Both arguments must\n",
      " |  be Rational. The numerator defaults to 0 and the denominator\n",
      " |  defaults to 1 so that Fraction(3) == 3 and Fraction() == 0.\n",
      " |  \n",
      " |  Fractions can also be constructed from:\n",
      " |  \n",
      " |    - numeric strings similar to those accepted by the\n",
      " |      float constructor (for example, '-2.3' or '1e10')\n",
      " |  \n",
      " |    - strings of the form '123/456'\n",
      " |  \n",
      " |    - float and Decimal instances\n",
      " |  \n",
      " |    - other Rational instances (including integers)\n",
      " |  \n",
      " |  Method resolution order:\n",
      " |      Fraction\n",
      " |      numbers.Rational\n",
      " |      numbers.Real\n",
      " |      numbers.Complex\n",
      " |      numbers.Number\n",
      " |      builtins.object\n",
      " |  \n",
      " |  Methods defined here:\n",
      " |  \n",
      " |  __abs__(a)\n",
      " |      abs(a)\n",
      " |  \n",
      " |  __add__(a, b)\n",
      " |      a + b\n",
      " |  \n",
      " |  __bool__(a)\n",
      " |      a != 0\n",
      " |  \n",
      " |  __ceil__(a)\n",
      " |      Will be math.ceil(a) in 3.0.\n",
      " |  \n",
      " |  __copy__(self)\n",
      " |  \n",
      " |  __deepcopy__(self, memo)\n",
      " |  \n",
      " |  __eq__(a, b)\n",
      " |      a == b\n",
      " |  \n",
      " |  __floor__(a)\n",
      " |      Will be math.floor(a) in 3.0.\n",
      " |  \n",
      " |  __floordiv__(a, b)\n",
      " |      a // b\n",
      " |  \n",
      " |  __ge__(a, b)\n",
      " |      a >= b\n",
      " |  \n",
      " |  __gt__(a, b)\n",
      " |      a > b\n",
      " |  \n",
      " |  __hash__(self)\n",
      " |      hash(self)\n",
      " |  \n",
      " |  __le__(a, b)\n",
      " |      a <= b\n",
      " |  \n",
      " |  __lt__(a, b)\n",
      " |      a < b\n",
      " |  \n",
      " |  __mod__(a, b)\n",
      " |      a % b\n",
      " |  \n",
      " |  __mul__(a, b)\n",
      " |      a * b\n",
      " |  \n",
      " |  __neg__(a)\n",
      " |      -a\n",
      " |  \n",
      " |  __pos__(a)\n",
      " |      +a: Coerces a subclass instance to Fraction\n",
      " |  \n",
      " |  __pow__(a, b)\n",
      " |      a ** b\n",
      " |      \n",
      " |      If b is not an integer, the result will be a float or complex\n",
      " |      since roots are generally irrational. If b is an integer, the\n",
      " |      result will be rational.\n",
      " |  \n",
      " |  __radd__(b, a)\n",
      " |      a + b\n",
      " |  \n",
      " |  __reduce__(self)\n",
      " |      helper for pickle\n",
      " |  \n",
      " |  __repr__(self)\n",
      " |      repr(self)\n",
      " |  \n",
      " |  __rfloordiv__(b, a)\n",
      " |      a // b\n",
      " |  \n",
      " |  __rmod__(b, a)\n",
      " |      a % b\n",
      " |  \n",
      " |  __rmul__(b, a)\n",
      " |      a * b\n",
      " |  \n",
      " |  __round__(self, ndigits=None)\n",
      " |      Will be round(self, ndigits) in 3.0.\n",
      " |      \n",
      " |      Rounds half toward even.\n",
      " |  \n",
      " |  __rpow__(b, a)\n",
      " |      a ** b\n",
      " |  \n",
      " |  __rsub__(b, a)\n",
      " |      a - b\n",
      " |  \n",
      " |  __rtruediv__(b, a)\n",
      " |      a / b\n",
      " |  \n",
      " |  __str__(self)\n",
      " |      str(self)\n",
      " |  \n",
      " |  __sub__(a, b)\n",
      " |      a - b\n",
      " |  \n",
      " |  __truediv__(a, b)\n",
      " |      a / b\n",
      " |  \n",
      " |  __trunc__(a)\n",
      " |      trunc(a)\n",
      " |  \n",
      " |  limit_denominator(self, max_denominator=1000000)\n",
      " |      Closest Fraction to self with denominator at most max_denominator.\n",
      " |      \n",
      " |      >>> Fraction('3.141592653589793').limit_denominator(10)\n",
      " |      Fraction(22, 7)\n",
      " |      >>> Fraction('3.141592653589793').limit_denominator(100)\n",
      " |      Fraction(311, 99)\n",
      " |      >>> Fraction(4321, 8765).limit_denominator(10000)\n",
      " |      Fraction(4321, 8765)\n",
      " |  \n",
      " |  ----------------------------------------------------------------------\n",
      " |  Class methods defined here:\n",
      " |  \n",
      " |  from_decimal(dec) from abc.ABCMeta\n",
      " |      Converts a finite Decimal instance to a rational number, exactly.\n",
      " |  \n",
      " |  from_float(f) from abc.ABCMeta\n",
      " |      Converts a finite float to a rational number, exactly.\n",
      " |      \n",
      " |      Beware that Fraction.from_float(0.3) != Fraction(3, 10).\n",
      " |  \n",
      " |  ----------------------------------------------------------------------\n",
      " |  Static methods defined here:\n",
      " |  \n",
      " |  __new__(cls, numerator=0, denominator=None, _normalize=True)\n",
      " |      Constructs a Rational.\n",
      " |      \n",
      " |      Takes a string like '3/2' or '1.5', another Rational instance, a\n",
      " |      numerator/denominator pair, or a float.\n",
      " |      \n",
      " |      Examples\n",
      " |      --------\n",
      " |      \n",
      " |      >>> Fraction(10, -8)\n",
      " |      Fraction(-5, 4)\n",
      " |      >>> Fraction(Fraction(1, 7), 5)\n",
      " |      Fraction(1, 35)\n",
      " |      >>> Fraction(Fraction(1, 7), Fraction(2, 3))\n",
      " |      Fraction(3, 14)\n",
      " |      >>> Fraction('314')\n",
      " |      Fraction(314, 1)\n",
      " |      >>> Fraction('-35/4')\n",
      " |      Fraction(-35, 4)\n",
      " |      >>> Fraction('3.1415') # conversion from numeric string\n",
      " |      Fraction(6283, 2000)\n",
      " |      >>> Fraction('-47e-2') # string may include a decimal exponent\n",
      " |      Fraction(-47, 100)\n",
      " |      >>> Fraction(1.47)  # direct construction from float (exact conversion)\n",
      " |      Fraction(6620291452234629, 4503599627370496)\n",
      " |      >>> Fraction(2.25)\n",
      " |      Fraction(9, 4)\n",
      " |      >>> Fraction(Decimal('1.47'))\n",
      " |      Fraction(147, 100)\n",
      " |  \n",
      " |  ----------------------------------------------------------------------\n",
      " |  Data descriptors defined here:\n",
      " |  \n",
      " |  denominator\n",
      " |  \n",
      " |  numerator\n",
      " |  \n",
      " |  ----------------------------------------------------------------------\n",
      " |  Data and other attributes defined here:\n",
      " |  \n",
      " |  __abstractmethods__ = frozenset()\n",
      " |  \n",
      " |  ----------------------------------------------------------------------\n",
      " |  Methods inherited from numbers.Rational:\n",
      " |  \n",
      " |  __float__(self)\n",
      " |      float(self) = self.numerator / self.denominator\n",
      " |      \n",
      " |      It's important that this conversion use the integer's \"true\"\n",
      " |      division rather than casting one side to float before dividing\n",
      " |      so that ratios of huge integers convert without overflowing.\n",
      " |  \n",
      " |  ----------------------------------------------------------------------\n",
      " |  Methods inherited from numbers.Real:\n",
      " |  \n",
      " |  __complex__(self)\n",
      " |      complex(self) == complex(float(self), 0)\n",
      " |  \n",
      " |  __divmod__(self, other)\n",
      " |      divmod(self, other): The pair (self // other, self % other).\n",
      " |      \n",
      " |      Sometimes this can be computed faster than the pair of\n",
      " |      operations.\n",
      " |  \n",
      " |  __rdivmod__(self, other)\n",
      " |      divmod(other, self): The pair (self // other, self % other).\n",
      " |      \n",
      " |      Sometimes this can be computed faster than the pair of\n",
      " |      operations.\n",
      " |  \n",
      " |  conjugate(self)\n",
      " |      Conjugate is a no-op for Reals.\n",
      " |  \n",
      " |  ----------------------------------------------------------------------\n",
      " |  Data descriptors inherited from numbers.Real:\n",
      " |  \n",
      " |  imag\n",
      " |      Real numbers have no imaginary component.\n",
      " |  \n",
      " |  real\n",
      " |      Real numbers are their real component.\n",
      "\n"
     ]
    }
   ],
   "source": [
    "help(Fraction)"
   ]
  },
  {
   "cell_type": "code",
   "execution_count": 12,
   "metadata": {
    "collapsed": false
   },
   "outputs": [
    {
     "name": "stdout",
     "output_type": "stream",
     "text": [
      "1/4\n"
     ]
    }
   ],
   "source": [
    "cups = ingredient.split()[0]\n",
    "print(cups)"
   ]
  },
  {
   "cell_type": "code",
   "execution_count": 13,
   "metadata": {
    "collapsed": false
   },
   "outputs": [
    {
     "data": {
      "text/plain": [
       "Fraction(1, 4)"
      ]
     },
     "execution_count": 13,
     "metadata": {},
     "output_type": "execute_result"
    }
   ],
   "source": [
    "Fraction(cups)"
   ]
  },
  {
   "cell_type": "markdown",
   "metadata": {},
   "source": [
    "## 3.4 What type\n",
    "\n",
    "Generally, in our recipe there are three types: Large items, Dry solids, and liquids. If we generalize those, we can consolidate some operations. We design three classes to hold our ingredients:"
   ]
  },
  {
   "cell_type": "code",
   "execution_count": 14,
   "metadata": {
    "collapsed": true
   },
   "outputs": [],
   "source": [
    "class DrySolid:\n",
    "    \"class for dry solids, like sugar or flour\"\n",
    "    name = \"solid\"\n",
    "    \n",
    "class Liquid:\n",
    "    \"class for liquids, like milk or beer\"\n",
    "    name = \"liquid\"\n",
    "    \n",
    "class LargeItem:\n",
    "    \"class for items, like an egg or apple\"\n",
    "    name = \"large item\"\n"
   ]
  },
  {
   "cell_type": "markdown",
   "metadata": {},
   "source": [
    "Now we can start to read the ingredients one-by-one. For this, we will create a shopping \"list\" to store these."
   ]
  },
  {
   "cell_type": "code",
   "execution_count": 15,
   "metadata": {
    "collapsed": true
   },
   "outputs": [],
   "source": [
    "shopping_list = []"
   ]
  },
  {
   "cell_type": "markdown",
   "metadata": {},
   "source": [
    "We look at each item one-by-one using **iteration**.  Iteration comes easy with Python with commands like `for` and `in`.\n",
    "\n",
    "Let's look at those ingredients one-by-one. First here is where we start (also a stored list):"
   ]
  },
  {
   "cell_type": "code",
   "execution_count": 16,
   "metadata": {
    "collapsed": false
   },
   "outputs": [
    {
     "data": {
      "text/plain": [
       "['3-4 Granny Smith apples, depending on size, peeled and sliced',\n",
       " '1/2 cup brown sugar',\n",
       " '1/2 cup granulated sugar',\n",
       " '1/4 cup flour',\n",
       " '1 tsp apple pie spice (or 1 tsp cinnamon and 1/2 tsp nutmeg)']"
      ]
     },
     "execution_count": 16,
     "metadata": {},
     "output_type": "execute_result"
    }
   ],
   "source": [
    "recipe_as_dict['Parts'][0]['ingredients']"
   ]
  },
  {
   "cell_type": "markdown",
   "metadata": {},
   "source": [
    "Write a simple loop to process the items one at a time:"
   ]
  },
  {
   "cell_type": "code",
   "execution_count": 17,
   "metadata": {
    "collapsed": false
   },
   "outputs": [
    {
     "name": "stdout",
     "output_type": "stream",
     "text": [
      "====\n",
      "3-4 Granny Smith apples, depending on size, peeled and sliced\n",
      "====\n",
      "1/2 cup brown sugar\n",
      "====\n",
      "1/2 cup granulated sugar\n",
      "====\n",
      "1/4 cup flour\n",
      "====\n",
      "1 tsp apple pie spice (or 1 tsp cinnamon and 1/2 tsp nutmeg)\n"
     ]
    }
   ],
   "source": [
    "for ingredient in recipe_as_dict['Parts'][0]['ingredients']:\n",
    "    print(\"====\")\n",
    "    print(ingredient)"
   ]
  },
  {
   "cell_type": "markdown",
   "metadata": {},
   "source": [
    "\n",
    "Recall we have lists with `[` and `]` square brackets. Lists are like liquid; they can be changed; they are mutable. Tuples have parentheses `(` and `)`. Tuples are \"T\"-ough. They can't change; they are immutable.\n",
    "\n",
    "We need a list that doesn't change that identifies things we can use to identify the type of an ingredients--a list of items that are solids, liquids, and large items:\n"
   ]
  },
  {
   "cell_type": "code",
   "execution_count": 18,
   "metadata": {
    "collapsed": true
   },
   "outputs": [],
   "source": [
    "solids = (\"flour\", \"sugar\")\n",
    "liquids = (\"water\", \"spice\")\n",
    "large_items = (\"apples\", \"eggs\")"
   ]
  },
  {
   "cell_type": "markdown",
   "metadata": {},
   "source": [
    "We need a function to tell whether any of the keywords exist in the ingredient description:"
   ]
  },
  {
   "cell_type": "code",
   "execution_count": 19,
   "metadata": {
    "collapsed": false
   },
   "outputs": [
    {
     "name": "stdout",
     "output_type": "stream",
     "text": [
      "found\n"
     ]
    }
   ],
   "source": [
    "# check if word is found in list\n",
    "test_string = \"1/2 cup granulated sugar\"\n",
    "for x in solids:\n",
    "    if x in test_string:\n",
    "        print(\"found\")\n",
    "        break"
   ]
  },
  {
   "cell_type": "markdown",
   "metadata": {},
   "source": [
    "We convert this to a function to take the ingredient and return the answer:"
   ]
  },
  {
   "cell_type": "code",
   "execution_count": 20,
   "metadata": {
    "collapsed": true
   },
   "outputs": [],
   "source": [
    "def is_ingredient_in_list(the_list, ingredient_string):\n",
    "    \"if any item \"\n",
    "    for list_item in the_list:\n",
    "        if list_item in ingredient_string:\n",
    "            print(\" - found {} -\".format(list_item))\n",
    "            return True\n",
    "    return False"
   ]
  },
  {
   "cell_type": "markdown",
   "metadata": {},
   "source": [
    "> Side note: Python has a nice feature called \"list comprehension\". It a shortcut for iterating over a list. For example:\n",
    "\n",
    "\n",
    "```python \n",
    "any([x for x in solids if x in test_string])\n",
    "```\n"
   ]
  },
  {
   "cell_type": "code",
   "execution_count": 21,
   "metadata": {
    "collapsed": false
   },
   "outputs": [
    {
     "data": {
      "text/plain": [
       "True"
      ]
     },
     "execution_count": 21,
     "metadata": {},
     "output_type": "execute_result"
    }
   ],
   "source": [
    "any([x for x in solids if x in test_string])"
   ]
  },
  {
   "cell_type": "markdown",
   "metadata": {},
   "source": [
    "Control structures that help with logic are easy:\n",
    "\n",
    " * `if` tests whether condition is True\n",
    " * `elif` is else only if previous was if was False\n",
    " * `else` is the catch all\n",
    " * BONUS: \"raise\" tells the caller something went wrong\n",
    "\n",
    "Now we iterate over all the ingredients (like before) and add some logic to sort the items:"
   ]
  },
  {
   "cell_type": "code",
   "execution_count": 22,
   "metadata": {
    "collapsed": false
   },
   "outputs": [
    {
     "name": "stdout",
     "output_type": "stream",
     "text": [
      " - found apples -\n",
      "3-4 Granny Smith apples, depending on size, peeled and sliced is a large items because contains sugar\n",
      " - found sugar -\n",
      "1/2 cup brown sugar is a solid because contains sugar\n",
      " - found sugar -\n",
      "1/2 cup granulated sugar is a solid because contains sugar\n",
      " - found flour -\n",
      "1/4 cup flour is a solid because contains sugar\n",
      " - found spice -\n",
      "1 tsp apple pie spice (or 1 tsp cinnamon and 1/2 tsp nutmeg) is a liquid because contains sugar\n"
     ]
    }
   ],
   "source": [
    "for ingredient in recipe_as_dict['Parts'][0]['ingredients']:\n",
    "    if is_ingredient_in_list(solids, ingredient):\n",
    "        print(\"{} is a solid because contains {}\".format(ingredient, x))\n",
    "    elif is_ingredient_in_list(liquids, ingredient):\n",
    "        print(\"{} is a liquid because contains {}\".format(ingredient, x))\n",
    "    elif is_ingredient_in_list(large_items, ingredient):\n",
    "        print(\"{} is a large items because contains {}\".format(ingredient, x))\n",
    "    else:\n",
    "        raise Exception(\"don't know what is {}\".format(ingredient))"
   ]
  },
  {
   "cell_type": "markdown",
   "metadata": {},
   "source": [
    "> Again, we convert this to a function to make our lives easier, and also return an instance of the class:"
   ]
  },
  {
   "cell_type": "code",
   "execution_count": 23,
   "metadata": {
    "collapsed": true
   },
   "outputs": [],
   "source": [
    "def return_instance(ingredient):\n",
    "    \"given an ingredient string, return the instance\"\n",
    "    instance = None\n",
    "    if is_ingredient_in_list(solids, ingredient):\n",
    "        instance = DrySolid()\n",
    "    elif is_ingredient_in_list(liquids, ingredient):\n",
    "        instance = Liquid()\n",
    "    elif is_ingredient_in_list(large_items, ingredient):\n",
    "        instance = LargeItem()\n",
    "    else:\n",
    "        raise Exception(\"don't know what is '{}'\".format(ingredient))\n",
    "        \n",
    "    return instance\n"
   ]
  },
  {
   "cell_type": "markdown",
   "metadata": {},
   "source": [
    "Test it:"
   ]
  },
  {
   "cell_type": "code",
   "execution_count": 24,
   "metadata": {
    "collapsed": false
   },
   "outputs": [
    {
     "name": "stdout",
     "output_type": "stream",
     "text": [
      " - found sugar -\n"
     ]
    },
    {
     "data": {
      "text/plain": [
       "<__main__.DrySolid at 0x104f0bdd8>"
      ]
     },
     "execution_count": 24,
     "metadata": {},
     "output_type": "execute_result"
    }
   ],
   "source": [
    "return_instance(\"3/4 cup of organic pure sugar\")"
   ]
  },
  {
   "cell_type": "markdown",
   "metadata": {},
   "source": [
    "> Recall the `Exception`, this it what it looks like if we call something never called before:"
   ]
  },
  {
   "cell_type": "code",
   "execution_count": 25,
   "metadata": {
    "collapsed": false
   },
   "outputs": [],
   "source": [
    "# return_instance(\"1 magic dragon\")"
   ]
  },
  {
   "cell_type": "markdown",
   "metadata": {},
   "source": [
    "Let's put the function in the iteration:"
   ]
  },
  {
   "cell_type": "code",
   "execution_count": 26,
   "metadata": {
    "collapsed": false
   },
   "outputs": [
    {
     "name": "stdout",
     "output_type": "stream",
     "text": [
      " - found apples -\n",
      "'3-4 Granny Smith apples, depending on size, peeled and sliced' is 'large item'\n",
      " - found sugar -\n",
      "'1/2 cup brown sugar' is 'solid'\n",
      " - found sugar -\n",
      "'1/2 cup granulated sugar' is 'solid'\n",
      " - found flour -\n",
      "'1/4 cup flour' is 'solid'\n",
      " - found spice -\n",
      "'1 tsp apple pie spice (or 1 tsp cinnamon and 1/2 tsp nutmeg)' is 'liquid'\n"
     ]
    }
   ],
   "source": [
    "shopping_list = []\n",
    "for ingredient in recipe_as_dict['Parts'][0]['ingredients']:\n",
    "    instance = return_instance(ingredient)\n",
    "    print(\"'{}' is '{}'\".format(ingredient, instance.name))\n",
    "    shopping_list.append(instance)"
   ]
  },
  {
   "cell_type": "markdown",
   "metadata": {},
   "source": [
    "> We have our shopping list. Let's take a look:"
   ]
  },
  {
   "cell_type": "code",
   "execution_count": 27,
   "metadata": {
    "collapsed": false
   },
   "outputs": [
    {
     "data": {
      "text/plain": [
       "[<__main__.LargeItem at 0x104f0b978>,\n",
       " <__main__.DrySolid at 0x104f0b710>,\n",
       " <__main__.DrySolid at 0x104f0b668>,\n",
       " <__main__.DrySolid at 0x104f0b7b8>,\n",
       " <__main__.Liquid at 0x104f0b3c8>]"
      ]
     },
     "execution_count": 27,
     "metadata": {},
     "output_type": "execute_result"
    }
   ],
   "source": [
    "shopping_list"
   ]
  },
  {
   "cell_type": "markdown",
   "metadata": {},
   "source": [
    "Looks funny? Yes, those classes aren't useful yet.\n",
    "\n",
    "We need to add some functionality like the following:\n",
    "\n",
    " * Parse the ingredient in parts (we will do this by creating a super class `IngredientBase`)\n",
    " * Put those quantities in the class\n",
    " * Add some useful methods for baking\n",
    "\n",
    "Let's enhance these classes:"
   ]
  },
  {
   "cell_type": "code",
   "execution_count": 28,
   "metadata": {
    "collapsed": true
   },
   "outputs": [],
   "source": [
    "class IngredientBase:\n",
    "    \" Base class for common functionality \"\n",
    "    def parse_parts(self, ingredient_str):\n",
    "        parts = ingredient_str.split()\n",
    "        self.qty = parts[0]\n",
    "        self.unit = parts[1]\n",
    "        self.item = \" \".join(parts[2:])\n",
    "\n",
    "class DrySolid(IngredientBase):\n",
    "    \"class for dry solids, like sugar or flour\"\n",
    "    name = \"solid\"\n",
    "    \n",
    "class Liquid(IngredientBase):\n",
    "    \"class for liquids, like milk or beer\"\n",
    "    name = \"liquid\"\n",
    "    \n",
    "class LargeItem(IngredientBase):\n",
    "    \"class for items, like an egg or apple\"\n",
    "    name = \"large item\"\n"
   ]
  },
  {
   "cell_type": "code",
   "execution_count": 29,
   "metadata": {
    "collapsed": true
   },
   "outputs": [],
   "source": [
    "def return_instance(ingredient):\n",
    "    \"given an ingredient string, return the intance\"\n",
    "    instance = None\n",
    "    if is_ingredient_in_list(solids, ingredient):\n",
    "        instance = DrySolid()\n",
    "    elif is_ingredient_in_list(liquids, ingredient):\n",
    "        instance = Liquid()\n",
    "    elif is_ingredient_in_list(large_items, ingredient):\n",
    "        instance = LargeItem()\n",
    "    else:\n",
    "        raise Exception(\"don't know what is '{}'\".format(ingredient))\n",
    "    instance.parse_parts(ingredient)  #<-- we add this here\n",
    "    return instance \n"
   ]
  },
  {
   "cell_type": "markdown",
   "metadata": {},
   "source": [
    "Let's test it:"
   ]
  },
  {
   "cell_type": "code",
   "execution_count": 30,
   "metadata": {
    "collapsed": false
   },
   "outputs": [
    {
     "name": "stdout",
     "output_type": "stream",
     "text": [
      " - found sugar -\n"
     ]
    }
   ],
   "source": [
    "ingredient_instance = return_instance(\"1/2 cup granulated sugar\")"
   ]
  },
  {
   "cell_type": "code",
   "execution_count": 31,
   "metadata": {
    "collapsed": false
   },
   "outputs": [
    {
     "name": "stdout",
     "output_type": "stream",
     "text": [
      "solid\n",
      "granulated sugar\n",
      "1/2\n",
      "cup\n"
     ]
    }
   ],
   "source": [
    "print(ingredient_instance.name)\n",
    "print(ingredient_instance.item)\n",
    "print(ingredient_instance.qty)\n",
    "print(ingredient_instance.unit)"
   ]
  },
  {
   "cell_type": "markdown",
   "metadata": {},
   "source": [
    "Some *special* method names that start with double underscore `_` and end with double underscore `_` in Python are useful:\n",
    "\n",
    " * `__init__`: it is called whenever a class instance is created (constructed)\n",
    " * `__repr__`: how to string represent the object\n",
    " * `__dict__`: a dictionary support the namespace within the class\n",
    "\n",
    "Now let's improve our classes by using these."
   ]
  },
  {
   "cell_type": "code",
   "execution_count": 32,
   "metadata": {
    "collapsed": false
   },
   "outputs": [],
   "source": [
    "class IngredientBase:\n",
    "    \" Base class for common functionality \"\n",
    "        \n",
    "    def __init__(self, ingredient_str):\n",
    "        self.original_ingredient_str = ingredient_str\n",
    "        self.parse_parts(ingredient_str)\n",
    "\n",
    "    def __repr__(self):\n",
    "        return \"<Ingredient ({}): {}>\".format(self.name,\n",
    "                                              self.original_ingredient_str)\n",
    "\n",
    "    def parse_parts(self, ingredient_str):\n",
    "        parts = ingredient_str.split()\n",
    "        self.qty = parts[0]\n",
    "        self.unit = parts[1]\n",
    "        self.item = \" \".join(parts[2:])\n",
    "\n",
    "class DrySolid(IngredientBase):\n",
    "    \"class for dry solids, like sugar or flour\"\n",
    "    name = \"solid\"\n",
    "    \n",
    "class Liquid(IngredientBase):\n",
    "    \"class for liquids, like milk or beer\"\n",
    "    name = \"liquid\"\n",
    "    \n",
    "class LargeItem(IngredientBase):\n",
    "    \"class for items, like an egg or apple\"\n",
    "    name = \"large item\""
   ]
  },
  {
   "cell_type": "code",
   "execution_count": 33,
   "metadata": {
    "collapsed": true
   },
   "outputs": [],
   "source": [
    "def return_instance(ingredient):\n",
    "    \"given an ingredient string, return the intance\"\n",
    "    instance = None\n",
    "    if is_ingredient_in_list(solids, ingredient):\n",
    "        instance = DrySolid(ingredient) #<-- now put it here\n",
    "    elif is_ingredient_in_list(liquids, ingredient):\n",
    "        instance = Liquid(ingredient) #<-- and here\n",
    "    elif is_ingredient_in_list(large_items, ingredient):\n",
    "        instance = LargeItem(ingredient) #<-- and here\n",
    "    else:\n",
    "        raise Exception(\"don't know what is '{}'\".format(ingredient))\n",
    "    # removed the parse call\n",
    "    return instance \n"
   ]
  },
  {
   "cell_type": "code",
   "execution_count": 34,
   "metadata": {
    "collapsed": false
   },
   "outputs": [
    {
     "name": "stdout",
     "output_type": "stream",
     "text": [
      " - found spice -\n",
      "<Ingredient (liquid): 1 tsp apple pie spice>\n",
      "{'unit': 'tsp', 'original_ingredient_str': '1 tsp apple pie spice', 'item': 'apple pie spice', 'qty': '1'}\n"
     ]
    }
   ],
   "source": [
    "ingredient_instance = return_instance(\"1 tsp apple pie spice\")\n",
    "print(ingredient_instance)\n",
    "print(ingredient_instance.__dict__)"
   ]
  },
  {
   "cell_type": "markdown",
   "metadata": {},
   "source": [
    "## 3.5 Putting it all together"
   ]
  },
  {
   "cell_type": "code",
   "execution_count": 35,
   "metadata": {
    "collapsed": true
   },
   "outputs": [],
   "source": [
    "import fractions\n",
    "import copy\n",
    "\n",
    "solids = (\"flour\", \"sugar\", \"salt\", \"shortening\")\n",
    "liquids = (\"water\", \"spice\")\n",
    "large_items = (\"apples\", \"eggs\")\n",
    "\n",
    "\n",
    "class IngredientBase:\n",
    "    \" Base class for common functionality \"\n",
    "    \n",
    "    target = ()\n",
    "        \n",
    "    def __init__(self, ingredient_str):\n",
    "        self.original_ingredient_str = ingredient_str\n",
    "        self.parse_parts(ingredient_str)\n",
    "        self.normalize_qty()\n",
    "        \n",
    "    def __repr__(self):\n",
    "        return \"<Ingredient ({}): {} - {} {}>\".format(self.name,\n",
    "                                                     self.item,\n",
    "                                                     self.qty,\n",
    "                                                     self.unit)\n",
    "        \n",
    "    def parse_parts(self, ingredient_str):\n",
    "        parts = ingredient_str.split()\n",
    "        self.qty = parts[0]\n",
    "        self.qty_max = 0\n",
    "        self.unit = parts[1]\n",
    "        self.item = \" \".join(parts[2:])\n",
    "        if self.unit == \"to\" or \"-\" in self.qty: # means a range was enetered\n",
    "            if \"-\" in self.qty:\n",
    "                minsize, maxsize = self.qty.split(\"-\")\n",
    "                self.qty = minsize\n",
    "                self.qty_max = maxsize\n",
    "            else:  # to\n",
    "                self.qty = parts[0]\n",
    "                self.qty_max = parts[2]\n",
    "                self.unit = parts[3]\n",
    "                self.item = \" \".join(parts[4:])\n",
    "    \n",
    "    def does_match_target(self, subject_str):\n",
    "        \"\"\" Checks if any of the strings in self.target exitst in subject_str\n",
    "            returns: True or False\n",
    "        \"\"\"\n",
    "        for item in self.target:\n",
    "            if item.lower() in subject_str.lower():\n",
    "                return True\n",
    "        return False\n",
    "\n",
    "    def normalize_qty(self):\n",
    "        self.qty = fractions.Fraction(self.qty)\n",
    "    \n",
    "    def copy(self):\n",
    "        return copy.copy(self)\n",
    "    \n",
    "    def empty(self):\n",
    "        to_empty = self.copy()\n",
    "        to_empty.qty = fractions.Fraction(0)\n",
    "        return to_empty\n",
    "\n",
    "class DrySolid(IngredientBase):\n",
    "    \"class for dry solids, like sugar or flour\"\n",
    "    name = \"solid\"\n",
    "    target = solids\n",
    "    \n",
    "class Liquid(IngredientBase):\n",
    "    \"class for liquids, like milk or beer\"\n",
    "    name = \"liquid\"\n",
    "    target = liquids\n",
    "    \n",
    "class LargeItem(IngredientBase):\n",
    "    \"class for items, like an egg or apple\"\n",
    "    name = \"large item\"\n",
    "    target = large_items\n",
    "\n",
    "    def parse_parts(self, ingredient_str):\n",
    "        parts = ingredient_str.split()\n",
    "        self.qty = parts[0]\n",
    "        self.qty_max = 0\n",
    "        self.unit = \"item\"\n",
    "        self.item = \" \".join(parts[1:])\n",
    "        if self.unit == \"to\" or \"-\" in self.qty: # means a range was enetered\n",
    "            if \"-\" in self.qty:\n",
    "                minsize, maxsize = self.qty.split(\"-\")\n",
    "                self.qty = minsize\n",
    "                self.qty_max = maxsize\n",
    "            else:  # to\n",
    "                self.qty = parts[0]\n",
    "                self.qty_max = parts[2]\n",
    "                self.unit = \"item\"\n",
    "                self.item = \" \".join(parts[3:])                \n",
    "\n",
    "    \n",
    "def return_instance(ingredient):\n",
    "    \"given an ingredient string, return the intance\"\n",
    "    instance = None\n",
    "    if is_ingredient_in_list(solids, ingredient):\n",
    "        instance = DrySolid(ingredient) #<-- now put it here\n",
    "    elif is_ingredient_in_list(liquids, ingredient):\n",
    "        instance = Liquid(ingredient) #<-- and here\n",
    "    elif is_ingredient_in_list(large_items, ingredient):\n",
    "        instance = LargeItem(ingredient) #<-- and here\n",
    "    else:\n",
    "        raise Exception(\"don't know what is '{}'\".format(ingredient))\n",
    "    # removed the parse call\n",
    "    return instance \n",
    "\n",
    "def is_ingredient_in_list(the_list, ingredient_string):\n",
    "    \"if any item \"\n",
    "    for list_item in the_list:\n",
    "        if list_item in ingredient_string:\n",
    "            return True\n",
    "    return False"
   ]
  },
  {
   "cell_type": "code",
   "execution_count": 36,
   "metadata": {
    "collapsed": false
   },
   "outputs": [
    {
     "name": "stdout",
     "output_type": "stream",
     "text": [
      "The following commands were written to file `output.py`:\n",
      "import fractions\n",
      "import copy\n",
      "\n",
      "solids = (\"flour\", \"sugar\", \"salt\", \"shortening\")\n",
      "liquids = (\"water\", \"spice\")\n",
      "large_items = (\"apples\", \"eggs\")\n",
      "\n",
      "\n",
      "class IngredientBase:\n",
      "    \" Base class for common functionality \"\n",
      "    \n",
      "    target = ()\n",
      "        \n",
      "    def __init__(self, ingredient_str):\n",
      "        self.original_ingredient_str = ingredient_str\n",
      "        self.parse_parts(ingredient_str)\n",
      "        self.normalize_qty()\n",
      "        \n",
      "    def __repr__(self):\n",
      "        return \"<Ingredient ({}): {} - {} {}>\".format(self.name,\n",
      "                                                     self.item,\n",
      "                                                     self.qty,\n",
      "                                                     self.unit)\n",
      "        \n",
      "    def parse_parts(self, ingredient_str):\n",
      "        parts = ingredient_str.split()\n",
      "        self.qty = parts[0]\n",
      "        self.qty_max = 0\n",
      "        self.unit = parts[1]\n",
      "        self.item = \" \".join(parts[2:])\n",
      "        if self.unit == \"to\" or \"-\" in self.qty: # means a range was enetered\n",
      "            if \"-\" in self.qty:\n",
      "                minsize, maxsize = self.qty.split(\"-\")\n",
      "                self.qty = minsize\n",
      "                self.qty_max = maxsize\n",
      "            else:  # to\n",
      "                self.qty = parts[0]\n",
      "                self.qty_max = parts[2]\n",
      "                self.unit = parts[3]\n",
      "                self.item = \" \".join(parts[4:])\n",
      "    \n",
      "    def does_match_target(self, subject_str):\n",
      "        \"\"\" Checks if any of the strings in self.target exitst in subject_str\n",
      "            returns: True or False\n",
      "        \"\"\"\n",
      "        for item in self.target:\n",
      "            if item.lower() in subject_str.lower():\n",
      "                return True\n",
      "        return False\n",
      "\n",
      "    def normalize_qty(self):\n",
      "        self.qty = fractions.Fraction(self.qty)\n",
      "    \n",
      "    def copy(self):\n",
      "        return copy.copy(self)\n",
      "    \n",
      "    def empty(self):\n",
      "        to_empty = self.copy()\n",
      "        to_empty.qty = fractions.Fraction(0)\n",
      "        return to_empty\n",
      "\n",
      "class DrySolid(IngredientBase):\n",
      "    \"class for dry solids, like sugar or flour\"\n",
      "    name = \"solid\"\n",
      "    target = solids\n",
      "    \n",
      "class Liquid(IngredientBase):\n",
      "    \"class for liquids, like milk or beer\"\n",
      "    name = \"liquid\"\n",
      "    target = liquids\n",
      "    \n",
      "class LargeItem(IngredientBase):\n",
      "    \"class for items, like an egg or apple\"\n",
      "    name = \"large item\"\n",
      "    target = large_items\n",
      "\n",
      "    def parse_parts(self, ingredient_str):\n",
      "        parts = ingredient_str.split()\n",
      "        self.qty = parts[0]\n",
      "        self.qty_max = 0\n",
      "        self.unit = \"item\"\n",
      "        self.item = \" \".join(parts[1:])\n",
      "        if self.unit == \"to\" or \"-\" in self.qty: # means a range was enetered\n",
      "            if \"-\" in self.qty:\n",
      "                minsize, maxsize = self.qty.split(\"-\")\n",
      "                self.qty = minsize\n",
      "                self.qty_max = maxsize\n",
      "            else:  # to\n",
      "                self.qty = parts[0]\n",
      "                self.qty_max = parts[2]\n",
      "                self.unit = \"item\"\n",
      "                self.item = \" \".join(parts[3:])                \n",
      "\n",
      "    \n",
      "def return_instance(ingredient):\n",
      "    \"given an ingredient string, return the intance\"\n",
      "    instance = None\n",
      "    if is_ingredient_in_list(solids, ingredient):\n",
      "        instance = DrySolid(ingredient) #<-- now put it here\n",
      "    elif is_ingredient_in_list(liquids, ingredient):\n",
      "        instance = Liquid(ingredient) #<-- and here\n",
      "    elif is_ingredient_in_list(large_items, ingredient):\n",
      "        instance = LargeItem(ingredient) #<-- and here\n",
      "    else:\n",
      "        raise Exception(\"don't know what is '{}'\".format(ingredient))\n",
      "    # removed the parse call\n",
      "    return instance \n",
      "\n",
      "def is_ingredient_in_list(the_list, ingredient_string):\n",
      "    \"if any item \"\n",
      "    for list_item in the_list:\n",
      "        if list_item in ingredient_string:\n",
      "            return True\n",
      "    return False\n"
     ]
    }
   ],
   "source": [
    "%save -f output _i"
   ]
  },
  {
   "cell_type": "code",
   "execution_count": 37,
   "metadata": {
    "collapsed": false
   },
   "outputs": [],
   "source": [
    "# Build a complete shopping list\n",
    "shopping_list = []\n",
    "for part in recipe_as_dict['Parts']:\n",
    "    for ingredient in part['ingredients']:\n",
    "        instance = return_instance(ingredient)\n",
    "        shopping_list.append(instance)\n",
    "        "
   ]
  },
  {
   "cell_type": "code",
   "execution_count": 38,
   "metadata": {
    "collapsed": false
   },
   "outputs": [
    {
     "name": "stdout",
     "output_type": "stream",
     "text": [
      "<Ingredient (large item): Granny Smith apples, depending on size, peeled and sliced - 3 item>\n",
      "{'item': 'Granny Smith apples, depending on size, peeled and sliced',\n",
      " 'original_ingredient_str': '3-4 Granny Smith apples, depending on size, '\n",
      "                            'peeled and sliced',\n",
      " 'qty': Fraction(3, 1),\n",
      " 'qty_max': '4',\n",
      " 'unit': 'item'}\n",
      "<Ingredient (solid): brown sugar - 1/2 cup>\n",
      "{'item': 'brown sugar',\n",
      " 'original_ingredient_str': '1/2 cup brown sugar',\n",
      " 'qty': Fraction(1, 2),\n",
      " 'qty_max': 0,\n",
      " 'unit': 'cup'}\n",
      "<Ingredient (solid): granulated sugar - 1/2 cup>\n",
      "{'item': 'granulated sugar',\n",
      " 'original_ingredient_str': '1/2 cup granulated sugar',\n",
      " 'qty': Fraction(1, 2),\n",
      " 'qty_max': 0,\n",
      " 'unit': 'cup'}\n",
      "<Ingredient (solid): flour - 1/4 cup>\n",
      "{'item': 'flour',\n",
      " 'original_ingredient_str': '1/4 cup flour',\n",
      " 'qty': Fraction(1, 4),\n",
      " 'qty_max': 0,\n",
      " 'unit': 'cup'}\n",
      "<Ingredient (liquid): apple pie spice (or 1 tsp cinnamon and 1/2 tsp nutmeg) - 1 tsp>\n",
      "{'item': 'apple pie spice (or 1 tsp cinnamon and 1/2 tsp nutmeg)',\n",
      " 'original_ingredient_str': '1 tsp apple pie spice (or 1 tsp cinnamon and 1/2 '\n",
      "                            'tsp nutmeg)',\n",
      " 'qty': Fraction(1, 1),\n",
      " 'qty_max': 0,\n",
      " 'unit': 'tsp'}\n",
      "<Ingredient (solid): flour - 2 cups>\n",
      "{'item': 'flour',\n",
      " 'original_ingredient_str': '2 cups flour',\n",
      " 'qty': Fraction(2, 1),\n",
      " 'qty_max': 0,\n",
      " 'unit': 'cups'}\n",
      "<Ingredient (solid): salt - 1 tsp>\n",
      "{'item': 'salt',\n",
      " 'original_ingredient_str': '1 tsp salt',\n",
      " 'qty': Fraction(1, 1),\n",
      " 'qty_max': 0,\n",
      " 'unit': 'tsp'}\n",
      "<Ingredient (solid): solid shortening (like Crisco) - 3/4 cup>\n",
      "{'item': 'solid shortening (like Crisco)',\n",
      " 'original_ingredient_str': '3/4 cup solid shortening (like Crisco)',\n",
      " 'qty': Fraction(3, 4),\n",
      " 'qty_max': 0,\n",
      " 'unit': 'cup'}\n",
      "<Ingredient (liquid): ice water - 1/4 cup>\n",
      "{'item': 'ice water',\n",
      " 'original_ingredient_str': '1/4 to 1/2 cup ice water',\n",
      " 'qty': Fraction(1, 4),\n",
      " 'qty_max': '1/2',\n",
      " 'unit': 'cup'}\n"
     ]
    }
   ],
   "source": [
    "from pprint import pprint\n",
    "\n",
    "for item in shopping_list:\n",
    "    print(item)\n",
    "    pprint(item.__dict__)"
   ]
  },
  {
   "cell_type": "code",
   "execution_count": 39,
   "metadata": {
    "collapsed": true
   },
   "outputs": [],
   "source": [
    "import pickle\n",
    "pickle.dump(shopping_list, open(\"shopping_list.pickle\", \"wb\"))"
   ]
  }
 ],
 "metadata": {
  "anaconda-cloud": {},
  "kernelspec": {
   "display_name": "Python [py3k]",
   "language": "python",
   "name": "Python [py3k]"
  },
  "language_info": {
   "codemirror_mode": {
    "name": "ipython",
    "version": 3
   },
   "file_extension": ".py",
   "mimetype": "text/x-python",
   "name": "python",
   "nbconvert_exporter": "python",
   "pygments_lexer": "ipython3",
   "version": "3.5.2"
  }
 },
 "nbformat": 4,
 "nbformat_minor": 0
}
