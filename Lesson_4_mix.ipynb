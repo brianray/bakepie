{
 "cells": [
  {
   "cell_type": "markdown",
   "metadata": {},
   "source": [
    "# Mixing Ingredients—Python Dictionaries\n",
    "<img src=\"misc/4_ingredients on table and mixing bowl.png\" width=\"100%\" />\n",
    "\n",
    "In Lesson 2 we read the ingredients/steps.  In Lesson 3, we parsed those ingredients to gain some understanding of what they do. Now we will take the steps and mix the ingredients. In doing so we will gain a deeper understanding of advanced data structures, like dictionaries.\n",
    "\n",
    "In this chapter we read over the steps and operate on the ingredients."
   ]
  },
  {
   "cell_type": "markdown",
   "metadata": {},
   "source": [
    "> read in the steps"
   ]
  },
  {
   "cell_type": "code",
   "execution_count": null,
   "metadata": {
    "collapsed": true
   },
   "outputs": [],
   "source": [
    "import pickle\n",
    "recipe_as_dict = pickle.load(open(\"data.pickle\", \"rb\"))"
   ]
  },
  {
   "cell_type": "markdown",
   "metadata": {},
   "source": [
    "## 4.1 Logging and control\n",
    "\n",
    "> Our program is getting more complex; we will start using the built-in Python logging to help us get feedback as we run."
   ]
  },
  {
   "cell_type": "code",
   "execution_count": null,
   "metadata": {
    "collapsed": false
   },
   "outputs": [],
   "source": [
    "import logging as log\n",
    "from pprint import pformat\n",
    "logger = log.getLogger()\n",
    "logger.setLevel(log.DEBUG)"
   ]
  },
  {
   "cell_type": "code",
   "execution_count": null,
   "metadata": {
    "collapsed": false
   },
   "outputs": [],
   "source": [
    "ch = log.StreamHandler()\n",
    "ch.setFormatter(log.Formatter('%(levelname)s: %(message)s'))\n",
    "logger.removeHandler(0)\n",
    "logger.addHandler(ch)\n",
    "log.info(\"who loves Pie?\")\n",
    "log.debug(\"i am a debug message\")"
   ]
  },
  {
   "cell_type": "markdown",
   "metadata": {},
   "source": [
    "Let's break out the filling and crust steps:"
   ]
  },
  {
   "cell_type": "code",
   "execution_count": null,
   "metadata": {
    "collapsed": false
   },
   "outputs": [],
   "source": []
  },
  {
   "cell_type": "markdown",
   "metadata": {},
   "source": [
    "## 4.2 Start with the filling\n",
    "\n",
    "Inspect the filling_steps:"
   ]
  },
  {
   "cell_type": "code",
   "execution_count": null,
   "metadata": {
    "collapsed": false
   },
   "outputs": [],
   "source": []
  },
  {
   "cell_type": "markdown",
   "metadata": {},
   "source": [
    "A couple of observations:\n",
    "\n",
    " * There are three parts\n",
    " * There is a bunch of `\\n`, which means line break, but they aren't important\n",
    " * What may be important is the sentences in each\n",
    "\n",
    "Let's break this up into a list of list based on sentences.\n"
   ]
  },
  {
   "cell_type": "code",
   "execution_count": null,
   "metadata": {
    "collapsed": false
   },
   "outputs": [],
   "source": []
  },
  {
   "cell_type": "markdown",
   "metadata": {},
   "source": [
    "We want to identify the keywords that indicate mixing:\n",
    "\n",
    " * \"mix\"\n",
    " * \"pour\"\n",
    " * \"sprinkle\"\n",
    " * \"dot\""
   ]
  },
  {
   "cell_type": "code",
   "execution_count": null,
   "metadata": {
    "collapsed": true
   },
   "outputs": [],
   "source": []
  },
  {
   "cell_type": "markdown",
   "metadata": {},
   "source": [
    "From Lesson 3, we have a list of ingredients already broken up into quantities and units.\n",
    "\n",
    "The ingredients will live in three states:\n",
    "\n",
    " * The preparation counter (the_counter)\n",
    " * The mixing bowl (mixing_bowl)\n",
    " * The pie plate (pie_plate)\n",
    " \n",
    "We need to move ingredients from state to state from step to step and keep track of the ingredients. Later we will need to interrupt the pie-making process by refilling the ingredients on the preparation counter.\n",
    "\n",
    "> We start out with those steps and identify which ones require action."
   ]
  },
  {
   "cell_type": "code",
   "execution_count": null,
   "metadata": {
    "collapsed": true
   },
   "outputs": [],
   "source": [
    "the_counter = {}\n",
    "mixing_bowl = {}\n",
    "pie_plate = {}"
   ]
  },
  {
   "cell_type": "markdown",
   "metadata": {},
   "source": [
    "\n",
    "\n",
    "We need to break it out into functions:\n",
    "\n",
    " * A function to test whether it has a mix operation (has_mix_operation)\n",
    " * A function to do the mixing (mix)\n",
    " \n",
    "Before we pick it up with the actual steps, we prototype each function.\n"
   ]
  },
  {
   "cell_type": "code",
   "execution_count": null,
   "metadata": {
    "collapsed": false
   },
   "outputs": [],
   "source": []
  },
  {
   "cell_type": "code",
   "execution_count": null,
   "metadata": {
    "collapsed": false
   },
   "outputs": [],
   "source": []
  },
  {
   "cell_type": "code",
   "execution_count": null,
   "metadata": {
    "collapsed": false
   },
   "outputs": [],
   "source": []
  },
  {
   "cell_type": "markdown",
   "metadata": {},
   "source": [
    "The `mix()` function is what does the mixing (duh), but it also uses dictionaries (dicts) as input. But first a quick tutorial on dicts.\n",
    "\n",
    "## 4.3 Notes on dicts\n",
    "\n",
    "A couple of notes on dictionaries:\n",
    "\n",
    " * Dicts are not sorted, so they don't retain order\n",
    " * Keys must be unique\n",
    " * Dicts point to data values so they retain changes\n",
    " * The types used for keys and values do not need to be same even inside same dict\n",
    "\n",
    "Some examples of this...\n",
    "\n",
    "```python\n",
    ">>> the_dict = {'a':2, 'b':2, 'c':2, 'd':4, 'e':4}\n",
    ">>> print(the_dict)\n",
    "{'d': 4, 'b': 2, 'c': 2, 'a': 2, 'e': 4}\n",
    ">>> def changeone(passed_dict):\n",
    "...    passed_dict['d'] = 1337\n",
    ">>> changeone(the_dict)\n",
    ">>> print(the_dict)\n",
    "{'d': 1337, 'b': 2, 'c': 2, 'a': 2, 'e': 4}\n",
    "```\n",
    "\n",
    "Now back to our `mix()` function:"
   ]
  },
  {
   "cell_type": "code",
   "execution_count": null,
   "metadata": {
    "collapsed": false
   },
   "outputs": [],
   "source": [
    "from output import LargeItem, IngredientBase, DrySolid, Liquid\n",
    "from fractions import Fraction"
   ]
  },
  {
   "cell_type": "code",
   "execution_count": null,
   "metadata": {
    "collapsed": false
   },
   "outputs": [],
   "source": [
    "import pickle\n",
    "shopping_list = pickle.load(open(\"shopping_list.pickle\", \"rb\"))"
   ]
  },
  {
   "cell_type": "code",
   "execution_count": null,
   "metadata": {
    "collapsed": false
   },
   "outputs": [],
   "source": []
  },
  {
   "cell_type": "code",
   "execution_count": null,
   "metadata": {
    "collapsed": false
   },
   "outputs": [],
   "source": []
  },
  {
   "cell_type": "markdown",
   "metadata": {},
   "source": [
    "## 4.4 Reusable code"
   ]
  },
  {
   "cell_type": "code",
   "execution_count": null,
   "metadata": {
    "collapsed": false
   },
   "outputs": [],
   "source": []
  },
  {
   "cell_type": "code",
   "execution_count": null,
   "metadata": {
    "collapsed": false
   },
   "outputs": [],
   "source": []
  },
  {
   "cell_type": "code",
   "execution_count": null,
   "metadata": {
    "collapsed": false
   },
   "outputs": [],
   "source": [
    "\n"
   ]
  },
  {
   "cell_type": "markdown",
   "metadata": {},
   "source": [
    "## 4.5 Putting it all together.\n",
    "\n",
    " * Fill the counter with items and move to the mixing_bowl (pie_plate will remain empty for now)\n",
    " * Iterate over each steps\n",
    " * Operate properly on each\n",
    "\n",
    "\n"
   ]
  },
  {
   "cell_type": "code",
   "execution_count": null,
   "metadata": {
    "collapsed": false
   },
   "outputs": [],
   "source": []
  },
  {
   "cell_type": "code",
   "execution_count": null,
   "metadata": {
    "collapsed": false
   },
   "outputs": [],
   "source": [
    "\n"
   ]
  },
  {
   "cell_type": "code",
   "execution_count": null,
   "metadata": {
    "collapsed": false
   },
   "outputs": [],
   "source": []
  },
  {
   "cell_type": "markdown",
   "metadata": {
    "collapsed": true
   },
   "source": [
    "## 4.6 Code-reuse\n",
    "\n",
    "We can cut and past the code above and apply to crust. We will find out in the following chapter how this code can better be organized as functions."
   ]
  },
  {
   "cell_type": "code",
   "execution_count": null,
   "metadata": {
    "collapsed": false
   },
   "outputs": [],
   "source": []
  },
  {
   "cell_type": "code",
   "execution_count": null,
   "metadata": {
    "collapsed": true
   },
   "outputs": [],
   "source": []
  }
 ],
 "metadata": {
  "anaconda-cloud": {},
  "kernelspec": {
   "display_name": "Python [py3k]",
   "language": "python",
   "name": "Python [py3k]"
  },
  "language_info": {
   "codemirror_mode": {
    "name": "ipython",
    "version": 3
   },
   "file_extension": ".py",
   "mimetype": "text/x-python",
   "name": "python",
   "nbconvert_exporter": "python",
   "pygments_lexer": "ipython3",
   "version": "3.5.2"
  }
 },
 "nbformat": 4,
 "nbformat_minor": 0
}
