{
 "cells": [
  {
   "cell_type": "markdown",
   "metadata": {},
   "source": [
    "# Mixing Ingredients—Python Dictionaries\n",
    "<img src=\"misc/4_ingredients on table and mixing bowl.png\" width=\"100%\" />\n",
    "\n",
    "In Lesson 2 we read the ingredients/steps.  In Lesson 3, we parsed those ingredients to gain some understanding of what they do. Now we will take the steps and mix the ingredients. In doing so we will gain a deeper understanding of advanced data structures, like dictionaries.\n",
    "\n",
    "In this chapter we read over the steps and operate on the ingredients."
   ]
  },
  {
   "cell_type": "markdown",
   "metadata": {},
   "source": [
    "> read in the steps"
   ]
  },
  {
   "cell_type": "code",
   "execution_count": 1,
   "metadata": {
    "collapsed": true
   },
   "outputs": [],
   "source": [
    "import pickle\n",
    "recipe_as_dict = pickle.load(open(\"data.pickle\", \"rb\"))"
   ]
  },
  {
   "cell_type": "markdown",
   "metadata": {},
   "source": [
    "## 4.1 Logging and control\n",
    "\n",
    "> Our program is getting more complex; we will start using the built-in Python logging to help us get feedback as we run."
   ]
  },
  {
   "cell_type": "code",
   "execution_count": 2,
   "metadata": {
    "collapsed": false
   },
   "outputs": [],
   "source": [
    "import logging as log\n",
    "from pprint import pformat\n",
    "logger = log.getLogger()\n",
    "logger.setLevel(log.DEBUG)"
   ]
  },
  {
   "cell_type": "code",
   "execution_count": 3,
   "metadata": {
    "collapsed": false
   },
   "outputs": [],
   "source": [
    "ch = log.StreamHandler()\n",
    "ch.setFormatter(log.Formatter('%(levelname)s: %(message)s'))\n",
    "logger.removeHandler(0)\n",
    "logger.addHandler(ch)\n"
   ]
  },
  {
   "cell_type": "code",
   "execution_count": 4,
   "metadata": {
    "collapsed": false
   },
   "outputs": [
    {
     "name": "stderr",
     "output_type": "stream",
     "text": [
      "INFO: who loves Pie?\n",
      "DEBUG: i am a debug message\n"
     ]
    }
   ],
   "source": [
    "log.info(\"who loves Pie?\")\n",
    "log.debug(\"i am a debug message\")"
   ]
  },
  {
   "cell_type": "markdown",
   "metadata": {},
   "source": [
    "Let's break out the filling and crust steps:"
   ]
  },
  {
   "cell_type": "code",
   "execution_count": 5,
   "metadata": {
    "collapsed": false
   },
   "outputs": [
    {
     "name": "stderr",
     "output_type": "stream",
     "text": [
      "DEBUG: part {'ingredients': ['3-4 Granny Smith apples, depending on size, peeled and sliced', '1/2 cup brown sugar', '1/2 cup granulated sugar', '1/4 cup flour', '1 tsp apple pie spice (or 1 tsp cinnamon and 1/2 tsp nutmeg)'], 'steps': [\"Line pie plate with unbaked pastry.  Mix together the sugars, flour\\nand spices.  Pour 1/2 of this mixture into the pie plate, smoothing\\nevenly across the bottom.  Lay the apples in the crust, enough so that\\nthey reach the top of the plate but aren't mounded over it.  Sprinkle\\nthe remaining flour mixture over the top of the apples.  Sprinkle 1\\ntablespoon of lemon juice over the top, then dot with 1 tablespoon of\\nbutter.  Add the top crust and cut slits for steam.\", 'Bake 15 minutes at 425 degrees, then reduce heat to 350 and bake\\nanother hour.  The trick with apple pie is to be sure and bake it long\\nenough for the apples to be soft.  I usually stick a fork inside one\\nof the slits to make sure, but an hour should be plenty.  If the edge\\nof the crust starts to brown too much, cover it loosely with foil.', \"It's a good idea to set the pie on a cookie sheet in case the apples\\nare particularly juicy and spill over into the oven.\"], 'sub-title': 'filling'}\n",
      "DEBUG: part {'ingredients': ['2 cups flour', '1 tsp salt', '3/4 cup solid shortening (like Crisco)', '1/4 to 1/2 cup ice water'], 'steps': ['Mix together the flour and the salt.  Cut in the shortening until the pieces\\nare pea-sized.  Add 1/4 to 1/2 cup of the water and stir with a fork until the\\ndough is moist enough to stick together but is not soggy.', 'Sprinkle your pastry cloth (or whatever you use) with flour.  Divide the pie\\ncrust dough in slightly uneven halves.  Form the larger of the two halves\\ninto a ball and place on the pastry cloth.  Pat into a circle about five\\ninches in diameter.  Begin to roll out from the center outward with light\\nstrokes.  Be sure your rolling pin is floured also.', \"Once the circle is about 7 inches in diameter, pick up the piece of dough,\\nreflour underneath it and flip it over.  This will ensure that there is enough\\nflour to keep the dough from sticking.  (Note:  if the dough is sticking too\\nmuch, that means you put too much water in it.  Add more flour.  If the dough\\nis crumbly and won't stick together at all, that means it needs more water.)\", 'Resume rolling it out until you reach the size of your pie pan (usually 9 or\\n10 inches).  At this point, you can roll out the edges, too.  The idea is just\\nto not have too much dough in the middle.', \"Once the dough is the proper size (Don't worry; it won't be even.), pick it up\\nby rolling it around the rolling pin.  Carefully transfer it to the pie pan\\ndoing your best to center it over the pan.  Once you release it from the\\nrolling pin, gently pat it in place in the pan, making sure there aren't any\\ngaps between the dough and the inside edge of the plate.  Trim the dough with\\na knife so that it is even with the edge of the pie pan.  Throw the extra\\ndough in the bowl with the remaining half.\", 'At this point, you would add your fruit filling and then proceed with the top\\ncrust.  The top crust is made virtually the same way; however, you would want\\nit rolled out a little bigger than the bottom so that you have enough crust to\\nflute.  I flute by pinching the crust between my two index fingers and thumbs\\nas though I was opening a change purse.  Be sure to cut slits in the top crust\\nfor the steam to escape.'], 'sub-title': 'crust'}\n",
      "INFO: 3 filling steps and 6 crust steps.\n"
     ]
    }
   ],
   "source": [
    "filling_steps = None\n",
    "crust_steps = None\n",
    "for part in recipe_as_dict[\"Parts\"]:\n",
    "    log.debug(\"part {}\".format(part))\n",
    "    if 'filling' == part['sub-title']:\n",
    "        filling_steps = part['steps']\n",
    "    elif 'crust' == part['sub-title']:\n",
    "        crust_steps = part['steps']\n",
    "\n",
    "log.info('{} filling steps and {} crust steps.'.format(len(filling_steps),\n",
    "                                                       len(crust_steps)))\n",
    "\n"
   ]
  },
  {
   "cell_type": "code",
   "execution_count": null,
   "metadata": {
    "collapsed": true
   },
   "outputs": [],
   "source": []
  },
  {
   "cell_type": "code",
   "execution_count": null,
   "metadata": {
    "collapsed": true
   },
   "outputs": [],
   "source": []
  },
  {
   "cell_type": "code",
   "execution_count": null,
   "metadata": {
    "collapsed": true
   },
   "outputs": [],
   "source": []
  },
  {
   "cell_type": "code",
   "execution_count": null,
   "metadata": {
    "collapsed": true
   },
   "outputs": [],
   "source": []
  },
  {
   "cell_type": "code",
   "execution_count": null,
   "metadata": {
    "collapsed": true
   },
   "outputs": [],
   "source": []
  },
  {
   "cell_type": "code",
   "execution_count": null,
   "metadata": {
    "collapsed": true
   },
   "outputs": [],
   "source": []
  },
  {
   "cell_type": "code",
   "execution_count": null,
   "metadata": {
    "collapsed": true
   },
   "outputs": [],
   "source": []
  },
  {
   "cell_type": "code",
   "execution_count": null,
   "metadata": {
    "collapsed": true
   },
   "outputs": [],
   "source": []
  },
  {
   "cell_type": "markdown",
   "metadata": {},
   "source": [
    "## 4.2 Start with the filling\n",
    "\n",
    "Inspect the filling_steps:"
   ]
  },
  {
   "cell_type": "code",
   "execution_count": 6,
   "metadata": {
    "collapsed": false
   },
   "outputs": [
    {
     "name": "stderr",
     "output_type": "stream",
     "text": [
      "INFO: ['Line pie plate with unbaked pastry.  Mix together the sugars, flour\\n'\n",
      " 'and spices.  Pour 1/2 of this mixture into the pie plate, smoothing\\n'\n",
      " 'evenly across the bottom.  Lay the apples in the crust, enough so that\\n'\n",
      " \"they reach the top of the plate but aren't mounded over it.  Sprinkle\\n\"\n",
      " 'the remaining flour mixture over the top of the apples.  Sprinkle 1\\n'\n",
      " 'tablespoon of lemon juice over the top, then dot with 1 tablespoon of\\n'\n",
      " 'butter.  Add the top crust and cut slits for steam.',\n",
      " 'Bake 15 minutes at 425 degrees, then reduce heat to 350 and bake\\n'\n",
      " 'another hour.  The trick with apple pie is to be sure and bake it long\\n'\n",
      " 'enough for the apples to be soft.  I usually stick a fork inside one\\n'\n",
      " 'of the slits to make sure, but an hour should be plenty.  If the edge\\n'\n",
      " 'of the crust starts to brown too much, cover it loosely with foil.',\n",
      " \"It's a good idea to set the pie on a cookie sheet in case the apples\\n\"\n",
      " 'are particularly juicy and spill over into the oven.']\n",
      "INFO: 3\n"
     ]
    }
   ],
   "source": [
    "log.info(pformat(filling_steps))\n",
    "log.info(len(filling_steps))"
   ]
  },
  {
   "cell_type": "markdown",
   "metadata": {},
   "source": [
    "A couple of observations:\n",
    "\n",
    " * There are three parts\n",
    " * There is a bunch of `\\n`, which means line break, but they aren't important\n",
    " * What may be important is the sentences in each\n",
    "\n",
    "Let's break this up into a list of list based on sentences.\n"
   ]
  },
  {
   "cell_type": "code",
   "execution_count": 7,
   "metadata": {
    "collapsed": false
   },
   "outputs": [
    {
     "name": "stderr",
     "output_type": "stream",
     "text": [
      "DEBUG: step\n",
      "DEBUG: step\n",
      "DEBUG: step\n"
     ]
    },
    {
     "data": {
      "text/plain": [
       "[['Line pie plate with unbaked pastry',\n",
       "  ' Mix together the sugars, flour and spices',\n",
       "  ' Pour 1/2 of this mixture into the pie plate, smoothing evenly across the bottom',\n",
       "  \" Lay the apples in the crust, enough so that they reach the top of the plate but aren't mounded over it\",\n",
       "  ' Sprinkle the remaining flour mixture over the top of the apples',\n",
       "  ' Sprinkle 1 tablespoon of lemon juice over the top, then dot with 1 tablespoon of butter',\n",
       "  ' Add the top crust and cut slits for steam.'],\n",
       " ['Bake 15 minutes at 425 degrees, then reduce heat to 350 and bake another hour',\n",
       "  ' The trick with apple pie is to be sure and bake it long enough for the apples to be soft',\n",
       "  ' I usually stick a fork inside one of the slits to make sure, but an hour should be plenty',\n",
       "  ' If the edge of the crust starts to brown too much, cover it loosely with foil.'],\n",
       " [\"It's a good idea to set the pie on a cookie sheet in case the apples are particularly juicy and spill over into the oven.\"]]"
      ]
     },
     "execution_count": 7,
     "metadata": {},
     "output_type": "execute_result"
    }
   ],
   "source": [
    "list_of_list_of_steps = []\n",
    "for step in filling_steps:\n",
    "    step = step.replace(\"\\n\", \" \")\n",
    "    list_of_list_of_steps.append(step.split(\". \"))\n",
    "    log.debug(\"step\")\n",
    "list_of_list_of_steps\n",
    "    "
   ]
  },
  {
   "cell_type": "markdown",
   "metadata": {},
   "source": [
    "We want to identify the keywords that indicate mixing:\n",
    "\n",
    " * \"mix\"\n",
    " * \"pour\"\n",
    " * \"sprinkle\"\n",
    " * \"dot\""
   ]
  },
  {
   "cell_type": "code",
   "execution_count": 14,
   "metadata": {
    "collapsed": true
   },
   "outputs": [],
   "source": [
    "known_operations = (\"mix\", \"pour\", \"sprinkle\", \"dot\")"
   ]
  },
  {
   "cell_type": "markdown",
   "metadata": {},
   "source": [
    "From Lesson 3, we have a list of ingredients already broken up into quantities and units.\n",
    "\n",
    "The ingredients will live in three states:\n",
    "\n",
    " * The preparation counter (the_counter)\n",
    " * The mixing bowl (mixing_bowl)\n",
    " * The pie plate (pie_plate)\n",
    " \n",
    "We need to move ingredients from state to state from step to step and keep track of the ingredients. Later we will need to interrupt the pie-making process by refilling the ingredients on the preparation counter.\n",
    "\n",
    "> We start out with those steps and identify which ones require action."
   ]
  },
  {
   "cell_type": "code",
   "execution_count": 15,
   "metadata": {
    "collapsed": true
   },
   "outputs": [],
   "source": [
    "the_counter = {}\n",
    "mixing_bowl = {}\n",
    "pie_plate = {}"
   ]
  },
  {
   "cell_type": "markdown",
   "metadata": {},
   "source": [
    "\n",
    "\n",
    "We need to break it out into functions:\n",
    "\n",
    " * A function to test whether it has a mix operation (has_mix_operation)\n",
    " * A function to do the mixing (mix)\n",
    " \n",
    "Before we pick it up with the actual steps, we prototype each function.\n"
   ]
  },
  {
   "cell_type": "code",
   "execution_count": 17,
   "metadata": {
    "collapsed": false
   },
   "outputs": [],
   "source": [
    "def has_mix_operation(step):\n",
    "    \"test if the step needs a mix operation. Returns: True or False\"\n",
    "    for operation in known_operations:\n",
    "        if operation in step.lower():\n",
    "            log.debug(\"'{}' found in '{}'\".format(operation, step))\n",
    "            return True\n",
    "    log.warning(\"'{}' not found in '{}'\".format(known_operations, step))\n",
    "    return False"
   ]
  },
  {
   "cell_type": "code",
   "execution_count": 18,
   "metadata": {
    "collapsed": false
   },
   "outputs": [
    {
     "name": "stderr",
     "output_type": "stream",
     "text": [
      "WARNING: '('mix', 'pour', 'sprinkle', 'dot')' not found in 'Line pie plate with unbaked pastry'\n"
     ]
    },
    {
     "data": {
      "text/plain": [
       "False"
      ]
     },
     "execution_count": 18,
     "metadata": {},
     "output_type": "execute_result"
    }
   ],
   "source": [
    "has_mix_operation(\"Line pie plate with unbaked pastry\")"
   ]
  },
  {
   "cell_type": "code",
   "execution_count": 19,
   "metadata": {
    "collapsed": false
   },
   "outputs": [
    {
     "name": "stderr",
     "output_type": "stream",
     "text": [
      "DEBUG: 'mix' found in 'Mix together the sugars, flour and spices'\n"
     ]
    },
    {
     "data": {
      "text/plain": [
       "True"
      ]
     },
     "execution_count": 19,
     "metadata": {},
     "output_type": "execute_result"
    }
   ],
   "source": [
    "has_mix_operation(\"Mix together the sugars, flour and spices\")"
   ]
  },
  {
   "cell_type": "markdown",
   "metadata": {},
   "source": [
    "The `mix()` function is what does the mixing (duh), but it also uses dictionaries (dicts) as input. But first a quick tutorial on dicts.\n",
    "\n",
    "## 4.3 Notes on dicts\n",
    "\n",
    "A couple of notes on dictionaries:\n",
    "\n",
    " * Dicts are not sorted, so they don't retain order\n",
    " * Keys must be unique\n",
    " * Dicts point to data values so they retain changes\n",
    " * The types used for keys and values do not need to be same even inside same dict\n",
    "\n",
    "Some examples of this...\n",
    "\n",
    "```python\n",
    ">>> the_dict = {'a':2, 'b':2, 'c':2, 'd':4, 'e':4}\n",
    ">>> print(the_dict)\n",
    "{'d': 4, 'b': 2, 'c': 2, 'a': 2, 'e': 4}\n",
    ">>> def changeone(passed_dict):\n",
    "...    passed_dict['d'] = 1337\n",
    ">>> changeone(the_dict)\n",
    ">>> print(the_dict)\n",
    "{'d': 1337, 'b': 2, 'c': 2, 'a': 2, 'e': 4}\n",
    "```\n"
   ]
  },
  {
   "cell_type": "code",
   "execution_count": 20,
   "metadata": {
    "collapsed": true
   },
   "outputs": [],
   "source": [
    "the_dict = {'a':2, 'b':2, 'c':2, 'd':4, 'e':4}"
   ]
  },
  {
   "cell_type": "code",
   "execution_count": 21,
   "metadata": {
    "collapsed": false
   },
   "outputs": [
    {
     "name": "stdout",
     "output_type": "stream",
     "text": [
      "{'a': 2, 'c': 2, 'd': 4, 'e': 4, 'b': 2}\n"
     ]
    }
   ],
   "source": [
    "print(the_dict)"
   ]
  },
  {
   "cell_type": "code",
   "execution_count": 22,
   "metadata": {
    "collapsed": true
   },
   "outputs": [],
   "source": [
    "def changeopen(passed_dict):\n",
    "    passed_dict['d'] = 1337"
   ]
  },
  {
   "cell_type": "code",
   "execution_count": 23,
   "metadata": {
    "collapsed": true
   },
   "outputs": [],
   "source": [
    "changeopen(the_dict)"
   ]
  },
  {
   "cell_type": "code",
   "execution_count": 24,
   "metadata": {
    "collapsed": false
   },
   "outputs": [
    {
     "name": "stdout",
     "output_type": "stream",
     "text": [
      "{'a': 2, 'c': 2, 'd': 1337, 'e': 4, 'b': 2}\n"
     ]
    }
   ],
   "source": [
    "print(the_dict)"
   ]
  },
  {
   "cell_type": "code",
   "execution_count": null,
   "metadata": {
    "collapsed": true
   },
   "outputs": [],
   "source": []
  },
  {
   "cell_type": "code",
   "execution_count": 25,
   "metadata": {
    "collapsed": false
   },
   "outputs": [],
   "source": [
    "from output import LargeItem, IngredientBase, DrySolid, Liquid\n",
    "from fractions import Fraction"
   ]
  },
  {
   "cell_type": "code",
   "execution_count": 26,
   "metadata": {
    "collapsed": false
   },
   "outputs": [],
   "source": [
    "import pickle\n",
    "shopping_list = pickle.load(open(\"shopping_list.pickle\", \"rb\"))"
   ]
  },
  {
   "cell_type": "code",
   "execution_count": 27,
   "metadata": {
    "collapsed": false
   },
   "outputs": [
    {
     "data": {
      "text/plain": [
       "[<Ingredient (large item): Granny Smith apples, depending on size, peeled and sliced - 3 item>,\n",
       " <Ingredient (solid): brown sugar - 1/2 cup>,\n",
       " <Ingredient (solid): granulated sugar - 1/2 cup>,\n",
       " <Ingredient (solid): flour - 1/4 cup>,\n",
       " <Ingredient (liquid): apple pie spice (or 1 tsp cinnamon and 1/2 tsp nutmeg) - 1 tsp>,\n",
       " <Ingredient (solid): flour - 2 cups>,\n",
       " <Ingredient (solid): salt - 1 tsp>,\n",
       " <Ingredient (solid): solid shortening (like Crisco) - 3/4 cup>,\n",
       " <Ingredient (liquid): ice water - 1/4 cup>]"
      ]
     },
     "execution_count": 27,
     "metadata": {},
     "output_type": "execute_result"
    }
   ],
   "source": [
    "shopping_list"
   ]
  },
  {
   "cell_type": "code",
   "execution_count": 28,
   "metadata": {
    "collapsed": false
   },
   "outputs": [
    {
     "name": "stdout",
     "output_type": "stream",
     "text": [
      "{'item': 'Granny Smith apples, depending on size, peeled and sliced', 'qty': Fraction(3, 1), 'unit': 'item', 'original_ingredient_str': '3-4 Granny Smith apples, depending on size, peeled and sliced', 'qty_max': '4'}\n",
      "{'item': 'brown sugar', 'qty': Fraction(1, 2), 'unit': 'cup', 'original_ingredient_str': '1/2 cup brown sugar', 'qty_max': 0}\n",
      "{'item': 'granulated sugar', 'qty': Fraction(1, 2), 'unit': 'cup', 'original_ingredient_str': '1/2 cup granulated sugar', 'qty_max': 0}\n",
      "{'item': 'flour', 'qty': Fraction(1, 4), 'unit': 'cup', 'original_ingredient_str': '1/4 cup flour', 'qty_max': 0}\n",
      "{'item': 'apple pie spice (or 1 tsp cinnamon and 1/2 tsp nutmeg)', 'qty': Fraction(1, 1), 'unit': 'tsp', 'original_ingredient_str': '1 tsp apple pie spice (or 1 tsp cinnamon and 1/2 tsp nutmeg)', 'qty_max': 0}\n",
      "{'item': 'flour', 'qty': Fraction(2, 1), 'unit': 'cups', 'original_ingredient_str': '2 cups flour', 'qty_max': 0}\n",
      "{'item': 'salt', 'qty': Fraction(1, 1), 'unit': 'tsp', 'original_ingredient_str': '1 tsp salt', 'qty_max': 0}\n",
      "{'item': 'solid shortening (like Crisco)', 'qty': Fraction(3, 4), 'unit': 'cup', 'original_ingredient_str': '3/4 cup solid shortening (like Crisco)', 'qty_max': 0}\n",
      "{'item': 'ice water', 'qty': Fraction(1, 4), 'unit': 'cup', 'original_ingredient_str': '1/4 to 1/2 cup ice water', 'qty_max': '1/2'}\n"
     ]
    }
   ],
   "source": [
    "for x in shopping_list: print(x.__dict__)"
   ]
  },
  {
   "cell_type": "code",
   "execution_count": null,
   "metadata": {
    "collapsed": true
   },
   "outputs": [],
   "source": []
  },
  {
   "cell_type": "code",
   "execution_count": null,
   "metadata": {
    "collapsed": true
   },
   "outputs": [],
   "source": []
  },
  {
   "cell_type": "code",
   "execution_count": null,
   "metadata": {
    "collapsed": true
   },
   "outputs": [],
   "source": []
  },
  {
   "cell_type": "code",
   "execution_count": null,
   "metadata": {
    "collapsed": true
   },
   "outputs": [],
   "source": []
  },
  {
   "cell_type": "code",
   "execution_count": null,
   "metadata": {
    "collapsed": true
   },
   "outputs": [],
   "source": []
  },
  {
   "cell_type": "code",
   "execution_count": null,
   "metadata": {
    "collapsed": true
   },
   "outputs": [],
   "source": []
  },
  {
   "cell_type": "code",
   "execution_count": null,
   "metadata": {
    "collapsed": true
   },
   "outputs": [],
   "source": []
  },
  {
   "cell_type": "code",
   "execution_count": null,
   "metadata": {
    "collapsed": true
   },
   "outputs": [],
   "source": []
  },
  {
   "cell_type": "markdown",
   "metadata": {},
   "source": [
    "## 4.4 Reusable code"
   ]
  },
  {
   "cell_type": "code",
   "execution_count": 29,
   "metadata": {
    "collapsed": false
   },
   "outputs": [],
   "source": [
    "def move_items(items, from_dict, to_dict, qty=0.0, move_all=False):\n",
    "    \"move items (as list) from_dict to to_dict in qty (as float or int) or move_all to move all.\"\n",
    "    for item in items:\n",
    "        \n",
    "        # handling the move_all case\n",
    "        if move_all:\n",
    "            qty = from_dict[item].qty\n",
    "            log.debug(\"moving all {}\".format(qty))\n",
    "        else:\n",
    "            log.debug(\"moving {}\".format(qty))\n",
    "        \n",
    "        # assign in dicts\n",
    "        from_dict[item].qty -= qty\n",
    "        to_dict[item].qty += qty\n",
    "    "
   ]
  },
  {
   "cell_type": "code",
   "execution_count": 30,
   "metadata": {
    "collapsed": false
   },
   "outputs": [],
   "source": [
    "start = {\"beer\": Liquid(\"6 cups of beer\")}\n",
    "end = {\"beer\": Liquid(\"0 cups of beer\")}\n",
    "\n"
   ]
  },
  {
   "cell_type": "code",
   "execution_count": 35,
   "metadata": {
    "collapsed": false
   },
   "outputs": [
    {
     "name": "stderr",
     "output_type": "stream",
     "text": [
      "DEBUG: moving 3\n"
     ]
    }
   ],
   "source": [
    "move_items([\"beer\",], start, end, qty=3)"
   ]
  },
  {
   "cell_type": "code",
   "execution_count": 37,
   "metadata": {
    "collapsed": false
   },
   "outputs": [
    {
     "data": {
      "text/plain": [
       "True"
      ]
     },
     "execution_count": 37,
     "metadata": {},
     "output_type": "execute_result"
    }
   ],
   "source": [
    "start['beer'].qty == Fraction(\"3\")"
   ]
  },
  {
   "cell_type": "code",
   "execution_count": 38,
   "metadata": {
    "collapsed": false
   },
   "outputs": [
    {
     "data": {
      "text/plain": [
       "True"
      ]
     },
     "execution_count": 38,
     "metadata": {},
     "output_type": "execute_result"
    }
   ],
   "source": [
    "end['beer'].qty == Fraction(\"3\")"
   ]
  },
  {
   "cell_type": "code",
   "execution_count": 40,
   "metadata": {
    "collapsed": true
   },
   "outputs": [],
   "source": [
    "the_counter = {}\n",
    "mixing_bowl = {}\n",
    "pie_plate = {}\n",
    "\n",
    "for item in shopping_list:\n",
    "    the_counter[item.item] = item.copy()\n",
    "    mixing_bowl[item.item] = item.empty()\n",
    "    pie_plate[item.item] = item.empty()\n",
    "    \n"
   ]
  },
  {
   "cell_type": "code",
   "execution_count": 41,
   "metadata": {
    "collapsed": false
   },
   "outputs": [
    {
     "data": {
      "text/plain": [
       "{'Granny Smith apples, depending on size, peeled and sliced': <Ingredient (large item): Granny Smith apples, depending on size, peeled and sliced - 3 item>,\n",
       " 'apple pie spice (or 1 tsp cinnamon and 1/2 tsp nutmeg)': <Ingredient (liquid): apple pie spice (or 1 tsp cinnamon and 1/2 tsp nutmeg) - 1 tsp>,\n",
       " 'brown sugar': <Ingredient (solid): brown sugar - 1/2 cup>,\n",
       " 'flour': <Ingredient (solid): flour - 2 cups>,\n",
       " 'granulated sugar': <Ingredient (solid): granulated sugar - 1/2 cup>,\n",
       " 'ice water': <Ingredient (liquid): ice water - 1/4 cup>,\n",
       " 'salt': <Ingredient (solid): salt - 1 tsp>,\n",
       " 'solid shortening (like Crisco)': <Ingredient (solid): solid shortening (like Crisco) - 3/4 cup>}"
      ]
     },
     "execution_count": 41,
     "metadata": {},
     "output_type": "execute_result"
    }
   ],
   "source": [
    "the_counter"
   ]
  },
  {
   "cell_type": "code",
   "execution_count": 42,
   "metadata": {
    "collapsed": false
   },
   "outputs": [
    {
     "data": {
      "text/plain": [
       "{'Granny Smith apples, depending on size, peeled and sliced': <Ingredient (large item): Granny Smith apples, depending on size, peeled and sliced - 0 item>,\n",
       " 'apple pie spice (or 1 tsp cinnamon and 1/2 tsp nutmeg)': <Ingredient (liquid): apple pie spice (or 1 tsp cinnamon and 1/2 tsp nutmeg) - 0 tsp>,\n",
       " 'brown sugar': <Ingredient (solid): brown sugar - 0 cup>,\n",
       " 'flour': <Ingredient (solid): flour - 0 cups>,\n",
       " 'granulated sugar': <Ingredient (solid): granulated sugar - 0 cup>,\n",
       " 'ice water': <Ingredient (liquid): ice water - 0 cup>,\n",
       " 'salt': <Ingredient (solid): salt - 0 tsp>,\n",
       " 'solid shortening (like Crisco)': <Ingredient (solid): solid shortening (like Crisco) - 0 cup>}"
      ]
     },
     "execution_count": 42,
     "metadata": {},
     "output_type": "execute_result"
    }
   ],
   "source": [
    "mixing_bowl"
   ]
  },
  {
   "cell_type": "code",
   "execution_count": 43,
   "metadata": {
    "collapsed": true
   },
   "outputs": [],
   "source": [
    "def mix(the_counter, mixing_bowl, step):\n",
    "    \"\"\"Takes the different work areas as dicts\n",
    "       Inspects the step.\n",
    "       Adjust the quantities\n",
    "       \n",
    "    \n",
    "    \"\"\"\n",
    "    target_items = []\n",
    "    for item in shopping_list:\n",
    "        if item.does_match_target(step):\n",
    "            log.debug(\"{} matches\".format(item))\n",
    "            target_items.append(item.item)\n",
    "            \n",
    "    if \"together\" in step:\n",
    "        move_items(target_items, the_counter, mixing_bowl, move_all=True)\n"
   ]
  },
  {
   "cell_type": "code",
   "execution_count": 45,
   "metadata": {
    "collapsed": false
   },
   "outputs": [
    {
     "name": "stderr",
     "output_type": "stream",
     "text": [
      "DEBUG: <Ingredient (solid): brown sugar - 1/2 cup> matches\n",
      "DEBUG: <Ingredient (solid): granulated sugar - 1/2 cup> matches\n",
      "DEBUG: <Ingredient (solid): flour - 1/4 cup> matches\n",
      "DEBUG: <Ingredient (liquid): apple pie spice (or 1 tsp cinnamon and 1/2 tsp nutmeg) - 1 tsp> matches\n",
      "DEBUG: <Ingredient (solid): flour - 2 cups> matches\n",
      "DEBUG: <Ingredient (solid): salt - 1 tsp> matches\n",
      "DEBUG: <Ingredient (solid): solid shortening (like Crisco) - 3/4 cup> matches\n",
      "DEBUG: <Ingredient (liquid): ice water - 1/4 cup> matches\n",
      "DEBUG: moving all 1/2\n",
      "DEBUG: moving all 1/2\n",
      "DEBUG: moving all 2\n",
      "DEBUG: moving all 1\n",
      "DEBUG: moving all 0\n",
      "DEBUG: moving all 1\n",
      "DEBUG: moving all 3/4\n",
      "DEBUG: moving all 1/4\n"
     ]
    }
   ],
   "source": [
    "test_step = \"Mix together the sugars, flour, and spices\"\n",
    "mix(the_counter, mixing_bowl, test_step)"
   ]
  },
  {
   "cell_type": "code",
   "execution_count": null,
   "metadata": {
    "collapsed": true
   },
   "outputs": [],
   "source": []
  },
  {
   "cell_type": "code",
   "execution_count": null,
   "metadata": {
    "collapsed": true
   },
   "outputs": [],
   "source": []
  },
  {
   "cell_type": "code",
   "execution_count": null,
   "metadata": {
    "collapsed": true
   },
   "outputs": [],
   "source": []
  },
  {
   "cell_type": "markdown",
   "metadata": {},
   "source": [
    "## 4.5 Putting it all together.\n",
    "\n",
    " * Fill the counter with items and move to the mixing_bowl (pie_plate will remain empty for now)\n",
    " * Iterate over each steps\n",
    " * Operate properly on each\n",
    "\n",
    "\n"
   ]
  },
  {
   "cell_type": "code",
   "execution_count": 46,
   "metadata": {
    "collapsed": false
   },
   "outputs": [
    {
     "name": "stderr",
     "output_type": "stream",
     "text": [
      "WARNING: '('mix', 'pour', 'sprinkle', 'dot')' not found in 'Line pie plate with unbaked pastry'\n",
      "DEBUG: 'mix' found in ' Mix together the sugars, flour and spices'\n",
      "DEBUG: mixing\n",
      "DEBUG: <Ingredient (solid): brown sugar - 1/2 cup> matches\n",
      "DEBUG: <Ingredient (solid): granulated sugar - 1/2 cup> matches\n",
      "DEBUG: <Ingredient (solid): flour - 1/4 cup> matches\n",
      "DEBUG: <Ingredient (liquid): apple pie spice (or 1 tsp cinnamon and 1/2 tsp nutmeg) - 1 tsp> matches\n",
      "DEBUG: <Ingredient (solid): flour - 2 cups> matches\n",
      "DEBUG: <Ingredient (solid): salt - 1 tsp> matches\n",
      "DEBUG: <Ingredient (solid): solid shortening (like Crisco) - 3/4 cup> matches\n",
      "DEBUG: <Ingredient (liquid): ice water - 1/4 cup> matches\n",
      "DEBUG: moving all 1/2\n",
      "DEBUG: moving all 1/2\n",
      "DEBUG: moving all 2\n",
      "DEBUG: moving all 1\n",
      "DEBUG: moving all 0\n",
      "DEBUG: moving all 1\n",
      "DEBUG: moving all 3/4\n",
      "DEBUG: moving all 1/4\n"
     ]
    }
   ],
   "source": [
    "the_counter = {}\n",
    "mixing_bowl = {}\n",
    "pie_plate = {}\n",
    "\n",
    "for item in shopping_list:\n",
    "    the_counter[item.item] = item.copy()\n",
    "    mixing_bowl[item.item] = item.empty()\n",
    "    pie_plate[item.item] = item.empty()\n",
    "    \n",
    "\n",
    "for step_part in list_of_list_of_steps:\n",
    "    for step in step_part:\n",
    "        if has_mix_operation(step):\n",
    "            log.debug(\"mixing\")\n",
    "            mix(the_counter, mixing_bowl, step)\n",
    "            break\n",
    "    break\n"
   ]
  },
  {
   "cell_type": "code",
   "execution_count": null,
   "metadata": {
    "collapsed": false
   },
   "outputs": [],
   "source": [
    "\n"
   ]
  },
  {
   "cell_type": "code",
   "execution_count": null,
   "metadata": {
    "collapsed": false
   },
   "outputs": [],
   "source": []
  },
  {
   "cell_type": "code",
   "execution_count": null,
   "metadata": {
    "collapsed": true
   },
   "outputs": [],
   "source": []
  },
  {
   "cell_type": "code",
   "execution_count": null,
   "metadata": {
    "collapsed": true
   },
   "outputs": [],
   "source": []
  },
  {
   "cell_type": "code",
   "execution_count": null,
   "metadata": {
    "collapsed": true
   },
   "outputs": [],
   "source": []
  },
  {
   "cell_type": "code",
   "execution_count": null,
   "metadata": {
    "collapsed": true
   },
   "outputs": [],
   "source": []
  },
  {
   "cell_type": "code",
   "execution_count": null,
   "metadata": {
    "collapsed": true
   },
   "outputs": [],
   "source": []
  },
  {
   "cell_type": "code",
   "execution_count": null,
   "metadata": {
    "collapsed": true
   },
   "outputs": [],
   "source": []
  },
  {
   "cell_type": "code",
   "execution_count": null,
   "metadata": {
    "collapsed": true
   },
   "outputs": [],
   "source": []
  },
  {
   "cell_type": "code",
   "execution_count": null,
   "metadata": {
    "collapsed": true
   },
   "outputs": [],
   "source": []
  },
  {
   "cell_type": "code",
   "execution_count": null,
   "metadata": {
    "collapsed": true
   },
   "outputs": [],
   "source": []
  },
  {
   "cell_type": "markdown",
   "metadata": {
    "collapsed": true
   },
   "source": [
    "## 4.6 Code-reuse\n",
    "\n",
    "We can cut and past the code above and apply to crust. We will find out in the following chapter how this code can better be organized as functions."
   ]
  },
  {
   "cell_type": "code",
   "execution_count": 48,
   "metadata": {
    "collapsed": false
   },
   "outputs": [
    {
     "name": "stderr",
     "output_type": "stream",
     "text": [
      "DEBUG: step\n",
      "DEBUG: step\n",
      "DEBUG: step\n",
      "DEBUG: step\n",
      "DEBUG: step\n",
      "DEBUG: step\n",
      "DEBUG: 'mix' found in 'Mix together the flour and the salt'\n",
      "DEBUG: mixing\n",
      "DEBUG: <Ingredient (solid): brown sugar - 1/2 cup> matches\n",
      "DEBUG: <Ingredient (solid): granulated sugar - 1/2 cup> matches\n",
      "DEBUG: <Ingredient (solid): flour - 1/4 cup> matches\n",
      "DEBUG: <Ingredient (solid): flour - 2 cups> matches\n",
      "DEBUG: <Ingredient (solid): salt - 1 tsp> matches\n",
      "DEBUG: <Ingredient (solid): solid shortening (like Crisco) - 3/4 cup> matches\n",
      "DEBUG: moving all 0\n",
      "DEBUG: moving all 0\n",
      "DEBUG: moving all 0\n",
      "DEBUG: moving all 0\n",
      "DEBUG: moving all 0\n",
      "DEBUG: moving all 0\n"
     ]
    }
   ],
   "source": [
    "list_of_list_of_steps = []\n",
    "for step in crust_steps:\n",
    "    step = step.replace(\"\\n\", \" \")\n",
    "    list_of_list_of_steps.append(step.split(\". \"))\n",
    "    log.debug(\"step\")\n",
    "\n",
    "for step_part in list_of_list_of_steps:\n",
    "    for step in step_part:\n",
    "        if has_mix_operation(step):\n",
    "            log.debug(\"mixing\")\n",
    "            mix(the_counter, mixing_bowl, step)\n",
    "            break\n",
    "    break\n",
    "\n"
   ]
  },
  {
   "cell_type": "code",
   "execution_count": 49,
   "metadata": {
    "collapsed": false
   },
   "outputs": [
    {
     "data": {
      "text/plain": [
       "{'Granny Smith apples, depending on size, peeled and sliced': <Ingredient (large item): Granny Smith apples, depending on size, peeled and sliced - 0 item>,\n",
       " 'apple pie spice (or 1 tsp cinnamon and 1/2 tsp nutmeg)': <Ingredient (liquid): apple pie spice (or 1 tsp cinnamon and 1/2 tsp nutmeg) - 1 tsp>,\n",
       " 'brown sugar': <Ingredient (solid): brown sugar - 1/2 cup>,\n",
       " 'flour': <Ingredient (solid): flour - 2 cups>,\n",
       " 'granulated sugar': <Ingredient (solid): granulated sugar - 1/2 cup>,\n",
       " 'ice water': <Ingredient (liquid): ice water - 1/4 cup>,\n",
       " 'salt': <Ingredient (solid): salt - 1 tsp>,\n",
       " 'solid shortening (like Crisco)': <Ingredient (solid): solid shortening (like Crisco) - 3/4 cup>}"
      ]
     },
     "execution_count": 49,
     "metadata": {},
     "output_type": "execute_result"
    }
   ],
   "source": [
    "mixing_bowl"
   ]
  },
  {
   "cell_type": "code",
   "execution_count": null,
   "metadata": {
    "collapsed": true
   },
   "outputs": [],
   "source": []
  },
  {
   "cell_type": "code",
   "execution_count": null,
   "metadata": {
    "collapsed": true
   },
   "outputs": [],
   "source": []
  },
  {
   "cell_type": "code",
   "execution_count": null,
   "metadata": {
    "collapsed": true
   },
   "outputs": [],
   "source": []
  },
  {
   "cell_type": "code",
   "execution_count": null,
   "metadata": {
    "collapsed": true
   },
   "outputs": [],
   "source": []
  },
  {
   "cell_type": "code",
   "execution_count": null,
   "metadata": {
    "collapsed": true
   },
   "outputs": [],
   "source": []
  },
  {
   "cell_type": "code",
   "execution_count": null,
   "metadata": {
    "collapsed": true
   },
   "outputs": [],
   "source": []
  },
  {
   "cell_type": "code",
   "execution_count": null,
   "metadata": {
    "collapsed": true
   },
   "outputs": [],
   "source": []
  },
  {
   "cell_type": "code",
   "execution_count": null,
   "metadata": {
    "collapsed": true
   },
   "outputs": [],
   "source": []
  },
  {
   "cell_type": "code",
   "execution_count": null,
   "metadata": {
    "collapsed": true
   },
   "outputs": [],
   "source": []
  }
 ],
 "metadata": {
  "anaconda-cloud": {},
  "kernelspec": {
   "display_name": "Python [py3k]",
   "language": "python",
   "name": "Python [py3k]"
  },
  "language_info": {
   "codemirror_mode": {
    "name": "ipython",
    "version": 3
   },
   "file_extension": ".py",
   "mimetype": "text/x-python",
   "name": "python",
   "nbconvert_exporter": "python",
   "pygments_lexer": "ipython3",
   "version": "3.5.2"
  }
 },
 "nbformat": 4,
 "nbformat_minor": 0
}
