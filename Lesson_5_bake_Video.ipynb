{
 "cells": [
  {
   "cell_type": "markdown",
   "metadata": {},
   "source": [
    "# Bake It—Python Functions\n",
    "\n",
    "<img src=\"misc/5_pie in oven.png\" width=\"70%\" />\n",
    "\n",
    "We need to define what it means to *bake*. In the kitchen, you have to find the oven, give it some settings like temperature, turn it on, etc... Here we will write code in the form of *functions* that accept those configurations so we can bake our pies.\n"
   ]
  },
  {
   "cell_type": "markdown",
   "metadata": {},
   "source": [
    "## 5.1 Functions\n",
    "\n",
    "We have been writing Python functions along the way in the past chapters. We will take a closer look at what a Python function is. Some interesting features of functions include the following:\n",
    "\n",
    " * They are defined with `def` keyword\n",
    " * They get a name, see `foo` below\n",
    " * They always have parentheses `(` + `)` after the name \n",
    " * There may be one (or many separated with `,`) arguments. We will call ours *first_arg* and *second_arg*\n",
    " * The first line is used for documentation as a string (aka doc string)\n",
    " * The function uses the keyword `return` to tell what it returns.\n",
    "\n",
    "\n",
    "```python\n",
    "def foo(first_arg, second_arg=1):\n",
    "    \"some foo function\"\n",
    "    out = first_arg + second_arg\n",
    "    return out\n",
    "```\n",
    "\n",
    "Before we make functions of our own, let's play a bit with the `foo` function we just defined.\n",
    "\n"
   ]
  },
  {
   "cell_type": "code",
   "execution_count": null,
   "metadata": {
    "collapsed": true
   },
   "outputs": [],
   "source": [
    "def foo(first_arg, second_arg=1):\n",
    "    \"some foo function\"\n",
    "    out = first_arg + second_arg\n",
    "    return out"
   ]
  },
  {
   "cell_type": "markdown",
   "metadata": {},
   "source": [
    "Now let's look at what we just created."
   ]
  },
  {
   "cell_type": "code",
   "execution_count": null,
   "metadata": {
    "collapsed": false
   },
   "outputs": [],
   "source": [
    "foo"
   ]
  },
  {
   "cell_type": "code",
   "execution_count": null,
   "metadata": {
    "collapsed": false
   },
   "outputs": [],
   "source": [
    "help(foo)"
   ]
  },
  {
   "cell_type": "markdown",
   "metadata": {},
   "source": [
    "Now we create a function. Calling the function also uses  parenthesis `(` + `)` after the function name:"
   ]
  },
  {
   "cell_type": "code",
   "execution_count": null,
   "metadata": {
    "collapsed": false
   },
   "outputs": [],
   "source": [
    "foo(1)"
   ]
  },
  {
   "cell_type": "markdown",
   "metadata": {},
   "source": [
    "Notice the `second_arg` defaulted to 1, as we told it too. We can overwrite that now:"
   ]
  },
  {
   "cell_type": "code",
   "execution_count": null,
   "metadata": {
    "collapsed": false
   },
   "outputs": [],
   "source": [
    "foo(1, 2)"
   ]
  },
  {
   "cell_type": "code",
   "execution_count": null,
   "metadata": {
    "collapsed": false
   },
   "outputs": [],
   "source": [
    "help(foo)\n"
   ]
  },
  {
   "cell_type": "code",
   "execution_count": null,
   "metadata": {
    "collapsed": false
   },
   "outputs": [],
   "source": [
    "foo(1, second_arg=4)"
   ]
  },
  {
   "cell_type": "code",
   "execution_count": null,
   "metadata": {
    "collapsed": false
   },
   "outputs": [],
   "source": [
    "from pie_logger import get_logger\n",
    "log = get_logger()"
   ]
  },
  {
   "cell_type": "markdown",
   "metadata": {},
   "source": [
    "Some notes on the way functions work. They behave just like any other variable or type. They can be passed around, re-assigned, and executed dynamically. "
   ]
  },
  {
   "cell_type": "code",
   "execution_count": null,
   "metadata": {
    "collapsed": false
   },
   "outputs": [],
   "source": [
    "new_foo = foo"
   ]
  },
  {
   "cell_type": "code",
   "execution_count": null,
   "metadata": {
    "collapsed": false
   },
   "outputs": [],
   "source": [
    "for x in range(5):\n",
    "    return_val = new_foo(x, x**2)\n",
    "    log.info(return_val)"
   ]
  },
  {
   "cell_type": "code",
   "execution_count": null,
   "metadata": {
    "collapsed": false
   },
   "outputs": [],
   "source": [
    "help(new_foo)"
   ]
  },
  {
   "cell_type": "code",
   "execution_count": null,
   "metadata": {
    "collapsed": true
   },
   "outputs": [],
   "source": []
  },
  {
   "cell_type": "code",
   "execution_count": null,
   "metadata": {
    "collapsed": true
   },
   "outputs": [],
   "source": []
  },
  {
   "cell_type": "code",
   "execution_count": null,
   "metadata": {
    "collapsed": true
   },
   "outputs": [],
   "source": []
  },
  {
   "cell_type": "code",
   "execution_count": null,
   "metadata": {
    "collapsed": true
   },
   "outputs": [],
   "source": []
  },
  {
   "cell_type": "code",
   "execution_count": null,
   "metadata": {
    "collapsed": true
   },
   "outputs": [],
   "source": []
  },
  {
   "cell_type": "code",
   "execution_count": null,
   "metadata": {
    "collapsed": true
   },
   "outputs": [],
   "source": []
  },
  {
   "cell_type": "code",
   "execution_count": null,
   "metadata": {
    "collapsed": true
   },
   "outputs": [],
   "source": []
  },
  {
   "cell_type": "markdown",
   "metadata": {},
   "source": [
    "## 5.2 Bake it function"
   ]
  },
  {
   "cell_type": "code",
   "execution_count": 1,
   "metadata": {
    "collapsed": true
   },
   "outputs": [],
   "source": [
    "def bake_it(pie, temerature=350, time=30):\n",
    "    \"bake_it function takes a pie, temperature, and time\"\n",
    "    return pie"
   ]
  },
  {
   "cell_type": "code",
   "execution_count": 3,
   "metadata": {
    "collapsed": true
   },
   "outputs": [],
   "source": [
    "pie = \"pie\""
   ]
  },
  {
   "cell_type": "code",
   "execution_count": 4,
   "metadata": {
    "collapsed": false
   },
   "outputs": [
    {
     "data": {
      "text/plain": [
       "'pie'"
      ]
     },
     "execution_count": 4,
     "metadata": {},
     "output_type": "execute_result"
    }
   ],
   "source": [
    "bake_it(pie)"
   ]
  },
  {
   "cell_type": "markdown",
   "metadata": {},
   "source": [
    "The bake_it function does nothing. One thing that would be helpful would be that it ensures the oven is heated. Then it will be nice to bake many pies simultaneously. In the next lesson we will build some Pie objects that are smart. For now, we will use some code from runners to help us."
   ]
  },
  {
   "cell_type": "code",
   "execution_count": 5,
   "metadata": {
    "collapsed": true
   },
   "outputs": [],
   "source": [
    "from time import sleep\n",
    "import random\n",
    "import runners"
   ]
  },
  {
   "cell_type": "code",
   "execution_count": 6,
   "metadata": {
    "collapsed": false,
    "scrolled": true
   },
   "outputs": [
    {
     "name": "stdout",
     "output_type": "stream",
     "text": [
      "Help on function complex_runner in module runners:\n",
      "\n",
      "complex_runner(func, pies, pie_count=3, **kwargs)\n",
      "    Run pie (object or list) pie_count times.\n",
      "    func: the function to send to run. like bake_it\n",
      "    Pies: a Pie or list of Pies to run\n",
      "    pie_count: multipy the the pies pie_count times\n",
      "    **kwargs, any arguments to send to func\n",
      "\n"
     ]
    }
   ],
   "source": [
    "help(runners.complex_runner)"
   ]
  },
  {
   "cell_type": "code",
   "execution_count": 9,
   "metadata": {
    "collapsed": false
   },
   "outputs": [],
   "source": [
    "\n",
    "from pie_logger import get_logger\n",
    "log = get_logger()\n",
    "\n",
    "\n",
    "def bake_it(oven_q, pie, n):\n",
    "    \"bake_it function takes a pie and n, for number of times\"\n",
    "    if oven_q.get():\n",
    "        oven_q.put(True)\n",
    "    stime = random.uniform(2.0, 3.0)\n",
    "    sleep(stime)\n",
    "    log.debug(\"now I got pie #{} in {:.4f}sec\".format(n+1, stime))\n",
    "    # bake it ...\n",
    "    return pie"
   ]
  },
  {
   "cell_type": "code",
   "execution_count": 10,
   "metadata": {
    "collapsed": false
   },
   "outputs": [
    {
     "name": "stderr",
     "output_type": "stream",
     "text": [
      "DEBUG: wait 10 seconds while we heat the oven...\n",
      "DEBUG: oven heated for 10 seconds\n",
      "DEBUG: now I got pie #1 in 2.1415sec\n",
      "DEBUG: now I got pie #3 in 2.9442sec\n",
      "DEBUG: now I got pie #2 in 2.9821sec\n",
      "INFO: done!\n"
     ]
    }
   ],
   "source": [
    "runners.complex_runner(bake_it, \"pie\")"
   ]
  },
  {
   "cell_type": "code",
   "execution_count": null,
   "metadata": {
    "collapsed": true
   },
   "outputs": [],
   "source": []
  },
  {
   "cell_type": "code",
   "execution_count": null,
   "metadata": {
    "collapsed": true
   },
   "outputs": [],
   "source": []
  },
  {
   "cell_type": "code",
   "execution_count": null,
   "metadata": {
    "collapsed": true
   },
   "outputs": [],
   "source": []
  },
  {
   "cell_type": "code",
   "execution_count": null,
   "metadata": {
    "collapsed": true
   },
   "outputs": [],
   "source": []
  },
  {
   "cell_type": "code",
   "execution_count": null,
   "metadata": {
    "collapsed": true
   },
   "outputs": [],
   "source": []
  },
  {
   "cell_type": "code",
   "execution_count": null,
   "metadata": {
    "collapsed": true
   },
   "outputs": [],
   "source": []
  },
  {
   "cell_type": "code",
   "execution_count": null,
   "metadata": {
    "collapsed": true
   },
   "outputs": [],
   "source": []
  },
  {
   "cell_type": "code",
   "execution_count": null,
   "metadata": {
    "collapsed": true
   },
   "outputs": [],
   "source": []
  },
  {
   "cell_type": "markdown",
   "metadata": {},
   "source": [
    "## 5.3 A brief introduction to parameters and arguments\n",
    "\n",
    "\n",
    "A *parameter* is what a function will accept. Briefly, it's everything between the parenthesis. In other words\n",
    "\n",
    "```python\n",
    "def some_fuction(parameter_1, parameter_2):\n",
    "    return None\n",
    "```    \n",
    "Think of these as shelves in a kitchen. Empty shelves. We can rename them:\n",
    "\n",
    "```python\n",
    "def put_in_cabinate(bread_drawer, flour_container):\n",
    "    return None\n",
    "```    \n",
    "\n",
    "In practice, it may work something like this:\n"
   ]
  },
  {
   "cell_type": "code",
   "execution_count": 11,
   "metadata": {
    "collapsed": true
   },
   "outputs": [],
   "source": [
    "def put_in_cabinate(bread_drawer, flour_container):\n",
    "    log.info(\"{} and {} cups of flour\".format(bread_drawer, flour_container))"
   ]
  },
  {
   "cell_type": "code",
   "execution_count": 12,
   "metadata": {
    "collapsed": false
   },
   "outputs": [
    {
     "name": "stderr",
     "output_type": "stream",
     "text": [
      "INFO: ['1 slice white bread', '3 slice wheat bread'] and 4 cups of flour\n"
     ]
    }
   ],
   "source": [
    "put_in_cabinate([\"1 slice white bread\", \"3 slice wheat bread\"], 4)"
   ]
  },
  {
   "cell_type": "markdown",
   "metadata": {},
   "source": [
    "The first argument is a list, the second is an integer.\n",
    "You can first assign the arguments to a variable:"
   ]
  },
  {
   "cell_type": "code",
   "execution_count": 13,
   "metadata": {
    "collapsed": false
   },
   "outputs": [
    {
     "name": "stderr",
     "output_type": "stream",
     "text": [
      "INFO: ['1 slice white bread', '3 slice wheat bread'] and 4 cups of flour\n"
     ]
    }
   ],
   "source": [
    "things_for_bread_drawer = [\"1 slice white bread\", \"3 slice wheat bread\"]\n",
    "number_of_cubs = 4 \n",
    "put_in_cabinate(things_for_bread_drawer, number_of_cubs)"
   ]
  },
  {
   "cell_type": "markdown",
   "metadata": {},
   "source": [
    "Say you always want to send four cups by default. Notice below: ```flour_container=4```"
   ]
  },
  {
   "cell_type": "code",
   "execution_count": 14,
   "metadata": {
    "collapsed": true
   },
   "outputs": [],
   "source": [
    "def put_in_cabinate(bread_drawer, flour_container=4):\n",
    "    log.info(\"{} and {} cups of flour\".format(bread_drawer, flour_container))"
   ]
  },
  {
   "cell_type": "markdown",
   "metadata": {},
   "source": [
    "Then we can say"
   ]
  },
  {
   "cell_type": "code",
   "execution_count": 15,
   "metadata": {
    "collapsed": false
   },
   "outputs": [
    {
     "name": "stderr",
     "output_type": "stream",
     "text": [
      "INFO: ['1 slice white bread', '3 slice wheat bread'] and 4 cups of flour\n"
     ]
    }
   ],
   "source": [
    "put_in_cabinate([\"1 slice white bread\", \"3 slice wheat bread\"])"
   ]
  },
  {
   "cell_type": "markdown",
   "metadata": {},
   "source": [
    "if you want to overwrite it:"
   ]
  },
  {
   "cell_type": "code",
   "execution_count": null,
   "metadata": {
    "collapsed": false
   },
   "outputs": [],
   "source": [
    "put_in_cabinet2(['1 loaf', '1 slice'], flour_container=5)"
   ]
  },
  {
   "cell_type": "markdown",
   "metadata": {},
   "source": [
    "That `flour_container=4` is called *keyword argument*. For more advanced operations with these try some of this magic:"
   ]
  },
  {
   "cell_type": "code",
   "execution_count": 16,
   "metadata": {
    "collapsed": false
   },
   "outputs": [
    {
     "name": "stderr",
     "output_type": "stream",
     "text": [
      "INFO: using default key words\n",
      "INFO: using a list and dictionary\n"
     ]
    },
    {
     "name": "stdout",
     "output_type": "stream",
     "text": [
      "{'kw2': 2, 'pm1': 1, 'pm3': 3, 'kw1': 1, 'pm2': 2}\n",
      "{'kw2': 8, 'pm1': 4, 'pm3': 6, 'kw1': 7, 'pm2': 5}\n"
     ]
    }
   ],
   "source": [
    "def cool_function(pm1, pm2, pm3, kw1=1, kw2=2):\n",
    "    print(\"{}\".format(locals()))\n",
    "\n",
    "log.info(\"using default key words\")\n",
    "cool_function(1, 2, 3)\n",
    "\n",
    "log.info(\"using a list and dictionary\")\n",
    "list_args = [4, 5, 6]\n",
    "key_word_args = {\"kw1\": 7, \"kw2\": 8}\n",
    "    cool_function(*list_args, **key_word_args)\n"
   ]
  },
  {
   "cell_type": "code",
   "execution_count": null,
   "metadata": {
    "collapsed": true
   },
   "outputs": [],
   "source": []
  },
  {
   "cell_type": "code",
   "execution_count": null,
   "metadata": {
    "collapsed": true
   },
   "outputs": [],
   "source": []
  },
  {
   "cell_type": "code",
   "execution_count": null,
   "metadata": {
    "collapsed": true
   },
   "outputs": [],
   "source": []
  },
  {
   "cell_type": "code",
   "execution_count": null,
   "metadata": {
    "collapsed": true
   },
   "outputs": [],
   "source": []
  },
  {
   "cell_type": "code",
   "execution_count": null,
   "metadata": {
    "collapsed": true
   },
   "outputs": [],
   "source": []
  },
  {
   "cell_type": "code",
   "execution_count": null,
   "metadata": {
    "collapsed": true
   },
   "outputs": [],
   "source": []
  },
  {
   "cell_type": "code",
   "execution_count": null,
   "metadata": {
    "collapsed": true
   },
   "outputs": [],
   "source": []
  },
  {
   "cell_type": "code",
   "execution_count": null,
   "metadata": {
    "collapsed": true
   },
   "outputs": [],
   "source": []
  },
  {
   "cell_type": "code",
   "execution_count": null,
   "metadata": {
    "collapsed": true
   },
   "outputs": [],
   "source": []
  },
  {
   "cell_type": "code",
   "execution_count": null,
   "metadata": {
    "collapsed": true
   },
   "outputs": [],
   "source": []
  },
  {
   "cell_type": "markdown",
   "metadata": {},
   "source": [
    "## 5.4 Arguments in the kitchen\n",
    "\n",
    "Now let's send some arguments to our `bake_it()` function"
   ]
  },
  {
   "cell_type": "code",
   "execution_count": 20,
   "metadata": {
    "collapsed": true
   },
   "outputs": [],
   "source": [
    "def bake_it(oven_q, pie, temperature=350, time=30, variance=2, n=1):\n",
    "    \"bake_it function takes a pie, temperature, time, variance, n=number\"\n",
    "    if oven_q and oven_q.get():\n",
    "        oven_q.put(True)\n",
    "    \n",
    "    cook_time = random.uniform(time-variance, time+variance)\n",
    "    sleep(cook_time)\n",
    "    log.debug(\"temp {}\".format(temperature))\n",
    "    log.info(\"now I got pie #{} in {}sec\".format(n+1, cook_time))\n",
    "    return pie    "
   ]
  },
  {
   "cell_type": "code",
   "execution_count": 18,
   "metadata": {
    "collapsed": false
   },
   "outputs": [
    {
     "name": "stdout",
     "output_type": "stream",
     "text": [
      "Help on function complex_runner in module runners:\n",
      "\n",
      "complex_runner(func, pies, pie_count=3, **kwargs)\n",
      "    Run pie (object or list) pie_count times.\n",
      "    func: the function to send to run. like bake_it\n",
      "    Pies: a Pie or list of Pies to run\n",
      "    pie_count: multipy the the pies pie_count times\n",
      "    **kwargs, any arguments to send to func\n",
      "\n"
     ]
    }
   ],
   "source": [
    "help(runners.complex_runner)"
   ]
  },
  {
   "cell_type": "code",
   "execution_count": 19,
   "metadata": {
    "collapsed": false
   },
   "outputs": [
    {
     "name": "stderr",
     "output_type": "stream",
     "text": [
      "DEBUG: wait 10 seconds while we heat the oven...\n",
      "DEBUG: oven heated for 10 seconds\n",
      "INFO: now I got pie #1 in 1.0080784249731871sec\n",
      "INFO: now I got pie #4 in 1.1771482098003245sec\n",
      "INFO: now I got pie #2 in 2.2277261448544445sec\n",
      "INFO: now I got pie #3 in 2.6231648064929276sec\n",
      "INFO: now I got pie #7 in 2.6762742970052056sec\n",
      "INFO: now I got pie #6 in 4.505638530237539sec\n",
      "INFO: now I got pie #5 in 4.875870989930529sec\n",
      "INFO: done!\n"
     ]
    }
   ],
   "source": [
    "runners.complex_runner(bake_it, \"pie\", pie_count=7, time=3)"
   ]
  },
  {
   "cell_type": "code",
   "execution_count": 21,
   "metadata": {
    "collapsed": false
   },
   "outputs": [
    {
     "name": "stderr",
     "output_type": "stream",
     "text": [
      "DEBUG: wait 10 seconds while we heat the oven...\n",
      "DEBUG: oven heated for 10 seconds\n",
      "DEBUG: temp 350\n",
      "INFO: now I got pie #5 in 1.6326521571952455sec\n",
      "DEBUG: temp 350\n",
      "INFO: now I got pie #2 in 2.476231692849339sec\n",
      "DEBUG: temp 350\n",
      "INFO: now I got pie #6 in 3.232025982775668sec\n",
      "DEBUG: temp 350\n",
      "INFO: now I got pie #3 in 3.413123820359231sec\n",
      "DEBUG: temp 350\n",
      "INFO: now I got pie #7 in 3.4648917327520348sec\n",
      "DEBUG: temp 350\n",
      "INFO: now I got pie #1 in 4.33206436505356sec\n",
      "DEBUG: temp 350\n",
      "INFO: now I got pie #4 in 4.578649814287681sec\n",
      "INFO: done!\n"
     ]
    }
   ],
   "source": [
    "runners.complex_runner(bake_it, \"pie\", pie_count=7, time=3)"
   ]
  },
  {
   "cell_type": "code",
   "execution_count": 22,
   "metadata": {
    "collapsed": false
   },
   "outputs": [
    {
     "name": "stderr",
     "output_type": "stream",
     "text": [
      "DEBUG: wait 10 seconds while we heat the oven...\n",
      "DEBUG: oven heated for 10 seconds\n",
      "DEBUG: temp 375\n",
      "INFO: now I got pie #4 in 1.1573525104676152sec\n",
      "DEBUG: temp 375\n",
      "INFO: now I got pie #2 in 1.3911382241486474sec\n",
      "DEBUG: temp 375\n",
      "INFO: now I got pie #1 in 3.176540923914241sec\n",
      "DEBUG: temp 375\n",
      "INFO: now I got pie #6 in 3.633477198338537sec\n",
      "DEBUG: temp 375\n",
      "INFO: now I got pie #5 in 3.7072041663274606sec\n",
      "DEBUG: temp 375\n",
      "INFO: now I got pie #3 in 3.8863568944848805sec\n",
      "DEBUG: temp 375\n",
      "INFO: now I got pie #7 in 4.727043822774639sec\n",
      "INFO: done!\n"
     ]
    }
   ],
   "source": [
    "runners.complex_runner(bake_it, \"pie\", pie_count=7, time=3, temperature=375)"
   ]
  },
  {
   "cell_type": "code",
   "execution_count": null,
   "metadata": {
    "collapsed": true
   },
   "outputs": [],
   "source": []
  },
  {
   "cell_type": "code",
   "execution_count": null,
   "metadata": {
    "collapsed": true
   },
   "outputs": [],
   "source": []
  },
  {
   "cell_type": "code",
   "execution_count": null,
   "metadata": {
    "collapsed": true
   },
   "outputs": [],
   "source": []
  },
  {
   "cell_type": "code",
   "execution_count": null,
   "metadata": {
    "collapsed": true
   },
   "outputs": [],
   "source": []
  },
  {
   "cell_type": "code",
   "execution_count": null,
   "metadata": {
    "collapsed": true
   },
   "outputs": [],
   "source": []
  },
  {
   "cell_type": "code",
   "execution_count": null,
   "metadata": {
    "collapsed": true
   },
   "outputs": [],
   "source": []
  },
  {
   "cell_type": "code",
   "execution_count": null,
   "metadata": {
    "collapsed": true
   },
   "outputs": [],
   "source": []
  },
  {
   "cell_type": "code",
   "execution_count": null,
   "metadata": {
    "collapsed": true
   },
   "outputs": [],
   "source": []
  },
  {
   "cell_type": "code",
   "execution_count": null,
   "metadata": {
    "collapsed": true
   },
   "outputs": [],
   "source": []
  }
 ],
 "metadata": {
  "anaconda-cloud": {},
  "kernelspec": {
   "display_name": "Python [py3k]",
   "language": "python",
   "name": "Python [py3k]"
  },
  "language_info": {
   "codemirror_mode": {
    "name": "ipython",
    "version": 3
   },
   "file_extension": ".py",
   "mimetype": "text/x-python",
   "name": "python",
   "nbconvert_exporter": "python",
   "pygments_lexer": "ipython3",
   "version": "3.5.2"
  }
 },
 "nbformat": 4,
 "nbformat_minor": 0
}
