{
 "cells": [
  {
   "cell_type": "markdown",
   "metadata": {},
   "source": [
    "# Welcome to \"Python as Easy as Pie\" *cooking* class video series.\n",
    "\n",
    "This an interactive guided tour of the Python programming langage. For those who love cooking-class style instructional videos or for those who just love pie, Python as Easy as Pie will wet your appatite for learning Python Programming Language.\n",
    "\n",
    "Regareless if this is your very first lesson in programming or if you just need a refresher, Python as Easy as Pie, will cover the fundemental concepts common to every Python use case. You may want to program your fish tank 🐠 or our next intersetller space craft 🚀 Python as Easy as Pie will provide a fun and easy to follow tutorial where you will walk away hungry for more.\n",
    "\n",
    "You can execute Python code in this notebook as we get along. This platform is the chef's kitchen. Now let's bake!\n",
    "\n",
    "Here is an outline of the Classes:\n",
    "\n",
    " 1. [Chapter 1](Chapter_1_setup.ipynb) - Setup: interact with our complete interactive pie factory; Learn to use Python as a Command Language. \n",
    " 2. [Chapter 2](Chapter_2_recipe.ipynb) - The Recipe; Python Handling Text\n",
    " 3. [Chapter 3](Chapter_3_ingredients.ipynb) - Ingredients; Python Base Types (string, Int, decimal, tuple, lists)\n",
    " 4. [Chapter 4](Chapter_4_mix.ipynb) - Mixing Ingredients: Python Dictionaries\n",
    " 5. [Chapter 5](Chapter_5_bake.ipynb) - Bake It; Python Functions\n",
    " 6. [Chapter 6](Chapter_6_pies.ipynb) - Many Types of Pie; Python Classes\n",
    " 7. [Chapter 7](Chapter_7_factory.ipynb) - Pie Factory: Object Oriented Python\n",
    " 8. [Chapter 8](Chapter_8_pieStore.ipynb) - Pie Store: Visuals UX/UI Design\n",
    " \n",
    "(C) Brian Ray, 2016"
   ]
  },
  {
   "cell_type": "code",
   "execution_count": 1,
   "metadata": {
    "collapsed": false
   },
   "outputs": [],
   "source": [
    "import pie"
   ]
  },
  {
   "cell_type": "code",
   "execution_count": 2,
   "metadata": {
    "collapsed": true
   },
   "outputs": [],
   "source": [
    "import ipywidgets as widgets\n",
    "from traitlets import Unicode, validate\n",
    "\n",
    "\n",
    "class HelloWidget(widgets.DOMWidget):\n",
    "    _view_name = Unicode('HelloView').tag(sync=True)\n",
    "    _view_module = Unicode('hello').tag(sync=True)"
   ]
  },
  {
   "cell_type": "code",
   "execution_count": 3,
   "metadata": {
    "collapsed": false
   },
   "outputs": [
    {
     "data": {
      "application/javascript": [
       "require.undef('hello');\n",
       "\n",
       "define('hello', [\"jupyter-js-widgets\"], function(widgets) {\n",
       "\n",
       "    var HelloView = widgets.DOMWidgetView.extend({\n",
       "\n",
       "        // Render the view.\n",
       "        render: function() {\n",
       "            alert(\"hi\");\n",
       "            this.el.textContent = 'Hello World!';\n",
       "        },\n",
       "    });\n",
       "\n",
       "    return {\n",
       "        HelloView: HelloView\n",
       "    };\n",
       "});"
      ],
      "text/plain": [
       "<IPython.core.display.Javascript object>"
      ]
     },
     "metadata": {},
     "output_type": "display_data"
    }
   ],
   "source": [
    "%%javascript\n",
    "require.undef('hello');\n",
    "\n",
    "define('hello', [\"jupyter-js-widgets\"], function(widgets) {\n",
    "\n",
    "    var HelloView = widgets.DOMWidgetView.extend({\n",
    "\n",
    "        // Render the view.\n",
    "        render: function() {\n",
    "            alert(\"hi\");\n",
    "            this.el.textContent = 'Hello World!';\n",
    "        },\n",
    "    });\n",
    "\n",
    "    return {\n",
    "        HelloView: HelloView\n",
    "    };\n",
    "});"
   ]
  },
  {
   "cell_type": "code",
   "execution_count": 4,
   "metadata": {
    "collapsed": true
   },
   "outputs": [],
   "source": [
    "HelloWidget()"
   ]
  },
  {
   "cell_type": "code",
   "execution_count": null,
   "metadata": {
    "collapsed": true
   },
   "outputs": [],
   "source": []
  }
 ],
 "metadata": {
  "anaconda-cloud": {},
  "kernelspec": {
   "display_name": "Python [py3k]",
   "language": "python",
   "name": "Python [py3k]"
  },
  "language_info": {
   "codemirror_mode": {
    "name": "ipython",
    "version": 3
   },
   "file_extension": ".py",
   "mimetype": "text/x-python",
   "name": "python",
   "nbconvert_exporter": "python",
   "pygments_lexer": "ipython3",
   "version": "3.5.2"
  }
 },
 "nbformat": 4,
 "nbformat_minor": 0
}
