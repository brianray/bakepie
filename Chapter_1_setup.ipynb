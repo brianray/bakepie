{
 "cells": [
  {
   "cell_type": "markdown",
   "metadata": {},
   "source": [
    "# Python from Scratch\n",
    "\n",
    "## Welcome to \"Python as Easy as Pie\" *cooking* class video series.\n",
    "\n",
    "[ Pie Factory Illustration ]\n",
    "\n",
    "This an interactive guided tour of the Python programming language. For those who love cooking-class style instructional videos or for those who just love pie, Python as Easy as Pie will whet your appetite for learning Python Programming Language.\n",
    "\n",
    "Regardless if this is your very first lesson in programming or if you just need a refresher, Python as Easy as Pie will cover the fundamental concepts common to every Python use case. You may want to program your fish tank 🐠 or our next interstellar spacecraft 🚀.  Python as Easy as Pie will provide a fun and easy to follow tutorial where you will walk away hungry for more.\n",
    "\n",
    "You can execute Python code in this notebook as we go along. This platform is the chef's kitchen. Now let's bake!\n",
    "Here is an outline of the Classes:\n",
    "\n",
    " 1. [Chapter 1](Chapter_1_setup.ipynb) - Setup: interact with our complete interactive pie factory; Learn to use Python as a Command Language\n",
    " 2. [Chapter 2](Chapter_2_recipe.ipynb) - The Recipe; Python Handling Text\n",
    "    1. Everything Starts with a recipe\n",
    "    1. Breaking text up into parts\n",
    "    1. \"DRY\" stands for Don't Repeat Yourself.\n",
    "    1. Now, let's break up the recipie some more\n",
    "    1. now one function to do it all\n",
    " 3. [Chapter 3](Chapter_3_ingredients.ipynb) - Ingredients; Python Base Types (string, Int, decimal, tuple, lists)\n",
    "    1. what is an ingredient? what is a type?\n",
    "    1. User Defined Types\n",
    "    1. Storing quantites of ingredients\n",
    "    1. next what type\n",
    "    1. putting it all together\n",
    " \n",
    " 4. [Chapter 4](Chapter_4_mix.ipynb) - Mixing Ingredients: Python Dictionaries\n",
    "    1. logging and control\n",
    "    1. let's start with the filling\n",
    "    1. notes on Dicts (dictionaries)\n",
    "    1. putting it all together\n",
    "    1. code-reuse\n",
    " 5. [Chapter 5](Chapter_5_bake.ipynb) - Bake It; Python Functions\n",
    "    1. functions\n",
    "    1. Bake it function\n",
    "    1. a brief introduction to parameters and arguments\n",
    "    1. arguments in the kitchen\n",
    " 6. [Chapter 6](Chapter_6_pies.ipynb) - Many Types of Pie; Python Classes\n",
    "    1. making the Pie Class\n",
    "    1. different Types of Pie\n",
    "    1. Combining functionality to make pies\n",
    "    1. Mixing many pies\n",
    " 7. [Chapter 7](Chapter_7_factory.ipynb) - Pie Factory: Object Oriented Python\n",
    " 8. [Chapter 8](Chapter_8_pieStore.ipynb) - Pie Store: Visuals UX/UI Design\n"
   ]
  },
  {
   "cell_type": "code",
   "execution_count": 1,
   "metadata": {
    "collapsed": false
   },
   "outputs": [],
   "source": [
    "import pie"
   ]
  },
  {
   "cell_type": "markdown",
   "metadata": {
    "collapsed": true
   },
   "source": [
    "[PLACEHOLDER: Interactive Pie Factory widget]"
   ]
  }
 ],
 "metadata": {
  "anaconda-cloud": {},
  "kernelspec": {
   "display_name": "Python [py3k]",
   "language": "python",
   "name": "Python [py3k]"
  },
  "language_info": {
   "codemirror_mode": {
    "name": "ipython",
    "version": 3
   },
   "file_extension": ".py",
   "mimetype": "text/x-python",
   "name": "python",
   "nbconvert_exporter": "python",
   "pygments_lexer": "ipython3",
   "version": "3.5.2"
  }
 },
 "nbformat": 4,
 "nbformat_minor": 0
}
