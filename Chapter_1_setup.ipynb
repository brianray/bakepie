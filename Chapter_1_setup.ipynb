{
 "cells": [
  {
   "cell_type": "markdown",
   "metadata": {},
   "source": [
    "# Python from Scratch\n",
    "\n",
    "## Welcome to \"Python as Easy as Pie\" *cooking* class video series.\n",
    "\n",
    "<img src=\"misc/pie_cover.png\" width=\"80%\" />\n",
    "\n",
    "This an interactive guided tour of the Python programming language. For those who love cooking-class style instructional videos or for those who just love pie, Python as Easy as Pie will whet your appetite for learning Python Programming Language.\n",
    "\n",
    "Regardless if this is your very first lesson in programming or if you just need a refresher, Python as Easy as Pie will cover the fundamental concepts common to every Python use case. You may want to program your fish tank 🐠 or our next interstellar spacecraft 🚀.  Python as Easy as Pie will provide a fun and easy to follow tutorial where you will walk away hungry for more.\n",
    "\n",
    "You can execute Python code in this notebook as we go along. This platform is the chef's kitchen. Now let's bake!\n"
   ]
  },
  {
   "cell_type": "markdown",
   "metadata": {},
   "source": [
    "## This is a jupyter notebook\n",
    "\n",
    "Notebooks are a collection of horizontally alligned *cells*. They can be notes like this one. They can be Python code. Or between each can be output from the Python command.\n",
    "\n",
    "The cells with `IN [ ]:` allows Python commands. The previous commands *remember* eachother. In other words, if we declare a variable (a named placeholder for data) in one cell, it carries over to the next. We will show you a carryover example below. \n",
    "\n",
    "The cells with  `OUT[ ]:` show the result of the previous command, a print out of the last item. If the `print()` command is used, it will print below that cell at any point."
   ]
  },
  {
   "cell_type": "code",
   "execution_count": null,
   "metadata": {
    "collapsed": false
   },
   "outputs": [],
   "source": [
    "1 + 1"
   ]
  },
  {
   "cell_type": "code",
   "execution_count": null,
   "metadata": {
    "collapsed": false
   },
   "outputs": [],
   "source": [
    "print(3)"
   ]
  },
  {
   "cell_type": "markdown",
   "metadata": {},
   "source": [
    "example of a variable carring over to next cell:"
   ]
  },
  {
   "cell_type": "code",
   "execution_count": null,
   "metadata": {
    "collapsed": true
   },
   "outputs": [],
   "source": [
    "variable_example = 1"
   ]
  },
  {
   "cell_type": "code",
   "execution_count": null,
   "metadata": {
    "collapsed": false
   },
   "outputs": [],
   "source": [
    "variable_example"
   ]
  },
  {
   "cell_type": "markdown",
   "metadata": {},
   "source": [
    "## Complete Pie Factory\n",
    "\n",
    "In the following lessons we will be creating all the code required to build this interactive Pie Factory:"
   ]
  },
  {
   "cell_type": "code",
   "execution_count": 11,
   "metadata": {
    "collapsed": true
   },
   "outputs": [],
   "source": [
    "import complete_pie"
   ]
  },
  {
   "cell_type": "code",
   "execution_count": 12,
   "metadata": {
    "collapsed": false
   },
   "outputs": [],
   "source": [
    "process = complete_pie.run_detached()"
   ]
  },
  {
   "cell_type": "code",
   "execution_count": 13,
   "metadata": {
    "collapsed": false
   },
   "outputs": [
    {
     "data": {
      "text/html": [
       "<iframe id=\"jupy\" scrolling=\"no\" style=\"border:none;\"\n",
       "                    seamless=\"seamless\"\n",
       "                    src=\"http://127.0.0.1:5000/\"\n",
       "                    height=\"525\" width=\"100%\">\n",
       "                    </iframe>"
      ],
      "text/plain": [
       "<complete_pie.JupyDisplay object>"
      ]
     },
     "execution_count": 13,
     "metadata": {},
     "output_type": "execute_result"
    }
   ],
   "source": [
    "complete_pie.JupyDisplay(url=\"http://127.0.0.1:5000/\")"
   ]
  },
  {
   "cell_type": "code",
   "execution_count": null,
   "metadata": {
    "collapsed": true
   },
   "outputs": [],
   "source": []
  }
 ],
 "metadata": {
  "anaconda-cloud": {},
  "kernelspec": {
   "display_name": "Python [conda env:py3k]",
   "language": "python",
   "name": "conda-env-py3k-py"
  },
  "language_info": {
   "codemirror_mode": {
    "name": "ipython",
    "version": 3
   },
   "file_extension": ".py",
   "mimetype": "text/x-python",
   "name": "python",
   "nbconvert_exporter": "python",
   "pygments_lexer": "ipython3",
   "version": "3.5.2"
  }
 },
 "nbformat": 4,
 "nbformat_minor": 0
}
