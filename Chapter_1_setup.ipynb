{
 "cells": [
  {
   "cell_type": "markdown",
   "metadata": {},
   "source": [
    "# Python from Scratch\n",
    "\n",
    "## Welcome to \"Python as Easy as Pie\" *cooking* class video series.\n",
    "\n",
    "[ Pie Factory Illustration ]\n",
    "\n",
    "This an interactive guided tour of the Python programming language. For those who love cooking-class style instructional videos or for those who just love pie, Python as Easy as Pie will whet your appetite for learning Python Programming Language.\n",
    "\n",
    "Regardless if this is your very first lesson in programming or if you just need a refresher, Python as Easy as Pie will cover the fundamental concepts common to every Python use case. You may want to program your fish tank 🐠 or our next interstellar spacecraft 🚀.  Python as Easy as Pie will provide a fun and easy to follow tutorial where you will walk away hungry for more.\n",
    "\n",
    "You can execute Python code in this notebook as we go along. This platform is the chef's kitchen. Now let's bake!\n",
    "Here is an outline of the Classes:\n",
    "\n",
    " 1. [Lesson 1](Lesson_1_setup.ipynb) - Setup: interact with our complete interactive pie factory; Learn to use Python as a Command Language\n",
    "    1. This is a jupyter notebook\n",
    "    1. Some basic input and output\n",
    "    1. The Complete Pie Factory\n",
    " 2. [Lesson 2](Lesson_2_recipe.ipynb) - The Recipe; Python Handling Text\n",
    "    1. Everything Starts with a recipe\n",
    "    1. Breaking text up into parts\n",
    "    1. \"DRY\" stands for Don't Repeat Yourself.\n",
    "    1. Now, let's break up the recipie some more\n",
    "    1. now one function to do it all\n",
    " 3. [Chapter 3](Lesson_3_ingredients.ipynb) - Ingredients; Python Base Types (string, Int, decimal, tuple, lists)\n",
    "    1. what is an ingredient? what is a type?\n",
    "    1. User Defined Types\n",
    "    1. Storing quantites of ingredients\n",
    "    1. next what type\n",
    "    1. putting it all together\n",
    " \n",
    " 4. [Chapter 4](Lesson_4_mix.ipynb) - Mixing Ingredients: Python Dictionaries\n",
    "    1. logging and control\n",
    "    1. let's start with the filling\n",
    "    1. notes on Dicts (dictionaries)\n",
    "    1. putting it all together\n",
    "    1. code-reuse\n",
    " 5. [Chapter 5](Lesson_5_bake.ipynb) - Bake It; Python Functions\n",
    "    1. functions\n",
    "    1. Bake it function\n",
    "    1. a brief introduction to parameters and arguments\n",
    "    1. arguments in the kitchen\n",
    " 6. [Chapter 6](Lesson_6_pies.ipynb) - Many Types of Pie; Python Classes\n",
    "    1. making the Pie Class\n",
    "    1. different Types of Pie\n",
    "    1. Combining functionality to make pies\n",
    "    1. Mixing many pies\n",
    " 7. [Chapter 7](Lesson_7_factory.ipynb) - Pie Factory: Object Oriented Python\n",
    " 8. [Chapter 8](Lesson_8_pieStore.ipynb) - Pie Store: Visuals UX/UI Design\n"
   ]
  },
  {
   "cell_type": "markdown",
   "metadata": {},
   "source": [
    "## This is a jupyter notebook\n",
    "\n",
    "Notebooks are a collection of horizontally alligned *cells*. They can be notes like this one. They can be Python code. Or between each can be output from the Python command.\n",
    "\n",
    "The cells with `IN [ ]:` allows Python commands. The previous commands *remember* eachother. In other words, if we declare a variable (a named placeholder for data) in one cell, it carries over to the next. We will show you a carryover example below. \n",
    "\n",
    "The cells with  `OUT[ ]:` show the result of the previous command, a print out of the last item. If the `print()` command is used, it will print below that cell at any point."
   ]
  },
  {
   "cell_type": "code",
   "execution_count": 4,
   "metadata": {
    "collapsed": false
   },
   "outputs": [
    {
     "data": {
      "text/plain": [
       "2"
      ]
     },
     "execution_count": 4,
     "metadata": {},
     "output_type": "execute_result"
    }
   ],
   "source": [
    "1 + 1"
   ]
  },
  {
   "cell_type": "code",
   "execution_count": 5,
   "metadata": {
    "collapsed": false
   },
   "outputs": [
    {
     "name": "stdout",
     "output_type": "stream",
     "text": [
      "3\n"
     ]
    }
   ],
   "source": [
    "print(3)"
   ]
  },
  {
   "cell_type": "markdown",
   "metadata": {},
   "source": [
    "example of a variable carring over to next cell:"
   ]
  },
  {
   "cell_type": "code",
   "execution_count": 6,
   "metadata": {
    "collapsed": true
   },
   "outputs": [],
   "source": [
    "variable_example = 1"
   ]
  },
  {
   "cell_type": "code",
   "execution_count": 7,
   "metadata": {
    "collapsed": false
   },
   "outputs": [
    {
     "data": {
      "text/plain": [
       "1"
      ]
     },
     "execution_count": 7,
     "metadata": {},
     "output_type": "execute_result"
    }
   ],
   "source": [
    "variable_example"
   ]
  },
  {
   "cell_type": "markdown",
   "metadata": {},
   "source": [
    "## Complete Pie Factory"
   ]
  },
  {
   "cell_type": "code",
   "execution_count": 8,
   "metadata": {
    "collapsed": true
   },
   "outputs": [],
   "source": [
    "import complete_pie"
   ]
  },
  {
   "cell_type": "code",
   "execution_count": 11,
   "metadata": {
    "collapsed": false
   },
   "outputs": [],
   "source": [
    "process = complete_pie.run_detached()"
   ]
  },
  {
   "cell_type": "code",
   "execution_count": 13,
   "metadata": {
    "collapsed": false
   },
   "outputs": [
    {
     "data": {
      "text/html": [
       "<iframe id=\"jupy\" scrolling=\"no\" style=\"border:none;\"\n",
       "                    seamless=\"seamless\"\n",
       "                    src=\"http://127.0.0.1:5000/\"\n",
       "                    height=\"525\" width=\"100%\">\n",
       "                    </iframe>"
      ],
      "text/plain": [
       "<complete_pie.JupyDisplay object>"
      ]
     },
     "execution_count": 13,
     "metadata": {},
     "output_type": "execute_result"
    }
   ],
   "source": [
    "complete_pie.JupyDisplay(url=\"http://127.0.0.1:5000/\")"
   ]
  },
  {
   "cell_type": "code",
   "execution_count": null,
   "metadata": {
    "collapsed": true
   },
   "outputs": [],
   "source": []
  }
 ],
 "metadata": {
  "anaconda-cloud": {},
  "kernelspec": {
   "display_name": "Python [conda env:py3k]",
   "language": "python",
   "name": "conda-env-py3k-py"
  },
  "language_info": {
   "codemirror_mode": {
    "name": "ipython",
    "version": 3
   },
   "file_extension": ".py",
   "mimetype": "text/x-python",
   "name": "python",
   "nbconvert_exporter": "python",
   "pygments_lexer": "ipython3",
   "version": "3.5.2"
  }
 },
 "nbformat": 4,
 "nbformat_minor": 0
}
