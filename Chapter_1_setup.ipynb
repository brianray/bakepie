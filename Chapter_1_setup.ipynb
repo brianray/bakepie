{
 "cells": [
  {
   "cell_type": "markdown",
   "metadata": {},
   "source": [
    "# Python from Scratch LiveLessons\n",
    "\n",
    "## Lesson 1: Setup\n",
     "\n",
    "### Welcome to the \"Python as Easy as Pie\" *cooking* class video series.\n",
    "\n",
    "<img src=\"misc/pie_cover.png\" width=\"80%\" />\n",
    "\n",
    "This an interactive guided tour of the Python programming language. For those who love cooking-class style instructional videos or for those who just love pie, *Python from Scratch LiveLessons* will whet your appetite for learning the Python programming language.\n",
    "\n",
    "Regardless of whether this is your very first lesson in programming or if you just need a refresher, *Python from Scratch LiveLessons* will cover the fundamental concepts common to every Python use case. You may want to program your fish tank 🐠 or our next interstellar spacecraft 🚀.  *Python as Easy as Pie LiveLessons* will provide a fun and easy to follow tutorial that will leave you hungry for more.\n",
    "\n",
    "You can execute Python code in this notebook as we go along. This platform is the chef's kitchen. Now let's bake!\n"
   ]
  },
  {
   "cell_type": "markdown",
   "metadata": {},
   "source": [
    "## 1.1 This Is a Jupyter Notebook\n",
    "\n",
    "Notebooks are a collection of horizontally alligned *cells*. They can be notes like this one. They can be Python code. Or between each can be output from the Python command.\n",
    "\n",
    "The cells with `IN [ ]:` enable Python commands. The previous commands *remember* each other. In other words, if we declare a variable (a named placeholder for data) in one cell, it carries over to the next. I will show you a carryover example below. \n",
    "\n",
    "The cells with  `OUT[ ]:` show the result of the previous command, a printout of the last item. If the `print()` command is used, it will print below that cell at any point."
   ]
  },
  {
   "cell_type": "code",
   "execution_count": 1,
   "metadata": {
    "collapsed": false
   },
   "outputs": [
    {
     "data": {
      "text/plain": [
       "2"
      ]
     },
     "execution_count": 1,
     "metadata": {},
     "output_type": "execute_result"
    }
   ],
   "source": [
    "1 + 1"
   ]
  },
  {
   "cell_type": "code",
   "execution_count": 2,
   "metadata": {
    "collapsed": false
   },
   "outputs": [
    {
     "name": "stdout",
     "output_type": "stream",
     "text": [
      "3\n"
     ]
    }
   ],
   "source": [
    "print(3)"
   ]
  },
  {
   "cell_type": "markdown",
   "metadata": {},
   "source": [
    "Example of a variable carring over to next cell:"
   ]
  },
  {
   "cell_type": "code",
   "execution_count": 3,
   "metadata": {
    "collapsed": true
   },
   "outputs": [],
   "source": [
    "variable_example = 1"
   ]
  },
  {
   "cell_type": "code",
   "execution_count": 4,
   "metadata": {
    "collapsed": false
   },
   "outputs": [
    {
     "data": {
      "text/plain": [
       "1"
      ]
     },
     "execution_count": 4,
     "metadata": {},
     "output_type": "execute_result"
    }
   ],
   "source": [
    "variable_example"
   ]
  },
  {
   "cell_type": "markdown",
   "metadata": {},
   "source": [
    "## 1.2 Complete Pie Factory\n",
    "\n",
    "In the following lessons we will be creating all the code required to build this interactive Pie Factory:"
   ]
  },
  {
   "cell_type": "code",
   "execution_count": 5,
   "metadata": {
    "collapsed": true
   },
   "outputs": [],
   "source": [
    "import complete_pie"
   ]
  },
  {
   "cell_type": "code",
   "execution_count": 6,
   "metadata": {
    "collapsed": false
   },
   "outputs": [],
   "source": [
    "process = complete_pie.run_detached()"
   ]
  },
  {
   "cell_type": "code",
   "execution_count": 7,
   "metadata": {
    "collapsed": false
   },
   "outputs": [
    {
     "data": {
      "text/html": [
       "<iframe id=\"jupy\" scrolling=\"no\" style=\"border:none;\"\n",
       "                    seamless=\"seamless\"\n",
       "                    src=\"http://127.0.0.1:5000/\"\n",
       "                    height=\"525\" width=\"100%\">\n",
       "                    </iframe>"
      ],
      "text/plain": [
       "<complete_pie.JupyDisplay object>"
      ]
     },
     "execution_count": 7,
     "metadata": {},
     "output_type": "execute_result"
    }
   ],
   "source": [
    "complete_pie.JupyDisplay(url=\"http://127.0.0.1:5000/\")"
   ]
  },
  {
   "cell_type": "code",
   "execution_count": null,
   "metadata": {
    "collapsed": true
   },
   "outputs": [],
   "source": []
  }
 ],
 "metadata": {
  "anaconda-cloud": {},
  "kernelspec": {
   "display_name": "Python [conda env:py3k]",
   "language": "python",
   "name": "conda-env-py3k-py"
  },
  "language_info": {
   "codemirror_mode": {
    "name": "ipython",
    "version": 3
   },
   "file_extension": ".py",
   "mimetype": "text/x-python",
   "name": "python",
   "nbconvert_exporter": "python",
   "pygments_lexer": "ipython3",
   "version": "3.5.2"
  }
 },
 "nbformat": 4,
 "nbformat_minor": 0
}
