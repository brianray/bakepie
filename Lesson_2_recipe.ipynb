{
 "cells": [
  {
   "cell_type": "markdown",
   "metadata": {},
   "source": [
    "# 2.1 Everything starts with a recipe\n",
    "\n",
    "<img src=\"misc/2_a recipe on table.png\" width=\"80%\" />\n",
    "\n",
    "            \n"
   ]
  },
  {
   "cell_type": "code",
   "execution_count": null,
   "metadata": {
    "collapsed": false
   },
   "outputs": [],
   "source": []
  },
  {
   "cell_type": "code",
   "execution_count": null,
   "metadata": {
    "collapsed": false
   },
   "outputs": [],
   "source": []
  },
  {
   "cell_type": "markdown",
   "metadata": {},
   "source": [
    "## 2.2 Break up text into parts\n",
    "\n",
    "We need to break this down a little bit. Let's break this into:\n",
    "\n",
    " * title\n",
    " * crust\n",
    " * filling\n",
    " \n",
    "We will create variables to hold each. Let's start out and just assign them to an empty string ''."
   ]
  },
  {
   "cell_type": "code",
   "execution_count": null,
   "metadata": {
    "collapsed": true
   },
   "outputs": [],
   "source": [
    "title = ''\n",
    "crust = ''\n",
    "filling = ''"
   ]
  },
  {
   "cell_type": "code",
   "execution_count": null,
   "metadata": {
    "collapsed": false
   },
   "outputs": [],
   "source": []
  },
  {
   "cell_type": "markdown",
   "metadata": {},
   "source": [
    "> There are many ways to break the recipe into parts. One good way is to use *split* function. "
   ]
  },
  {
   "cell_type": "code",
   "execution_count": null,
   "metadata": {
    "collapsed": false
   },
   "outputs": [],
   "source": []
  },
  {
   "cell_type": "markdown",
   "metadata": {},
   "source": [
    "> This gives us a list (a mutable series we will go over in next lesson). The first item is everything before \"CRUST\", the second item is everything after. \n",
    "\n",
    "> If we want to just look at a single item in a list we can use square brackets `[ + ]`, with the index of the item we want:"
   ]
  },
  {
   "cell_type": "code",
   "execution_count": null,
   "metadata": {
    "collapsed": false
   },
   "outputs": [],
   "source": []
  },
  {
   "cell_type": "markdown",
   "metadata": {},
   "source": [
    "> If you noticed there is extra space under the title. Likewise, we saw above a bunch of `\\n`. A `\\` is how you escape a character or specify a special character. "
   ]
  },
  {
   "cell_type": "code",
   "execution_count": null,
   "metadata": {
    "collapsed": false
   },
   "outputs": [],
   "source": []
  },
  {
   "cell_type": "markdown",
   "metadata": {},
   "source": [
    "> Now we can add a `r` before the string to make it raw:"
   ]
  },
  {
   "cell_type": "code",
   "execution_count": null,
   "metadata": {
    "collapsed": false
   },
   "outputs": [],
   "source": []
  },
  {
   "cell_type": "code",
   "execution_count": null,
   "metadata": {
    "collapsed": false
   },
   "outputs": [],
   "source": []
  },
  {
   "cell_type": "markdown",
   "metadata": {},
   "source": [
    "> Use `#` to make code comments, They are for internal reference and don't run.\n",
    " "
   ]
  },
  {
   "cell_type": "code",
   "execution_count": null,
   "metadata": {
    "collapsed": false
   },
   "outputs": [],
   "source": []
  },
  {
   "cell_type": "code",
   "execution_count": null,
   "metadata": {
    "collapsed": true
   },
   "outputs": [],
   "source": []
  },
  {
   "cell_type": "code",
   "execution_count": null,
   "metadata": {
    "collapsed": false
   },
   "outputs": [],
   "source": []
  },
  {
   "cell_type": "markdown",
   "metadata": {},
   "source": [
    "In Python, use the operator `==` to see if two strings are equal. "
   ]
  },
  {
   "cell_type": "code",
   "execution_count": null,
   "metadata": {
    "collapsed": false
   },
   "outputs": [],
   "source": []
  },
  {
   "cell_type": "code",
   "execution_count": null,
   "metadata": {
    "collapsed": true
   },
   "outputs": [],
   "source": []
  },
  {
   "cell_type": "code",
   "execution_count": null,
   "metadata": {
    "collapsed": false
   },
   "outputs": [],
   "source": []
  },
  {
   "cell_type": "markdown",
   "metadata": {},
   "source": [
    "> Now to break up the 'crust' and the 'filling'"
   ]
  },
  {
   "cell_type": "code",
   "execution_count": null,
   "metadata": {
    "collapsed": false
   },
   "outputs": [],
   "source": []
  },
  {
   "cell_type": "markdown",
   "metadata": {},
   "source": [
    "> We can re-use the `parts` variable here, because, why not?"
   ]
  },
  {
   "cell_type": "code",
   "execution_count": null,
   "metadata": {
    "collapsed": false
   },
   "outputs": [],
   "source": []
  },
  {
   "cell_type": "code",
   "execution_count": null,
   "metadata": {
    "collapsed": false
   },
   "outputs": [],
   "source": []
  },
  {
   "cell_type": "code",
   "execution_count": null,
   "metadata": {
    "collapsed": true
   },
   "outputs": [],
   "source": []
  },
  {
   "cell_type": "code",
   "execution_count": null,
   "metadata": {
    "collapsed": false
   },
   "outputs": [],
   "source": []
  },
  {
   "cell_type": "markdown",
   "metadata": {},
   "source": [
    "> Now I notice we have that annoying `:` we need to shave off the recipe. \n",
    "\n",
    "> We can do that the same way we got an index on the list. It works with strings too!"
   ]
  },
  {
   "cell_type": "code",
   "execution_count": null,
   "metadata": {
    "collapsed": false
   },
   "outputs": [],
   "source": []
  },
  {
   "cell_type": "markdown",
   "metadata": {},
   "source": [
    "> That just says give me the first item in the string.\n",
    "> If I want a range I add a `:` after the `0` in the `[]`"
   ]
  },
  {
   "cell_type": "code",
   "execution_count": null,
   "metadata": {
    "collapsed": false
   },
   "outputs": [],
   "source": []
  },
  {
   "cell_type": "markdown",
   "metadata": {},
   "source": [
    "> That says give me everything from `0` to `10`.\n",
    "\n",
    "> I can also say, give me everything else by putting in a `:` and leaving what goes after empty.\n"
   ]
  },
  {
   "cell_type": "code",
   "execution_count": null,
   "metadata": {
    "collapsed": false
   },
   "outputs": [],
   "source": []
  },
  {
   "cell_type": "code",
   "execution_count": null,
   "metadata": {
    "collapsed": false
   },
   "outputs": [],
   "source": []
  },
  {
   "cell_type": "markdown",
   "metadata": {},
   "source": [
    "> We do the exact same thing for the filling:"
   ]
  },
  {
   "cell_type": "code",
   "execution_count": null,
   "metadata": {
    "collapsed": false
   },
   "outputs": [],
   "source": []
  },
  {
   "cell_type": "markdown",
   "metadata": {},
   "source": [
    "## 2.3 DRY stands for Don't Repeat Yourself.\n",
    "\n",
    "We did that `[1:].strip()` twice. If we were to do that a bunch of times we would want to generalize that into what we call a function in Python. Here is an example:\n",
    "\n",
    "```python\n",
    "\n",
    "def remove_first_character(subject_string):\n",
    "    return subject_string[1:].strip()\n",
    "    \n",
    "```\n",
    "\n",
    "Now let's test it with a couple examples:\n",
    "\n",
    "    \": <- is it gone\"\n",
    "    \"! remove me too\"\n",
    "    \"<:)\"\n",
    "    \n",
    "    '''@extra space \n",
    "    \n",
    "    '''"
   ]
  },
  {
   "cell_type": "code",
   "execution_count": null,
   "metadata": {
    "collapsed": false
   },
   "outputs": [],
   "source": [
    "def remove_first_character(subject_string):\n",
    "    return subject_string[1:].strip()\n",
    "    \n",
    "print(remove_first_character(\": <- is it gone\"))\n"
   ]
  },
  {
   "cell_type": "markdown",
   "metadata": {},
   "source": [
    "> Python is self documenting. Recall when we used `help()` before?\n",
    "> That works if we put a string after the `def` line like so:"
   ]
  },
  {
   "cell_type": "code",
   "execution_count": null,
   "metadata": {
    "collapsed": true
   },
   "outputs": [],
   "source": [
    "def remove_first_character(subject_string):\n",
    "    \"removes the first character of a string, and also strips white space.\"\n",
    "    return subject_string[1:].strip()"
   ]
  },
  {
   "cell_type": "code",
   "execution_count": null,
   "metadata": {
    "collapsed": false
   },
   "outputs": [],
   "source": []
  },
  {
   "cell_type": "markdown",
   "metadata": {},
   "source": [
    "## 2.4 Break up the recipe some more\n",
    "\n",
    "I want to see:\n",
    " * list of ingredients \n",
    " * instructions broken up into sections\n",
    "\n",
    "Then I want to create functions for each of these so I can reuse them.\n",
    "\n",
    "First, let's look at the list of ingredients. If I look at the recipe part, I notice that everything above the blank line is ingredients. Let's split on that first:\n"
   ]
  },
  {
   "cell_type": "code",
   "execution_count": null,
   "metadata": {
    "collapsed": false
   },
   "outputs": [],
   "source": []
  },
  {
   "cell_type": "code",
   "execution_count": null,
   "metadata": {
    "collapsed": false
   },
   "outputs": [],
   "source": []
  },
  {
   "cell_type": "markdown",
   "metadata": {},
   "source": [
    "Then, if I want to put each ingredient into a list, just split the list again."
   ]
  },
  {
   "cell_type": "code",
   "execution_count": null,
   "metadata": {
    "collapsed": true
   },
   "outputs": [],
   "source": []
  },
  {
   "cell_type": "code",
   "execution_count": null,
   "metadata": {
    "collapsed": false
   },
   "outputs": [],
   "source": []
  },
  {
   "cell_type": "markdown",
   "metadata": {},
   "source": [
    "Just like ingredients, we split out the steps:"
   ]
  },
  {
   "cell_type": "code",
   "execution_count": null,
   "metadata": {
    "collapsed": false
   },
   "outputs": [],
   "source": []
  },
  {
   "cell_type": "code",
   "execution_count": null,
   "metadata": {
    "collapsed": false
   },
   "outputs": [],
   "source": []
  },
  {
   "cell_type": "markdown",
   "metadata": {},
   "source": [
    "> So far, we have been parsing and printing out strings. \n",
    "\n",
    "> It could help us display strings if we format them. For example, it would be helpful to print:\n",
    "\n",
    "    There are 3 steps.\n",
    "    \n",
    "> To do so we will format a string using `.format()` method and `{}`\n",
    "\n",
    "```python\n",
    "\"There are {0} steps.\".format(len(steps))\n",
    "```"
   ]
  },
  {
   "cell_type": "code",
   "execution_count": null,
   "metadata": {
    "collapsed": false
   },
   "outputs": [],
   "source": []
  },
  {
   "cell_type": "markdown",
   "metadata": {},
   "source": [
    "## 2.5 Putting it all together into functions\n",
    "\n",
    "The functions we need include the following:\n",
    "\n",
    " 1. Read the file\n",
    " 1. Get the title\n",
    " 1. Split the crust and filling\n",
    " 1. Get the ingredients as list\n",
    " 1. Get the steps as list\n",
    " 1. Print out the results\n",
    " \n",
    " Let's start:\n"
   ]
  },
  {
   "cell_type": "code",
   "execution_count": null,
   "metadata": {
    "collapsed": true
   },
   "outputs": [],
   "source": [
    "def read_recipe(path):\n",
    "    \"1. reads the file given in path\"\n",
    "    out = open(\"misc/ApplePie.txt\").read()\n",
    "    print(\"read {} characters.\".format(len(out)))\n",
    "    return out"
   ]
  },
  {
   "cell_type": "code",
   "execution_count": null,
   "metadata": {
    "collapsed": false
   },
   "outputs": [],
   "source": []
  },
  {
   "cell_type": "code",
   "execution_count": null,
   "metadata": {
    "collapsed": true
   },
   "outputs": [],
   "source": [
    "def get_title(recipe, split_on=\"CRUST\"):\n",
    "    \"2. finds the title above what is split_on\"\n",
    "    title = recipe.split(split_on)[0].strip()\n",
    "    print(\"title: {}\".format(title))\n",
    "    return title"
   ]
  },
  {
   "cell_type": "code",
   "execution_count": null,
   "metadata": {
    "collapsed": false
   },
   "outputs": [],
   "source": []
  },
  {
   "cell_type": "code",
   "execution_count": null,
   "metadata": {
    "collapsed": false
   },
   "outputs": [],
   "source": [
    "def get_crust_filling(recipe, split_on=\"CRUST\", and_on=\"FILLING\"):\n",
    "    \"3. parses out the crust, filling from recipe\"\n",
    "    crust_and_filling = recipe.split(split_on)[1].strip()\n",
    "    crust, filling = crust_and_filling.split(and_on)\n",
    "    print(\"crust has {} characters, filling has {} characters\".format(len(crust), len(filling)))\n",
    "    return remove_first_character(crust), remove_first_character(filling)"
   ]
  },
  {
   "cell_type": "code",
   "execution_count": null,
   "metadata": {
    "collapsed": false
   },
   "outputs": [],
   "source": []
  },
  {
   "cell_type": "code",
   "execution_count": null,
   "metadata": {
    "collapsed": false
   },
   "outputs": [],
   "source": [
    "def get_ingredients_as_list(recipe):\n",
    "    \"4. returns a list of ingredients\"\n",
    "    ingredients = recipe.split(\"\\n\\n\")[0]  # \\n\\n is a blank line, [0] is the first item\n",
    "    ingredients = ingredients.split(\"\\n\")\n",
    "    print(\"there are {} ingredients\".format(len(ingredients)))\n",
    "    return ingredients"
   ]
  },
  {
   "cell_type": "code",
   "execution_count": null,
   "metadata": {
    "collapsed": false
   },
   "outputs": [],
   "source": []
  },
  {
   "cell_type": "markdown",
   "metadata": {},
   "source": [
    "> It also works with the crust"
   ]
  },
  {
   "cell_type": "code",
   "execution_count": null,
   "metadata": {
    "collapsed": false
   },
   "outputs": [],
   "source": []
  },
  {
   "cell_type": "markdown",
   "metadata": {},
   "source": [
    "> Now for the get the steps out part"
   ]
  },
  {
   "cell_type": "code",
   "execution_count": null,
   "metadata": {
    "collapsed": true
   },
   "outputs": [],
   "source": [
    "def get_the_steps_as_list(recipe):\n",
    "    \"5. returns the steps as a list\"\n",
    "    steps = recipe.split(\"\\n\\n\")[1:]  # \\n\\n is a blank line, [1:] is all after first item\n",
    "    print(\"there are {} steps\".format(len(steps)))\n",
    "    return steps"
   ]
  },
  {
   "cell_type": "code",
   "execution_count": null,
   "metadata": {
    "collapsed": false
   },
   "outputs": [],
   "source": []
  },
  {
   "cell_type": "code",
   "execution_count": null,
   "metadata": {
    "collapsed": false
   },
   "outputs": [],
   "source": []
  },
  {
   "cell_type": "markdown",
   "metadata": {},
   "source": [
    "> Finally, print out the results"
   ]
  },
  {
   "cell_type": "code",
   "execution_count": null,
   "metadata": {
    "collapsed": true
   },
   "outputs": [],
   "source": []
  },
  {
   "cell_type": "code",
   "execution_count": null,
   "metadata": {
    "collapsed": false
   },
   "outputs": [],
   "source": []
  },
  {
   "cell_type": "code",
   "execution_count": null,
   "metadata": {
    "collapsed": true
   },
   "outputs": [],
   "source": []
  },
  {
   "cell_type": "markdown",
   "metadata": {},
   "source": [
    "## 2.6 One function to do it all\n",
    "\n",
    "We also introduce the `dict()` built-in type. Dictionaries will be covered in the next session. In short they are key value pairs. For example:\n",
    "```python\n",
    "    {\"odd\": [1, 3, 5, 7], \"even\": [2, 4, 6]}\n",
    "```\n",
    "\n",
    "There are two keys (labels), \"odd\" and \"even\". \"odd\" contains a list of 4 odd numbers, \"even\" three even numbers. Note a couple things:\n",
    "\n",
    " * use of curly braces `{` and `}`\n",
    " * `:` separates key from values\n",
    " * `,` separates key/values pairs from more pairs\n",
    "\n",
    "In our case we want a dictionary that contains a structure that looks like this:\n",
    "\n",
    "```python\n",
    "{\"Title\": \"Some Dessert Recipe\",\n",
    " \"Parts\": [\n",
    "     {\"sub-title\": \"whipping cream\",\n",
    "      \"ingredients\": [\n",
    "             \"2 tablespoons sugar\",\n",
    "             \"1 cup heavy whipping cream\"],\n",
    "      \"steps\": ['''Place a metal mixing bowl and metal whisk into the freezer\n",
    "                   for 10 to 15 minutes.''',\n",
    "                '''Place the sugar into the mixing bowl and add the whipping\n",
    "                   cream. Whisk just until the cream reaches stiff peaks.\n",
    "                   Store any unused portion in an airtight container for up\n",
    "                   to 10 hours. When ready to use, rewhisk for 10 to 15\n",
    "                   seconds.''',\n",
    "                '''Recipe courtesy of Alton Brown, 2009''']}]}\n",
    "```\n",
    "\n"
   ]
  },
  {
   "cell_type": "code",
   "execution_count": null,
   "metadata": {
    "collapsed": false
   },
   "outputs": [],
   "source": [
    "def runall(path):\n",
    "    recipe = read_recipe(path)\n",
    "    title = get_title(recipe)\n",
    "    crust, filling = get_crust_filling(recipe) \n",
    "\n",
    "    # for filling\n",
    "    filling_ingredients = get_ingredients_as_list(filling)\n",
    "    filling_steps = get_the_steps_as_list(filling)\n",
    "    print_out_results(title, \"filling\", filling_ingredients, filling_steps)\n",
    "\n",
    "    # for crust\n",
    "    crust_ingredients = get_ingredients_as_list(crust)\n",
    "    crust_steps = get_the_steps_as_list(crust)\n",
    "    print_out_results(title, \"crust\", crust_ingredients, crust_steps)\n",
    "    \n",
    "    # now format and return the dict\n",
    "    return  {\"Title\": \"Some Dessert Recipe\",\n",
    "             \"Parts\": [\n",
    "                 {\"sub-title\": \"filling\",\n",
    "                  \"ingredients\": filling_ingredients,\n",
    "                  \"steps\": filling_steps},\n",
    "                 {\"sub-title\": \"crust\",\n",
    "                  \"ingredients\": crust_ingredients,\n",
    "                  \"steps\": crust_steps}]}"
   ]
  },
  {
   "cell_type": "code",
   "execution_count": null,
   "metadata": {
    "collapsed": false
   },
   "outputs": [],
   "source": []
  },
  {
   "cell_type": "code",
   "execution_count": null,
   "metadata": {
    "collapsed": false
   },
   "outputs": [],
   "source": []
  },
  {
   "cell_type": "markdown",
   "metadata": {},
   "source": [
    "> `pickle` allows us to store the data for the next lesson:"
   ]
  },
  {
   "cell_type": "code",
   "execution_count": null,
   "metadata": {
    "collapsed": false
   },
   "outputs": [],
   "source": [
    "import pickle\n",
    "pickle.dump(recipe_as_dict, open(\"data.pickle\", \"wb\"))"
   ]
  }
 ],
 "metadata": {
  "anaconda-cloud": {},
  "kernelspec": {
   "display_name": "Python [py3k]",
   "language": "python",
   "name": "Python [py3k]"
  },
  "language_info": {
   "codemirror_mode": {
    "name": "ipython",
    "version": 3
   },
   "file_extension": ".py",
   "mimetype": "text/x-python",
   "name": "python",
   "nbconvert_exporter": "python",
   "pygments_lexer": "ipython3",
   "version": "3.5.2"
  }
 },
 "nbformat": 4,
 "nbformat_minor": 0
}
