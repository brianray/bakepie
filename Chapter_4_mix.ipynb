{
 "cells": [
  {
   "cell_type": "markdown",
   "metadata": {},
   "source": [
    "# Mix the ingredients\n",
    "\n",
    "In Chapter 2 we read the ingedients/steps, in 3, we parsed those ingredients to gain some understanding on what they do. Now we will take the steps and mix the ingredients. In doing so we will gain a deaper understanding of advanced data structures, like Dictionaries.\n",
    "\n",
    "In this chapter we read over the steps and operatate on the ingredients.\n"
   ]
  },
  {
   "cell_type": "markdown",
   "metadata": {},
   "source": [
    "> read in the steps"
   ]
  },
  {
   "cell_type": "code",
   "execution_count": 1,
   "metadata": {
    "collapsed": true
   },
   "outputs": [],
   "source": [
    "import pickle\n",
    "recipe_as_dict = pickle.load(open(\"data.pickle\", \"rb\"))"
   ]
  },
  {
   "cell_type": "markdown",
   "metadata": {},
   "source": [
    "> our program is getting more complex, we will start using the built in Python logging to help us get feedback as we run"
   ]
  },
  {
   "cell_type": "code",
   "execution_count": 2,
   "metadata": {
    "collapsed": false
   },
   "outputs": [],
   "source": [
    "import logging as log\n",
    "from pprint import pformat\n",
    "logger = log.getLogger()\n",
    "logger.setLevel(log.DEBUG)"
   ]
  },
  {
   "cell_type": "code",
   "execution_count": 3,
   "metadata": {
    "collapsed": false
   },
   "outputs": [
    {
     "name": "stderr",
     "output_type": "stream",
     "text": [
      "INFO: who loves Pie?\n",
      "DEBUG: i am a debug message\n"
     ]
    }
   ],
   "source": [
    "ch = log.StreamHandler()\n",
    "ch.setFormatter(log.Formatter('%(levelname)s: %(message)s'))\n",
    "logger.removeHandler(0)\n",
    "logger.addHandler(ch)\n",
    "log.info(\"who loves Pie?\")\n",
    "log.debug(\"i am a debug message\")"
   ]
  },
  {
   "cell_type": "markdown",
   "metadata": {},
   "source": [
    "Let's break out the filling and crust steps"
   ]
  },
  {
   "cell_type": "code",
   "execution_count": 4,
   "metadata": {
    "collapsed": false
   },
   "outputs": [
    {
     "name": "stderr",
     "output_type": "stream",
     "text": [
      "INFO: 3 filling steps and 6 crust steps\n"
     ]
    }
   ],
   "source": [
    "#let's make a list of filling \n",
    "filling_steps = None\n",
    "crust_steps = None\n",
    "for part in recipe_as_dict[\"Parts\"]:\n",
    "    if 'filling' == part['sub-title']:\n",
    "        filling_steps = part['steps']\n",
    "    elif 'crust' == part['sub-title']:\n",
    "        crust_steps = part['steps']\n",
    "log.info(\"{} filling steps and {} crust steps\".format(len(filling_steps),\n",
    "                                                      len(crust_steps)))"
   ]
  },
  {
   "cell_type": "markdown",
   "metadata": {},
   "source": [
    "### let's start with the filling\n",
    "\n",
    "Inspect the filling_steps"
   ]
  },
  {
   "cell_type": "code",
   "execution_count": 5,
   "metadata": {
    "collapsed": false
   },
   "outputs": [
    {
     "name": "stderr",
     "output_type": "stream",
     "text": [
      "INFO: ['Line pie plate with unbaked pastry.  Mix together the sugars, flour\\n'\n",
      " 'and spices.  Pour 1/2 of this mixture into the pie plate, smoothing\\n'\n",
      " 'evenly across the bottom.  Lay the apples in the crust, enough so that\\n'\n",
      " \"they reach the top of the plate but aren't mounded over it.  Sprinkle\\n\"\n",
      " 'the remaining flour mixture over the top of the apples.  Sprinkle 1\\n'\n",
      " 'tablespoon of lemon juice over the top, then dot with 1 tablespoon of\\n'\n",
      " 'butter.  Add the top crust and cut slits for steam.',\n",
      " 'Bake 15 minutes at 425 degrees, then reduce heat to 350 and bake\\n'\n",
      " 'another hour.  The trick with apple pie is to be sure and bake it long\\n'\n",
      " 'enough for the apples to be soft.  I usually stick a fork inside one\\n'\n",
      " 'of the slits to make sure, but an hour should be plenty.  If the edge\\n'\n",
      " 'of the crust starts to brown too much, cover it loosely with foil.',\n",
      " \"It's a good idea to set the pie on a cookie sheet in case the apples\\n\"\n",
      " 'are particularly juicy and spill over into the oven.']\n",
      "INFO: 3\n"
     ]
    }
   ],
   "source": [
    "log.info(pformat(filling_steps))\n",
    "log.info(len(filling_steps))"
   ]
  },
  {
   "cell_type": "markdown",
   "metadata": {},
   "source": [
    "A couple of obsercations:\n",
    "\n",
    " * there are three parts\n",
    " * there is a bunch of \"\\n\", which mean line break, but the aren't important\n",
    " * what may be important is the sentances in each \n",
    " \n",
    "Let's break this up into a list of list based on sentences."
   ]
  },
  {
   "cell_type": "code",
   "execution_count": 6,
   "metadata": {
    "collapsed": false
   },
   "outputs": [
    {
     "name": "stderr",
     "output_type": "stream",
     "text": [
      "DEBUG: step\n",
      "DEBUG: step\n",
      "DEBUG: step\n"
     ]
    },
    {
     "data": {
      "text/plain": [
       "[['Line pie plate with unbaked pastry',\n",
       "  ' Mix together the sugars, flour and spices',\n",
       "  ' Pour 1/2 of this mixture into the pie plate, smoothing evenly across the bottom',\n",
       "  \" Lay the apples in the crust, enough so that they reach the top of the plate but aren't mounded over it\",\n",
       "  ' Sprinkle the remaining flour mixture over the top of the apples',\n",
       "  ' Sprinkle 1 tablespoon of lemon juice over the top, then dot with 1 tablespoon of butter',\n",
       "  ' Add the top crust and cut slits for steam.'],\n",
       " ['Bake 15 minutes at 425 degrees, then reduce heat to 350 and bake another hour',\n",
       "  ' The trick with apple pie is to be sure and bake it long enough for the apples to be soft',\n",
       "  ' I usually stick a fork inside one of the slits to make sure, but an hour should be plenty',\n",
       "  ' If the edge of the crust starts to brown too much, cover it loosely with foil.'],\n",
       " [\"It's a good idea to set the pie on a cookie sheet in case the apples are particularly juicy and spill over into the oven.\"]]"
      ]
     },
     "execution_count": 6,
     "metadata": {},
     "output_type": "execute_result"
    }
   ],
   "source": [
    "list_of_list_of_steps = []\n",
    "for step in filling_steps:\n",
    "    step = step.replace(\"\\n\", \" \")\n",
    "    list_of_list_of_steps.append(step.split(\". \"))\n",
    "    log.debug(\"step\")\n",
    "list_of_list_of_steps"
   ]
  },
  {
   "cell_type": "markdown",
   "metadata": {},
   "source": [
    "We want to identify the keywords that indicate mixing\n",
    "\n",
    " * \"mix\"\n",
    " * \"pour\"\n",
    " * \"sprinkle\"\n",
    " * \"dot\""
   ]
  },
  {
   "cell_type": "code",
   "execution_count": 7,
   "metadata": {
    "collapsed": true
   },
   "outputs": [],
   "source": [
    "known_operations = (\"mix\", \"pour\", \"sprinkle\", \"dot\")"
   ]
  },
  {
   "cell_type": "markdown",
   "metadata": {},
   "source": [
    "From Chapter 3, we have a list of ingredients already broken up into quantities and units.\n",
    "\n",
    "The ingredients will live in three states:\n",
    "\n",
    " * The preperation counter (the_counter)\n",
    " * The mixing bowl (mixing_bowl)\n",
    " * The pie place (pie_plate)\n",
    " \n",
    "We need to move ingredients from state to state from step to step and keep track of the ingredients. Later we will need to interupt the pie-making process by refilling the ingredients on the preperation counter.\n",
    "\n",
    "> We start out with those steps and identify which ones require action\n"
   ]
  },
  {
   "cell_type": "code",
   "execution_count": 8,
   "metadata": {
    "collapsed": true
   },
   "outputs": [],
   "source": [
    "the_counter = {}\n",
    "mixing_bowl = {}\n",
    "pie_plate = {}"
   ]
  },
  {
   "cell_type": "markdown",
   "metadata": {},
   "source": [
    "We need to break it out into functions:\n",
    "\n",
    " * a function to test if it has a mix operation (has_mix_operation)\n",
    " * a function to do the mixing (mix)\n",
    " \n",
    "Before we pick it up with the actual steps we prototype each function.\n"
   ]
  },
  {
   "cell_type": "code",
   "execution_count": 9,
   "metadata": {
    "collapsed": false
   },
   "outputs": [],
   "source": [
    "def has_mix_operation(step):\n",
    "    \"test if the step needs a mix operation. Returns: True or False\"\n",
    "    for operation in known_operations:\n",
    "        if operation in step.lower():\n",
    "            log.debug(\"'{}' found in '{}'\".format(operation, step))\n",
    "            return True\n",
    "    log.warning(\"'{}' not found in '{}'\".format(known_operations, step))\n",
    "    return False"
   ]
  },
  {
   "cell_type": "code",
   "execution_count": 10,
   "metadata": {
    "collapsed": false
   },
   "outputs": [
    {
     "name": "stderr",
     "output_type": "stream",
     "text": [
      "WARNING: '('mix', 'pour', 'sprinkle', 'dot')' not found in 'Line pie plate with unbaked pastry'\n"
     ]
    },
    {
     "data": {
      "text/plain": [
       "False"
      ]
     },
     "execution_count": 10,
     "metadata": {},
     "output_type": "execute_result"
    }
   ],
   "source": [
    "has_mix_operation(\"Line pie plate with unbaked pastry\")"
   ]
  },
  {
   "cell_type": "code",
   "execution_count": 11,
   "metadata": {
    "collapsed": false
   },
   "outputs": [
    {
     "name": "stderr",
     "output_type": "stream",
     "text": [
      "DEBUG: 'mix' found in 'Mix together the sugars, flour and spices'\n"
     ]
    },
    {
     "data": {
      "text/plain": [
       "True"
      ]
     },
     "execution_count": 11,
     "metadata": {},
     "output_type": "execute_result"
    }
   ],
   "source": [
    "has_mix_operation(\"Mix together the sugars, flour and spices\")"
   ]
  },
  {
   "cell_type": "markdown",
   "metadata": {},
   "source": [
    "The mix() function is what does the mixing (duh), but it also uses dictionaries (dicts) as input. But first a quick tutorial on dicts.\n",
    "\n",
    "### Dicts (dictionaries)\n",
    "\n",
    "A couple notes on dictionaries:\n",
    "\n",
    "* dicts are not sorted so they don't retain order\n",
    "* keys must be unique\n",
    "* dicts point to data values so they retain changes\n",
    "* the types used for keys and values do not need to be same even inside same dict\n",
    "\n",
    "Some examples of this...\n",
    "\n",
    "```python\n",
    ">>> the_dict = {'a':2, 'b':2, 'c':2, 'd':4, 'e':4}\n",
    ">>> print(the_dict)\n",
    "{'d': 4, 'b': 2, 'c': 2, 'a': 2, 'e': 4}\n",
    ">>> def changeone(passed_dict):\n",
    "...    passed_dict['d'] = 1337\n",
    ">>> changeone(the_dict)\n",
    ">>> print(the_dict)\n",
    "{'d': 1337, 'b': 2, 'c': 2, 'a': 2, 'e': 4}\n",
    "```\n",
    "\n",
    "Now back to our mix() function"
   ]
  },
  {
   "cell_type": "code",
   "execution_count": 12,
   "metadata": {
    "collapsed": false
   },
   "outputs": [],
   "source": [
    "from output import LargeItem, IngredientBase, DrySolid, Liquid\n",
    "from fractions import Fraction"
   ]
  },
  {
   "cell_type": "code",
   "execution_count": 13,
   "metadata": {
    "collapsed": false
   },
   "outputs": [],
   "source": [
    "import pickle\n",
    "shopping_list = pickle.load(open(\"shopping_list.pickle\", \"rb\"))"
   ]
  },
  {
   "cell_type": "code",
   "execution_count": 14,
   "metadata": {
    "collapsed": false
   },
   "outputs": [
    {
     "data": {
      "text/plain": [
       "[<Ingredient (large item): 3-4 Granny Smith apples, depending on size, peeled and sliced>,\n",
       " <Ingredient (solid): 1/2 cup brown sugar>,\n",
       " <Ingredient (solid): 1/2 cup granulated sugar>,\n",
       " <Ingredient (solid): 1/4 cup flour>,\n",
       " <Ingredient (liquid): 1 tsp apple pie spice (or 1 tsp cinnamon and 1/2 tsp nutmeg)>,\n",
       " <Ingredient (solid): 2 cups flour>,\n",
       " <Ingredient (solid): 1 tsp salt>,\n",
       " <Ingredient (solid): 3/4 cup solid shortening (like Crisco)>,\n",
       " <Ingredient (liquid): 1/4 to 1/2 cup ice water>]"
      ]
     },
     "execution_count": 14,
     "metadata": {},
     "output_type": "execute_result"
    }
   ],
   "source": [
    "shopping_list"
   ]
  },
  {
   "cell_type": "code",
   "execution_count": 15,
   "metadata": {
    "collapsed": false
   },
   "outputs": [
    {
     "name": "stdout",
     "output_type": "stream",
     "text": [
      "{'qty_max': '4', 'unit': 'item', 'original_ingredient_str': '3-4 Granny Smith apples, depending on size, peeled and sliced', 'item': 'Granny Smith apples, depending on size, peeled and sliced', 'qty': Fraction(3, 1)}\n",
      "{'qty_max': 0, 'unit': 'cup', 'original_ingredient_str': '1/2 cup brown sugar', 'item': 'brown sugar', 'qty': Fraction(1, 2)}\n",
      "{'qty_max': 0, 'unit': 'cup', 'original_ingredient_str': '1/2 cup granulated sugar', 'item': 'granulated sugar', 'qty': Fraction(1, 2)}\n",
      "{'qty_max': 0, 'unit': 'cup', 'original_ingredient_str': '1/4 cup flour', 'item': 'flour', 'qty': Fraction(1, 4)}\n",
      "{'qty_max': 0, 'unit': 'tsp', 'original_ingredient_str': '1 tsp apple pie spice (or 1 tsp cinnamon and 1/2 tsp nutmeg)', 'item': 'apple pie spice (or 1 tsp cinnamon and 1/2 tsp nutmeg)', 'qty': Fraction(1, 1)}\n",
      "{'qty_max': 0, 'unit': 'cups', 'original_ingredient_str': '2 cups flour', 'item': 'flour', 'qty': Fraction(2, 1)}\n",
      "{'qty_max': 0, 'unit': 'tsp', 'original_ingredient_str': '1 tsp salt', 'item': 'salt', 'qty': Fraction(1, 1)}\n",
      "{'qty_max': 0, 'unit': 'cup', 'original_ingredient_str': '3/4 cup solid shortening (like Crisco)', 'item': 'solid shortening (like Crisco)', 'qty': Fraction(3, 4)}\n",
      "{'qty_max': '1/2', 'unit': 'cup', 'original_ingredient_str': '1/4 to 1/2 cup ice water', 'item': 'ice water', 'qty': Fraction(1, 4)}\n"
     ]
    }
   ],
   "source": [
    "for x in shopping_list: print(x.__dict__)"
   ]
  },
  {
   "cell_type": "code",
   "execution_count": 22,
   "metadata": {
    "collapsed": false
   },
   "outputs": [],
   "source": [
    "def move_items(items, from_dict, to_dict, qty=0.0, unit=None, move_all=False):\n",
    "    \"\"\"move items from_dict to to_dict, in qty of unit (cups, tbs, tsp) or move_all to move it all.\n",
    "    \"\"\"\n",
    "    for item in items:\n",
    "        if unit == from_dict['beer'].unit and unit == to_dict['beer'].unit:\n",
    "            from_dict['beer'].qty -= qty\n",
    "            to_dict['beer'].qty += qty\n",
    "            \n",
    "    \n",
    "    \n",
    "start = {\"beer\": Liquid(\"4 cups of beer\")}\n",
    "end = {\"beer\": Liquid(\"0 cups of beer\")}\n",
    "move_items([\"beer\", ], start, end, qty=2, unit=\"cups\")\n",
    "assert start[\"beer\"].qty == Fraction(\"2\")\n",
    "assert end[\"beer\"].qty == Fraction(\"2\")\n",
    "\n"
   ]
  },
  {
   "cell_type": "code",
   "execution_count": 25,
   "metadata": {
    "collapsed": false
   },
   "outputs": [
    {
     "data": {
      "text/plain": [
       "({'large item': Fraction(3, 1),\n",
       "  'liquid': Fraction(1, 4),\n",
       "  'solid': Fraction(3, 4)},\n",
       " {'large item': Fraction(0, 1),\n",
       "  'liquid': Fraction(0, 1),\n",
       "  'solid': Fraction(0, 1)},\n",
       " {'large item': Fraction(0, 1),\n",
       "  'liquid': Fraction(0, 1),\n",
       "  'solid': Fraction(0, 1)})"
      ]
     },
     "execution_count": 25,
     "metadata": {},
     "output_type": "execute_result"
    }
   ],
   "source": [
    "the_counter = {}\n",
    "mixing_bowl = {}\n",
    "pie_plate = {}\n",
    "\n",
    "for item in shopping_list:\n",
    "    the_counter[item.name] = item.qty\n",
    "    mixing_bowl[item.name] = Fraction(\"0\")\n",
    "    pie_plate[item.name] = Fraction(\"0\") \n",
    "\n",
    "the_counter, mixing_bowl, pie_plate"
   ]
  },
  {
   "cell_type": "code",
   "execution_count": null,
   "metadata": {
    "collapsed": false
   },
   "outputs": [],
   "source": [
    "def mix(the_counter, mixing_bowl, pie_plate, step):\n",
    "    \"\"\"Takes the different work areas as dictionaries.\n",
    "       Inspects the step.\n",
    "       Adjusts the quanties\n",
    "       \"\"\"\n",
    "    target_items = []\n",
    "    for item in shopping_list:\n",
    "        if item.does_match_target(step):\n",
    "            log.debug(\"{} matches\".format(item))\n",
    "            target_items.append(item)\n",
    "            \n",
    "    if \"together\" in step:\n",
    "        move_items(the_counter, mixing_bowl, pie_plate)\n",
    "    \n",
    "test_step = \"Mix together the sugars, flour and spices\"\n",
    "\n",
    "mix(items, the_counter, mixing_bowl, test_step)\n"
   ]
  },
  {
   "cell_type": "code",
   "execution_count": null,
   "metadata": {
    "collapsed": false
   },
   "outputs": [],
   "source": [
    "\n",
    "part_num = 1\n",
    "for step_part in list_of_list_of_steps:\n",
    "    print(\"# part #{}\".format(part_num))\n",
    "    step_num = 1\n",
    "    for step in step_part:\n",
    "        print(\"  - step #{} in part #{}\".format(step_num, part_num))\n",
    "        if has_mix_operation(step):\n",
    "            mix()\n",
    "        step_num += 1\n",
    "    part_num += 1\n"
   ]
  },
  {
   "cell_type": "code",
   "execution_count": null,
   "metadata": {
    "collapsed": true
   },
   "outputs": [],
   "source": []
  }
 ],
 "metadata": {
  "anaconda-cloud": {},
  "kernelspec": {
   "display_name": "Python [py3k]",
   "language": "python",
   "name": "Python [py3k]"
  },
  "language_info": {
   "codemirror_mode": {
    "name": "ipython",
    "version": 3
   },
   "file_extension": ".py",
   "mimetype": "text/x-python",
   "name": "python",
   "nbconvert_exporter": "python",
   "pygments_lexer": "ipython3",
   "version": "3.5.2"
  }
 },
 "nbformat": 4,
 "nbformat_minor": 0
}
